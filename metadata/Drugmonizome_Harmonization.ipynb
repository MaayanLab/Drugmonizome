{
 "cells": [
  {
   "cell_type": "markdown",
   "metadata": {},
   "source": [
    "### Harmonizing Drugbank and L1000FWD terms using the PubChem API\n",
    "#### Database link : https://pubchem.ncbi.nlm.nih.gov/"
   ]
  },
  {
   "cell_type": "code",
   "execution_count": 1,
   "metadata": {},
   "outputs": [],
   "source": [
    "import csv\n",
    "import time \n",
    "import requests\n",
    "import json\n",
    "import pandas as pd\n",
    "import numpy as np\n",
    "import os"
   ]
  },
  {
   "cell_type": "markdown",
   "metadata": {},
   "source": [
    "### Import DrugBank and L1000FWD metadata and concatenate"
   ]
  },
  {
   "cell_type": "code",
   "execution_count": 6,
   "metadata": {},
   "outputs": [],
   "source": [
    "df_drugbank = pd.read_csv('drugbank_metadata.tsv', sep = '\\t')\n",
    "df_drugbank = df_drugbank.rename(columns = {'Standard InChI Key':'InChI Key'})"
   ]
  },
  {
   "cell_type": "code",
   "execution_count": 7,
   "metadata": {},
   "outputs": [
    {
     "data": {
      "text/html": [
       "<div>\n",
       "<style scoped>\n",
       "    .dataframe tbody tr th:only-of-type {\n",
       "        vertical-align: middle;\n",
       "    }\n",
       "\n",
       "    .dataframe tbody tr th {\n",
       "        vertical-align: top;\n",
       "    }\n",
       "\n",
       "    .dataframe thead th {\n",
       "        text-align: right;\n",
       "    }\n",
       "</style>\n",
       "<table border=\"1\" class=\"dataframe\">\n",
       "  <thead>\n",
       "    <tr style=\"text-align: right;\">\n",
       "      <th></th>\n",
       "      <th>DrugBank ID</th>\n",
       "      <th>Accession Numbers</th>\n",
       "      <th>Common name</th>\n",
       "      <th>CAS</th>\n",
       "      <th>UNII</th>\n",
       "      <th>Synonyms</th>\n",
       "      <th>InChI Key</th>\n",
       "    </tr>\n",
       "  </thead>\n",
       "  <tbody>\n",
       "    <tr>\n",
       "      <th>0</th>\n",
       "      <td>DB00006</td>\n",
       "      <td>BIOD00076 | BTD00076 | DB02351 | EXPT03302</td>\n",
       "      <td>Bivalirudin</td>\n",
       "      <td>128270-60-0</td>\n",
       "      <td>TN9BEX005G</td>\n",
       "      <td>Bivalirudin | Bivalirudina | Bivalirudinum</td>\n",
       "      <td>OIRCOABEOLEUMC-GEJPAHFPSA-N</td>\n",
       "    </tr>\n",
       "    <tr>\n",
       "      <th>1</th>\n",
       "      <td>DB00007</td>\n",
       "      <td>BIOD00009 | BTD00009</td>\n",
       "      <td>Leuprolide</td>\n",
       "      <td>53714-56-0</td>\n",
       "      <td>EFY6W0M8TG</td>\n",
       "      <td>Leuprorelin | Leuprorelina | Leuproreline | Le...</td>\n",
       "      <td>GFIJNRVAKGFPGQ-LIJARHBVSA-N</td>\n",
       "    </tr>\n",
       "    <tr>\n",
       "      <th>2</th>\n",
       "      <td>DB00014</td>\n",
       "      <td>BIOD00113 | BTD00113</td>\n",
       "      <td>Goserelin</td>\n",
       "      <td>65807-02-5</td>\n",
       "      <td>0F65R8P09N</td>\n",
       "      <td>Goserelin | Goserelina</td>\n",
       "      <td>BLCLNMBMMGCOAS-URPVMXJPSA-N</td>\n",
       "    </tr>\n",
       "    <tr>\n",
       "      <th>3</th>\n",
       "      <td>DB00027</td>\n",
       "      <td>BIOD00036 | BTD00036</td>\n",
       "      <td>Gramicidin D</td>\n",
       "      <td>1405-97-6</td>\n",
       "      <td>5IE62321P4</td>\n",
       "      <td>Bacillus brevis gramicidin D | Gramicidin | Gr...</td>\n",
       "      <td>NDAYQJDHGXTBJL-MWWSRJDJSA-N</td>\n",
       "    </tr>\n",
       "    <tr>\n",
       "      <th>4</th>\n",
       "      <td>DB00035</td>\n",
       "      <td>BIOD00061 | BIOD00112 | BTD00061 | BTD00112</td>\n",
       "      <td>Desmopressin</td>\n",
       "      <td>16679-58-6</td>\n",
       "      <td>ENR1LLB0FP</td>\n",
       "      <td>1-(3-mercaptopropionic acid)-8-D-arginine-vaso...</td>\n",
       "      <td>NFLWUMRGJYTJIN-PNIOQBSNSA-N</td>\n",
       "    </tr>\n",
       "  </tbody>\n",
       "</table>\n",
       "</div>"
      ],
      "text/plain": [
       "  DrugBank ID                            Accession Numbers   Common name  \\\n",
       "0     DB00006   BIOD00076 | BTD00076 | DB02351 | EXPT03302   Bivalirudin   \n",
       "1     DB00007                         BIOD00009 | BTD00009    Leuprolide   \n",
       "2     DB00014                         BIOD00113 | BTD00113     Goserelin   \n",
       "3     DB00027                         BIOD00036 | BTD00036  Gramicidin D   \n",
       "4     DB00035  BIOD00061 | BIOD00112 | BTD00061 | BTD00112  Desmopressin   \n",
       "\n",
       "           CAS        UNII                                           Synonyms  \\\n",
       "0  128270-60-0  TN9BEX005G         Bivalirudin | Bivalirudina | Bivalirudinum   \n",
       "1   53714-56-0  EFY6W0M8TG  Leuprorelin | Leuprorelina | Leuproreline | Le...   \n",
       "2   65807-02-5  0F65R8P09N                             Goserelin | Goserelina   \n",
       "3    1405-97-6  5IE62321P4  Bacillus brevis gramicidin D | Gramicidin | Gr...   \n",
       "4   16679-58-6  ENR1LLB0FP  1-(3-mercaptopropionic acid)-8-D-arginine-vaso...   \n",
       "\n",
       "                     InChI Key  \n",
       "0  OIRCOABEOLEUMC-GEJPAHFPSA-N  \n",
       "1  GFIJNRVAKGFPGQ-LIJARHBVSA-N  \n",
       "2  BLCLNMBMMGCOAS-URPVMXJPSA-N  \n",
       "3  NDAYQJDHGXTBJL-MWWSRJDJSA-N  \n",
       "4  NFLWUMRGJYTJIN-PNIOQBSNSA-N  "
      ]
     },
     "execution_count": 7,
     "metadata": {},
     "output_type": "execute_result"
    }
   ],
   "source": [
    "df_drugbank.head()"
   ]
  },
  {
   "cell_type": "code",
   "execution_count": 8,
   "metadata": {},
   "outputs": [
    {
     "data": {
      "text/html": [
       "<div>\n",
       "<style scoped>\n",
       "    .dataframe tbody tr th:only-of-type {\n",
       "        vertical-align: middle;\n",
       "    }\n",
       "\n",
       "    .dataframe tbody tr th {\n",
       "        vertical-align: top;\n",
       "    }\n",
       "\n",
       "    .dataframe thead th {\n",
       "        text-align: right;\n",
       "    }\n",
       "</style>\n",
       "<table border=\"1\" class=\"dataframe\">\n",
       "  <thead>\n",
       "    <tr style=\"text-align: right;\">\n",
       "      <th></th>\n",
       "      <th>Common name</th>\n",
       "      <th>InChI Key</th>\n",
       "      <th>Accession Numbers</th>\n",
       "    </tr>\n",
       "  </thead>\n",
       "  <tbody>\n",
       "    <tr>\n",
       "      <th>0</th>\n",
       "      <td>nifurtimox</td>\n",
       "      <td>ARFHIAQFJWUCFH-UHFFFAOYSA-N</td>\n",
       "      <td>BRD-A00100033</td>\n",
       "    </tr>\n",
       "    <tr>\n",
       "      <th>1</th>\n",
       "      <td>hemado</td>\n",
       "      <td>KOCIMZNSNPOGOP-UHFFFAOYSA-N</td>\n",
       "      <td>BRD-A00267231</td>\n",
       "    </tr>\n",
       "    <tr>\n",
       "      <th>2</th>\n",
       "      <td>SA-3676</td>\n",
       "      <td>ASCBUEVCEVGOFP-UHFFFAOYSA-N</td>\n",
       "      <td>BRD-A00420644</td>\n",
       "    </tr>\n",
       "    <tr>\n",
       "      <th>3</th>\n",
       "      <td>BRD-A00474148</td>\n",
       "      <td>RCGAUPRLRFZAMS-UHFFFAOYSA-N</td>\n",
       "      <td>BRD-A00474148</td>\n",
       "    </tr>\n",
       "    <tr>\n",
       "      <th>4</th>\n",
       "      <td>otenzepad</td>\n",
       "      <td>UBRKDAVQCKZSPO-UHFFFAOYSA-N</td>\n",
       "      <td>BRD-A00520476</td>\n",
       "    </tr>\n",
       "  </tbody>\n",
       "</table>\n",
       "</div>"
      ],
      "text/plain": [
       "     Common name                    InChI Key Accession Numbers\n",
       "0     nifurtimox  ARFHIAQFJWUCFH-UHFFFAOYSA-N     BRD-A00100033\n",
       "1         hemado  KOCIMZNSNPOGOP-UHFFFAOYSA-N     BRD-A00267231\n",
       "2        SA-3676  ASCBUEVCEVGOFP-UHFFFAOYSA-N     BRD-A00420644\n",
       "3  BRD-A00474148  RCGAUPRLRFZAMS-UHFFFAOYSA-N     BRD-A00474148\n",
       "4      otenzepad  UBRKDAVQCKZSPO-UHFFFAOYSA-N     BRD-A00520476"
      ]
     },
     "execution_count": 8,
     "metadata": {},
     "output_type": "execute_result"
    }
   ],
   "source": [
    "df_l1000 = pd.read_csv('l1000fwd_metadata.tsv', sep = '\\t')\n",
    "df_l1000.head()"
   ]
  },
  {
   "cell_type": "code",
   "execution_count": 9,
   "metadata": {},
   "outputs": [],
   "source": [
    "df_metadata = df_drugbank.append(df_l1000, ignore_index=True, sort = False)"
   ]
  },
  {
   "cell_type": "code",
   "execution_count": 10,
   "metadata": {},
   "outputs": [
    {
     "data": {
      "text/plain": [
       "14594"
      ]
     },
     "execution_count": 10,
     "metadata": {},
     "output_type": "execute_result"
    }
   ],
   "source": [
    "len(df_metadata)"
   ]
  },
  {
   "cell_type": "code",
   "execution_count": 11,
   "metadata": {},
   "outputs": [],
   "source": [
    "# Drop duplicates by InChI Key\n",
    "df_metadata = df_metadata.drop_duplicates(subset = ['InChI Key'])"
   ]
  },
  {
   "cell_type": "code",
   "execution_count": 12,
   "metadata": {},
   "outputs": [
    {
     "data": {
      "text/plain": [
       "14579"
      ]
     },
     "execution_count": 12,
     "metadata": {},
     "output_type": "execute_result"
    }
   ],
   "source": [
    "len(df_metadata)"
   ]
  },
  {
   "cell_type": "code",
   "execution_count": 13,
   "metadata": {},
   "outputs": [],
   "source": [
    "inchi_list = df_metadata['InChI Key'].tolist()"
   ]
  },
  {
   "cell_type": "code",
   "execution_count": 14,
   "metadata": {},
   "outputs": [
    {
     "data": {
      "text/plain": [
       "14579"
      ]
     },
     "execution_count": 14,
     "metadata": {},
     "output_type": "execute_result"
    }
   ],
   "source": [
    "len(inchi_list)"
   ]
  },
  {
   "cell_type": "code",
   "execution_count": 15,
   "metadata": {},
   "outputs": [
    {
     "name": "stdout",
     "output_type": "stream",
     "text": [
      "431 drugs failed to be matched with a SMILES String!\n"
     ]
    }
   ],
   "source": [
    "# Retrieving Canonical SMILES from Pubchem using InChiKey\n",
    "failed_smiles = []\n",
    "smiles_dict = {}\n",
    "\n",
    "for inchi in inchi_list:\n",
    "    url = 'https://pubchem.ncbi.nlm.nih.gov/rest/pug/compound/inchikey/'+str(inchi)+'/property/CanonicalSMILES/JSON'\n",
    "    response = requests.get(url)\n",
    "    try:\n",
    "        response.json()\n",
    "    except ValueError:\n",
    "        continue\n",
    "    if 'PropertyTable' in response.json().keys():\n",
    "        smiles = response.json()['PropertyTable']['Properties'][0]['CanonicalSMILES']\n",
    "        smiles_dict[inchi] = smiles\n",
    "    else:\n",
    "        failed_smiles.append(inchi)\n",
    "    time.sleep(0.5)\n",
    "print(str(len(failed_smiles)) + \" drugs failed to be matched with a SMILES String!\")"
   ]
  },
  {
   "cell_type": "code",
   "execution_count": 16,
   "metadata": {},
   "outputs": [],
   "source": [
    "attribute_list = []\n",
    "for index, row in df_metadata.iterrows(): \n",
    "    term = row['InChI Key']\n",
    "    if term in smiles_dict:\n",
    "        attribute_list.append(smiles_dict[term])\n",
    "    else:\n",
    "        attribute_list.append(None)\n",
    "\n",
    "df_metadata['Canonical_SMILES'] = attribute_list"
   ]
  },
  {
   "cell_type": "code",
   "execution_count": 17,
   "metadata": {},
   "outputs": [
    {
     "data": {
      "text/html": [
       "<div>\n",
       "<style scoped>\n",
       "    .dataframe tbody tr th:only-of-type {\n",
       "        vertical-align: middle;\n",
       "    }\n",
       "\n",
       "    .dataframe tbody tr th {\n",
       "        vertical-align: top;\n",
       "    }\n",
       "\n",
       "    .dataframe thead th {\n",
       "        text-align: right;\n",
       "    }\n",
       "</style>\n",
       "<table border=\"1\" class=\"dataframe\">\n",
       "  <thead>\n",
       "    <tr style=\"text-align: right;\">\n",
       "      <th></th>\n",
       "      <th>DrugBank ID</th>\n",
       "      <th>Accession Numbers</th>\n",
       "      <th>Common name</th>\n",
       "      <th>CAS</th>\n",
       "      <th>UNII</th>\n",
       "      <th>Synonyms</th>\n",
       "      <th>InChI Key</th>\n",
       "      <th>Canonical_SMILES</th>\n",
       "    </tr>\n",
       "  </thead>\n",
       "  <tbody>\n",
       "    <tr>\n",
       "      <th>0</th>\n",
       "      <td>DB00006</td>\n",
       "      <td>BIOD00076 | BTD00076 | DB02351 | EXPT03302</td>\n",
       "      <td>Bivalirudin</td>\n",
       "      <td>128270-60-0</td>\n",
       "      <td>TN9BEX005G</td>\n",
       "      <td>Bivalirudin | Bivalirudina | Bivalirudinum</td>\n",
       "      <td>OIRCOABEOLEUMC-GEJPAHFPSA-N</td>\n",
       "      <td>CCC(C)C(C(=O)N1CCCC1C(=O)NC(CCC(=O)O)C(=O)NC(C...</td>\n",
       "    </tr>\n",
       "    <tr>\n",
       "      <th>1</th>\n",
       "      <td>DB00007</td>\n",
       "      <td>BIOD00009 | BTD00009</td>\n",
       "      <td>Leuprolide</td>\n",
       "      <td>53714-56-0</td>\n",
       "      <td>EFY6W0M8TG</td>\n",
       "      <td>Leuprorelin | Leuprorelina | Leuproreline | Le...</td>\n",
       "      <td>GFIJNRVAKGFPGQ-LIJARHBVSA-N</td>\n",
       "      <td>CCNC(=O)C1CCCN1C(=O)C(CCCN=C(N)N)NC(=O)C(CC(C)...</td>\n",
       "    </tr>\n",
       "    <tr>\n",
       "      <th>2</th>\n",
       "      <td>DB00014</td>\n",
       "      <td>BIOD00113 | BTD00113</td>\n",
       "      <td>Goserelin</td>\n",
       "      <td>65807-02-5</td>\n",
       "      <td>0F65R8P09N</td>\n",
       "      <td>Goserelin | Goserelina</td>\n",
       "      <td>BLCLNMBMMGCOAS-URPVMXJPSA-N</td>\n",
       "      <td>CC(C)CC(C(=O)NC(CCCN=C(N)N)C(=O)N1CCCC1C(=O)NN...</td>\n",
       "    </tr>\n",
       "    <tr>\n",
       "      <th>3</th>\n",
       "      <td>DB00027</td>\n",
       "      <td>BIOD00036 | BTD00036</td>\n",
       "      <td>Gramicidin D</td>\n",
       "      <td>1405-97-6</td>\n",
       "      <td>5IE62321P4</td>\n",
       "      <td>Bacillus brevis gramicidin D | Gramicidin | Gr...</td>\n",
       "      <td>NDAYQJDHGXTBJL-MWWSRJDJSA-N</td>\n",
       "      <td>CC(C)CC(C(=O)NC(C)C(=O)NC(C(C)C)C(=O)NC(C(C)C)...</td>\n",
       "    </tr>\n",
       "    <tr>\n",
       "      <th>4</th>\n",
       "      <td>DB00035</td>\n",
       "      <td>BIOD00061 | BIOD00112 | BTD00061 | BTD00112</td>\n",
       "      <td>Desmopressin</td>\n",
       "      <td>16679-58-6</td>\n",
       "      <td>ENR1LLB0FP</td>\n",
       "      <td>1-(3-mercaptopropionic acid)-8-D-arginine-vaso...</td>\n",
       "      <td>NFLWUMRGJYTJIN-PNIOQBSNSA-N</td>\n",
       "      <td>C1CC(N(C1)C(=O)C2CSSCCC(=O)NC(C(=O)NC(C(=O)NC(...</td>\n",
       "    </tr>\n",
       "  </tbody>\n",
       "</table>\n",
       "</div>"
      ],
      "text/plain": [
       "  DrugBank ID                            Accession Numbers   Common name  \\\n",
       "0     DB00006   BIOD00076 | BTD00076 | DB02351 | EXPT03302   Bivalirudin   \n",
       "1     DB00007                         BIOD00009 | BTD00009    Leuprolide   \n",
       "2     DB00014                         BIOD00113 | BTD00113     Goserelin   \n",
       "3     DB00027                         BIOD00036 | BTD00036  Gramicidin D   \n",
       "4     DB00035  BIOD00061 | BIOD00112 | BTD00061 | BTD00112  Desmopressin   \n",
       "\n",
       "           CAS        UNII                                           Synonyms  \\\n",
       "0  128270-60-0  TN9BEX005G         Bivalirudin | Bivalirudina | Bivalirudinum   \n",
       "1   53714-56-0  EFY6W0M8TG  Leuprorelin | Leuprorelina | Leuproreline | Le...   \n",
       "2   65807-02-5  0F65R8P09N                             Goserelin | Goserelina   \n",
       "3    1405-97-6  5IE62321P4  Bacillus brevis gramicidin D | Gramicidin | Gr...   \n",
       "4   16679-58-6  ENR1LLB0FP  1-(3-mercaptopropionic acid)-8-D-arginine-vaso...   \n",
       "\n",
       "                     InChI Key  \\\n",
       "0  OIRCOABEOLEUMC-GEJPAHFPSA-N   \n",
       "1  GFIJNRVAKGFPGQ-LIJARHBVSA-N   \n",
       "2  BLCLNMBMMGCOAS-URPVMXJPSA-N   \n",
       "3  NDAYQJDHGXTBJL-MWWSRJDJSA-N   \n",
       "4  NFLWUMRGJYTJIN-PNIOQBSNSA-N   \n",
       "\n",
       "                                    Canonical_SMILES  \n",
       "0  CCC(C)C(C(=O)N1CCCC1C(=O)NC(CCC(=O)O)C(=O)NC(C...  \n",
       "1  CCNC(=O)C1CCCN1C(=O)C(CCCN=C(N)N)NC(=O)C(CC(C)...  \n",
       "2  CC(C)CC(C(=O)NC(CCCN=C(N)N)C(=O)N1CCCC1C(=O)NN...  \n",
       "3  CC(C)CC(C(=O)NC(C)C(=O)NC(C(C)C)C(=O)NC(C(C)C)...  \n",
       "4  C1CC(N(C1)C(=O)C2CSSCCC(=O)NC(C(=O)NC(C(=O)NC(...  "
      ]
     },
     "execution_count": 17,
     "metadata": {},
     "output_type": "execute_result"
    }
   ],
   "source": [
    "df_metadata.head()"
   ]
  },
  {
   "cell_type": "code",
   "execution_count": 18,
   "metadata": {},
   "outputs": [],
   "source": [
    "df_metadata.to_csv('drugmonizome_metadata.tsv', sep = '\\t', index = False)"
   ]
  }
 ],
 "metadata": {
  "kernelspec": {
   "display_name": "Python 3",
   "language": "python",
   "name": "python3"
  },
  "language_info": {
   "codemirror_mode": {
    "name": "ipython",
    "version": 3
   },
   "file_extension": ".py",
   "mimetype": "text/x-python",
   "name": "python",
   "nbconvert_exporter": "python",
   "pygments_lexer": "ipython3",
   "version": "3.6.5"
  }
 },
 "nbformat": 4,
 "nbformat_minor": 2
}
