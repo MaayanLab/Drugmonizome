{
 "cells": [
  {
   "cell_type": "code",
   "execution_count": 4,
   "metadata": {},
   "outputs": [],
   "source": [
    "import json\n",
    "import requests"
   ]
  },
  {
   "cell_type": "markdown",
   "metadata": {},
   "source": [
    "# Querying the Drugmonizome APIs\n",
    "Drugmonizome includes two API that users can interact with: (1) the metadata API (https://maayanlab.cloud/drugmonizome/metadata-api), and (2) the data API (https://maayanlab.cloud/drugmonizome/data-api). The metadata API provides fast full-text search and field comparison filtering of the metadata as well as metadata aggregations for statistical summaries. Users can query the following models (1) resources, (2) libraries, (3) signatures, (4) entities. Meanwhile, the data API performs real-time drug set enrichment analysis. Here we show some of the basic use cases for the two APIs."
   ]
  },
  {
   "cell_type": "markdown",
   "metadata": {},
   "source": [
    "## Metadata Search\n",
    "Users can query for metadata using JSON formatted loopback queries (https://loopback.io/doc/en/lb3/Querying-data.html).\n",
    "\n",
    "**Method** `GET`\n",
    "\n",
    "URL `/<model>`\n",
    "\n",
    "**PARAMETERS**\n",
    "\n",
    "**filter** stringified JSON query\n",
    "\n",
    "**RETURNS**\n",
    "\n",
    "JSON list of all matches"
   ]
  },
  {
   "cell_type": "markdown",
   "metadata": {},
   "source": [
    "### Full Text Search"
   ]
  },
  {
   "cell_type": "code",
   "execution_count": 5,
   "metadata": {},
   "outputs": [
    {
     "name": "stdout",
     "output_type": "stream",
     "text": [
      "[\n",
      "    {\n",
      "        \"$validator\": \"/dcic/signature-commons-schema/v5/core/signature.json\",\n",
      "        \"id\": \"dc73bc80-3cf2-4c9c-8692-7de0ea39412d\",\n",
      "        \"library\": \"1ab551d0-f689-4358-a51b-3dc74b4cd6e1\",\n",
      "        \"meta\": {\n",
      "            \"Term\": [\n",
      "                {\n",
      "                    \"Name\": \"tension headache\",\n",
      "                    \"Accession\": \"C0033893\"\n",
      "                }\n",
      "            ],\n",
      "            \"Filename\": \"SIDER_side_effects_drugsetlibrary\",\n",
      "            \"Organism\": \"Homo sapiens\",\n",
      "            \"$validator\": \"https://raw.githubusercontent.com/MaayanLab/Drugmonizome/master/drugmonizome-schemas/meta/signature.json\",\n",
      "            \"Number_of_drugs\": 17,\n",
      "            \"Association_Type\": \"side effects\"\n",
      "        }\n",
      "    }\n",
      "]\n"
     ]
    }
   ],
   "source": [
    "METADATA_API = \"https://maayanlab.cloud/drugmonizome/metadata-api\"\n",
    "endpoint = \"/signatures\"\n",
    "term = \"headache\"\n",
    "\n",
    "query = {\n",
    "    \"where\": {\n",
    "        \"meta\": {\"fullTextSearch\": term}     \n",
    "    },\n",
    "    \"limit\": 1\n",
    "}\n",
    "res = requests.get(METADATA_API+ endpoint , params={\"filter\": json.dumps(query)})\n",
    "print(json.dumps(res.json(),indent=4))"
   ]
  },
  {
   "cell_type": "markdown",
   "metadata": {},
   "source": [
    "Alternatively, users can also perform a POST request using the `/find` endpoint\n",
    "\n",
    "**Method** `POST`\n",
    "\n",
    "URL `/<model>/find`\n",
    "\n",
    "**PARAMETERS**\n",
    "\n",
    "**filter** stringified JSON query\n",
    "\n",
    "**RETURNS**\n",
    "\n",
    "JSON list of all matches"
   ]
  },
  {
   "cell_type": "markdown",
   "metadata": {},
   "source": [
    "### Filtering by fields"
   ]
  },
  {
   "cell_type": "code",
   "execution_count": 6,
   "metadata": {},
   "outputs": [
    {
     "name": "stdout",
     "output_type": "stream",
     "text": [
      "[\n",
      "    {\n",
      "        \"$validator\": \"/dcic/signature-commons-schema/v5/core/library.json\",\n",
      "        \"id\": \"1ab551d0-f689-4358-a51b-3dc74b4cd6e1\",\n",
      "        \"resource\": \"0dd36110-b67b-4546-ac36-974a6432896a\",\n",
      "        \"dataset\": \"SIDER_side_effects_drugsetlibrary\",\n",
      "        \"dataset_type\": \"geneset_library\",\n",
      "        \"meta\": {\n",
      "            \"DOI\": \"10.1038/clpt.2012.96\",\n",
      "            \"Icon\": \"https://raw.githubusercontent.com/MaayanLab/Drugmonizome/master/drugmonizome-schemas/images/sider.png\",\n",
      "            \"PMID\": \"26481350\",\n",
      "            \"Year\": \"2015\",\n",
      "            \"Version\": \"2019\",\n",
      "            \"Filename\": \"SIDER_side_effects_drugsetlibrary\",\n",
      "            \"Organism\": \"Homo sapiens\",\n",
      "            \"$validator\": \"https://raw.githubusercontent.com/MaayanLab/Drugmonizome/master/drugmonizome-schemas/meta/library.json\",\n",
      "            \"Description\": \"Approved drug side effects mined from FDA package inserts and public documents\",\n",
      "            \"Library_name\": \"SIDER Side Effects\",\n",
      "            \"Download_link\": \"https://maayanlab-public.s3.amazonaws.com/drugmonizome-dmts/SIDER_side_effects_drugsetlibrary.data.uuid.gmt\",\n",
      "            \"Original_source\": \"SIDER\",\n",
      "            \"Association_Type\": \"side effects\",\n",
      "            \"Link_to_resource\": \"http://sideeffects.embl.de/\",\n",
      "            \"Primary_Resource\": \"SIDER\",\n",
      "            \"Library_created_by\": \"MaayanLab\",\n",
      "            \"Primary_Resource_Short_Version\": \"SIDER\",\n",
      "            \"Link_to_processing_scripts_on_GitHub\": \"https://github.com/MaayanLab/Drugmonizome/blob/master/drugsetlibraries/notebooks/SIDER/SIDER_side_effects_drugsetlibrary.ipynb\"\n",
      "        }\n",
      "    }\n",
      "]\n"
     ]
    }
   ],
   "source": [
    "METADATA_API = \"https://maayanlab.cloud/drugmonizome/metadata-api\"\n",
    "endpoint = \"/libraries/find\"\n",
    "term = \"side effects\"\n",
    "\n",
    "query = {\n",
    "    \"filter\":{\n",
    "        \"where\": {\n",
    "            \"meta.Association_Type\": term     \n",
    "        },\n",
    "        \"limit\": 1\n",
    "    }\n",
    "}\n",
    "res = requests.post(METADATA_API+ endpoint, json=query)\n",
    "print(json.dumps(res.json(),indent=4))"
   ]
  },
  {
   "cell_type": "markdown",
   "metadata": {},
   "source": [
    "## Aggregating Metadata\n",
    "\n",
    "### Counting Results\n",
    "**Method** `GET`\n",
    "\n",
    "URL `/<model>/count`\n",
    "\n",
    "**PARAMETERS**\n",
    "\n",
    "**filter** stringified JSON query\n",
    "\n",
    "**RETURNS**\n",
    "\n",
    "The number of matching results"
   ]
  },
  {
   "cell_type": "code",
   "execution_count": 7,
   "metadata": {},
   "outputs": [
    {
     "name": "stdout",
     "output_type": "stream",
     "text": [
      "{\n",
      "    \"count\": 12\n",
      "}\n"
     ]
    }
   ],
   "source": [
    "METADATA_API = \"https://maayanlab.cloud/drugmonizome/metadata-api\"\n",
    "endpoint = \"/signatures/count\"\n",
    "term = \"STAT3\"\n",
    "\n",
    "query = {\n",
    "    \"meta\": {\"fullTextSearch\": term}     \n",
    "}\n",
    "res = requests.get(METADATA_API+ endpoint,  params={\"where\": json.dumps(query)})\n",
    "print(json.dumps(res.json(),indent=4))"
   ]
  },
  {
   "cell_type": "markdown",
   "metadata": {},
   "source": [
    "### Counting Top Terms\n",
    "**Method** `GET`\n",
    "\n",
    "URL `/<model>/value_count`\n",
    "\n",
    "**PARAMETERS**\n",
    "\n",
    "**filter** stringified JSON query\n",
    "\n",
    "**RETURNS**\n",
    "\n",
    "JSON list of value counts"
   ]
  },
  {
   "cell_type": "code",
   "execution_count": 12,
   "metadata": {},
   "outputs": [
    {
     "name": "stdout",
     "output_type": "stream",
     "text": [
      "{\n",
      "    \"meta.Filename\": {\n",
      "        \"PharmGKB_OFFSIDES_side_effects_drugsetlibrary\": 7,\n",
      "        \"SIDER_side_effects_drugsetlibrary\": 5,\n",
      "        \"SIDER_indications_drugsetlibrary\": 3,\n",
      "        \"L1000FWD_predicted_side_effects\": 2\n",
      "    }\n",
      "}\n"
     ]
    }
   ],
   "source": [
    "METADATA_API = \"https://maayanlab.cloud/drugmonizome/metadata-api\"\n",
    "endpoint = \"/signatures/value_count\"\n",
    "term = \"headache\"\n",
    "\n",
    "query = {\n",
    "    \"fields\": [\"meta.Filename\"],\n",
    "    \"where\": {\n",
    "        \"meta\": {\"fullTextSearch\": term}     \n",
    "    }\n",
    "}\n",
    "res = requests.get(METADATA_API+ endpoint,  params={\"filter\": json.dumps(query)})\n",
    "print(json.dumps(res.json(),indent=4))"
   ]
  },
  {
   "cell_type": "markdown",
   "metadata": {},
   "source": [
    "## Signature Search\n",
    "\n",
    "Performing the signature search requires a few steps that requires the users to query both the metadata and data API.\n",
    "\n",
    "### Getting the list of datasets\n",
    "\n",
    "Users must specify the dataset they want to perform drug set enrichment analysis on. To figure out the list of available datasets, one can use the /listdata endpoint of the data api.\n",
    "\n",
    "\n",
    "**Method** `GET`\n",
    "\n",
    "URL `/listdata`\n",
    "\n",
    "**RETURNS**\n",
    "\n",
    "A JSON list of datasets stating the identifier for the dataset and the datatype"
   ]
  },
  {
   "cell_type": "code",
   "execution_count": 14,
   "metadata": {},
   "outputs": [
    {
     "name": "stdout",
     "output_type": "stream",
     "text": [
      "{\n",
      "    \"repositories\": [\n",
      "        {\n",
      "            \"datatype\": \"geneset_library\",\n",
      "            \"uuid\": \"KinomeScan_kinase_drugsetlibrary\"\n",
      "        },\n",
      "        {\n",
      "            \"datatype\": \"geneset_library\",\n",
      "            \"uuid\": \"L1000FWD_GO_Cellular_Component_drugsetlibrary_up\"\n",
      "        },\n",
      "        {\n",
      "            \"datatype\": \"geneset_library\",\n",
      "            \"uuid\": \"L1000FWD_KEGG_Pathways_drugsetlibrary_down\"\n",
      "        },\n",
      "        {\n",
      "            \"datatype\": \"geneset_library\",\n",
      "            \"uuid\": \"L1000FWD_signature_drugsetlibrary_up\"\n",
      "        },\n",
      "        {\n",
      "            \"datatype\": \"geneset_library\",\n",
      "            \"uuid\": \"Geneshot_associated_drugsetlibrary\"\n",
      "        },\n",
      "        {\n",
      "            \"datatype\": \"geneset_library\",\n",
      "            \"uuid\": \"Geneshot_predicted_generif_drugsetlibrary\"\n",
      "        },\n",
      "        {\n",
      "            \"datatype\": \"geneset_library\",\n",
      "            \"uuid\": \"SIDER_indications_drugsetlibrary\"\n",
      "        },\n",
      "        {\n",
      "            \"datatype\": \"geneset_library\",\n",
      "            \"uuid\": \"L1000FWD_GO_Molecular_Function_drugsetlibrary_up\"\n",
      "        },\n",
      "        {\n",
      "            \"datatype\": \"geneset_library\",\n",
      "            \"uuid\": \"L1000FWD_GO_Molecular_Function_drugsetlibrary_down\"\n",
      "        },\n",
      "        {\n",
      "            \"datatype\": \"geneset_library\",\n",
      "            \"uuid\": \"L1000FWD_KEGG_Pathways_drugsetlibrary_up\"\n",
      "        },\n",
      "        {\n",
      "            \"datatype\": \"geneset_library\",\n",
      "            \"uuid\": \"SIDER_side_effects_drugsetlibrary\"\n",
      "        },\n",
      "        {\n",
      "            \"datatype\": \"geneset_library\",\n",
      "            \"uuid\": \"DrugRepurposingHub_target_drugsetlibrary\"\n",
      "        },\n",
      "        {\n",
      "            \"datatype\": \"geneset_library\",\n",
      "            \"uuid\": \"L1000FWD_GO_Biological_Processes_drugsetlibrary_down\"\n",
      "        },\n",
      "        {\n",
      "            \"datatype\": \"geneset_library\",\n",
      "            \"uuid\": \"L1000FWD_GO_Biological_Processes_drugsetlibrary_up\"\n",
      "        },\n",
      "        {\n",
      "            \"datatype\": \"geneset_library\",\n",
      "            \"uuid\": \"L1000FWD_GO_Cellular_Component_drugsetlibrary_down\"\n",
      "        },\n",
      "        {\n",
      "            \"datatype\": \"geneset_library\",\n",
      "            \"uuid\": \"ATC_drugsetlibrary\"\n",
      "        },\n",
      "        {\n",
      "            \"datatype\": \"geneset_library\",\n",
      "            \"uuid\": \"Drugbank_smallmolecule_target_drugsetlibrary\"\n",
      "        },\n",
      "        {\n",
      "            \"datatype\": \"geneset_library\",\n",
      "            \"uuid\": \"STITCH_target_drugsetlibrary\"\n",
      "        },\n",
      "        {\n",
      "            \"datatype\": \"geneset_library\",\n",
      "            \"uuid\": \"Geneshot_predicted_autorif_drugsetlibrary\"\n",
      "        },\n",
      "        {\n",
      "            \"datatype\": \"geneset_library\",\n",
      "            \"uuid\": \"Drugbank_smallmolecule_enzyme_drugsetlibrary\"\n",
      "        },\n",
      "        {\n",
      "            \"datatype\": \"geneset_library\",\n",
      "            \"uuid\": \"PharmGKB_OFFSIDES_side_effects_drugsetlibrary\"\n",
      "        },\n",
      "        {\n",
      "            \"datatype\": \"geneset_library\",\n",
      "            \"uuid\": \"CREEDS_signature_drugsetlibrary_down\"\n",
      "        },\n",
      "        {\n",
      "            \"datatype\": \"geneset_library\",\n",
      "            \"uuid\": \"Geneshot_predicted_tagger_drugsetlibrary\"\n",
      "        },\n",
      "        {\n",
      "            \"datatype\": \"geneset_library\",\n",
      "            \"uuid\": \"RDKIT_maccs_fingerprints_drugsetlibrary\"\n",
      "        },\n",
      "        {\n",
      "            \"datatype\": \"geneset_library\",\n",
      "            \"uuid\": \"CREEDS_signature_drugsetlibrary_up\"\n",
      "        },\n",
      "        {\n",
      "            \"datatype\": \"geneset_library\",\n",
      "            \"uuid\": \"DrugCentral_target_drugsetlibrary\"\n",
      "        },\n",
      "        {\n",
      "            \"datatype\": \"geneset_library\",\n",
      "            \"uuid\": \"L1000FWD_signature_drugsetlibrary_down\"\n",
      "        },\n",
      "        {\n",
      "            \"datatype\": \"geneset_library\",\n",
      "            \"uuid\": \"L1000FWD_predicted_side_effects\"\n",
      "        },\n",
      "        {\n",
      "            \"datatype\": \"geneset_library\",\n",
      "            \"uuid\": \"Drugbank_smallmolecule_carrier_drugsetlibrary\"\n",
      "        },\n",
      "        {\n",
      "            \"datatype\": \"geneset_library\",\n",
      "            \"uuid\": \"Geneshot_predicted_enrichr_drugsetlibrary\"\n",
      "        },\n",
      "        {\n",
      "            \"datatype\": \"geneset_library\",\n",
      "            \"uuid\": \"DrugRepurposingHub_moa_drugsetlibrary\"\n",
      "        },\n",
      "        {\n",
      "            \"datatype\": \"geneset_library\",\n",
      "            \"uuid\": \"Geneshot_predicted_coexpression_drugsetlibrary\"\n",
      "        },\n",
      "        {\n",
      "            \"datatype\": \"geneset_library\",\n",
      "            \"uuid\": \"Drugbank_smallmolecule_transporter_drugsetlibrary\"\n",
      "        },\n",
      "        {\n",
      "            \"datatype\": \"geneset_library\",\n",
      "            \"uuid\": \"PharmGKB_snp_drugsetlibrary\"\n",
      "        }\n",
      "    ]\n",
      "}\n"
     ]
    }
   ],
   "source": [
    "DATA_API = \"https://maayanlab.cloud/drugmonizome/data-api/api/v1\"\n",
    "endpoint = \"/listdata\"\n",
    "\n",
    "res = requests.get(DATA_API+ endpoint)\n",
    "print(json.dumps(res.json(),indent=4))"
   ]
  },
  {
   "cell_type": "markdown",
   "metadata": {},
   "source": [
    "**The datatype in the `/listdata` endpoint is \"geneset_library\". This is part of the core schema of the Signature Commons data-api and is currently immutable. These are, however, drug set libraries**"
   ]
  },
  {
   "cell_type": "markdown",
   "metadata": {},
   "source": [
    "### Converting drugs and small molecules to UUIDs\n",
    "Compounds should be converted to UUIDs before sending them to the data api for signature search. To do this, we need to perform a metadata search using the `/entities` endpoint\n",
    "\n",
    "Drugs can be searched by **name**, **InChI Key**, **DrugBankIDs** or **BRD-IDs**, and **SMILES strings**"
   ]
  },
  {
   "cell_type": "markdown",
   "metadata": {},
   "source": [
    "#### Querying by name"
   ]
  },
  {
   "cell_type": "code",
   "execution_count": 17,
   "metadata": {},
   "outputs": [
    {
     "name": "stdout",
     "output_type": "stream",
     "text": [
      "['38c486b7-8ccb-47a2-b592-69bc244e214b', '39fe27fe-795e-4d03-b556-7bf1cc6664f3', '31afacf7-5514-4602-856d-3d1d0f899ef1', '8edc5e45-9bc6-4782-97da-b34d9da5e927', '14fef7a1-7c7b-413c-b72e-5579f01521c8', '57063362-21e5-46f9-a34e-1117e2ae1e3f', 'af7d9ae5-7970-42be-b2a6-e45acfe873b2', '3a5711bd-1837-46ea-bc33-d564181beade']\n"
     ]
    }
   ],
   "source": [
    "METADATA_API = \"https://maayanlab.cloud/drugmonizome/metadata-api\"\n",
    "endpoint = \"/entities/find\"\n",
    "drugs = ['dexamethasone','daunorubicin','doxorubicin']\n",
    "\n",
    "query = {\n",
    "    \"filter\":{\n",
    "        \"where\": {\n",
    "            \"meta.Name\": {\n",
    "                \"inq\": drugs\n",
    "            }     \n",
    "        }\n",
    "    }\n",
    "}\n",
    "\n",
    "res = requests.post(METADATA_API+ endpoint, json=query)\n",
    "drugs_ids = [i[\"id\"] for i in res.json()]\n",
    "print(drugs_ids)"
   ]
  },
  {
   "cell_type": "markdown",
   "metadata": {},
   "source": [
    "When querying entities by name, it may be the case that entities share the same name despite having unique InChI Keys that denote variable stereochemistry. Querying by name or SMILES string will be less specific and retrieve all records of an entity within the database. If the user is concerned with stereochemistry or other specific attributes of a molecule, they may query by InChI key or specific DrugBankIDs or BRD-IDs."
   ]
  },
  {
   "cell_type": "markdown",
   "metadata": {},
   "source": [
    "#### Querying by InChI Key"
   ]
  },
  {
   "cell_type": "code",
   "execution_count": 20,
   "metadata": {},
   "outputs": [
    {
     "name": "stdout",
     "output_type": "stream",
     "text": [
      "['55b26a20-e390-49e2-9063-2a26f31b50df', '38c486b7-8ccb-47a2-b592-69bc244e214b', '39fe27fe-795e-4d03-b556-7bf1cc6664f3']\n"
     ]
    }
   ],
   "source": [
    "METADATA_API = \"https://maayanlab.cloud/drugmonizome/metadata-api\"\n",
    "endpoint = \"/entities/find\"\n",
    "drugs = ['UREBDLICKHMUKA-CXSFZGCWSA-N','STQGQHZAVUOBTE-VGBVRHCVSA-N','AOJJSUZBOXZQNB-TZSSRYMLSA-N']\n",
    "\n",
    "query = {\n",
    "    \"filter\":{\n",
    "        \"where\": {\n",
    "            \"meta.InChI_key\": {\n",
    "                \"inq\": drugs\n",
    "            }     \n",
    "        }\n",
    "    }\n",
    "}\n",
    "\n",
    "res = requests.post(METADATA_API+ endpoint, json=query)\n",
    "drugs_ids = [i[\"id\"] for i in res.json()]\n",
    "print(drugs_ids)"
   ]
  },
  {
   "cell_type": "markdown",
   "metadata": {},
   "source": [
    "Compared to the previous case where we queried by name, when we query by InChI key we are presented solely with the UUIDs that correspond to that InChI Key"
   ]
  },
  {
   "cell_type": "markdown",
   "metadata": {},
   "source": [
    "### Enriching a Drug Set\n",
    "\n",
    "**Method** `POST`\n",
    "\n",
    "**URL** `/enrich/overlap`\n",
    "\n",
    "**Query**\n",
    "\n",
    "```\n",
    "{\n",
    "  \"database\": \"string\",\n",
    "  \"entities\": [\n",
    "    \"string\"\n",
    "  ],\n",
    "  \"offset\": 0,\n",
    "  \"limit\": 0\n",
    "}\n",
    "```\n",
    "\n",
    "**RETURNS**\n",
    "\n",
    "The analysis results"
   ]
  },
  {
   "cell_type": "code",
   "execution_count": 22,
   "metadata": {},
   "outputs": [
    {
     "name": "stdout",
     "output_type": "stream",
     "text": [
      "[\n",
      "    {\n",
      "        \"$validator\": \"/dcic/signature-commons-schema/v5/core/signature.json\",\n",
      "        \"id\": \"6ab56d97-626d-4072-896f-c2cca56ab303\",\n",
      "        \"library\": \"90e4bbcf-13ce-4154-9735-ac0a84cae23f\",\n",
      "        \"meta\": {\n",
      "            \"Term\": [\n",
      "                {\n",
      "                    \"Name\": \"negative regulation of cell proliferation (GO:0008285)\",\n",
      "                    \"Accession\": \"GO:0008285\"\n",
      "                }\n",
      "            ],\n",
      "            \"Filename\": \"L1000FWD_GO_Biological_Processes_drugsetlibrary_up\",\n",
      "            \"Organism\": \"Homo sapiens\",\n",
      "            \"Direction\": \"up\",\n",
      "            \"$validator\": \"https://raw.githubusercontent.com/MaayanLab/Drugmonizome/master/drugmonizome-schemas/meta/signature.json\",\n",
      "            \"Number_of_drugs\": 553,\n",
      "            \"Association_Type\": \"Gene Ontology terms\"\n",
      "        }\n",
      "    },\n",
      "    {\n",
      "        \"$validator\": \"/dcic/signature-commons-schema/v5/core/signature.json\",\n",
      "        \"id\": \"e3182072-1ce1-4bd1-a50f-df71c31bd8fc\",\n",
      "        \"library\": \"90e4bbcf-13ce-4154-9735-ac0a84cae23f\",\n",
      "        \"meta\": {\n",
      "            \"Term\": [\n",
      "                {\n",
      "                    \"Name\": \"positive regulation of leukocyte migration (GO:0002687)\",\n",
      "                    \"Accession\": \"GO:0002687\"\n",
      "                }\n",
      "            ],\n",
      "            \"Filename\": \"L1000FWD_GO_Biological_Processes_drugsetlibrary_up\",\n",
      "            \"Organism\": \"Homo sapiens\",\n",
      "            \"Direction\": \"up\",\n",
      "            \"$validator\": \"https://raw.githubusercontent.com/MaayanLab/Drugmonizome/master/drugmonizome-schemas/meta/signature.json\",\n",
      "            \"Number_of_drugs\": 167,\n",
      "            \"Association_Type\": \"Gene Ontology terms\"\n",
      "        }\n",
      "    },\n",
      "    {\n",
      "        \"$validator\": \"/dcic/signature-commons-schema/v5/core/signature.json\",\n",
      "        \"id\": \"d91890ea-6775-4efe-a895-18fb44c07c55\",\n",
      "        \"library\": \"90e4bbcf-13ce-4154-9735-ac0a84cae23f\",\n",
      "        \"meta\": {\n",
      "            \"Term\": [\n",
      "                {\n",
      "                    \"Name\": \"response to lipopolysaccharide (GO:0032496)\",\n",
      "                    \"Accession\": \"GO:0032496\"\n",
      "                }\n",
      "            ],\n",
      "            \"Filename\": \"L1000FWD_GO_Biological_Processes_drugsetlibrary_up\",\n",
      "            \"Organism\": \"Homo sapiens\",\n",
      "            \"Direction\": \"up\",\n",
      "            \"$validator\": \"https://raw.githubusercontent.com/MaayanLab/Drugmonizome/master/drugmonizome-schemas/meta/signature.json\",\n",
      "            \"Number_of_drugs\": 192,\n",
      "            \"Association_Type\": \"Gene Ontology terms\"\n",
      "        }\n",
      "    },\n",
      "    {\n",
      "        \"$validator\": \"/dcic/signature-commons-schema/v5/core/signature.json\",\n",
      "        \"id\": \"d035817b-9527-44bd-886a-4fd603cff0bd\",\n",
      "        \"library\": \"90e4bbcf-13ce-4154-9735-ac0a84cae23f\",\n",
      "        \"meta\": {\n",
      "            \"Term\": [\n",
      "                {\n",
      "                    \"Name\": \"response to molecule of bacterial origin (GO:0002237)\",\n",
      "                    \"Accession\": \"GO:0002237\"\n",
      "                }\n",
      "            ],\n",
      "            \"Filename\": \"L1000FWD_GO_Biological_Processes_drugsetlibrary_up\",\n",
      "            \"Organism\": \"Homo sapiens\",\n",
      "            \"Direction\": \"up\",\n",
      "            \"$validator\": \"https://raw.githubusercontent.com/MaayanLab/Drugmonizome/master/drugmonizome-schemas/meta/signature.json\",\n",
      "            \"Number_of_drugs\": 183,\n",
      "            \"Association_Type\": \"Gene Ontology terms\"\n",
      "        }\n",
      "    },\n",
      "    {\n",
      "        \"$validator\": \"/dcic/signature-commons-schema/v5/core/signature.json\",\n",
      "        \"id\": \"49784b78-24db-4376-a5c4-89b930a8e764\",\n",
      "        \"library\": \"90e4bbcf-13ce-4154-9735-ac0a84cae23f\",\n",
      "        \"meta\": {\n",
      "            \"Term\": [\n",
      "                {\n",
      "                    \"Name\": \"positive regulation of epithelial to mesenchymal transition (GO:0010718)\",\n",
      "                    \"Accession\": \"GO:0010718\"\n",
      "                }\n",
      "            ],\n",
      "            \"Filename\": \"L1000FWD_GO_Biological_Processes_drugsetlibrary_up\",\n",
      "            \"Organism\": \"Homo sapiens\",\n",
      "            \"Direction\": \"up\",\n",
      "            \"$validator\": \"https://raw.githubusercontent.com/MaayanLab/Drugmonizome/master/drugmonizome-schemas/meta/signature.json\",\n",
      "            \"Number_of_drugs\": 27,\n",
      "            \"Association_Type\": \"Gene Ontology terms\"\n",
      "        }\n",
      "    }\n",
      "]\n"
     ]
    }
   ],
   "source": [
    "## Convert drug names to uuids\n",
    "METADATA_API = \"https://maayanlab.cloud/drugmonizome/metadata-api\"\n",
    "endpoint = \"/entities/find\"\n",
    "drugs = ['mefloquine','hydroxychloroquine','chloroquine','remdesivir','proscillaridin','niclosamide','hexachlorophene','lopinavir','amodiaquine','bazedoxifene','anidulafungin','cyclosporine','loperamide','ivacaftor','abemaciclib','almitrine','camostat']\n",
    "\n",
    "query = {\n",
    "    \"filter\":{\n",
    "        \"where\": {\n",
    "            \"meta.Name\": {\n",
    "                \"inq\": drugs\n",
    "            }     \n",
    "        }\n",
    "    }\n",
    "}\n",
    "\n",
    "res = requests.post(METADATA_API+ endpoint,  json=query)\n",
    "drugs_ids = [i[\"id\"] for i in res.json()]\n",
    "\n",
    "# Signature Search\n",
    "DATA_API = \"https://maayanlab.cloud/drugmonizome/data-api/api/v1\"\n",
    "endpoint = \"/enrich/overlap\"\n",
    "\n",
    "query = {\n",
    "    \"database\": \"L1000FWD_GO_Biological_Processes_drugsetlibrary_up\",\n",
    "    \"entities\": drugs_ids,\n",
    "    \"limit\": 5\n",
    "}\n",
    "\n",
    "res = requests.post(DATA_API + endpoint, json=query)\n",
    "signatures = [i[\"uuid\"] for i in res.json()[\"results\"]]\n",
    "\n",
    "# Get metadata for signatures\n",
    "endpoint = \"/signatures/find\"\n",
    "query = {\n",
    "    \"filter\":{\n",
    "        \"where\": {\n",
    "            \"id\": {\n",
    "                \"inq\": signatures\n",
    "            }     \n",
    "        }\n",
    "    }\n",
    "}\n",
    "\n",
    "res = requests.post(METADATA_API+ endpoint,  json=query)\n",
    "print(json.dumps(res.json(),indent=4))"
   ]
  }
 ],
 "metadata": {
  "kernelspec": {
   "display_name": "Python 3",
   "language": "python",
   "name": "python3"
  },
  "language_info": {
   "codemirror_mode": {
    "name": "ipython",
    "version": 3
   },
   "file_extension": ".py",
   "mimetype": "text/x-python",
   "name": "python",
   "nbconvert_exporter": "python",
   "pygments_lexer": "ipython3",
   "version": "3.8.3"
  }
 },
 "nbformat": 4,
 "nbformat_minor": 4
}
