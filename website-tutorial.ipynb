{
 "cells": [
  {
   "cell_type": "markdown",
   "metadata": {},
   "source": [
    "# Navigating the Drugmonizome Website"
   ]
  },
  {
   "cell_type": "markdown",
   "metadata": {},
   "source": [
    "### Drugmonizome Metadata Search\n",
    "The metadata search page allows users to query biomedical terms to search for resources, drug set libraries, drug sets, or small molecules that include the query term. Users input a term of interest into the search field and click submit to launch the search. The user is then presented with a results page of resources, libraries, drug sets, or small molecules depending on their selection.<br>\n",
    "![title](drugmonizome-schemas/tutorial-images/metadata_search_page.svg)\n",
    "<p><center><b>Fig 1.</b> Metadata Search page with interactable elements highlighted</center></p>\n",
    "\n",
    "**1.** Users can switch between metadata searches for resources, drug set libraries, drug sets, and small molecules using the toolbar. Example search terms are displayed above the toolbar.<br>\n",
    "**2.** When searching for drug sets, users have the ability to select filters for drug sets from a particular resource, library, or association type (i.e. genes, side effects, pathways, etc.).<br>\n",
    "**3.** Clicking the drop down menu allows users to download the drug set of interest or perform drug set enrichment analysis on the drug set.<br>\n",
    "**4.** Clicking on any of the drug set names brings the user to a page (**Fig 2.**) that includes metadata related to the drug set as well as the set of all small molecules included in the drug set. Users may also search for particular small molecules included in the drug set using the search bar.<br>\n",
    "![title](drugmonizome-schemas/tutorial-images/drug_set_page.gif)\n",
    "<p><center><b>Fig 2.</b> Drug set page example showing drug set metadata and searchable small molecule set</center></p>"
   ]
  },
  {
   "cell_type": "markdown",
   "metadata": {},
   "source": [
    "### Drugmonizome Drug Set Enrichment\n",
    "The drug set enrichment page takes small molecule identifiers as input. Small molecules can be queried by name, InChI key, SMILES strings, as well as DrugBank IDs and Broad Institute IDs (BRD-IDs). If the entity is resolved within the database, it is marked with a green checkmark. When submitted, drug set enrichment analysis is performed on the input list.<br>\n",
    "![title](drugmonizome-schemas/tutorial-images/enrichment_page.png)\n",
    "<p><center>Fig 3. Enrichment analysis page with \"Example Drug Set 1\" input in the search box</center></p>"
   ]
  },
  {
   "cell_type": "markdown",
   "metadata": {},
   "source": [
    "The results page displays the resources with enriched drug sets which can be expanded to peruse individual drug set libraries and drug sets within the libraries. The results for each library are capped to the top 100 enriched drug sets.<br>\n",
    "![title](drugmonizome-schemas/tutorial-images/enrichment_results_page.svg)\n",
    "<p><center><b>Fig 4.</b> Enrichment results page for example drug set</center></p>\n",
    "\n",
    "**1.** Users can switch between drug data resources using the toolbar. Clicking between these resources will display drug set libraries from that resource with enriched drug sets.<br>\n",
    "**2.** Clicking on this icon will display the input small molecule list<br>\n",
    "**3.** The default visualization displayed for each library is a bar graph representing the top ranked terms from the drug set library ranked by p-value. Clicking on the alternative option displays a scatter plot (**Fig 5.**) with the top terms plotted by p-value (y-axis) and odds ratio (x-axis).<br>\n",
    "![title](drugmonizome-schemas/tutorial-images/scatterplot.gif)\n",
    "<p><center><b>Fig 5.</b> Switching between bar graph and scatter plot representations</center></p>\n",
    "\n",
    "**4.** Clicking on any of the drug set library names brings the user to a page (**Fig 6.**) that includes metadata related to the drug set as well as the set of all small molecules included in the drug set. Users may also search for particular small molecules included in the drug set using the search bar.<br>\n",
    "![title](drugmonizome-schemas/tutorial-images/library_results_page.gif)\n",
    "<p><center><b>Fig 6.</b> Exploring enriched drug sets within a particular library</center></p>"
   ]
  },
  {
   "cell_type": "markdown",
   "metadata": {},
   "source": [
    "### Drugmonizome Resources"
   ]
  },
  {
   "cell_type": "markdown",
   "metadata": {},
   "source": [
    "A page of all resources in Drugmonizome is available. Clicking on any of the resources brings users to a page with identifying metadata for the resource and drug set libraries within the resource.\n",
    "![title](drugmonizome-schemas/tutorial-images/resources_page.gif)\n",
    "<p><center><b>Fig 7.</b> Resources page</center></p>"
   ]
  }
 ],
 "metadata": {
  "kernelspec": {
   "display_name": "Python 3",
   "language": "python",
   "name": "python3"
  },
  "language_info": {
   "codemirror_mode": {
    "name": "ipython",
    "version": 3
   },
   "file_extension": ".py",
   "mimetype": "text/x-python",
   "name": "python",
   "nbconvert_exporter": "python",
   "pygments_lexer": "ipython3",
   "version": "3.8.3"
  }
 },
 "nbformat": 4,
 "nbformat_minor": 4
}
