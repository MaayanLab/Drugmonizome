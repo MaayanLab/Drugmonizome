{
 "cells": [
  {
   "cell_type": "markdown",
   "metadata": {},
   "source": [
    "## Drug Repurposing Hub Indication Drug-Set Library\n",
    "### Drug-set labels: Indications\n",
    "#### ALL DATABASES ACCESSED 03/01/20\n",
    "##### Author : Eryk Kropiwnicki | eryk.kropiwnicki@icahn.mssm.edu"
   ]
  },
  {
   "cell_type": "code",
   "execution_count": 1,
   "metadata": {},
   "outputs": [],
   "source": [
    "import pandas as pd\n",
    "import numpy as np\n",
    "import csv\n",
    "from collections import defaultdict\n",
    "import os\n",
    "import json"
   ]
  },
  {
   "cell_type": "code",
   "execution_count": 2,
   "metadata": {},
   "outputs": [],
   "source": [
    "os.chdir('../../scripts')\n",
    "from export_script import *\n",
    "os.chdir('../notebooks/DrugRepurposingHub')"
   ]
  },
  {
   "cell_type": "markdown",
   "metadata": {},
   "source": [
    "## Import dataframe of targets matched to drugs & drug metadata\n",
    "#### Database: https://clue.io/data/REP#REP\n",
    "#### Input Files : repurposing_drugs_201809807.txt | repurposing_samples_20180907.txt"
   ]
  },
  {
   "cell_type": "code",
   "execution_count": 4,
   "metadata": {},
   "outputs": [],
   "source": [
    "df = pd.read_table('input/repurposing_drugs_20180907.txt', delimiter = '\\t', encoding='latin-1',\n",
    "                         usecols = ['pert_iname','indication'])\n",
    "df = df.dropna(subset=['indication'])"
   ]
  },
  {
   "cell_type": "code",
   "execution_count": 5,
   "metadata": {},
   "outputs": [
    {
     "data": {
      "text/html": [
       "<div>\n",
       "<style scoped>\n",
       "    .dataframe tbody tr th:only-of-type {\n",
       "        vertical-align: middle;\n",
       "    }\n",
       "\n",
       "    .dataframe tbody tr th {\n",
       "        vertical-align: top;\n",
       "    }\n",
       "\n",
       "    .dataframe thead th {\n",
       "        text-align: right;\n",
       "    }\n",
       "</style>\n",
       "<table border=\"1\" class=\"dataframe\">\n",
       "  <thead>\n",
       "    <tr style=\"text-align: right;\">\n",
       "      <th></th>\n",
       "      <th>pert_iname</th>\n",
       "      <th>indication</th>\n",
       "    </tr>\n",
       "  </thead>\n",
       "  <tbody>\n",
       "    <tr>\n",
       "      <th>24</th>\n",
       "      <td>abacavir</td>\n",
       "      <td>human immunodeficiency virus (HIV-1)</td>\n",
       "    </tr>\n",
       "    <tr>\n",
       "      <th>26</th>\n",
       "      <td>abamectin</td>\n",
       "      <td>gastrointestinal parasites</td>\n",
       "    </tr>\n",
       "    <tr>\n",
       "      <th>29</th>\n",
       "      <td>abemaciclib</td>\n",
       "      <td>breast cancer</td>\n",
       "    </tr>\n",
       "    <tr>\n",
       "      <th>30</th>\n",
       "      <td>abiraterone</td>\n",
       "      <td>prostate cancer</td>\n",
       "    </tr>\n",
       "    <tr>\n",
       "      <th>31</th>\n",
       "      <td>abiraterone-acetate</td>\n",
       "      <td>prostate cancer</td>\n",
       "    </tr>\n",
       "  </tbody>\n",
       "</table>\n",
       "</div>"
      ],
      "text/plain": [
       "             pert_iname                            indication\n",
       "24             abacavir  human immunodeficiency virus (HIV-1)\n",
       "26            abamectin            gastrointestinal parasites\n",
       "29          abemaciclib                         breast cancer\n",
       "30          abiraterone                       prostate cancer\n",
       "31  abiraterone-acetate                       prostate cancer"
      ]
     },
     "execution_count": 5,
     "metadata": {},
     "output_type": "execute_result"
    }
   ],
   "source": [
    "df.head()"
   ]
  },
  {
   "cell_type": "markdown",
   "metadata": {},
   "source": [
    "Total unique drugs"
   ]
  },
  {
   "cell_type": "code",
   "execution_count": 7,
   "metadata": {},
   "outputs": [
    {
     "data": {
      "text/plain": [
       "2086"
      ]
     },
     "execution_count": 7,
     "metadata": {},
     "output_type": "execute_result"
    }
   ],
   "source": [
    "len(df)"
   ]
  },
  {
   "cell_type": "markdown",
   "metadata": {},
   "source": [
    "#### Importing metadata"
   ]
  },
  {
   "cell_type": "code",
   "execution_count": 8,
   "metadata": {},
   "outputs": [],
   "source": [
    "df_metadata = pd.read_csv('input/repurposing_samples_20180907.txt', delimiter = '\\t', encoding='latin-1',\n",
    "                         usecols = ['pert_iname','InChIKey','pubchem_cid'])"
   ]
  },
  {
   "cell_type": "code",
   "execution_count": 9,
   "metadata": {},
   "outputs": [
    {
     "data": {
      "text/html": [
       "<div>\n",
       "<style scoped>\n",
       "    .dataframe tbody tr th:only-of-type {\n",
       "        vertical-align: middle;\n",
       "    }\n",
       "\n",
       "    .dataframe tbody tr th {\n",
       "        vertical-align: top;\n",
       "    }\n",
       "\n",
       "    .dataframe thead th {\n",
       "        text-align: right;\n",
       "    }\n",
       "</style>\n",
       "<table border=\"1\" class=\"dataframe\">\n",
       "  <thead>\n",
       "    <tr style=\"text-align: right;\">\n",
       "      <th></th>\n",
       "      <th>pert_iname</th>\n",
       "      <th>InChIKey</th>\n",
       "      <th>pubchem_cid</th>\n",
       "    </tr>\n",
       "  </thead>\n",
       "  <tbody>\n",
       "    <tr>\n",
       "      <th>0</th>\n",
       "      <td>[sar9,met(o2)11]-substance-p</td>\n",
       "      <td>OUPXSLGGCPUZJJ-SARDKLJWSA-N</td>\n",
       "      <td>163829.0</td>\n",
       "    </tr>\n",
       "    <tr>\n",
       "      <th>1</th>\n",
       "      <td>1-((Z)-3-Chloroallyl)-1,3,5,7-tetraazaadamanta...</td>\n",
       "      <td>LDLCEGCJYSDJLX-UPHRSURJSA-N</td>\n",
       "      <td>5846454.0</td>\n",
       "    </tr>\n",
       "    <tr>\n",
       "      <th>2</th>\n",
       "      <td>1-(1,2-Diphenylethyl)piperidine-(+/-)</td>\n",
       "      <td>JQWJJJYHVHNXJH-UHFFFAOYSA-N</td>\n",
       "      <td>206666.0</td>\n",
       "    </tr>\n",
       "  </tbody>\n",
       "</table>\n",
       "</div>"
      ],
      "text/plain": [
       "                                          pert_iname  \\\n",
       "0                       [sar9,met(o2)11]-substance-p   \n",
       "1  1-((Z)-3-Chloroallyl)-1,3,5,7-tetraazaadamanta...   \n",
       "2              1-(1,2-Diphenylethyl)piperidine-(+/-)   \n",
       "\n",
       "                      InChIKey  pubchem_cid  \n",
       "0  OUPXSLGGCPUZJJ-SARDKLJWSA-N     163829.0  \n",
       "1  LDLCEGCJYSDJLX-UPHRSURJSA-N    5846454.0  \n",
       "2  JQWJJJYHVHNXJH-UHFFFAOYSA-N     206666.0  "
      ]
     },
     "execution_count": 9,
     "metadata": {},
     "output_type": "execute_result"
    }
   ],
   "source": [
    "df_metadata.head(3)"
   ]
  },
  {
   "cell_type": "code",
   "execution_count": 10,
   "metadata": {},
   "outputs": [],
   "source": [
    "# merging on pert_iname\n",
    "df = df.merge(df_metadata)"
   ]
  },
  {
   "cell_type": "code",
   "execution_count": 11,
   "metadata": {},
   "outputs": [
    {
     "data": {
      "text/html": [
       "<div>\n",
       "<style scoped>\n",
       "    .dataframe tbody tr th:only-of-type {\n",
       "        vertical-align: middle;\n",
       "    }\n",
       "\n",
       "    .dataframe tbody tr th {\n",
       "        vertical-align: top;\n",
       "    }\n",
       "\n",
       "    .dataframe thead th {\n",
       "        text-align: right;\n",
       "    }\n",
       "</style>\n",
       "<table border=\"1\" class=\"dataframe\">\n",
       "  <thead>\n",
       "    <tr style=\"text-align: right;\">\n",
       "      <th></th>\n",
       "      <th>pert_iname</th>\n",
       "      <th>indication</th>\n",
       "      <th>InChIKey</th>\n",
       "      <th>pubchem_cid</th>\n",
       "    </tr>\n",
       "  </thead>\n",
       "  <tbody>\n",
       "    <tr>\n",
       "      <th>0</th>\n",
       "      <td>abacavir</td>\n",
       "      <td>human immunodeficiency virus (HIV-1)</td>\n",
       "      <td>MCGSCOLBFJQGHM-SCZZXKLOSA-N</td>\n",
       "      <td>441300.0</td>\n",
       "    </tr>\n",
       "    <tr>\n",
       "      <th>1</th>\n",
       "      <td>abacavir</td>\n",
       "      <td>human immunodeficiency virus (HIV-1)</td>\n",
       "      <td>MCGSCOLBFJQGHM-SCZZXKLOSA-N</td>\n",
       "      <td>441300.0</td>\n",
       "    </tr>\n",
       "    <tr>\n",
       "      <th>2</th>\n",
       "      <td>abacavir</td>\n",
       "      <td>human immunodeficiency virus (HIV-1)</td>\n",
       "      <td>MCGSCOLBFJQGHM-SCZZXKLOSA-N</td>\n",
       "      <td>441300.0</td>\n",
       "    </tr>\n",
       "  </tbody>\n",
       "</table>\n",
       "</div>"
      ],
      "text/plain": [
       "  pert_iname                            indication  \\\n",
       "0   abacavir  human immunodeficiency virus (HIV-1)   \n",
       "1   abacavir  human immunodeficiency virus (HIV-1)   \n",
       "2   abacavir  human immunodeficiency virus (HIV-1)   \n",
       "\n",
       "                      InChIKey  pubchem_cid  \n",
       "0  MCGSCOLBFJQGHM-SCZZXKLOSA-N     441300.0  \n",
       "1  MCGSCOLBFJQGHM-SCZZXKLOSA-N     441300.0  \n",
       "2  MCGSCOLBFJQGHM-SCZZXKLOSA-N     441300.0  "
      ]
     },
     "execution_count": 11,
     "metadata": {},
     "output_type": "execute_result"
    }
   ],
   "source": [
    "df.head(3)"
   ]
  },
  {
   "cell_type": "markdown",
   "metadata": {},
   "source": [
    "#### Importing Drugbank mapping file"
   ]
  },
  {
   "cell_type": "code",
   "execution_count": 12,
   "metadata": {},
   "outputs": [],
   "source": [
    "drugbank_mapping = pd.read_csv('../../metadata/mapping_files/pubchem.tsv', sep = '\\t')\n",
    "drugbank_mapping = drugbank_mapping.rename(columns = {'pubchem_id':'pubchem_cid','inchi_key':'InChIKey'})"
   ]
  },
  {
   "cell_type": "code",
   "execution_count": 13,
   "metadata": {},
   "outputs": [
    {
     "data": {
      "text/html": [
       "<div>\n",
       "<style scoped>\n",
       "    .dataframe tbody tr th:only-of-type {\n",
       "        vertical-align: middle;\n",
       "    }\n",
       "\n",
       "    .dataframe tbody tr th {\n",
       "        vertical-align: top;\n",
       "    }\n",
       "\n",
       "    .dataframe thead th {\n",
       "        text-align: right;\n",
       "    }\n",
       "</style>\n",
       "<table border=\"1\" class=\"dataframe\">\n",
       "  <thead>\n",
       "    <tr style=\"text-align: right;\">\n",
       "      <th></th>\n",
       "      <th>drugbank_id</th>\n",
       "      <th>pubchem_cid</th>\n",
       "      <th>InChIKey</th>\n",
       "    </tr>\n",
       "  </thead>\n",
       "  <tbody>\n",
       "    <tr>\n",
       "      <th>0</th>\n",
       "      <td>DB00006</td>\n",
       "      <td>101041682</td>\n",
       "      <td>OIRCOABEOLEUMC-GEJPAHFPSA-N</td>\n",
       "    </tr>\n",
       "    <tr>\n",
       "      <th>1</th>\n",
       "      <td>DB00006</td>\n",
       "      <td>126480209</td>\n",
       "      <td>OIRCOABEOLEUMC-GEJPAHFPSA-N</td>\n",
       "    </tr>\n",
       "    <tr>\n",
       "      <th>2</th>\n",
       "      <td>DB00006</td>\n",
       "      <td>132229728</td>\n",
       "      <td>OIRCOABEOLEUMC-GEJPAHFPSA-N</td>\n",
       "    </tr>\n",
       "  </tbody>\n",
       "</table>\n",
       "</div>"
      ],
      "text/plain": [
       "  drugbank_id  pubchem_cid                     InChIKey\n",
       "0     DB00006    101041682  OIRCOABEOLEUMC-GEJPAHFPSA-N\n",
       "1     DB00006    126480209  OIRCOABEOLEUMC-GEJPAHFPSA-N\n",
       "2     DB00006    132229728  OIRCOABEOLEUMC-GEJPAHFPSA-N"
      ]
     },
     "execution_count": 13,
     "metadata": {},
     "output_type": "execute_result"
    }
   ],
   "source": [
    "drugbank_mapping.head(3)"
   ]
  },
  {
   "cell_type": "code",
   "execution_count": 15,
   "metadata": {},
   "outputs": [],
   "source": [
    "# merging on pubchem_cid\n",
    "df_indication = df.merge(drugbank_mapping, how = 'inner', on = ['pubchem_cid', 'InChIKey'])"
   ]
  },
  {
   "cell_type": "code",
   "execution_count": 16,
   "metadata": {},
   "outputs": [
    {
     "data": {
      "text/html": [
       "<div>\n",
       "<style scoped>\n",
       "    .dataframe tbody tr th:only-of-type {\n",
       "        vertical-align: middle;\n",
       "    }\n",
       "\n",
       "    .dataframe tbody tr th {\n",
       "        vertical-align: top;\n",
       "    }\n",
       "\n",
       "    .dataframe thead th {\n",
       "        text-align: right;\n",
       "    }\n",
       "</style>\n",
       "<table border=\"1\" class=\"dataframe\">\n",
       "  <thead>\n",
       "    <tr style=\"text-align: right;\">\n",
       "      <th></th>\n",
       "      <th>pert_iname</th>\n",
       "      <th>indication</th>\n",
       "      <th>InChIKey</th>\n",
       "      <th>pubchem_cid</th>\n",
       "      <th>drugbank_id</th>\n",
       "    </tr>\n",
       "  </thead>\n",
       "  <tbody>\n",
       "    <tr>\n",
       "      <th>0</th>\n",
       "      <td>abacavir</td>\n",
       "      <td>human immunodeficiency virus (HIV-1)</td>\n",
       "      <td>MCGSCOLBFJQGHM-SCZZXKLOSA-N</td>\n",
       "      <td>441300.0</td>\n",
       "      <td>DB01048</td>\n",
       "    </tr>\n",
       "    <tr>\n",
       "      <th>1</th>\n",
       "      <td>abacavir</td>\n",
       "      <td>human immunodeficiency virus (HIV-1)</td>\n",
       "      <td>MCGSCOLBFJQGHM-SCZZXKLOSA-N</td>\n",
       "      <td>441300.0</td>\n",
       "      <td>DB01048</td>\n",
       "    </tr>\n",
       "    <tr>\n",
       "      <th>2</th>\n",
       "      <td>abacavir</td>\n",
       "      <td>human immunodeficiency virus (HIV-1)</td>\n",
       "      <td>MCGSCOLBFJQGHM-SCZZXKLOSA-N</td>\n",
       "      <td>441300.0</td>\n",
       "      <td>DB01048</td>\n",
       "    </tr>\n",
       "    <tr>\n",
       "      <th>3</th>\n",
       "      <td>abemaciclib</td>\n",
       "      <td>breast cancer</td>\n",
       "      <td>UZWDCWONPYILKI-UHFFFAOYSA-N</td>\n",
       "      <td>46220502.0</td>\n",
       "      <td>DB12001</td>\n",
       "    </tr>\n",
       "    <tr>\n",
       "      <th>4</th>\n",
       "      <td>abiraterone</td>\n",
       "      <td>prostate cancer</td>\n",
       "      <td>GZOSMCIZMLWJML-VJLLXTKPSA-N</td>\n",
       "      <td>132971.0</td>\n",
       "      <td>DB05812</td>\n",
       "    </tr>\n",
       "  </tbody>\n",
       "</table>\n",
       "</div>"
      ],
      "text/plain": [
       "    pert_iname                            indication  \\\n",
       "0     abacavir  human immunodeficiency virus (HIV-1)   \n",
       "1     abacavir  human immunodeficiency virus (HIV-1)   \n",
       "2     abacavir  human immunodeficiency virus (HIV-1)   \n",
       "3  abemaciclib                         breast cancer   \n",
       "4  abiraterone                       prostate cancer   \n",
       "\n",
       "                      InChIKey  pubchem_cid drugbank_id  \n",
       "0  MCGSCOLBFJQGHM-SCZZXKLOSA-N     441300.0     DB01048  \n",
       "1  MCGSCOLBFJQGHM-SCZZXKLOSA-N     441300.0     DB01048  \n",
       "2  MCGSCOLBFJQGHM-SCZZXKLOSA-N     441300.0     DB01048  \n",
       "3  UZWDCWONPYILKI-UHFFFAOYSA-N   46220502.0     DB12001  \n",
       "4  GZOSMCIZMLWJML-VJLLXTKPSA-N     132971.0     DB05812  "
      ]
     },
     "execution_count": 16,
     "metadata": {},
     "output_type": "execute_result"
    }
   ],
   "source": [
    "df_indication.head()"
   ]
  },
  {
   "cell_type": "markdown",
   "metadata": {},
   "source": [
    "Number of unique small molecules that were harmonized"
   ]
  },
  {
   "cell_type": "code",
   "execution_count": 18,
   "metadata": {},
   "outputs": [
    {
     "data": {
      "text/plain": [
       "1561"
      ]
     },
     "execution_count": 18,
     "metadata": {},
     "output_type": "execute_result"
    }
   ],
   "source": [
    "len(set(df_indication['InChIKey']))"
   ]
  },
  {
   "cell_type": "code",
   "execution_count": 19,
   "metadata": {},
   "outputs": [],
   "source": [
    "# Splitting \"|\" separated target rows into separate rows #\n",
    "df_indication = pd.DataFrame(df_indication['indication'].str.split('|').tolist(), index = df_indication['InChIKey']).stack()\n",
    "df_indication = df_indication.reset_index()[[0, 'InChIKey']]\n",
    "df_indication.columns = ['indication','inchi_key']"
   ]
  },
  {
   "cell_type": "code",
   "execution_count": 20,
   "metadata": {},
   "outputs": [
    {
     "data": {
      "text/html": [
       "<div>\n",
       "<style scoped>\n",
       "    .dataframe tbody tr th:only-of-type {\n",
       "        vertical-align: middle;\n",
       "    }\n",
       "\n",
       "    .dataframe tbody tr th {\n",
       "        vertical-align: top;\n",
       "    }\n",
       "\n",
       "    .dataframe thead th {\n",
       "        text-align: right;\n",
       "    }\n",
       "</style>\n",
       "<table border=\"1\" class=\"dataframe\">\n",
       "  <thead>\n",
       "    <tr style=\"text-align: right;\">\n",
       "      <th></th>\n",
       "      <th>indication</th>\n",
       "      <th>inchi_key</th>\n",
       "    </tr>\n",
       "  </thead>\n",
       "  <tbody>\n",
       "    <tr>\n",
       "      <th>0</th>\n",
       "      <td>human immunodeficiency virus (HIV-1)</td>\n",
       "      <td>MCGSCOLBFJQGHM-SCZZXKLOSA-N</td>\n",
       "    </tr>\n",
       "    <tr>\n",
       "      <th>1</th>\n",
       "      <td>human immunodeficiency virus (HIV-1)</td>\n",
       "      <td>MCGSCOLBFJQGHM-SCZZXKLOSA-N</td>\n",
       "    </tr>\n",
       "    <tr>\n",
       "      <th>2</th>\n",
       "      <td>human immunodeficiency virus (HIV-1)</td>\n",
       "      <td>MCGSCOLBFJQGHM-SCZZXKLOSA-N</td>\n",
       "    </tr>\n",
       "    <tr>\n",
       "      <th>3</th>\n",
       "      <td>breast cancer</td>\n",
       "      <td>UZWDCWONPYILKI-UHFFFAOYSA-N</td>\n",
       "    </tr>\n",
       "    <tr>\n",
       "      <th>4</th>\n",
       "      <td>prostate cancer</td>\n",
       "      <td>GZOSMCIZMLWJML-VJLLXTKPSA-N</td>\n",
       "    </tr>\n",
       "  </tbody>\n",
       "</table>\n",
       "</div>"
      ],
      "text/plain": [
       "                             indication                    inchi_key\n",
       "0  human immunodeficiency virus (HIV-1)  MCGSCOLBFJQGHM-SCZZXKLOSA-N\n",
       "1  human immunodeficiency virus (HIV-1)  MCGSCOLBFJQGHM-SCZZXKLOSA-N\n",
       "2  human immunodeficiency virus (HIV-1)  MCGSCOLBFJQGHM-SCZZXKLOSA-N\n",
       "3                         breast cancer  UZWDCWONPYILKI-UHFFFAOYSA-N\n",
       "4                       prostate cancer  GZOSMCIZMLWJML-VJLLXTKPSA-N"
      ]
     },
     "execution_count": 20,
     "metadata": {},
     "output_type": "execute_result"
    }
   ],
   "source": [
    "df_indication.head()"
   ]
  },
  {
   "cell_type": "code",
   "execution_count": 22,
   "metadata": {},
   "outputs": [],
   "source": [
    "id_dict = tuple(zip(df_indication['indication'],df_indication['inchi_key']))\n",
    "\n",
    "drugsetlibrary = defaultdict(list)\n",
    "for k,v in id_dict:\n",
    "    drugsetlibrary[k].append(v)\n",
    "    \n",
    "# Dropping duplicates and removing sets < 5\n",
    "drugsetlibrary = {k:list(set(v)) for k,v in drugsetlibrary.items() if len(set(v)) >= 5}"
   ]
  },
  {
   "cell_type": "markdown",
   "metadata": {},
   "source": [
    "### Library counts"
   ]
  },
  {
   "cell_type": "code",
   "execution_count": 23,
   "metadata": {},
   "outputs": [
    {
     "name": "stdout",
     "output_type": "stream",
     "text": [
      "1283 unique drugs\n",
      "155 unique association terms\n",
      "2074 unique associations\n",
      "13.380645161290323 average drugs per term\n"
     ]
    }
   ],
   "source": [
    "library_counts(drugsetlibrary)"
   ]
  },
  {
   "cell_type": "markdown",
   "metadata": {},
   "source": [
    "### Exporting drugsetlibrary in GMT format"
   ]
  },
  {
   "cell_type": "code",
   "execution_count": 24,
   "metadata": {},
   "outputs": [],
   "source": [
    "os.chdir('../../data/DrugRepurposingHub')"
   ]
  },
  {
   "cell_type": "code",
   "execution_count": 25,
   "metadata": {},
   "outputs": [],
   "source": [
    "gmt_formatter(drugsetlibrary, 'DrugRepurposingHub_indication_drugsetlibrary.gmt')"
   ]
  }
 ],
 "metadata": {
  "kernelspec": {
   "display_name": "Python 3",
   "language": "python",
   "name": "python3"
  },
  "language_info": {
   "codemirror_mode": {
    "name": "ipython",
    "version": 3
   },
   "file_extension": ".py",
   "mimetype": "text/x-python",
   "name": "python",
   "nbconvert_exporter": "python",
   "pygments_lexer": "ipython3",
   "version": "3.6.5"
  }
 },
 "nbformat": 4,
 "nbformat_minor": 2
}
