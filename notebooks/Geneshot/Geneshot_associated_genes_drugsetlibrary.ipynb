{
 "cells": [
  {
   "cell_type": "markdown",
   "metadata": {},
   "source": [
    "## Geneshot Associated Gene Drug-Set Library\n",
    "### Drug-set labels: Genes\n",
    "#### ALL DATABASES ACCESSED 03/2020\n",
    "##### Author : Eryk Kropiwnicki | eryk.kropiwnicki@icahn.mssm.edu"
   ]
  },
  {
   "cell_type": "code",
   "execution_count": 1,
   "metadata": {},
   "outputs": [],
   "source": [
    "import csv\n",
    "import time \n",
    "import requests\n",
    "import json\n",
    "from collections import defaultdict\n",
    "import pandas as pd\n",
    "import numpy as np\n",
    "import os"
   ]
  },
  {
   "cell_type": "code",
   "execution_count": 2,
   "metadata": {},
   "outputs": [],
   "source": [
    "os.chdir('../../scripts')\n",
    "from export_script import *\n",
    "from gene_resolver import *\n",
    "os.chdir('../notebooks/Geneshot')"
   ]
  },
  {
   "cell_type": "markdown",
   "metadata": {},
   "source": [
    "#### Input file : drug_metadata.tsv (generated from Drug Metadata Aggregation.ipynb)"
   ]
  },
  {
   "cell_type": "code",
   "execution_count": 3,
   "metadata": {},
   "outputs": [],
   "source": [
    "# Import all small molecules #\n",
    "df = pd.read_csv('../../metadata/drugmonizome_metadata.tsv', sep = '\\t')\n",
    "df['Common name'] = df['Common name'].str.lower()"
   ]
  },
  {
   "cell_type": "code",
   "execution_count": 4,
   "metadata": {},
   "outputs": [
    {
     "data": {
      "text/html": [
       "<div>\n",
       "<style scoped>\n",
       "    .dataframe tbody tr th:only-of-type {\n",
       "        vertical-align: middle;\n",
       "    }\n",
       "\n",
       "    .dataframe tbody tr th {\n",
       "        vertical-align: top;\n",
       "    }\n",
       "\n",
       "    .dataframe thead th {\n",
       "        text-align: right;\n",
       "    }\n",
       "</style>\n",
       "<table border=\"1\" class=\"dataframe\">\n",
       "  <thead>\n",
       "    <tr style=\"text-align: right;\">\n",
       "      <th></th>\n",
       "      <th>DrugBank ID</th>\n",
       "      <th>Accession Numbers</th>\n",
       "      <th>Common name</th>\n",
       "      <th>CAS</th>\n",
       "      <th>UNII</th>\n",
       "      <th>Synonyms</th>\n",
       "      <th>InChI Key</th>\n",
       "      <th>Canonical_SMILES</th>\n",
       "    </tr>\n",
       "  </thead>\n",
       "  <tbody>\n",
       "    <tr>\n",
       "      <th>0</th>\n",
       "      <td>DB00006</td>\n",
       "      <td>BIOD00076 | BTD00076 | DB02351 | EXPT03302</td>\n",
       "      <td>bivalirudin</td>\n",
       "      <td>128270-60-0</td>\n",
       "      <td>TN9BEX005G</td>\n",
       "      <td>Bivalirudin | Bivalirudina | Bivalirudinum</td>\n",
       "      <td>OIRCOABEOLEUMC-GEJPAHFPSA-N</td>\n",
       "      <td>CCC(C)C(C(=O)N1CCCC1C(=O)NC(CCC(=O)O)C(=O)NC(C...</td>\n",
       "    </tr>\n",
       "    <tr>\n",
       "      <th>1</th>\n",
       "      <td>DB00007</td>\n",
       "      <td>BIOD00009 | BTD00009</td>\n",
       "      <td>leuprolide</td>\n",
       "      <td>53714-56-0</td>\n",
       "      <td>EFY6W0M8TG</td>\n",
       "      <td>Leuprorelin | Leuprorelina | Leuproreline | Le...</td>\n",
       "      <td>GFIJNRVAKGFPGQ-LIJARHBVSA-N</td>\n",
       "      <td>CCNC(=O)C1CCCN1C(=O)C(CCCN=C(N)N)NC(=O)C(CC(C)...</td>\n",
       "    </tr>\n",
       "    <tr>\n",
       "      <th>2</th>\n",
       "      <td>DB00014</td>\n",
       "      <td>BIOD00113 | BTD00113</td>\n",
       "      <td>goserelin</td>\n",
       "      <td>65807-02-5</td>\n",
       "      <td>0F65R8P09N</td>\n",
       "      <td>Goserelin | Goserelina</td>\n",
       "      <td>BLCLNMBMMGCOAS-URPVMXJPSA-N</td>\n",
       "      <td>CC(C)CC(C(=O)NC(CCCN=C(N)N)C(=O)N1CCCC1C(=O)NN...</td>\n",
       "    </tr>\n",
       "    <tr>\n",
       "      <th>3</th>\n",
       "      <td>DB00027</td>\n",
       "      <td>BIOD00036 | BTD00036</td>\n",
       "      <td>gramicidin d</td>\n",
       "      <td>1405-97-6</td>\n",
       "      <td>5IE62321P4</td>\n",
       "      <td>Bacillus brevis gramicidin D | Gramicidin | Gr...</td>\n",
       "      <td>NDAYQJDHGXTBJL-MWWSRJDJSA-N</td>\n",
       "      <td>CC(C)CC(C(=O)NC(C)C(=O)NC(C(C)C)C(=O)NC(C(C)C)...</td>\n",
       "    </tr>\n",
       "    <tr>\n",
       "      <th>4</th>\n",
       "      <td>DB00035</td>\n",
       "      <td>BIOD00061 | BIOD00112 | BTD00061 | BTD00112</td>\n",
       "      <td>desmopressin</td>\n",
       "      <td>16679-58-6</td>\n",
       "      <td>ENR1LLB0FP</td>\n",
       "      <td>1-(3-mercaptopropionic acid)-8-D-arginine-vaso...</td>\n",
       "      <td>NFLWUMRGJYTJIN-PNIOQBSNSA-N</td>\n",
       "      <td>C1CC(N(C1)C(=O)C2CSSCCC(=O)NC(C(=O)NC(C(=O)NC(...</td>\n",
       "    </tr>\n",
       "  </tbody>\n",
       "</table>\n",
       "</div>"
      ],
      "text/plain": [
       "  DrugBank ID                            Accession Numbers   Common name  \\\n",
       "0     DB00006   BIOD00076 | BTD00076 | DB02351 | EXPT03302   bivalirudin   \n",
       "1     DB00007                         BIOD00009 | BTD00009    leuprolide   \n",
       "2     DB00014                         BIOD00113 | BTD00113     goserelin   \n",
       "3     DB00027                         BIOD00036 | BTD00036  gramicidin d   \n",
       "4     DB00035  BIOD00061 | BIOD00112 | BTD00061 | BTD00112  desmopressin   \n",
       "\n",
       "           CAS        UNII                                           Synonyms  \\\n",
       "0  128270-60-0  TN9BEX005G         Bivalirudin | Bivalirudina | Bivalirudinum   \n",
       "1   53714-56-0  EFY6W0M8TG  Leuprorelin | Leuprorelina | Leuproreline | Le...   \n",
       "2   65807-02-5  0F65R8P09N                             Goserelin | Goserelina   \n",
       "3    1405-97-6  5IE62321P4  Bacillus brevis gramicidin D | Gramicidin | Gr...   \n",
       "4   16679-58-6  ENR1LLB0FP  1-(3-mercaptopropionic acid)-8-D-arginine-vaso...   \n",
       "\n",
       "                     InChI Key  \\\n",
       "0  OIRCOABEOLEUMC-GEJPAHFPSA-N   \n",
       "1  GFIJNRVAKGFPGQ-LIJARHBVSA-N   \n",
       "2  BLCLNMBMMGCOAS-URPVMXJPSA-N   \n",
       "3  NDAYQJDHGXTBJL-MWWSRJDJSA-N   \n",
       "4  NFLWUMRGJYTJIN-PNIOQBSNSA-N   \n",
       "\n",
       "                                    Canonical_SMILES  \n",
       "0  CCC(C)C(C(=O)N1CCCC1C(=O)NC(CCC(=O)O)C(=O)NC(C...  \n",
       "1  CCNC(=O)C1CCCN1C(=O)C(CCCN=C(N)N)NC(=O)C(CC(C)...  \n",
       "2  CC(C)CC(C(=O)NC(CCCN=C(N)N)C(=O)N1CCCC1C(=O)NN...  \n",
       "3  CC(C)CC(C(=O)NC(C)C(=O)NC(C(C)C)C(=O)NC(C(C)C)...  \n",
       "4  C1CC(N(C1)C(=O)C2CSSCCC(=O)NC(C(=O)NC(C(=O)NC(...  "
      ]
     },
     "execution_count": 4,
     "metadata": {},
     "output_type": "execute_result"
    }
   ],
   "source": [
    "df.head()"
   ]
  },
  {
   "cell_type": "code",
   "execution_count": 5,
   "metadata": {},
   "outputs": [],
   "source": [
    "smallmolecules = df['Common name'].tolist()"
   ]
  },
  {
   "cell_type": "code",
   "execution_count": 6,
   "metadata": {},
   "outputs": [
    {
     "data": {
      "text/plain": [
       "14579"
      ]
     },
     "execution_count": 6,
     "metadata": {},
     "output_type": "execute_result"
    }
   ],
   "source": [
    "len(smallmolecules)"
   ]
  },
  {
   "cell_type": "code",
   "execution_count": 7,
   "metadata": {},
   "outputs": [],
   "source": [
    "# Creating inchi lookup for matching drug names later\n",
    "inchi_lookup = df.set_index('Common name').to_dict()['InChI Key']"
   ]
  },
  {
   "cell_type": "markdown",
   "metadata": {},
   "source": [
    "### Querying Small Molecule Names Through Geneshot\n",
    "#### PLATFORM : https://amp.pharm.mssm.edu/geneshot"
   ]
  },
  {
   "cell_type": "code",
   "execution_count": null,
   "metadata": {},
   "outputs": [],
   "source": [
    "# Queries a drug list through the Geneshot API to retrieve gene terms associated with each drug\n",
    "# and saves the results as a json in the input folder\n",
    "\n",
    "feeds = []\n",
    "\n",
    "for entry in smallmolecules:\n",
    "    response = requests.get('https://amp.pharm.mssm.edu/geneshot/api/search/auto/' + entry)\n",
    "    try:\n",
    "        response.json()\n",
    "        data = response.json()\n",
    "    except ValueError:\n",
    "        pass\n",
    "    feeds.append(data)\n",
    "    time.sleep(0.5)\n",
    "    \n",
    "with open('input/geneset_autorif.json','a') as outfile:\n",
    "    json.dump(feeds,outfile,indent = 4)        \n",
    "    outfile.close()"
   ]
  },
  {
   "cell_type": "markdown",
   "metadata": {},
   "source": [
    "### Creating geneset library from drug-gene associations collected from Geneshot"
   ]
  },
  {
   "cell_type": "code",
   "execution_count": 8,
   "metadata": {},
   "outputs": [],
   "source": [
    "# Creating a dictionary where small molecules are terms and genes are set members #\n",
    "df_counts = pd.DataFrame()\n",
    "gene_list = []\n",
    "compound_list = []\n",
    "mention_score = []\n",
    "\n",
    "with open ('input/geneset_autorif.json') as data_file:\n",
    "    data = json.load(data_file)\n",
    "\n",
    "for item in data:\n",
    "    genes = item[\"gene_count\"]\n",
    "    if len(genes) > 1:\n",
    "        compound = inchi_lookup[(item[\"search_term\"]).lower()] # get InChIKey for each drug name\n",
    "        for gene in genes:\n",
    "            gene_list.append(gene)\n",
    "            compound_list.append(compound)\n",
    "            mention_score.append(float(genes[gene][0])*float(genes[gene][1])) # total mentions * frequency in literature\n",
    "\n",
    "df_counts['Compound_name'] = compound_list\n",
    "df_counts['Gene_name'] = gene_list\n",
    "df_counts['Mention_score'] = mention_score"
   ]
  },
  {
   "cell_type": "code",
   "execution_count": 9,
   "metadata": {},
   "outputs": [
    {
     "data": {
      "text/plain": [
       "1555343"
      ]
     },
     "execution_count": 9,
     "metadata": {},
     "output_type": "execute_result"
    }
   ],
   "source": [
    "len(df_counts)"
   ]
  },
  {
   "cell_type": "code",
   "execution_count": 10,
   "metadata": {},
   "outputs": [],
   "source": [
    "# Filter each small molecule and its top 200 associated genes by mention score\n",
    "df_counts = df_counts.sort_values(by = ['Compound_name', 'Mention_score'], ascending = False)\\\n",
    "    .groupby('Compound_name')\\\n",
    "    .head(200)"
   ]
  },
  {
   "cell_type": "code",
   "execution_count": 11,
   "metadata": {},
   "outputs": [
    {
     "data": {
      "text/html": [
       "<div>\n",
       "<style scoped>\n",
       "    .dataframe tbody tr th:only-of-type {\n",
       "        vertical-align: middle;\n",
       "    }\n",
       "\n",
       "    .dataframe tbody tr th {\n",
       "        vertical-align: top;\n",
       "    }\n",
       "\n",
       "    .dataframe thead th {\n",
       "        text-align: right;\n",
       "    }\n",
       "</style>\n",
       "<table border=\"1\" class=\"dataframe\">\n",
       "  <thead>\n",
       "    <tr style=\"text-align: right;\">\n",
       "      <th></th>\n",
       "      <th>Compound_name</th>\n",
       "      <th>Gene_name</th>\n",
       "      <th>Mention_score</th>\n",
       "    </tr>\n",
       "  </thead>\n",
       "  <tbody>\n",
       "    <tr>\n",
       "      <th>187407</th>\n",
       "      <td>ZZVUWRFHKOJYTH-UHFFFAOYSA-N</td>\n",
       "      <td>SLC47A1</td>\n",
       "      <td>0.108434</td>\n",
       "    </tr>\n",
       "    <tr>\n",
       "      <th>187409</th>\n",
       "      <td>ZZVUWRFHKOJYTH-UHFFFAOYSA-N</td>\n",
       "      <td>HNMT</td>\n",
       "      <td>0.091837</td>\n",
       "    </tr>\n",
       "    <tr>\n",
       "      <th>187405</th>\n",
       "      <td>ZZVUWRFHKOJYTH-UHFFFAOYSA-N</td>\n",
       "      <td>HDC</td>\n",
       "      <td>0.040712</td>\n",
       "    </tr>\n",
       "    <tr>\n",
       "      <th>187473</th>\n",
       "      <td>ZZVUWRFHKOJYTH-UHFFFAOYSA-N</td>\n",
       "      <td>SLC44A1</td>\n",
       "      <td>0.033333</td>\n",
       "    </tr>\n",
       "    <tr>\n",
       "      <th>187445</th>\n",
       "      <td>ZZVUWRFHKOJYTH-UHFFFAOYSA-N</td>\n",
       "      <td>HVCN1</td>\n",
       "      <td>0.029412</td>\n",
       "    </tr>\n",
       "  </tbody>\n",
       "</table>\n",
       "</div>"
      ],
      "text/plain": [
       "                      Compound_name Gene_name  Mention_score\n",
       "187407  ZZVUWRFHKOJYTH-UHFFFAOYSA-N   SLC47A1       0.108434\n",
       "187409  ZZVUWRFHKOJYTH-UHFFFAOYSA-N      HNMT       0.091837\n",
       "187405  ZZVUWRFHKOJYTH-UHFFFAOYSA-N       HDC       0.040712\n",
       "187473  ZZVUWRFHKOJYTH-UHFFFAOYSA-N   SLC44A1       0.033333\n",
       "187445  ZZVUWRFHKOJYTH-UHFFFAOYSA-N     HVCN1       0.029412"
      ]
     },
     "execution_count": 11,
     "metadata": {},
     "output_type": "execute_result"
    }
   ],
   "source": [
    "df_counts.head()"
   ]
  },
  {
   "cell_type": "markdown",
   "metadata": {},
   "source": [
    "### Retrieve approved symbol for each unique gene returned in the results"
   ]
  },
  {
   "cell_type": "code",
   "execution_count": 12,
   "metadata": {},
   "outputs": [],
   "source": [
    "unique_genes = list(set(df_counts['Gene_name'].tolist()))"
   ]
  },
  {
   "cell_type": "code",
   "execution_count": 13,
   "metadata": {},
   "outputs": [],
   "source": [
    "# Retrieve dataframe of Geneshot genes matched to approved symbols\n",
    "approved_symbols = gene_resolver(unique_genes,fmt='list')"
   ]
  },
  {
   "cell_type": "code",
   "execution_count": 14,
   "metadata": {},
   "outputs": [],
   "source": [
    "# Merge each approved symbol on its synonym\n",
    "df_counts = df_counts.merge(approved_symbols)"
   ]
  },
  {
   "cell_type": "code",
   "execution_count": 15,
   "metadata": {},
   "outputs": [
    {
     "data": {
      "text/html": [
       "<div>\n",
       "<style scoped>\n",
       "    .dataframe tbody tr th:only-of-type {\n",
       "        vertical-align: middle;\n",
       "    }\n",
       "\n",
       "    .dataframe tbody tr th {\n",
       "        vertical-align: top;\n",
       "    }\n",
       "\n",
       "    .dataframe thead th {\n",
       "        text-align: right;\n",
       "    }\n",
       "</style>\n",
       "<table border=\"1\" class=\"dataframe\">\n",
       "  <thead>\n",
       "    <tr style=\"text-align: right;\">\n",
       "      <th></th>\n",
       "      <th>Compound_name</th>\n",
       "      <th>Gene_name</th>\n",
       "      <th>Mention_score</th>\n",
       "      <th>Approved Symbol</th>\n",
       "    </tr>\n",
       "  </thead>\n",
       "  <tbody>\n",
       "    <tr>\n",
       "      <th>0</th>\n",
       "      <td>ZZVUWRFHKOJYTH-UHFFFAOYSA-N</td>\n",
       "      <td>SLC47A1</td>\n",
       "      <td>0.108434</td>\n",
       "      <td>SLC47A1</td>\n",
       "    </tr>\n",
       "    <tr>\n",
       "      <th>1</th>\n",
       "      <td>ZROHGHOFXNOHSO-BNTLRKBRSA-L</td>\n",
       "      <td>SLC47A1</td>\n",
       "      <td>0.192771</td>\n",
       "      <td>SLC47A1</td>\n",
       "    </tr>\n",
       "    <tr>\n",
       "      <th>2</th>\n",
       "      <td>ZRALSGWEFCBTJO-UHFFFAOYSA-N</td>\n",
       "      <td>SLC47A1</td>\n",
       "      <td>6.939759</td>\n",
       "      <td>SLC47A1</td>\n",
       "    </tr>\n",
       "    <tr>\n",
       "      <th>3</th>\n",
       "      <td>ZPUCINDJVBIVPJ-LJISPDSOSA-N</td>\n",
       "      <td>SLC47A1</td>\n",
       "      <td>0.048193</td>\n",
       "      <td>SLC47A1</td>\n",
       "    </tr>\n",
       "    <tr>\n",
       "      <th>4</th>\n",
       "      <td>ZAIPMKNFIOOWCQ-UEKVPHQBSA-N</td>\n",
       "      <td>SLC47A1</td>\n",
       "      <td>0.012048</td>\n",
       "      <td>SLC47A1</td>\n",
       "    </tr>\n",
       "  </tbody>\n",
       "</table>\n",
       "</div>"
      ],
      "text/plain": [
       "                 Compound_name Gene_name  Mention_score Approved Symbol\n",
       "0  ZZVUWRFHKOJYTH-UHFFFAOYSA-N   SLC47A1       0.108434         SLC47A1\n",
       "1  ZROHGHOFXNOHSO-BNTLRKBRSA-L   SLC47A1       0.192771         SLC47A1\n",
       "2  ZRALSGWEFCBTJO-UHFFFAOYSA-N   SLC47A1       6.939759         SLC47A1\n",
       "3  ZPUCINDJVBIVPJ-LJISPDSOSA-N   SLC47A1       0.048193         SLC47A1\n",
       "4  ZAIPMKNFIOOWCQ-UEKVPHQBSA-N   SLC47A1       0.012048         SLC47A1"
      ]
     },
     "execution_count": 15,
     "metadata": {},
     "output_type": "execute_result"
    }
   ],
   "source": [
    "df_counts.head()"
   ]
  },
  {
   "cell_type": "code",
   "execution_count": 16,
   "metadata": {},
   "outputs": [],
   "source": [
    "# Filter each gene by top 1000 small molecule associations by mention_score\n",
    "df_filtered = df_counts.sort_values(by = ['Approved Symbol', 'Mention_score'], ascending = False)\\\n",
    "    .groupby('Approved Symbol')\\\n",
    "    .head(1000)"
   ]
  },
  {
   "cell_type": "code",
   "execution_count": 17,
   "metadata": {},
   "outputs": [],
   "source": [
    "genes = df_filtered['Approved Symbol'].tolist()\n",
    "compounds = df_filtered['Compound_name'].tolist()\n",
    "\n",
    "id_list = tuple(zip(compounds,genes))\n",
    "genesetlibrary = defaultdict(list)\n",
    "for k,v in id_list:\n",
    "    genesetlibrary[k].append(v)\n",
    "    \n",
    "genesetlibrary = {k:list(set(v)) for k,v in genesetlibrary.items() if len(set(v)) >=5}"
   ]
  },
  {
   "cell_type": "code",
   "execution_count": 18,
   "metadata": {},
   "outputs": [
    {
     "data": {
      "image/png": "[encoded data removed]",
      "text/plain": [
       "<Figure size 432x288 with 1 Axes>"
      ]
     },
     "metadata": {},
     "output_type": "display_data"
    }
   ],
   "source": [
    "%matplotlib inline\n",
    "import matplotlib.pyplot as plt\n",
    "import numpy as np\n",
    "from pylab import figure, text, scatter, show\n",
    "\n",
    "df_setsize = pd.DataFrame(columns = ['Compound','Geneset_size'])\n",
    "drugs = []\n",
    "geneset = []\n",
    "for k,v in genesetlibrary.items():\n",
    "    drugs.append(k)\n",
    "    geneset.append(len(set(v)))\n",
    "df_setsize['Compound'] = drugs\n",
    "df_setsize['Geneset_size'] = geneset\n",
    "\n",
    "plt.figure()\n",
    "plt.hist(df_setsize['Geneset_size'].values, bins=100)\n",
    "plt.xlabel('Geneset size')\n",
    "plt.ylabel('Counts')\n",
    "plt.title('Histogram of geneset size per compoud')\n",
    "plt.yscale('log')\n",
    "plt.axvline(np.mean(df_setsize['Geneset_size']), color='red', label='mean')\n",
    "plt.axvline(np.median(df_setsize['Geneset_size']), color='black', label='median')\n",
    "plt.legend()\n",
    "plt.show()"
   ]
  },
  {
   "cell_type": "markdown",
   "metadata": {},
   "source": [
    "### Creating genesetlibrary with drugs as terms"
   ]
  },
  {
   "cell_type": "code",
   "execution_count": 19,
   "metadata": {},
   "outputs": [],
   "source": [
    "# Converting dictionary into GMT format #\n",
    "GSL = []\n",
    "\n",
    "for term in genesetlibrary.keys():    \n",
    "    genes = genesetlibrary[term]\n",
    "    line = '{0}\\t\\t{1}'.format(term, '\\t'.join(genes))\n",
    "    GSL.append(line)\n",
    "\n",
    "GSL_out = '\\n'.join(GSL)"
   ]
  },
  {
   "cell_type": "code",
   "execution_count": null,
   "metadata": {},
   "outputs": [],
   "source": [
    "# Exporting genesetlibrary as TXT file #\n",
    "dataFile = open('input/geneshot_drug_genesetlibrary.txt', 'w')\n",
    "for eachitem in GSL_out:\n",
    "    dataFile.write(eachitem)\n",
    "dataFile.close()"
   ]
  },
  {
   "cell_type": "markdown",
   "metadata": {},
   "source": [
    "### Creating drugsetlibrary from gene-drug associations collected from Geneshot"
   ]
  },
  {
   "cell_type": "code",
   "execution_count": 20,
   "metadata": {},
   "outputs": [],
   "source": [
    "# Transposing the 'genelist' dictionary where genes are terms and small molecules are set members #\n",
    "# Each value (gene) in the dictionary is a list, therefore we need to separate all list elements as their own term #\n",
    "d = defaultdict(list)\n",
    "for k,v in genesetlibrary.items():\n",
    "    for gene in v:\n",
    "        gene.split(',')\n",
    "        d[gene].append(k)\n",
    "\n",
    "drugsetlibrary = dict(d)"
   ]
  },
  {
   "cell_type": "code",
   "execution_count": 21,
   "metadata": {},
   "outputs": [],
   "source": [
    "# Removing all terms paired with less than 5 drugs #\n",
    "drugsetlibrary = {k:v for k,v in drugsetlibrary.items() if len(v)>=5}"
   ]
  },
  {
   "cell_type": "markdown",
   "metadata": {},
   "source": [
    "### Library counts"
   ]
  },
  {
   "cell_type": "code",
   "execution_count": 22,
   "metadata": {},
   "outputs": [
    {
     "name": "stdout",
     "output_type": "stream",
     "text": [
      "3938 unique drugs\n",
      "7503 unique association terms\n",
      "283625 unique associations\n",
      "37.80154604824737 average drugs per term\n"
     ]
    }
   ],
   "source": [
    "library_counts(drugsetlibrary)"
   ]
  },
  {
   "cell_type": "markdown",
   "metadata": {},
   "source": [
    "### Exporting the drugsetlibrary in DMT format"
   ]
  },
  {
   "cell_type": "code",
   "execution_count": 23,
   "metadata": {},
   "outputs": [],
   "source": [
    "os.chdir('../../data/Geneshot')"
   ]
  },
  {
   "cell_type": "code",
   "execution_count": 24,
   "metadata": {},
   "outputs": [],
   "source": [
    "gmt_formatter(drugsetlibrary, 'Geneshot_associated_drugsetlibrary.gmt')"
   ]
  }
 ],
 "metadata": {
  "kernelspec": {
   "display_name": "Python [conda env:root] *",
   "language": "python",
   "name": "conda-root-py"
  },
  "language_info": {
   "codemirror_mode": {
    "name": "ipython",
    "version": 3
   },
   "file_extension": ".py",
   "mimetype": "text/x-python",
   "name": "python",
   "nbconvert_exporter": "python",
   "pygments_lexer": "ipython3",
   "version": "3.6.5"
  }
 },
 "nbformat": 4,
 "nbformat_minor": 2
}
