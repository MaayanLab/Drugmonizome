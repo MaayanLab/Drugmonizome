{
 "cells": [
  {
   "cell_type": "markdown",
   "metadata": {},
   "source": [
    "## Geneshot Associated Gene Drug-Set Library\n",
    "### Drug-set labels: Genes\n",
    "#### ALL DATABASES ACCESSED 11/01/2019\n",
    "##### Author : Eryk Kropiwnicki | eryk.kropiwnicki@icahn.mssm.edu"
   ]
  },
  {
   "cell_type": "code",
   "execution_count": 1,
   "metadata": {},
   "outputs": [],
   "source": [
    "import csv\n",
    "import time \n",
    "import requests\n",
    "import json\n",
    "from collections import defaultdict\n",
    "import pandas as pd\n",
    "import numpy as np\n",
    "import os"
   ]
  },
  {
   "cell_type": "code",
   "execution_count": 2,
   "metadata": {},
   "outputs": [],
   "source": [
    "os.chdir('../scripts')\n",
    "from export_script import *\n",
    "from gene_resolver import *\n",
    "os.chdir('../Geneshot')"
   ]
  },
  {
   "cell_type": "markdown",
   "metadata": {},
   "source": [
    "#### Input file : drug_metadata.tsv (generated from Drug Metadata Aggregation.ipynb)"
   ]
  },
  {
   "cell_type": "code",
   "execution_count": 3,
   "metadata": {},
   "outputs": [],
   "source": [
    "# Import all small molecules #\n",
    "df = pd.read_csv('../mapping_files/merged_drug_metadata.tsv', sep = '\\t')"
   ]
  },
  {
   "cell_type": "code",
   "execution_count": 4,
   "metadata": {},
   "outputs": [
    {
     "data": {
      "text/html": [
       "<div>\n",
       "<style scoped>\n",
       "    .dataframe tbody tr th:only-of-type {\n",
       "        vertical-align: middle;\n",
       "    }\n",
       "\n",
       "    .dataframe tbody tr th {\n",
       "        vertical-align: top;\n",
       "    }\n",
       "\n",
       "    .dataframe thead th {\n",
       "        text-align: right;\n",
       "    }\n",
       "</style>\n",
       "<table border=\"1\" class=\"dataframe\">\n",
       "  <thead>\n",
       "    <tr style=\"text-align: right;\">\n",
       "      <th></th>\n",
       "      <th>Drug_name</th>\n",
       "      <th>PubChemID</th>\n",
       "      <th>Synonyms</th>\n",
       "      <th>Canonical_SMILES</th>\n",
       "      <th>InChiKey</th>\n",
       "      <th>Molecular_formula</th>\n",
       "    </tr>\n",
       "  </thead>\n",
       "  <tbody>\n",
       "    <tr>\n",
       "      <th>0</th>\n",
       "      <td>goserelin</td>\n",
       "      <td>5311128</td>\n",
       "      <td>['goserelin', 'goserelin acetate', 'zoladex', ...</td>\n",
       "      <td>CC(C)CC(C(=O)NC(CCCN=C(N)N)C(=O)N1CCCC1C(=O)NN...</td>\n",
       "      <td>BLCLNMBMMGCOAS-URPVMXJPSA-N</td>\n",
       "      <td>C59H84N18O14</td>\n",
       "    </tr>\n",
       "    <tr>\n",
       "      <th>1</th>\n",
       "      <td>cetrorelix</td>\n",
       "      <td>25074887</td>\n",
       "      <td>['cetrorelix', '120287-85-6', 'cetrorelix acet...</td>\n",
       "      <td>CC(C)CC(C(=O)NC(CCCN=C(N)N)C(=O)N1CCCC1C(=O)NC...</td>\n",
       "      <td>SBNPWPIBESPSIF-MHWMIDJBSA-N</td>\n",
       "      <td>C70H92ClN17O14</td>\n",
       "    </tr>\n",
       "    <tr>\n",
       "      <th>2</th>\n",
       "      <td>ciclosporin</td>\n",
       "      <td>5284373</td>\n",
       "      <td>['cyclosporin a', 'cyclosporine', 'ciclosporin...</td>\n",
       "      <td>CCC1C(=O)N(CC(=O)N(C(C(=O)NC(C(=O)N(C(C(=O)NC(...</td>\n",
       "      <td>PMATZTZNYRCHOR-CGLBZJNRSA-N</td>\n",
       "      <td>C62H111N11O12</td>\n",
       "    </tr>\n",
       "    <tr>\n",
       "      <th>3</th>\n",
       "      <td>octreotide</td>\n",
       "      <td>448601</td>\n",
       "      <td>['octreotide', 'octreotide acetate', '83150-76...</td>\n",
       "      <td>CC(C1C(=O)NC(CSSCC(C(=O)NC(C(=O)NC(C(=O)NC(C(=...</td>\n",
       "      <td>DEQANNDTNATYII-OULOTJBUSA-N</td>\n",
       "      <td>C49H66N10O10S2</td>\n",
       "    </tr>\n",
       "    <tr>\n",
       "      <th>4</th>\n",
       "      <td>choline</td>\n",
       "      <td>305</td>\n",
       "      <td>['choline', 'choline ion', 'bilineurine', 'cho...</td>\n",
       "      <td>C[N+](C)(C)CCO</td>\n",
       "      <td>OEYIOHPDSNJKLS-UHFFFAOYSA-N</td>\n",
       "      <td>C5H14NO+</td>\n",
       "    </tr>\n",
       "  </tbody>\n",
       "</table>\n",
       "</div>"
      ],
      "text/plain": [
       "     Drug_name  PubChemID                                           Synonyms  \\\n",
       "0    goserelin    5311128  ['goserelin', 'goserelin acetate', 'zoladex', ...   \n",
       "1   cetrorelix   25074887  ['cetrorelix', '120287-85-6', 'cetrorelix acet...   \n",
       "2  ciclosporin    5284373  ['cyclosporin a', 'cyclosporine', 'ciclosporin...   \n",
       "3   octreotide     448601  ['octreotide', 'octreotide acetate', '83150-76...   \n",
       "4      choline        305  ['choline', 'choline ion', 'bilineurine', 'cho...   \n",
       "\n",
       "                                    Canonical_SMILES  \\\n",
       "0  CC(C)CC(C(=O)NC(CCCN=C(N)N)C(=O)N1CCCC1C(=O)NN...   \n",
       "1  CC(C)CC(C(=O)NC(CCCN=C(N)N)C(=O)N1CCCC1C(=O)NC...   \n",
       "2  CCC1C(=O)N(CC(=O)N(C(C(=O)NC(C(=O)N(C(C(=O)NC(...   \n",
       "3  CC(C1C(=O)NC(CSSCC(C(=O)NC(C(=O)NC(C(=O)NC(C(=...   \n",
       "4                                     C[N+](C)(C)CCO   \n",
       "\n",
       "                      InChiKey Molecular_formula  \n",
       "0  BLCLNMBMMGCOAS-URPVMXJPSA-N      C59H84N18O14  \n",
       "1  SBNPWPIBESPSIF-MHWMIDJBSA-N    C70H92ClN17O14  \n",
       "2  PMATZTZNYRCHOR-CGLBZJNRSA-N     C62H111N11O12  \n",
       "3  DEQANNDTNATYII-OULOTJBUSA-N    C49H66N10O10S2  \n",
       "4  OEYIOHPDSNJKLS-UHFFFAOYSA-N          C5H14NO+  "
      ]
     },
     "execution_count": 4,
     "metadata": {},
     "output_type": "execute_result"
    }
   ],
   "source": [
    "df.head()"
   ]
  },
  {
   "cell_type": "code",
   "execution_count": 5,
   "metadata": {},
   "outputs": [],
   "source": [
    "smallmolecules = df['Drug_name'].tolist()"
   ]
  },
  {
   "cell_type": "code",
   "execution_count": 6,
   "metadata": {},
   "outputs": [
    {
     "data": {
      "text/plain": [
       "43945"
      ]
     },
     "execution_count": 6,
     "metadata": {},
     "output_type": "execute_result"
    }
   ],
   "source": [
    "len(smallmolecules)"
   ]
  },
  {
   "cell_type": "markdown",
   "metadata": {},
   "source": [
    "### Querying Small Molecule Names Through Geneshot\n",
    "#### PLATFORM : https://amp.pharm.mssm.edu/geneshot"
   ]
  },
  {
   "cell_type": "code",
   "execution_count": 8,
   "metadata": {},
   "outputs": [],
   "source": [
    "# Queries a drug list through the Geneshot API to retrieve gene terms associated with each drug\n",
    "# and saves the results as a json in the input folder\n",
    "\n",
    "feeds = []\n",
    "with open('input/geneset_autorif.json','a') as outfile:\n",
    "    for entry in smallmolecules:\n",
    "        response = requests.get('https://amp.pharm.mssm.edu/geneshot/api/search/auto/' + entry)\n",
    "        try:\n",
    "            response.json()\n",
    "            data = response.json()\n",
    "        except ValueError:\n",
    "            pass\n",
    "        feeds.append(data)\n",
    "        time.sleep(0.50)\n",
    "    json.dump(feeds,outfile,indent = 4)        \n",
    "    outfile.close()"
   ]
  },
  {
   "cell_type": "markdown",
   "metadata": {},
   "source": [
    "### Creating geneset library from drug-gene associations collected from Geneshot"
   ]
  },
  {
   "cell_type": "code",
   "execution_count": 52,
   "metadata": {},
   "outputs": [],
   "source": [
    "# Creating a dictionary where small molecules are terms and genes are set members #\n",
    "df_counts = pd.DataFrame()\n",
    "gene_list = []\n",
    "compound_list = []\n",
    "total_mentions = []\n",
    "normalized_mentions = []\n",
    "\n",
    "with open ('input/geneset_autorif.json') as data_file:\n",
    "    data = json.load(data_file)\n",
    "\n",
    "for item in data:\n",
    "    genes = (item[\"gene_count\"])\n",
    "    compound = (item[\"search_term\"]).lower()\n",
    "    for gene in genes:\n",
    "        #if genes[gene][0] > 5:\n",
    "        gene_list.append(gene)\n",
    "        compound_list.append(compound)\n",
    "        total_mentions.append(genes[gene][0])\n",
    "        normalized_mentions.append(genes[gene][1])\n",
    "\n",
    "df_counts['Compound_name'] = compound_list\n",
    "df_counts['Gene'] = gene_list\n",
    "df_counts['Total_mentions'] = total_mentions\n",
    "df_counts['Normalized_mentions'] = normalized_mentions"
   ]
  },
  {
   "cell_type": "code",
   "execution_count": 53,
   "metadata": {},
   "outputs": [
    {
     "name": "stdout",
     "output_type": "stream",
     "text": [
      "19.72057647457125\n",
      "2.0\n"
     ]
    }
   ],
   "source": [
    "print(df_counts['Total_mentions'].mean())\n",
    "print(df_counts['Total_mentions'].median())"
   ]
  },
  {
   "cell_type": "code",
   "execution_count": 54,
   "metadata": {},
   "outputs": [
    {
     "name": "stdout",
     "output_type": "stream",
     "text": [
      "0.11665613584652752\n",
      "0.05136138613861386\n"
     ]
    }
   ],
   "source": [
    "print(df_counts['Normalized_mentions'].mean())\n",
    "print(df_counts['Normalized_mentions'].median())"
   ]
  },
  {
   "cell_type": "code",
   "execution_count": 55,
   "metadata": {},
   "outputs": [
    {
     "data": {
      "text/plain": [
       "12466"
      ]
     },
     "execution_count": 55,
     "metadata": {},
     "output_type": "execute_result"
    }
   ],
   "source": [
    "len(set(df_counts['Compound_name']))"
   ]
  },
  {
   "cell_type": "code",
   "execution_count": 58,
   "metadata": {},
   "outputs": [],
   "source": [
    "df_counts.to_csv('/Users/maayanlab/Desktop/geneshot_drug_gene_mentions.tsv', sep = '\\t', index = False)"
   ]
  },
  {
   "cell_type": "code",
   "execution_count": 28,
   "metadata": {},
   "outputs": [],
   "source": [
    "# Creating a dictionary where small molecules are terms and genes are set members #\n",
    "genelist = {}\n",
    "\n",
    "with open ('input/geneset_autorif.json') as data_file:\n",
    "    data = json.load(data_file)\n",
    "\n",
    "for item in data:\n",
    "    genes = (item[\"gene_count\"])\n",
    "    genes = [key for key in genes.keys()]\n",
    "    genes = genes[:50]\n",
    "    compound = (item[\"search_term\"]).lower()\n",
    "    genelist[compound] = []\n",
    "    genelist[compound].extend(genes)\n",
    "\n",
    "genelist = {k:v for k,v in genelist.items() if v}"
   ]
  },
  {
   "cell_type": "markdown",
   "metadata": {},
   "source": [
    "### Validating gene names"
   ]
  },
  {
   "cell_type": "code",
   "execution_count": 29,
   "metadata": {},
   "outputs": [],
   "source": [
    "# Importing approved symbol table\n",
    "df_lookup = pd.read_csv('input/Homo_sapiens.gene_info', delimiter = '\\t')\n",
    "approved_symbols = df_lookup['Symbol'].tolist()\n",
    "\n",
    "# Gene synonym lookup\n",
    "with open('input/gene_symbol_lookup.json', 'r') as f:\n",
    "    synonym_lookup = json.load(f)"
   ]
  },
  {
   "cell_type": "code",
   "execution_count": 30,
   "metadata": {},
   "outputs": [],
   "source": [
    "# Confirming all gene names in dictionary are valid\n",
    "genelist = {k : [synonym_lookup.get(x,x) for x in v] for k,v in genelist.items()} # Matching synonyms with approved symbols\n",
    "genelist = {k: list(set(v) & set(approved_symbols)) for k,v in genelist.items()} # Removing unmatched/unapproved symbols"
   ]
  },
  {
   "cell_type": "markdown",
   "metadata": {},
   "source": [
    "### Creating genesetlibrary with drugs as terms"
   ]
  },
  {
   "cell_type": "code",
   "execution_count": 31,
   "metadata": {},
   "outputs": [],
   "source": [
    "# Converting dictionary into GMT format #\n",
    "GSL = []\n",
    "\n",
    "for term in genelist.keys():    \n",
    "    genes = genelist[term]\n",
    "    line = '{0}\\t\\t{1}'.format(term, '\\t'.join(genes))\n",
    "    GSL.append(line)\n",
    "\n",
    "GSL_out = '\\n'.join(GSL)"
   ]
  },
  {
   "cell_type": "code",
   "execution_count": 32,
   "metadata": {},
   "outputs": [],
   "source": [
    "# Exporting Drugbank Experimental Drug Geneset library as TXT file #\n",
    "dataFile = open('input/geneshot_drug_genesetlibrary.txt', 'w')\n",
    "for eachitem in GSL_out:\n",
    "    dataFile.write(eachitem)\n",
    "dataFile.close()"
   ]
  },
  {
   "cell_type": "markdown",
   "metadata": {},
   "source": [
    "### Creating drugsetlibrary from gene-drug associations collected from Geneshot"
   ]
  },
  {
   "cell_type": "code",
   "execution_count": 33,
   "metadata": {},
   "outputs": [],
   "source": [
    "# Transposing the 'genelist' dictionary where genes are terms and small molecules are set members #\n",
    "# Each value (gene) in the dictionary is a list, therefore we need to separate all list elements as their own term #\n",
    "d = defaultdict(list)\n",
    "for k,v in genelist.items():\n",
    "    for gene in v:\n",
    "        gene.split(',')\n",
    "        d[gene].append(k)\n",
    "\n",
    "drugsetlibrary = dict(d)"
   ]
  },
  {
   "cell_type": "code",
   "execution_count": 34,
   "metadata": {},
   "outputs": [
    {
     "data": {
      "text/plain": [
       "8235"
      ]
     },
     "execution_count": 34,
     "metadata": {},
     "output_type": "execute_result"
    }
   ],
   "source": [
    "len(drugsetlibrary)"
   ]
  },
  {
   "cell_type": "code",
   "execution_count": 35,
   "metadata": {},
   "outputs": [],
   "source": [
    "# Removing all terms paired with less than 5 drugs #\n",
    "drugsetlibrary = {k:v for k,v in drugsetlibrary.items() if len(v)>=5}"
   ]
  },
  {
   "cell_type": "code",
   "execution_count": 36,
   "metadata": {},
   "outputs": [
    {
     "data": {
      "text/plain": [
       "4145"
      ]
     },
     "execution_count": 36,
     "metadata": {},
     "output_type": "execute_result"
    }
   ],
   "source": [
    "len(drugsetlibrary)"
   ]
  },
  {
   "cell_type": "markdown",
   "metadata": {},
   "source": [
    "### Library counts"
   ]
  },
  {
   "cell_type": "code",
   "execution_count": 37,
   "metadata": {},
   "outputs": [
    {
     "name": "stdout",
     "output_type": "stream",
     "text": [
      "12386 unique drugs\n",
      "4145 unique association terms\n",
      "273468 unique associations\n",
      "65.97539203860072 average drugs per term\n"
     ]
    }
   ],
   "source": [
    "library_counts(drugsetlibrary)"
   ]
  },
  {
   "cell_type": "markdown",
   "metadata": {},
   "source": [
    "### Exporting the drugsetlibrary in DMT format"
   ]
  },
  {
   "cell_type": "code",
   "execution_count": 38,
   "metadata": {},
   "outputs": [],
   "source": [
    "gmt_formatter(drugsetlibrary, '../data/Geneshot/Geneshot_associated_drugsetlibrary.txt')"
   ]
  }
 ],
 "metadata": {
  "kernelspec": {
   "display_name": "Python [conda env:root] *",
   "language": "python",
   "name": "conda-root-py"
  },
  "language_info": {
   "codemirror_mode": {
    "name": "ipython",
    "version": 3
   },
   "file_extension": ".py",
   "mimetype": "text/x-python",
   "name": "python",
   "nbconvert_exporter": "python",
   "pygments_lexer": "ipython3",
   "version": "3.6.5"
  }
 },
 "nbformat": 4,
 "nbformat_minor": 2
}
