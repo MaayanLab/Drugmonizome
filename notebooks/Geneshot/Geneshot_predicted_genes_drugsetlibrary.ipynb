{
 "cells": [
  {
   "cell_type": "markdown",
   "metadata": {},
   "source": [
    "## Geneshot Predicted Gene Drug-Set Library\n",
    "### Drug-set labels: Genes\n",
    "#### ALL DATABASES ACCESSED 04/2020\n",
    "##### Author : Eryk Kropiwnicki | eryk.kropiwnicki@icahn.mssm.edu"
   ]
  },
  {
   "cell_type": "code",
   "execution_count": 1,
   "metadata": {},
   "outputs": [],
   "source": [
    "import csv\n",
    "import time \n",
    "import requests\n",
    "import json\n",
    "from collections import defaultdict\n",
    "import pandas as pd\n",
    "import numpy as np\n",
    "import os"
   ]
  },
  {
   "cell_type": "code",
   "execution_count": 2,
   "metadata": {},
   "outputs": [],
   "source": [
    "os.chdir('../../scripts')\n",
    "from export_script import *\n",
    "from gene_resolver import *\n",
    "os.chdir('../notebooks/Geneshot')"
   ]
  },
  {
   "cell_type": "markdown",
   "metadata": {},
   "source": [
    "#### Input file : geneshot_drug_genesetlibrary.txt (generated from Geneshot Associated Gene Drugsetlibrary.ipynb)"
   ]
  },
  {
   "cell_type": "code",
   "execution_count": 3,
   "metadata": {},
   "outputs": [],
   "source": [
    "with open('input/geneshot_drug_genesetlibrary.txt', 'r') as f:\n",
    "    reader = csv.reader(f, delimiter = '\\t')\n",
    "    # Formatting dictionary values to be compatible with Geneshot API\n",
    "    genedict = {str(row[0]):(','.join([str(g)for g in row[2:]if g != ''])) for row in reader}"
   ]
  },
  {
   "cell_type": "code",
   "execution_count": 4,
   "metadata": {},
   "outputs": [
    {
     "data": {
      "text/plain": [
       "3938"
      ]
     },
     "execution_count": 4,
     "metadata": {},
     "output_type": "execute_result"
    }
   ],
   "source": [
    "len(genedict)"
   ]
  },
  {
   "cell_type": "code",
   "execution_count": 5,
   "metadata": {},
   "outputs": [],
   "source": [
    "# List of all drugs\n",
    "drugs = []\n",
    "for k,v in genedict.items():\n",
    "    drugs.append(k)"
   ]
  },
  {
   "cell_type": "markdown",
   "metadata": {},
   "source": [
    "### Querying each small molecule genelist through Geneshot API"
   ]
  },
  {
   "cell_type": "code",
   "execution_count": 6,
   "metadata": {},
   "outputs": [],
   "source": [
    "GENESHOT_URL = 'http://amp.pharm.mssm.edu/geneshot/api'\n",
    "query_string = '/associate/%s/%s'\n",
    "similarity_matrix = ['autorif','enrichr','generif','tagger','coexpression']"
   ]
  },
  {
   "cell_type": "code",
   "execution_count": null,
   "metadata": {},
   "outputs": [],
   "source": [
    "for matrix in similarity_matrix:\n",
    "    feeds = []\n",
    "    with open(\"input/\"+matrix+\"_predicted_genes.json\", \"w\") as outfile:\n",
    "        for drug, genelist in genedict.items():\n",
    "            response = requests.get(\n",
    "                GENESHOT_URL + query_string % (matrix,genelist)\n",
    "            )\n",
    "            data = response.json()\n",
    "            data[drug] = data.pop(\"association\")\n",
    "            feeds.append(data)\n",
    "            time.sleep(0.5)\n",
    "        json.dump(feeds, outfile, indent = 4)\n",
    "        outfile.close()"
   ]
  },
  {
   "cell_type": "markdown",
   "metadata": {},
   "source": [
    "### Creating drugsetlibraries for each similarity matrix query"
   ]
  },
  {
   "cell_type": "code",
   "execution_count": 9,
   "metadata": {},
   "outputs": [],
   "source": [
    "# Function for converting each json file into drugsetlibrary\n",
    "\n",
    "def drugsetlibrary_converter(similarity_matrix):\n",
    "    with open ('input/'+similarity_matrix+'_predicted_genes.json') as data_file:\n",
    "        data = json.load(data_file)\n",
    "    \n",
    "    # Iterate through json object and retrieve compounds matched to genes and similarity scores\n",
    "    df = pd.DataFrame()\n",
    "\n",
    "    simscores = []\n",
    "    drug_list = []\n",
    "    gene_list = []\n",
    "\n",
    "    for drug in drugs:\n",
    "        for item in data:\n",
    "            if drug in item:\n",
    "                for gene in item[drug]:\n",
    "                    simscores.append((item[drug][gene][\"simScore\"]))\n",
    "                    drug_list.append(drug)\n",
    "                    gene_list.append(gene)\n",
    "\n",
    "    df['Compound'] = drug_list \n",
    "    df['Gene_name'] = gene_list\n",
    "    df['Similarity_score'] = simscores\n",
    "    \n",
    "    # Retrieve approved symbols for all genes\n",
    "    unique_genes = list(set(df['Gene_name'].tolist()))\n",
    "\n",
    "    approved_symbols = gene_resolver(unique_genes,fmt='list') # resolve genes using gene_resolver script\n",
    "    \n",
    "    df = df.merge(approved_symbols) # merge approved symbols back onto main dataframe\n",
    "    \n",
    "    # Filter each gene by top 1000 small molecule associations by similarity score\n",
    "    df_filtered = df.sort_values(by = ['Approved Symbol', 'Similarity_score'], ascending = False)\\\n",
    "        .groupby('Approved Symbol')\\\n",
    "        .head(1000)\n",
    "    \n",
    "    # Create drugsetlibrary\n",
    "    genes = df_filtered['Approved Symbol'].tolist()\n",
    "    compounds = df_filtered['Compound'].tolist()\n",
    "\n",
    "    id_list = tuple(zip(genes,compounds))\n",
    "    drugsetlibrary = defaultdict(list)\n",
    "    for k,v in id_list:\n",
    "        drugsetlibrary[k].append(v)\n",
    "\n",
    "    drugsetlibrary = {k:list(set(v)) for k,v in drugsetlibrary.items() if len(set(v)) >=5}\n",
    "    \n",
    "    # Creating histogram of drug-set sizes\n",
    "    %matplotlib inline\n",
    "    import matplotlib.pyplot as plt\n",
    "    import numpy as np\n",
    "    from pylab import figure, text, scatter, show\n",
    "\n",
    "    df_setsize = pd.DataFrame(columns = ['Gene','Drugset_size'])\n",
    "    genes = []\n",
    "    drugset = []\n",
    "    for k,v in drugsetlibrary.items():\n",
    "        genes.append(k)\n",
    "        drugset.append(len(set(v)))\n",
    "    df_setsize['Gene'] = genes\n",
    "    df_setsize['Drugset_size'] = drugset\n",
    "\n",
    "    plt.figure()\n",
    "    plt.hist(df_setsize['Drugset_size'].values, bins=100)\n",
    "    plt.xlabel('Drugset size')\n",
    "    plt.ylabel('Counts')\n",
    "    plt.title('Histogram of drugset size per gene')\n",
    "    plt.yscale('log')\n",
    "    plt.axvline(np.mean(df_setsize['Drugset_size']), color='red', label='mean')\n",
    "    plt.axvline(np.median(df_setsize['Drugset_size']), color='black', label='median')\n",
    "    plt.legend()\n",
    "    plt.show()\n",
    "        \n",
    "    \n",
    "    # Printing library counts\n",
    "    print(similarity_matrix)\n",
    "    library_counts(drugsetlibrary)\n",
    "    \n",
    "    # Exporting drugsetlibrary \n",
    "    gmt_formatter(drugsetlibrary, '../../data/Geneshot/Geneshot_predicted_'+similarity_matrix+'_drugsetlibrary.gmt')"
   ]
  },
  {
   "cell_type": "code",
   "execution_count": 10,
   "metadata": {},
   "outputs": [
    {
     "data": {
      "image/png": "[encoded data removed]",
      "text/plain": [
       "<Figure size 432x288 with 1 Axes>"
      ]
     },
     "metadata": {},
     "output_type": "display_data"
    },
    {
     "name": "stdout",
     "output_type": "stream",
     "text": [
      "autorif\n",
      "3938 unique drugs\n",
      "11695 unique association terms\n",
      "772329 unique associations\n",
      "66.03924754168447 average drugs per term\n"
     ]
    },
    {
     "data": {
      "image/png": "[encoded data removed]",
      "text/plain": [
       "<Figure size 432x288 with 1 Axes>"
      ]
     },
     "metadata": {},
     "output_type": "display_data"
    },
    {
     "name": "stdout",
     "output_type": "stream",
     "text": [
      "enrichr\n",
      "3938 unique drugs\n",
      "11845 unique association terms\n",
      "734799 unique associations\n",
      "62.03452933727311 average drugs per term\n"
     ]
    },
    {
     "data": {
      "image/png": "[encoded data removed]",
      "text/plain": [
       "<Figure size 432x288 with 1 Axes>"
      ]
     },
     "metadata": {},
     "output_type": "display_data"
    },
    {
     "name": "stdout",
     "output_type": "stream",
     "text": [
      "generif\n",
      "3938 unique drugs\n",
      "9193 unique association terms\n",
      "723077 unique associations\n",
      "78.65517241379311 average drugs per term\n"
     ]
    },
    {
     "data": {
      "image/png": "[encoded data removed]",
      "text/plain": [
       "<Figure size 432x288 with 1 Axes>"
      ]
     },
     "metadata": {},
     "output_type": "display_data"
    },
    {
     "name": "stdout",
     "output_type": "stream",
     "text": [
      "tagger\n",
      "3938 unique drugs\n",
      "13882 unique association terms\n",
      "771849 unique associations\n",
      "55.60070595015127 average drugs per term\n"
     ]
    },
    {
     "data": {
      "image/png": "[encoded data removed]",
      "text/plain": [
       "<Figure size 432x288 with 1 Axes>"
      ]
     },
     "metadata": {},
     "output_type": "display_data"
    },
    {
     "name": "stdout",
     "output_type": "stream",
     "text": [
      "coexpression\n",
      "3938 unique drugs\n",
      "9087 unique association terms\n",
      "717497 unique associations\n",
      "78.95862220754924 average drugs per term\n"
     ]
    }
   ],
   "source": [
    "for term in similarity_matrix:\n",
    "    drugsetlibrary_converter(term)"
   ]
  }
 ],
 "metadata": {
  "kernelspec": {
   "display_name": "Python 3",
   "language": "python",
   "name": "python3"
  },
  "language_info": {
   "codemirror_mode": {
    "name": "ipython",
    "version": 3
   },
   "file_extension": ".py",
   "mimetype": "text/x-python",
   "name": "python",
   "nbconvert_exporter": "python",
   "pygments_lexer": "ipython3",
   "version": "3.6.5"
  }
 },
 "nbformat": 4,
 "nbformat_minor": 2
}
