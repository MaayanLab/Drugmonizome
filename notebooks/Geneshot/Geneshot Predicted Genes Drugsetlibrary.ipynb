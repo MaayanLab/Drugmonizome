{
 "cells": [
  {
   "cell_type": "markdown",
   "metadata": {},
   "source": [
    "## Geneshot Predicted Gene Drug-Set Library\n",
    "### Drug-set labels: Genes\n",
    "#### ALL DATABASES ACCESSED 11/2019\n",
    "##### Author : Eryk Kropiwnicki | eryk.kropiwnicki@icahn.mssm.edu"
   ]
  },
  {
   "cell_type": "code",
   "execution_count": 1,
   "metadata": {},
   "outputs": [],
   "source": [
    "import csv\n",
    "import time \n",
    "import requests\n",
    "import json\n",
    "from collections import defaultdict\n",
    "import pandas as pd\n",
    "import numpy as np\n",
    "import os"
   ]
  },
  {
   "cell_type": "code",
   "execution_count": 2,
   "metadata": {},
   "outputs": [],
   "source": [
    "os.chdir('../scripts')\n",
    "from export_script import *\n",
    "from gene_resolver import *\n",
    "os.chdir('../Geneshot')"
   ]
  },
  {
   "cell_type": "markdown",
   "metadata": {},
   "source": [
    "#### Input file : geneshot_drug_genesetlibrary.txt (generated from Geneshot Associated Gene Drugsetlibrary.ipynb)"
   ]
  },
  {
   "cell_type": "code",
   "execution_count": 3,
   "metadata": {},
   "outputs": [],
   "source": [
    "with open('input/geneshot_drug_genesetlibrary.txt', 'r') as f:\n",
    "    reader = csv.reader(f, delimiter = '\\t')\n",
    "    # Formatting dictionary values to be compatible with Geneshot API\n",
    "    genedict = {str(row[0]):(','.join([str(g)for g in row[2:]if g != ''])) for row in reader}"
   ]
  },
  {
   "cell_type": "code",
   "execution_count": 4,
   "metadata": {},
   "outputs": [
    {
     "data": {
      "text/plain": [
       "12421"
      ]
     },
     "execution_count": 4,
     "metadata": {},
     "output_type": "execute_result"
    }
   ],
   "source": [
    "len(genedict)"
   ]
  },
  {
   "cell_type": "code",
   "execution_count": 5,
   "metadata": {},
   "outputs": [],
   "source": [
    "# List of all drugs\n",
    "drugs = []\n",
    "for k,v in genedict.items():\n",
    "    drugs.append(k)"
   ]
  },
  {
   "cell_type": "markdown",
   "metadata": {},
   "source": [
    "### Querying each small molecule genelist through Geneshot API"
   ]
  },
  {
   "cell_type": "code",
   "execution_count": 6,
   "metadata": {},
   "outputs": [],
   "source": [
    "GENESHOT_URL = 'http://amp.pharm.mssm.edu/geneshot/api'\n",
    "query_string = '/associate/%s/%s'\n",
    "similarity_matrix = ['autorif','enrichr','generif','tagger','coexpression']"
   ]
  },
  {
   "cell_type": "code",
   "execution_count": 8,
   "metadata": {},
   "outputs": [],
   "source": [
    "for matrix in similarity_matrix:\n",
    "    feeds = []\n",
    "    with open(\"input/\"+query+\"_predicted_genes.json\", \"w\") as outfile:\n",
    "        for drug, genelist in genedict.items():\n",
    "            response = requests.get(\n",
    "                GENESHOT_URL + query_string % (matrix,genelist)\n",
    "            )\n",
    "            data = response.json()\n",
    "            data[drug] = data.pop(\"association\")\n",
    "            feeds.append(data)\n",
    "            time.sleep(2)\n",
    "        json.dump(feeds, outfile, indent = 4)\n",
    "        outfile.close()"
   ]
  },
  {
   "cell_type": "markdown",
   "metadata": {},
   "source": [
    "### Creating drugsetlibraries for each similarity matrix query"
   ]
  },
  {
   "cell_type": "code",
   "execution_count": 9,
   "metadata": {},
   "outputs": [],
   "source": [
    "# Importing synonym lookup dict and approved gene symbol list\n",
    "df_lookup = pd.read_csv('input/Homo_sapiens.gene_info', delimiter = '\\t')\n",
    "approved_symbols = df_lookup['Symbol'].tolist()\n",
    "\n",
    "with open('input/gene_symbol_lookup.json', 'r') as f:\n",
    "    synonym_lookup = json.load(f)"
   ]
  },
  {
   "cell_type": "code",
   "execution_count": 10,
   "metadata": {},
   "outputs": [],
   "source": [
    "# Function for converting each json file into drugsetlibrary\n",
    "\n",
    "def drugsetlibrary_converter(similarity_matrix):\n",
    "    with open ('input/'+similarity_matrix+'_predicted_genes.json') as data_file:\n",
    "        data = json.load(data_file)\n",
    "        \n",
    "    # Creating genesetlibrary out of input json file\n",
    "    genesetlibrary = {}\n",
    "    for drug in drugs:\n",
    "        for item in data:\n",
    "            if drug in item:\n",
    "                genelist = []\n",
    "                for gene in item[drug]:\n",
    "                    genelist.append(gene)\n",
    "        genesetlibrary[drug] = genelist[:50]\n",
    "        \n",
    "    # Validating gene names\n",
    "        \n",
    "    genesetlibrary = {k : [synonym_lookup.get(x,x) for x in v] for k,v in genesetlibrary.items()} # Matching synonyms with approved symbols\n",
    "    genesetlibrary = {k: list(set(v) & set(approved_symbols)) for k,v in genesetlibrary.items()} # Removing unmatched/unapproved symbols\n",
    "   \n",
    "    # Transposing the genesetlibrary into a drugsetlibrary\n",
    "    d = defaultdict(list)\n",
    "    for k,v in genesetlibrary.items():\n",
    "        for gene in v:\n",
    "            gene.split(',')\n",
    "            d[gene].append(k)\n",
    "\n",
    "    drugsetlibrary = dict(d)\n",
    "    drugsetlibrary = {k:v for k,v in drugsetlibrary.items() if len(v)>=5} # Removing all terms paired with less than 5 drugs\n",
    "    \n",
    "    # Printing library counts\n",
    "    print(similarity_matrix)\n",
    "    library_counts(drugsetlibrary)\n",
    "    \n",
    "    # Exporting drugsetlibrary \n",
    "    gmt_formatter(drugsetlibrary, '../data/Geneshot/Geneshot_predicted_'+similarity_matrix+'_drugsetlibrary.txt')"
   ]
  },
  {
   "cell_type": "code",
   "execution_count": 11,
   "metadata": {},
   "outputs": [
    {
     "name": "stdout",
     "output_type": "stream",
     "text": [
      "autorif\n",
      "12421 unique drugs\n",
      "11556 unique association terms\n",
      "613342 unique associations\n",
      "53.07563170647283 average drugs per term\n",
      "enrichr\n",
      "12421 unique drugs\n",
      "7348 unique association terms\n",
      "557068 unique associations\n",
      "75.81219379422973 average drugs per term\n",
      "generif\n",
      "12421 unique drugs\n",
      "8406 unique association terms\n",
      "600675 unique associations\n",
      "71.45788722341184 average drugs per term\n",
      "tagger\n",
      "12421 unique drugs\n",
      "13279 unique association terms\n",
      "606470 unique associations\n",
      "45.6713607952406 average drugs per term\n",
      "coexpression\n",
      "12421 unique drugs\n",
      "8837 unique association terms\n",
      "591984 unique associations\n",
      "66.9892497453887 average drugs per term\n"
     ]
    }
   ],
   "source": [
    "for term in similarity_matrix:\n",
    "    drugsetlibrary_converter(term)"
   ]
  }
 ],
 "metadata": {
  "kernelspec": {
   "display_name": "Python 3",
   "language": "python",
   "name": "python3"
  },
  "language_info": {
   "codemirror_mode": {
    "name": "ipython",
    "version": 3
   },
   "file_extension": ".py",
   "mimetype": "text/x-python",
   "name": "python",
   "nbconvert_exporter": "python",
   "pygments_lexer": "ipython3",
   "version": "3.6.5"
  }
 },
 "nbformat": 4,
 "nbformat_minor": 2
}
