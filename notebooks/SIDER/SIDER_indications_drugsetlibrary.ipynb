{
 "cells": [
  {
   "cell_type": "markdown",
   "metadata": {},
   "source": [
    "## SIDER Indications Drug-Set Library\n",
    "### Drug-set labels: Indications\n",
    "#### ALL DATABASES ACCESSED 01/2020\n",
    "##### Author : Eryk Kropiwnicki | eryk.kropiwnicki@icahn.mssm.edu"
   ]
  },
  {
   "cell_type": "code",
   "execution_count": 1,
   "metadata": {},
   "outputs": [],
   "source": [
    "import json\n",
    "import pandas as pd\n",
    "import requests\n",
    "import time\n",
    "from collections import defaultdict\n",
    "import os"
   ]
  },
  {
   "cell_type": "code",
   "execution_count": 2,
   "metadata": {},
   "outputs": [],
   "source": [
    "os.chdir('../../scripts')\n",
    "from export_script import *\n",
    "os.chdir('../notebooks/SIDER')"
   ]
  },
  {
   "cell_type": "markdown",
   "metadata": {},
   "source": [
    "### Importing SIDER Drugs and Indications\n",
    "#### Input Files : meddra_all_indications.tsv (http://sideeffects.embl.de/download/)"
   ]
  },
  {
   "cell_type": "code",
   "execution_count": 3,
   "metadata": {},
   "outputs": [],
   "source": [
    "# Import all STITCH compound IDs and matched indications #\n",
    "df_data = pd.read_csv('input/meddra_all_indications.tsv', delimiter = '\\t', names = ['STITCH_ID_FLAT',\n",
    "                                                                      'UMLS_ID_Label', 'Detection_Method',\n",
    "                                                                        'MedDRA_Concept_Name','MedDRA_Concept_Type',\n",
    "                                                                        'UMLS_ID_MedDRA','Indication'])\n",
    "df_data['Indication'] = df_data['Indication'].str.lower()\n",
    "df_data = df_data.dropna()"
   ]
  },
  {
   "cell_type": "code",
   "execution_count": 4,
   "metadata": {},
   "outputs": [
    {
     "data": {
      "text/html": [
       "<div>\n",
       "<style scoped>\n",
       "    .dataframe tbody tr th:only-of-type {\n",
       "        vertical-align: middle;\n",
       "    }\n",
       "\n",
       "    .dataframe tbody tr th {\n",
       "        vertical-align: top;\n",
       "    }\n",
       "\n",
       "    .dataframe thead th {\n",
       "        text-align: right;\n",
       "    }\n",
       "</style>\n",
       "<table border=\"1\" class=\"dataframe\">\n",
       "  <thead>\n",
       "    <tr style=\"text-align: right;\">\n",
       "      <th></th>\n",
       "      <th>STITCH_ID_FLAT</th>\n",
       "      <th>UMLS_ID_Label</th>\n",
       "      <th>Detection_Method</th>\n",
       "      <th>MedDRA_Concept_Name</th>\n",
       "      <th>MedDRA_Concept_Type</th>\n",
       "      <th>UMLS_ID_MedDRA</th>\n",
       "      <th>Indication</th>\n",
       "    </tr>\n",
       "  </thead>\n",
       "  <tbody>\n",
       "    <tr>\n",
       "      <th>0</th>\n",
       "      <td>CID100000085</td>\n",
       "      <td>C0015544</td>\n",
       "      <td>text_mention</td>\n",
       "      <td>Failure to Thrive</td>\n",
       "      <td>LLT</td>\n",
       "      <td>C0015544</td>\n",
       "      <td>failure to thrive</td>\n",
       "    </tr>\n",
       "    <tr>\n",
       "      <th>1</th>\n",
       "      <td>CID100000085</td>\n",
       "      <td>C0015544</td>\n",
       "      <td>text_mention</td>\n",
       "      <td>Failure to Thrive</td>\n",
       "      <td>PT</td>\n",
       "      <td>C0015544</td>\n",
       "      <td>failure to thrive</td>\n",
       "    </tr>\n",
       "    <tr>\n",
       "      <th>2</th>\n",
       "      <td>CID100000085</td>\n",
       "      <td>C0020615</td>\n",
       "      <td>text_mention</td>\n",
       "      <td>Hypoglycemia</td>\n",
       "      <td>LLT</td>\n",
       "      <td>C0020615</td>\n",
       "      <td>hypoglycaemia</td>\n",
       "    </tr>\n",
       "    <tr>\n",
       "      <th>3</th>\n",
       "      <td>CID100000085</td>\n",
       "      <td>C0020615</td>\n",
       "      <td>text_mention</td>\n",
       "      <td>Hypoglycemia</td>\n",
       "      <td>PT</td>\n",
       "      <td>C0020615</td>\n",
       "      <td>hypoglycaemia</td>\n",
       "    </tr>\n",
       "    <tr>\n",
       "      <th>4</th>\n",
       "      <td>CID100000085</td>\n",
       "      <td>C0022661</td>\n",
       "      <td>NLP_indication</td>\n",
       "      <td>Kidney Failure, Chronic</td>\n",
       "      <td>LLT</td>\n",
       "      <td>C0022661</td>\n",
       "      <td>renal failure chronic</td>\n",
       "    </tr>\n",
       "  </tbody>\n",
       "</table>\n",
       "</div>"
      ],
      "text/plain": [
       "  STITCH_ID_FLAT UMLS_ID_Label Detection_Method      MedDRA_Concept_Name  \\\n",
       "0   CID100000085      C0015544     text_mention        Failure to Thrive   \n",
       "1   CID100000085      C0015544     text_mention        Failure to Thrive   \n",
       "2   CID100000085      C0020615     text_mention             Hypoglycemia   \n",
       "3   CID100000085      C0020615     text_mention             Hypoglycemia   \n",
       "4   CID100000085      C0022661   NLP_indication  Kidney Failure, Chronic   \n",
       "\n",
       "  MedDRA_Concept_Type UMLS_ID_MedDRA             Indication  \n",
       "0                 LLT       C0015544      failure to thrive  \n",
       "1                  PT       C0015544      failure to thrive  \n",
       "2                 LLT       C0020615          hypoglycaemia  \n",
       "3                  PT       C0020615          hypoglycaemia  \n",
       "4                 LLT       C0022661  renal failure chronic  "
      ]
     },
     "execution_count": 4,
     "metadata": {},
     "output_type": "execute_result"
    }
   ],
   "source": [
    "df_data.head()"
   ]
  },
  {
   "cell_type": "code",
   "execution_count": 5,
   "metadata": {},
   "outputs": [],
   "source": [
    "# Each drug-side effect pair is essentially a duplicate with one entry being the \"Lowest Level Term\"\n",
    "# and the other being a \"Preferred Term\". I will only associate drugs with their \"Preferred Term\"\n",
    "df_data = df_data[~df_data.MedDRA_Concept_Type.str.contains(\"LLT\")]"
   ]
  },
  {
   "cell_type": "markdown",
   "metadata": {},
   "source": [
    "### Mapping STITCH IDs to Drugbank IDs"
   ]
  },
  {
   "cell_type": "code",
   "execution_count": 6,
   "metadata": {},
   "outputs": [],
   "source": [
    "# Converting STITCH IDs to Pubchem IDs\n",
    "df_data['STITCH_ID_FLAT'] = df_data['STITCH_ID_FLAT'].apply(lambda x: int(x[4:]))\n",
    "df_data = df_data.rename(columns = {'STITCH_ID_FLAT':'pubchem_id'})"
   ]
  },
  {
   "cell_type": "code",
   "execution_count": 8,
   "metadata": {},
   "outputs": [
    {
     "data": {
      "text/html": [
       "<div>\n",
       "<style scoped>\n",
       "    .dataframe tbody tr th:only-of-type {\n",
       "        vertical-align: middle;\n",
       "    }\n",
       "\n",
       "    .dataframe tbody tr th {\n",
       "        vertical-align: top;\n",
       "    }\n",
       "\n",
       "    .dataframe thead th {\n",
       "        text-align: right;\n",
       "    }\n",
       "</style>\n",
       "<table border=\"1\" class=\"dataframe\">\n",
       "  <thead>\n",
       "    <tr style=\"text-align: right;\">\n",
       "      <th></th>\n",
       "      <th>drugbank_id</th>\n",
       "      <th>pubchem_id</th>\n",
       "    </tr>\n",
       "  </thead>\n",
       "  <tbody>\n",
       "    <tr>\n",
       "      <th>0</th>\n",
       "      <td>DB00006</td>\n",
       "      <td>101041682</td>\n",
       "    </tr>\n",
       "    <tr>\n",
       "      <th>1</th>\n",
       "      <td>DB00006</td>\n",
       "      <td>126480209</td>\n",
       "    </tr>\n",
       "    <tr>\n",
       "      <th>2</th>\n",
       "      <td>DB00006</td>\n",
       "      <td>132229728</td>\n",
       "    </tr>\n",
       "    <tr>\n",
       "      <th>3</th>\n",
       "      <td>DB00006</td>\n",
       "      <td>134827539</td>\n",
       "    </tr>\n",
       "    <tr>\n",
       "      <th>4</th>\n",
       "      <td>DB00006</td>\n",
       "      <td>137167482</td>\n",
       "    </tr>\n",
       "  </tbody>\n",
       "</table>\n",
       "</div>"
      ],
      "text/plain": [
       "  drugbank_id  pubchem_id\n",
       "0     DB00006   101041682\n",
       "1     DB00006   126480209\n",
       "2     DB00006   132229728\n",
       "3     DB00006   134827539\n",
       "4     DB00006   137167482"
      ]
     },
     "execution_count": 8,
     "metadata": {},
     "output_type": "execute_result"
    }
   ],
   "source": [
    "drugbank_mapping = pd.read_csv('../../drugbank_lexicon/pubchem.tsv', sep = '\\t')\n",
    "drugbank_mapping.head()"
   ]
  },
  {
   "cell_type": "code",
   "execution_count": 9,
   "metadata": {},
   "outputs": [],
   "source": [
    "# Merge the two dataframes so that a DrugBank ID is matched to each STITCH ID\n",
    "df_data = drugbank_mapping.merge(df_data)"
   ]
  },
  {
   "cell_type": "code",
   "execution_count": 10,
   "metadata": {},
   "outputs": [
    {
     "data": {
      "text/html": [
       "<div>\n",
       "<style scoped>\n",
       "    .dataframe tbody tr th:only-of-type {\n",
       "        vertical-align: middle;\n",
       "    }\n",
       "\n",
       "    .dataframe tbody tr th {\n",
       "        vertical-align: top;\n",
       "    }\n",
       "\n",
       "    .dataframe thead th {\n",
       "        text-align: right;\n",
       "    }\n",
       "</style>\n",
       "<table border=\"1\" class=\"dataframe\">\n",
       "  <thead>\n",
       "    <tr style=\"text-align: right;\">\n",
       "      <th></th>\n",
       "      <th>drugbank_id</th>\n",
       "      <th>pubchem_id</th>\n",
       "      <th>UMLS_ID_Label</th>\n",
       "      <th>Detection_Method</th>\n",
       "      <th>MedDRA_Concept_Name</th>\n",
       "      <th>MedDRA_Concept_Type</th>\n",
       "      <th>UMLS_ID_MedDRA</th>\n",
       "      <th>Indication</th>\n",
       "    </tr>\n",
       "  </thead>\n",
       "  <tbody>\n",
       "    <tr>\n",
       "      <th>0</th>\n",
       "      <td>DB00006</td>\n",
       "      <td>16129704</td>\n",
       "      <td>C0002965</td>\n",
       "      <td>NLP_indication</td>\n",
       "      <td>Angina, Unstable</td>\n",
       "      <td>PT</td>\n",
       "      <td>C0002965</td>\n",
       "      <td>angina unstable</td>\n",
       "    </tr>\n",
       "    <tr>\n",
       "      <th>1</th>\n",
       "      <td>DB00006</td>\n",
       "      <td>16129704</td>\n",
       "      <td>C0002965</td>\n",
       "      <td>NLP_indication</td>\n",
       "      <td>Angina, Unstable</td>\n",
       "      <td>PT</td>\n",
       "      <td>C0002962</td>\n",
       "      <td>angina pectoris</td>\n",
       "    </tr>\n",
       "    <tr>\n",
       "      <th>2</th>\n",
       "      <td>DB00006</td>\n",
       "      <td>16129704</td>\n",
       "      <td>C0019080</td>\n",
       "      <td>NLP_precondition</td>\n",
       "      <td>Hemorrhage</td>\n",
       "      <td>PT</td>\n",
       "      <td>C0019080</td>\n",
       "      <td>haemorrhage</td>\n",
       "    </tr>\n",
       "    <tr>\n",
       "      <th>3</th>\n",
       "      <td>DB00006</td>\n",
       "      <td>16129704</td>\n",
       "      <td>C0019080</td>\n",
       "      <td>NLP_precondition</td>\n",
       "      <td>Hemorrhage</td>\n",
       "      <td>PT</td>\n",
       "      <td>C0518015</td>\n",
       "      <td>haemoglobin</td>\n",
       "    </tr>\n",
       "    <tr>\n",
       "      <th>4</th>\n",
       "      <td>DB00006</td>\n",
       "      <td>16129704</td>\n",
       "      <td>C0027051</td>\n",
       "      <td>NLP_precondition</td>\n",
       "      <td>Myocardial Infarction</td>\n",
       "      <td>PT</td>\n",
       "      <td>C0027051</td>\n",
       "      <td>myocardial infarction</td>\n",
       "    </tr>\n",
       "  </tbody>\n",
       "</table>\n",
       "</div>"
      ],
      "text/plain": [
       "  drugbank_id  pubchem_id UMLS_ID_Label  Detection_Method  \\\n",
       "0     DB00006    16129704      C0002965    NLP_indication   \n",
       "1     DB00006    16129704      C0002965    NLP_indication   \n",
       "2     DB00006    16129704      C0019080  NLP_precondition   \n",
       "3     DB00006    16129704      C0019080  NLP_precondition   \n",
       "4     DB00006    16129704      C0027051  NLP_precondition   \n",
       "\n",
       "     MedDRA_Concept_Name MedDRA_Concept_Type UMLS_ID_MedDRA  \\\n",
       "0       Angina, Unstable                  PT       C0002965   \n",
       "1       Angina, Unstable                  PT       C0002962   \n",
       "2             Hemorrhage                  PT       C0019080   \n",
       "3             Hemorrhage                  PT       C0518015   \n",
       "4  Myocardial Infarction                  PT       C0027051   \n",
       "\n",
       "              Indication  \n",
       "0        angina unstable  \n",
       "1        angina pectoris  \n",
       "2            haemorrhage  \n",
       "3            haemoglobin  \n",
       "4  myocardial infarction  "
      ]
     },
     "execution_count": 10,
     "metadata": {},
     "output_type": "execute_result"
    }
   ],
   "source": [
    "df_data.head()"
   ]
  },
  {
   "cell_type": "markdown",
   "metadata": {},
   "source": [
    "### Matching drugs to indications"
   ]
  },
  {
   "cell_type": "code",
   "execution_count": 13,
   "metadata": {},
   "outputs": [],
   "source": [
    "# Tupelizing the lists so that duplicate side effects paired to each compound id remain unique \n",
    "id_dict = tuple(zip(df_data['Indication'].tolist(),df_data['drugbank_id'].tolist()))"
   ]
  },
  {
   "cell_type": "code",
   "execution_count": 14,
   "metadata": {},
   "outputs": [],
   "source": [
    "# Creating a drug-set library where side effects are matched to all drugs with which they are associated \n",
    "drugsetlibrary = defaultdict(list)\n",
    "for k,v in id_dict: \n",
    "    drugsetlibrary[k].append(v)"
   ]
  },
  {
   "cell_type": "code",
   "execution_count": 15,
   "metadata": {},
   "outputs": [],
   "source": [
    "# Removing terms with less than 5 drug associations\n",
    "drugsetlibrary = {k:list(set(v)) for k,v in drugsetlibrary.items() if len(set(v))>=5}"
   ]
  },
  {
   "cell_type": "markdown",
   "metadata": {},
   "source": [
    "### Library counts"
   ]
  },
  {
   "cell_type": "code",
   "execution_count": 16,
   "metadata": {},
   "outputs": [
    {
     "name": "stdout",
     "output_type": "stream",
     "text": [
      "1547 unique drugs\n",
      "868 unique association terms\n",
      "18805 unique associations\n",
      "21.6647465437788 average drugs per term\n"
     ]
    }
   ],
   "source": [
    "library_counts(drugsetlibrary)"
   ]
  },
  {
   "cell_type": "markdown",
   "metadata": {},
   "source": [
    "### Exporting the drug-set library in GMT format"
   ]
  },
  {
   "cell_type": "code",
   "execution_count": 17,
   "metadata": {},
   "outputs": [],
   "source": [
    "os.chdir('../../data/SIDER')"
   ]
  },
  {
   "cell_type": "code",
   "execution_count": 18,
   "metadata": {},
   "outputs": [],
   "source": [
    "gmt_formatter(drugsetlibrary, 'SIDER_indications_drugsetlibrary.gmt')"
   ]
  }
 ],
 "metadata": {
  "kernelspec": {
   "display_name": "Python 3",
   "language": "python",
   "name": "python3"
  },
  "language_info": {
   "codemirror_mode": {
    "name": "ipython",
    "version": 3
   },
   "file_extension": ".py",
   "mimetype": "text/x-python",
   "name": "python",
   "nbconvert_exporter": "python",
   "pygments_lexer": "ipython3",
   "version": "3.6.5"
  }
 },
 "nbformat": 4,
 "nbformat_minor": 2
}
