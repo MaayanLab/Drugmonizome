{
 "cells": [
  {
   "cell_type": "markdown",
   "metadata": {},
   "source": [
    "## SIDER Side-Effect Drug-Set Library\n",
    "### Drug-set labels: Side Effects\n",
    "#### ALL DATABASES ACCESSED 05/01/19\n",
    "##### Author : Eryk Kropiwnicki | eryk.kropiwnicki@icahn.mssm.edu"
   ]
  },
  {
   "cell_type": "code",
   "execution_count": 1,
   "metadata": {},
   "outputs": [],
   "source": [
    "import json\n",
    "import pandas as pd\n",
    "import requests\n",
    "import time\n",
    "from collections import defaultdict\n",
    "import os"
   ]
  },
  {
   "cell_type": "code",
   "execution_count": 2,
   "metadata": {},
   "outputs": [],
   "source": [
    "os.chdir('../../scripts')\n",
    "from export_script import *\n",
    "os.chdir('../notebooks/SIDER')"
   ]
  },
  {
   "cell_type": "markdown",
   "metadata": {},
   "source": [
    "### Importing SIDER data\n",
    "#### Database Accessed : http://sideeffects.embl.de/download/\n",
    "#### Input Files : meddra_all_se.tsv "
   ]
  },
  {
   "cell_type": "code",
   "execution_count": 3,
   "metadata": {},
   "outputs": [],
   "source": [
    "# Import all PubChem IDs and matched side effects #\n",
    "df_data = pd.read_csv('input/meddra_all_se.tsv', delimiter = '\\t', names = ['STITCH_ID_FLAT','STITCH_ID_STEREO',\n",
    "                                                                      'UMLS_ID_Label','MedDRA_Concept_Type',\n",
    "                                                                      'UMLS_ID_MedDRA','Side_Effect'])\n",
    "df_data['Side_Effect'] = df_data['Side_Effect'].str.lower()\n",
    "df_data = df_data.dropna()"
   ]
  },
  {
   "cell_type": "code",
   "execution_count": 4,
   "metadata": {},
   "outputs": [
    {
     "data": {
      "text/html": [
       "<div>\n",
       "<style scoped>\n",
       "    .dataframe tbody tr th:only-of-type {\n",
       "        vertical-align: middle;\n",
       "    }\n",
       "\n",
       "    .dataframe tbody tr th {\n",
       "        vertical-align: top;\n",
       "    }\n",
       "\n",
       "    .dataframe thead th {\n",
       "        text-align: right;\n",
       "    }\n",
       "</style>\n",
       "<table border=\"1\" class=\"dataframe\">\n",
       "  <thead>\n",
       "    <tr style=\"text-align: right;\">\n",
       "      <th></th>\n",
       "      <th>STITCH_ID_FLAT</th>\n",
       "      <th>STITCH_ID_STEREO</th>\n",
       "      <th>UMLS_ID_Label</th>\n",
       "      <th>MedDRA_Concept_Type</th>\n",
       "      <th>UMLS_ID_MedDRA</th>\n",
       "      <th>Side_Effect</th>\n",
       "    </tr>\n",
       "  </thead>\n",
       "  <tbody>\n",
       "    <tr>\n",
       "      <th>0</th>\n",
       "      <td>CID100000085</td>\n",
       "      <td>CID000010917</td>\n",
       "      <td>C0000729</td>\n",
       "      <td>LLT</td>\n",
       "      <td>C0000729</td>\n",
       "      <td>abdominal cramps</td>\n",
       "    </tr>\n",
       "    <tr>\n",
       "      <th>1</th>\n",
       "      <td>CID100000085</td>\n",
       "      <td>CID000010917</td>\n",
       "      <td>C0000729</td>\n",
       "      <td>PT</td>\n",
       "      <td>C0000737</td>\n",
       "      <td>abdominal pain</td>\n",
       "    </tr>\n",
       "    <tr>\n",
       "      <th>2</th>\n",
       "      <td>CID100000085</td>\n",
       "      <td>CID000010917</td>\n",
       "      <td>C0000737</td>\n",
       "      <td>LLT</td>\n",
       "      <td>C0000737</td>\n",
       "      <td>abdominal pain</td>\n",
       "    </tr>\n",
       "    <tr>\n",
       "      <th>3</th>\n",
       "      <td>CID100000085</td>\n",
       "      <td>CID000010917</td>\n",
       "      <td>C0000737</td>\n",
       "      <td>PT</td>\n",
       "      <td>C0687713</td>\n",
       "      <td>gastrointestinal pain</td>\n",
       "    </tr>\n",
       "    <tr>\n",
       "      <th>4</th>\n",
       "      <td>CID100000085</td>\n",
       "      <td>CID000010917</td>\n",
       "      <td>C0000737</td>\n",
       "      <td>PT</td>\n",
       "      <td>C0000737</td>\n",
       "      <td>abdominal pain</td>\n",
       "    </tr>\n",
       "  </tbody>\n",
       "</table>\n",
       "</div>"
      ],
      "text/plain": [
       "  STITCH_ID_FLAT STITCH_ID_STEREO UMLS_ID_Label MedDRA_Concept_Type  \\\n",
       "0   CID100000085     CID000010917      C0000729                 LLT   \n",
       "1   CID100000085     CID000010917      C0000729                  PT   \n",
       "2   CID100000085     CID000010917      C0000737                 LLT   \n",
       "3   CID100000085     CID000010917      C0000737                  PT   \n",
       "4   CID100000085     CID000010917      C0000737                  PT   \n",
       "\n",
       "  UMLS_ID_MedDRA            Side_Effect  \n",
       "0       C0000729       abdominal cramps  \n",
       "1       C0000737         abdominal pain  \n",
       "2       C0000737         abdominal pain  \n",
       "3       C0687713  gastrointestinal pain  \n",
       "4       C0000737         abdominal pain  "
      ]
     },
     "execution_count": 4,
     "metadata": {},
     "output_type": "execute_result"
    }
   ],
   "source": [
    "df_data.head()"
   ]
  },
  {
   "cell_type": "code",
   "execution_count": 5,
   "metadata": {},
   "outputs": [],
   "source": [
    "# Each drug-side effect pair is essentially a duplicate with one entry being the \"Lowest Level Term\"\n",
    "# and the other being a \"Preferred Term\". I will only associate drugs with their \"Preferred Term\"\n",
    "df_data = df_data[~df_data.MedDRA_Concept_Type.str.contains(\"LLT\")]"
   ]
  },
  {
   "cell_type": "code",
   "execution_count": 6,
   "metadata": {},
   "outputs": [
    {
     "data": {
      "text/plain": [
       "163206"
      ]
     },
     "execution_count": 6,
     "metadata": {},
     "output_type": "execute_result"
    }
   ],
   "source": [
    "len(df_data)"
   ]
  },
  {
   "cell_type": "code",
   "execution_count": 7,
   "metadata": {},
   "outputs": [],
   "source": [
    "# Exporting edited table with column labels\n",
    "df_data.to_csv('input/SIDER_meddra_metadata.tsv', sep = '\\t', index = False)"
   ]
  },
  {
   "cell_type": "markdown",
   "metadata": {},
   "source": [
    "### Mapping STITCH IDs to Drugbank IDs"
   ]
  },
  {
   "cell_type": "code",
   "execution_count": 8,
   "metadata": {},
   "outputs": [],
   "source": [
    "# Converting STITCH IDs to Pubchem IDs\n",
    "df_data['STITCH_ID_STEREO'] = df_data['STITCH_ID_STEREO'].apply(lambda x: int(x[4:]))\n",
    "df_data = df_data.rename(columns = {'STITCH_ID_STEREO':'pubchem_id'})"
   ]
  },
  {
   "cell_type": "code",
   "execution_count": 9,
   "metadata": {},
   "outputs": [
    {
     "data": {
      "text/html": [
       "<div>\n",
       "<style scoped>\n",
       "    .dataframe tbody tr th:only-of-type {\n",
       "        vertical-align: middle;\n",
       "    }\n",
       "\n",
       "    .dataframe tbody tr th {\n",
       "        vertical-align: top;\n",
       "    }\n",
       "\n",
       "    .dataframe thead th {\n",
       "        text-align: right;\n",
       "    }\n",
       "</style>\n",
       "<table border=\"1\" class=\"dataframe\">\n",
       "  <thead>\n",
       "    <tr style=\"text-align: right;\">\n",
       "      <th></th>\n",
       "      <th>drugbank_id</th>\n",
       "      <th>pubchem_id</th>\n",
       "      <th>inchi_key</th>\n",
       "    </tr>\n",
       "  </thead>\n",
       "  <tbody>\n",
       "    <tr>\n",
       "      <th>0</th>\n",
       "      <td>DB00006</td>\n",
       "      <td>101041682</td>\n",
       "      <td>OIRCOABEOLEUMC-GEJPAHFPSA-N</td>\n",
       "    </tr>\n",
       "    <tr>\n",
       "      <th>1</th>\n",
       "      <td>DB00006</td>\n",
       "      <td>126480209</td>\n",
       "      <td>OIRCOABEOLEUMC-GEJPAHFPSA-N</td>\n",
       "    </tr>\n",
       "    <tr>\n",
       "      <th>2</th>\n",
       "      <td>DB00006</td>\n",
       "      <td>132229728</td>\n",
       "      <td>OIRCOABEOLEUMC-GEJPAHFPSA-N</td>\n",
       "    </tr>\n",
       "    <tr>\n",
       "      <th>3</th>\n",
       "      <td>DB00006</td>\n",
       "      <td>134827539</td>\n",
       "      <td>OIRCOABEOLEUMC-GEJPAHFPSA-N</td>\n",
       "    </tr>\n",
       "    <tr>\n",
       "      <th>4</th>\n",
       "      <td>DB00006</td>\n",
       "      <td>137167482</td>\n",
       "      <td>OIRCOABEOLEUMC-GEJPAHFPSA-N</td>\n",
       "    </tr>\n",
       "  </tbody>\n",
       "</table>\n",
       "</div>"
      ],
      "text/plain": [
       "  drugbank_id  pubchem_id                    inchi_key\n",
       "0     DB00006   101041682  OIRCOABEOLEUMC-GEJPAHFPSA-N\n",
       "1     DB00006   126480209  OIRCOABEOLEUMC-GEJPAHFPSA-N\n",
       "2     DB00006   132229728  OIRCOABEOLEUMC-GEJPAHFPSA-N\n",
       "3     DB00006   134827539  OIRCOABEOLEUMC-GEJPAHFPSA-N\n",
       "4     DB00006   137167482  OIRCOABEOLEUMC-GEJPAHFPSA-N"
      ]
     },
     "execution_count": 9,
     "metadata": {},
     "output_type": "execute_result"
    }
   ],
   "source": [
    "drugbank_mapping = pd.read_csv('../../metadata/mapping_files/pubchem.tsv', sep = '\\t')\n",
    "drugbank_mapping.head()"
   ]
  },
  {
   "cell_type": "code",
   "execution_count": 10,
   "metadata": {},
   "outputs": [],
   "source": [
    "# Merge the two dataframes so that a DrugBank ID is matched to each STITCH ID\n",
    "df_data = drugbank_mapping.merge(df_data)"
   ]
  },
  {
   "cell_type": "code",
   "execution_count": 11,
   "metadata": {
    "scrolled": true
   },
   "outputs": [
    {
     "data": {
      "text/html": [
       "<div>\n",
       "<style scoped>\n",
       "    .dataframe tbody tr th:only-of-type {\n",
       "        vertical-align: middle;\n",
       "    }\n",
       "\n",
       "    .dataframe tbody tr th {\n",
       "        vertical-align: top;\n",
       "    }\n",
       "\n",
       "    .dataframe thead th {\n",
       "        text-align: right;\n",
       "    }\n",
       "</style>\n",
       "<table border=\"1\" class=\"dataframe\">\n",
       "  <thead>\n",
       "    <tr style=\"text-align: right;\">\n",
       "      <th></th>\n",
       "      <th>drugbank_id</th>\n",
       "      <th>pubchem_id</th>\n",
       "      <th>inchi_key</th>\n",
       "      <th>STITCH_ID_FLAT</th>\n",
       "      <th>UMLS_ID_Label</th>\n",
       "      <th>MedDRA_Concept_Type</th>\n",
       "      <th>UMLS_ID_MedDRA</th>\n",
       "      <th>Side_Effect</th>\n",
       "    </tr>\n",
       "  </thead>\n",
       "  <tbody>\n",
       "    <tr>\n",
       "      <th>0</th>\n",
       "      <td>DB00006</td>\n",
       "      <td>16129704</td>\n",
       "      <td>OIRCOABEOLEUMC-GEJPAHFPSA-N</td>\n",
       "      <td>CID116129704</td>\n",
       "      <td>C0000737</td>\n",
       "      <td>PT</td>\n",
       "      <td>C0687713</td>\n",
       "      <td>gastrointestinal pain</td>\n",
       "    </tr>\n",
       "    <tr>\n",
       "      <th>1</th>\n",
       "      <td>DB00006</td>\n",
       "      <td>16129704</td>\n",
       "      <td>OIRCOABEOLEUMC-GEJPAHFPSA-N</td>\n",
       "      <td>CID116129704</td>\n",
       "      <td>C0000737</td>\n",
       "      <td>PT</td>\n",
       "      <td>C0000737</td>\n",
       "      <td>abdominal pain</td>\n",
       "    </tr>\n",
       "    <tr>\n",
       "      <th>2</th>\n",
       "      <td>DB00006</td>\n",
       "      <td>16129704</td>\n",
       "      <td>OIRCOABEOLEUMC-GEJPAHFPSA-N</td>\n",
       "      <td>CID116129704</td>\n",
       "      <td>C0002792</td>\n",
       "      <td>PT</td>\n",
       "      <td>C0002792</td>\n",
       "      <td>anaphylactic shock</td>\n",
       "    </tr>\n",
       "    <tr>\n",
       "      <th>3</th>\n",
       "      <td>DB00006</td>\n",
       "      <td>16129704</td>\n",
       "      <td>OIRCOABEOLEUMC-GEJPAHFPSA-N</td>\n",
       "      <td>CID116129704</td>\n",
       "      <td>C0002871</td>\n",
       "      <td>PT</td>\n",
       "      <td>C0002871</td>\n",
       "      <td>anaemia</td>\n",
       "    </tr>\n",
       "    <tr>\n",
       "      <th>4</th>\n",
       "      <td>DB00006</td>\n",
       "      <td>16129704</td>\n",
       "      <td>OIRCOABEOLEUMC-GEJPAHFPSA-N</td>\n",
       "      <td>CID116129704</td>\n",
       "      <td>C0002962</td>\n",
       "      <td>PT</td>\n",
       "      <td>C0002962</td>\n",
       "      <td>angina pectoris</td>\n",
       "    </tr>\n",
       "  </tbody>\n",
       "</table>\n",
       "</div>"
      ],
      "text/plain": [
       "  drugbank_id  pubchem_id                    inchi_key STITCH_ID_FLAT  \\\n",
       "0     DB00006    16129704  OIRCOABEOLEUMC-GEJPAHFPSA-N   CID116129704   \n",
       "1     DB00006    16129704  OIRCOABEOLEUMC-GEJPAHFPSA-N   CID116129704   \n",
       "2     DB00006    16129704  OIRCOABEOLEUMC-GEJPAHFPSA-N   CID116129704   \n",
       "3     DB00006    16129704  OIRCOABEOLEUMC-GEJPAHFPSA-N   CID116129704   \n",
       "4     DB00006    16129704  OIRCOABEOLEUMC-GEJPAHFPSA-N   CID116129704   \n",
       "\n",
       "  UMLS_ID_Label MedDRA_Concept_Type UMLS_ID_MedDRA            Side_Effect  \n",
       "0      C0000737                  PT       C0687713  gastrointestinal pain  \n",
       "1      C0000737                  PT       C0000737         abdominal pain  \n",
       "2      C0002792                  PT       C0002792     anaphylactic shock  \n",
       "3      C0002871                  PT       C0002871                anaemia  \n",
       "4      C0002962                  PT       C0002962        angina pectoris  "
      ]
     },
     "execution_count": 11,
     "metadata": {},
     "output_type": "execute_result"
    }
   ],
   "source": [
    "df_data.head()"
   ]
  },
  {
   "cell_type": "markdown",
   "metadata": {},
   "source": [
    "### Matching Side Effects with Verified Drug Names"
   ]
  },
  {
   "cell_type": "code",
   "execution_count": 12,
   "metadata": {},
   "outputs": [],
   "source": [
    "# Tupelizing the lists so that duplicate side effects paired to each compound id remain unique \n",
    "id_dict = tuple(zip(df_data['Side_Effect'].tolist(),df_data['drugbank_id'].tolist()))"
   ]
  },
  {
   "cell_type": "code",
   "execution_count": 13,
   "metadata": {},
   "outputs": [],
   "source": [
    "# Creating a drug-set library where side effects are matched to all drugs with which they are associated \n",
    "drugsetlibrary = defaultdict(list)\n",
    "for k, v in id_dict:\n",
    "    drugsetlibrary[k].append(v)"
   ]
  },
  {
   "cell_type": "code",
   "execution_count": 14,
   "metadata": {},
   "outputs": [
    {
     "data": {
      "text/plain": [
       "4134"
      ]
     },
     "execution_count": 14,
     "metadata": {},
     "output_type": "execute_result"
    }
   ],
   "source": [
    "len(drugsetlibrary)"
   ]
  },
  {
   "cell_type": "code",
   "execution_count": 15,
   "metadata": {},
   "outputs": [],
   "source": [
    "# Removing terms with less than 5 drug associations\n",
    "drugsetlibrary = {k:list(set(v)) for k,v in drugsetlibrary.items() if len(set(v))>=5}"
   ]
  },
  {
   "cell_type": "markdown",
   "metadata": {},
   "source": [
    "### Library counts"
   ]
  },
  {
   "cell_type": "code",
   "execution_count": 16,
   "metadata": {},
   "outputs": [
    {
     "name": "stdout",
     "output_type": "stream",
     "text": [
      "1636 unique drugs\n",
      "2078 unique association terms\n",
      "155116 unique associations\n",
      "74.64677574590952 average drugs per term\n"
     ]
    }
   ],
   "source": [
    "library_counts(drugsetlibrary)"
   ]
  },
  {
   "cell_type": "markdown",
   "metadata": {},
   "source": [
    "### Exporting the drug-set library in GMT format"
   ]
  },
  {
   "cell_type": "code",
   "execution_count": 17,
   "metadata": {},
   "outputs": [],
   "source": [
    "os.chdir('../../data/SIDER')"
   ]
  },
  {
   "cell_type": "code",
   "execution_count": 18,
   "metadata": {},
   "outputs": [],
   "source": [
    "gmt_formatter(drugsetlibrary, 'SIDER_side_effects_drugsetlibrary.gmt')"
   ]
  }
 ],
 "metadata": {
  "kernelspec": {
   "display_name": "Python 3",
   "language": "python",
   "name": "python3"
  },
  "language_info": {
   "codemirror_mode": {
    "name": "ipython",
    "version": 3
   },
   "file_extension": ".py",
   "mimetype": "text/x-python",
   "name": "python",
   "nbconvert_exporter": "python",
   "pygments_lexer": "ipython3",
   "version": "3.6.5"
  }
 },
 "nbformat": 4,
 "nbformat_minor": 2
}
