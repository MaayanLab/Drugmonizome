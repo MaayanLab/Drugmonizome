{
 "cells": [
  {
   "cell_type": "markdown",
   "metadata": {},
   "source": [
    "## Matching STRING Protein IDs to Entrez Gene Symbols\n",
    "#### ALL DATABASES ACCESSED 08/2019\n",
    "##### Author : Eryk Kropiwnicki | eryk.kropiwnicki@icahn.mssm.edu"
   ]
  },
  {
   "cell_type": "code",
   "execution_count": 1,
   "metadata": {},
   "outputs": [],
   "source": [
    "import json\n",
    "import pandas as pd\n",
    "import requests\n",
    "import time\n",
    "import numpy as np\n",
    "import os"
   ]
  },
  {
   "cell_type": "markdown",
   "metadata": {},
   "source": [
    "### Importing Protein-Drug Interaction Data (STRING Protein Identifiers & PubChem IDs)\n",
    "#### Databases Accessed : http://stitch.embl.de\n",
    "#### Input Files : protein_chemical_links.v5.0.tsv (http://stitch.embl.de/cgi/download.pl?UserId=RZH952LT3dmF&sessionId=V9HrDjiZWim3&species_text=Homo+sapiens)"
   ]
  },
  {
   "cell_type": "code",
   "execution_count": 2,
   "metadata": {},
   "outputs": [],
   "source": [
    "df = pd.read_csv('input/9606.protein_chemical.links.v5.0.tsv', delimiter = '\\t')"
   ]
  },
  {
   "cell_type": "code",
   "execution_count": 3,
   "metadata": {},
   "outputs": [
    {
     "data": {
      "text/html": [
       "<div>\n",
       "<style scoped>\n",
       "    .dataframe tbody tr th:only-of-type {\n",
       "        vertical-align: middle;\n",
       "    }\n",
       "\n",
       "    .dataframe tbody tr th {\n",
       "        vertical-align: top;\n",
       "    }\n",
       "\n",
       "    .dataframe thead th {\n",
       "        text-align: right;\n",
       "    }\n",
       "</style>\n",
       "<table border=\"1\" class=\"dataframe\">\n",
       "  <thead>\n",
       "    <tr style=\"text-align: right;\">\n",
       "      <th></th>\n",
       "      <th>chemical</th>\n",
       "      <th>protein</th>\n",
       "      <th>combined_score</th>\n",
       "    </tr>\n",
       "  </thead>\n",
       "  <tbody>\n",
       "    <tr>\n",
       "      <th>0</th>\n",
       "      <td>CIDm91758680</td>\n",
       "      <td>9606.ENSP00000257254</td>\n",
       "      <td>279</td>\n",
       "    </tr>\n",
       "    <tr>\n",
       "      <th>1</th>\n",
       "      <td>CIDm91758680</td>\n",
       "      <td>9606.ENSP00000302120</td>\n",
       "      <td>154</td>\n",
       "    </tr>\n",
       "    <tr>\n",
       "      <th>2</th>\n",
       "      <td>CIDm91758408</td>\n",
       "      <td>9606.ENSP00000006777</td>\n",
       "      <td>225</td>\n",
       "    </tr>\n",
       "    <tr>\n",
       "      <th>3</th>\n",
       "      <td>CIDm91758408</td>\n",
       "      <td>9606.ENSP00000056217</td>\n",
       "      <td>178</td>\n",
       "    </tr>\n",
       "    <tr>\n",
       "      <th>4</th>\n",
       "      <td>CIDm91758408</td>\n",
       "      <td>9606.ENSP00000216085</td>\n",
       "      <td>225</td>\n",
       "    </tr>\n",
       "  </tbody>\n",
       "</table>\n",
       "</div>"
      ],
      "text/plain": [
       "       chemical               protein  combined_score\n",
       "0  CIDm91758680  9606.ENSP00000257254             279\n",
       "1  CIDm91758680  9606.ENSP00000302120             154\n",
       "2  CIDm91758408  9606.ENSP00000006777             225\n",
       "3  CIDm91758408  9606.ENSP00000056217             178\n",
       "4  CIDm91758408  9606.ENSP00000216085             225"
      ]
     },
     "execution_count": 3,
     "metadata": {},
     "output_type": "execute_result"
    }
   ],
   "source": [
    "df.head()"
   ]
  },
  {
   "cell_type": "code",
   "execution_count": 4,
   "metadata": {},
   "outputs": [],
   "source": [
    "# Creating list of all unique STITCH protein identifiers \n",
    "STITCH_protein_identifiers = set(df['protein'].tolist())"
   ]
  },
  {
   "cell_type": "code",
   "execution_count": 5,
   "metadata": {},
   "outputs": [
    {
     "data": {
      "text/plain": [
       "19195"
      ]
     },
     "execution_count": 5,
     "metadata": {},
     "output_type": "execute_result"
    }
   ],
   "source": [
    "len(STITCH_protein_identifiers)"
   ]
  },
  {
   "cell_type": "markdown",
   "metadata": {},
   "source": [
    "### Matching STRING Protein Identifiers to Entrez Gene Symbols using STITCH API"
   ]
  },
  {
   "cell_type": "code",
   "execution_count": 6,
   "metadata": {},
   "outputs": [
    {
     "name": "stdout",
     "output_type": "stream",
     "text": [
      "0\n"
     ]
    }
   ],
   "source": [
    "# Querying all STITCH protein identifiers through STITCH API and retrieving Entrez Gene Symbols #\n",
    "protein_dict = {}\n",
    "failed_list = []\n",
    "\n",
    "for protein in STITCH_protein_identifiers:\n",
    "    try:\n",
    "        url = ('http://stitch.embl.de/api/json/resolve?identifier='+ str(protein) +'&species=9606')\n",
    "        response = requests.get(url)\n",
    "    except ValueError:\n",
    "        pass\n",
    "    time.sleep(0.5)\n",
    "    try:\n",
    "        if \"preferredName\" in response.json()[0].keys():\n",
    "            gene_symbol = response.json()[0][\"preferredName\"]\n",
    "            protein_dict[protein] = gene_symbol\n",
    "    except:\n",
    "        failed_list.append(protein)\n",
    "        \n",
    "print(len(failed_list))"
   ]
  },
  {
   "cell_type": "code",
   "execution_count": 32,
   "metadata": {},
   "outputs": [],
   "source": [
    "df_protein = pd.DataFrame.from_dict(protein_dict, orient = 'index')\n",
    "df_protein = df_protein.reset_index()\n",
    "df_protein.columns = ['protein','gene symbol']"
   ]
  },
  {
   "cell_type": "code",
   "execution_count": 33,
   "metadata": {},
   "outputs": [
    {
     "data": {
      "text/plain": [
       "19195"
      ]
     },
     "execution_count": 33,
     "metadata": {},
     "output_type": "execute_result"
    }
   ],
   "source": [
    "len(df_protein)"
   ]
  },
  {
   "cell_type": "code",
   "execution_count": 34,
   "metadata": {},
   "outputs": [
    {
     "data": {
      "text/html": [
       "<div>\n",
       "<style scoped>\n",
       "    .dataframe tbody tr th:only-of-type {\n",
       "        vertical-align: middle;\n",
       "    }\n",
       "\n",
       "    .dataframe tbody tr th {\n",
       "        vertical-align: top;\n",
       "    }\n",
       "\n",
       "    .dataframe thead th {\n",
       "        text-align: right;\n",
       "    }\n",
       "</style>\n",
       "<table border=\"1\" class=\"dataframe\">\n",
       "  <thead>\n",
       "    <tr style=\"text-align: right;\">\n",
       "      <th></th>\n",
       "      <th>protein</th>\n",
       "      <th>gene symbol</th>\n",
       "    </tr>\n",
       "  </thead>\n",
       "  <tbody>\n",
       "    <tr>\n",
       "      <th>0</th>\n",
       "      <td>9606.ENSP00000305107</td>\n",
       "      <td>GIMAP8</td>\n",
       "    </tr>\n",
       "    <tr>\n",
       "      <th>1</th>\n",
       "      <td>9606.ENSP00000376139</td>\n",
       "      <td>WDR45L</td>\n",
       "    </tr>\n",
       "    <tr>\n",
       "      <th>2</th>\n",
       "      <td>9606.ENSP00000334853</td>\n",
       "      <td>ZNF555</td>\n",
       "    </tr>\n",
       "    <tr>\n",
       "      <th>3</th>\n",
       "      <td>9606.ENSP00000264935</td>\n",
       "      <td>CEP72</td>\n",
       "    </tr>\n",
       "    <tr>\n",
       "      <th>4</th>\n",
       "      <td>9606.ENSP00000276440</td>\n",
       "      <td>DOCK5</td>\n",
       "    </tr>\n",
       "  </tbody>\n",
       "</table>\n",
       "</div>"
      ],
      "text/plain": [
       "                protein gene symbol\n",
       "0  9606.ENSP00000305107      GIMAP8\n",
       "1  9606.ENSP00000376139      WDR45L\n",
       "2  9606.ENSP00000334853      ZNF555\n",
       "3  9606.ENSP00000264935       CEP72\n",
       "4  9606.ENSP00000276440       DOCK5"
      ]
     },
     "execution_count": 34,
     "metadata": {},
     "output_type": "execute_result"
    }
   ],
   "source": [
    "df_protein.head()"
   ]
  },
  {
   "cell_type": "markdown",
   "metadata": {},
   "source": [
    "### Making sure each gene symbol can be traced back to approved symbol\n",
    "#### Input file: Homo_sapiens.gene_info (ftp://ftp.ncbi.nih.gov/gene/DATA/GENE_INFO/Mammalia)"
   ]
  },
  {
   "cell_type": "code",
   "execution_count": 35,
   "metadata": {},
   "outputs": [],
   "source": [
    "# Importing approved symbol table\n",
    "df_lookup = pd.read_csv('../mapping_files/Homo_sapiens.gene_info', delimiter = '\\t')\n",
    "approved_symbols = df_lookup['Symbol'].tolist()\n",
    "\n",
    "# Gene synonym lookup \n",
    "with open('../mapping_files/gene_symbol_lookup.json', 'r') as f:\n",
    "    synonym_lookup = json.load(f)\n",
    "\n",
    "term_list = []\n",
    "for index, row in df_protein.iterrows():\n",
    "    gene = row.loc['gene symbol']\n",
    "    if gene in approved_symbols:\n",
    "        term_list.append(gene)\n",
    "    elif gene in synonym_lookup:\n",
    "        term_list.append(synonym_lookup[gene])\n",
    "    else:\n",
    "        failed_list.append(gene)\n",
    "        df_protein.drop(index, inplace = True)\n",
    "df_protein.loc[:,'approved symbol'] = pd.Series(np.array(term_list), index=df_protein.index)"
   ]
  },
  {
   "cell_type": "code",
   "execution_count": 36,
   "metadata": {},
   "outputs": [
    {
     "data": {
      "text/plain": [
       "18809"
      ]
     },
     "execution_count": 36,
     "metadata": {},
     "output_type": "execute_result"
    }
   ],
   "source": [
    "len(df_protein)"
   ]
  },
  {
   "cell_type": "code",
   "execution_count": 39,
   "metadata": {},
   "outputs": [
    {
     "data": {
      "text/html": [
       "<div>\n",
       "<style scoped>\n",
       "    .dataframe tbody tr th:only-of-type {\n",
       "        vertical-align: middle;\n",
       "    }\n",
       "\n",
       "    .dataframe tbody tr th {\n",
       "        vertical-align: top;\n",
       "    }\n",
       "\n",
       "    .dataframe thead th {\n",
       "        text-align: right;\n",
       "    }\n",
       "</style>\n",
       "<table border=\"1\" class=\"dataframe\">\n",
       "  <thead>\n",
       "    <tr style=\"text-align: right;\">\n",
       "      <th></th>\n",
       "      <th>protein</th>\n",
       "      <th>gene symbol</th>\n",
       "      <th>approved symbol</th>\n",
       "    </tr>\n",
       "  </thead>\n",
       "  <tbody>\n",
       "    <tr>\n",
       "      <th>0</th>\n",
       "      <td>9606.ENSP00000305107</td>\n",
       "      <td>GIMAP8</td>\n",
       "      <td>GIMAP8</td>\n",
       "    </tr>\n",
       "    <tr>\n",
       "      <th>1</th>\n",
       "      <td>9606.ENSP00000376139</td>\n",
       "      <td>WDR45L</td>\n",
       "      <td>WDR45B</td>\n",
       "    </tr>\n",
       "    <tr>\n",
       "      <th>2</th>\n",
       "      <td>9606.ENSP00000334853</td>\n",
       "      <td>ZNF555</td>\n",
       "      <td>ZNF555</td>\n",
       "    </tr>\n",
       "    <tr>\n",
       "      <th>3</th>\n",
       "      <td>9606.ENSP00000264935</td>\n",
       "      <td>CEP72</td>\n",
       "      <td>CEP72</td>\n",
       "    </tr>\n",
       "    <tr>\n",
       "      <th>4</th>\n",
       "      <td>9606.ENSP00000276440</td>\n",
       "      <td>DOCK5</td>\n",
       "      <td>DOCK5</td>\n",
       "    </tr>\n",
       "  </tbody>\n",
       "</table>\n",
       "</div>"
      ],
      "text/plain": [
       "                protein gene symbol approved symbol\n",
       "0  9606.ENSP00000305107      GIMAP8          GIMAP8\n",
       "1  9606.ENSP00000376139      WDR45L          WDR45B\n",
       "2  9606.ENSP00000334853      ZNF555          ZNF555\n",
       "3  9606.ENSP00000264935       CEP72           CEP72\n",
       "4  9606.ENSP00000276440       DOCK5           DOCK5"
      ]
     },
     "execution_count": 39,
     "metadata": {},
     "output_type": "execute_result"
    }
   ],
   "source": [
    "df_protein.head()"
   ]
  },
  {
   "cell_type": "code",
   "execution_count": 40,
   "metadata": {},
   "outputs": [],
   "source": [
    "# Exporting filtered STRING_to_entrez table\n",
    "df_protein.to_csv('input/STRING_to_Entrez.csv', index = False)"
   ]
  }
 ],
 "metadata": {
  "kernelspec": {
   "display_name": "Python 3",
   "language": "python",
   "name": "python3"
  },
  "language_info": {
   "codemirror_mode": {
    "name": "ipython",
    "version": 3
   },
   "file_extension": ".py",
   "mimetype": "text/x-python",
   "name": "python",
   "nbconvert_exporter": "python",
   "pygments_lexer": "ipython3",
   "version": "3.6.5"
  }
 },
 "nbformat": 4,
 "nbformat_minor": 2
}
