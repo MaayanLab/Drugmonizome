{
 "cells": [
  {
   "cell_type": "markdown",
   "metadata": {},
   "source": [
    "## RDKIT Molecular Fingerprints Drug-Set Library\n",
    "### Drug-set labels: Molecular Fingerprints\n",
    "#### ALL DATABASES ACCESSED 12/2019\n",
    "##### Author : Eryk Kropiwnicki | eryk.kropiwnicki@icahn.mssm.edu"
   ]
  },
  {
   "cell_type": "code",
   "execution_count": 1,
   "metadata": {},
   "outputs": [],
   "source": [
    "import pandas as pd\n",
    "import numpy as np\n",
    "from rdkit import Chem\n",
    "from rdkit import DataStructs\n",
    "from rdkit.Chem import MACCSkeys\n",
    "from rdkit.Chem import PandasTools\n",
    "from rdkit.Chem import AllChem\n",
    "from rdkit import Avalon\n",
    "from rdkit.Chem.AtomPairs import Pairs\n",
    "from rdkit.Chem import rdMolDescriptors\n",
    "from rdkit.Chem.Pharm2D import Gobbi_Pharm2D,Generate\n",
    "from rdkit.Chem.Pharm2D.SigFactory import SigFactory\n",
    "from rdkit.Chem import ChemicalFeatures\n",
    "from rdkit.Chem.Fingerprints import FingerprintMols\n",
    "import os"
   ]
  },
  {
   "cell_type": "code",
   "execution_count": 2,
   "metadata": {},
   "outputs": [],
   "source": [
    "os.chdir('../scripts')\n",
    "from export_script import *\n",
    "os.chdir('../RDKIT')"
   ]
  },
  {
   "cell_type": "markdown",
   "metadata": {},
   "source": [
    "#### Input file : drug_metadata.csv (master drug list generated from Drug Metadata Aggregation.ipynb)"
   ]
  },
  {
   "cell_type": "code",
   "execution_count": 3,
   "metadata": {},
   "outputs": [],
   "source": [
    "df = pd.read_csv('../mapping_files/merged_drug_metadata.tsv', sep = '\\t')"
   ]
  },
  {
   "cell_type": "code",
   "execution_count": 4,
   "metadata": {},
   "outputs": [],
   "source": [
    "df = df.drop(columns = ['Synonyms','PubChemID','InChiKey','Molecular_formula'])"
   ]
  },
  {
   "cell_type": "code",
   "execution_count": 5,
   "metadata": {},
   "outputs": [
    {
     "data": {
      "text/html": [
       "<div>\n",
       "<style scoped>\n",
       "    .dataframe tbody tr th:only-of-type {\n",
       "        vertical-align: middle;\n",
       "    }\n",
       "\n",
       "    .dataframe tbody tr th {\n",
       "        vertical-align: top;\n",
       "    }\n",
       "\n",
       "    .dataframe thead th {\n",
       "        text-align: right;\n",
       "    }\n",
       "</style>\n",
       "<table border=\"1\" class=\"dataframe\">\n",
       "  <thead>\n",
       "    <tr style=\"text-align: right;\">\n",
       "      <th></th>\n",
       "      <th>Drug_name</th>\n",
       "      <th>Canonical_SMILES</th>\n",
       "    </tr>\n",
       "  </thead>\n",
       "  <tbody>\n",
       "    <tr>\n",
       "      <th>0</th>\n",
       "      <td>goserelin</td>\n",
       "      <td>CC(C)CC(C(=O)NC(CCCN=C(N)N)C(=O)N1CCCC1C(=O)NN...</td>\n",
       "    </tr>\n",
       "    <tr>\n",
       "      <th>1</th>\n",
       "      <td>cetrorelix</td>\n",
       "      <td>CC(C)CC(C(=O)NC(CCCN=C(N)N)C(=O)N1CCCC1C(=O)NC...</td>\n",
       "    </tr>\n",
       "    <tr>\n",
       "      <th>2</th>\n",
       "      <td>ciclosporin</td>\n",
       "      <td>CCC1C(=O)N(CC(=O)N(C(C(=O)NC(C(=O)N(C(C(=O)NC(...</td>\n",
       "    </tr>\n",
       "    <tr>\n",
       "      <th>3</th>\n",
       "      <td>octreotide</td>\n",
       "      <td>CC(C1C(=O)NC(CSSCC(C(=O)NC(C(=O)NC(C(=O)NC(C(=...</td>\n",
       "    </tr>\n",
       "    <tr>\n",
       "      <th>4</th>\n",
       "      <td>choline</td>\n",
       "      <td>C[N+](C)(C)CCO</td>\n",
       "    </tr>\n",
       "  </tbody>\n",
       "</table>\n",
       "</div>"
      ],
      "text/plain": [
       "     Drug_name                                   Canonical_SMILES\n",
       "0    goserelin  CC(C)CC(C(=O)NC(CCCN=C(N)N)C(=O)N1CCCC1C(=O)NN...\n",
       "1   cetrorelix  CC(C)CC(C(=O)NC(CCCN=C(N)N)C(=O)N1CCCC1C(=O)NC...\n",
       "2  ciclosporin  CCC1C(=O)N(CC(=O)N(C(C(=O)NC(C(=O)N(C(C(=O)NC(...\n",
       "3   octreotide  CC(C1C(=O)NC(CSSCC(C(=O)NC(C(=O)NC(C(=O)NC(C(=...\n",
       "4      choline                                     C[N+](C)(C)CCO"
      ]
     },
     "execution_count": 5,
     "metadata": {},
     "output_type": "execute_result"
    }
   ],
   "source": [
    "df.head()"
   ]
  },
  {
   "cell_type": "code",
   "execution_count": 6,
   "metadata": {},
   "outputs": [],
   "source": [
    "molecule = [Chem.MolFromSmiles(x) for x in df['Canonical_SMILES']]\n",
    "df.loc[:,'Molecule'] = pd.Series(molecule, index=df.index)"
   ]
  },
  {
   "cell_type": "code",
   "execution_count": 7,
   "metadata": {},
   "outputs": [],
   "source": [
    "# Drop any NaNs from unresolvable SMILEs strings\n",
    "df = df.dropna()"
   ]
  },
  {
   "cell_type": "code",
   "execution_count": 8,
   "metadata": {},
   "outputs": [],
   "source": [
    "all_drugs = list(df['Drug_name'])"
   ]
  },
  {
   "cell_type": "markdown",
   "metadata": {},
   "source": [
    "### MACCS Key Fingerprints"
   ]
  },
  {
   "cell_type": "code",
   "execution_count": 9,
   "metadata": {},
   "outputs": [],
   "source": [
    "# Generating molecule bit vectors \n",
    "maccs_fps = [MACCSkeys.GenMACCSKeys(x) for x in df['Molecule']]"
   ]
  },
  {
   "cell_type": "code",
   "execution_count": 10,
   "metadata": {},
   "outputs": [],
   "source": [
    "# Converting bit vectors into binary array \n",
    "maccs_np_fps = []\n",
    "for fp in maccs_fps:\n",
    "    arr = np.zeros((1,))\n",
    "    DataStructs.ConvertToNumpyArray(fp, arr)\n",
    "    maccs_np_fps.append(arr)\n",
    "\n",
    "# Creating dataframe and indexing with all valid drugs #\n",
    "maccs_df = pd.DataFrame(maccs_np_fps, index = all_drugs)"
   ]
  },
  {
   "cell_type": "code",
   "execution_count": 11,
   "metadata": {},
   "outputs": [],
   "source": [
    "# Renaming column labels #\n",
    "column_labels = []\n",
    "for col in maccs_df.columns:\n",
    "    column_labels.append('MACCS'+ str(col))\n",
    "\n",
    "maccs_df.columns = column_labels"
   ]
  },
  {
   "cell_type": "code",
   "execution_count": 12,
   "metadata": {},
   "outputs": [
    {
     "data": {
      "text/html": [
       "<div>\n",
       "<style scoped>\n",
       "    .dataframe tbody tr th:only-of-type {\n",
       "        vertical-align: middle;\n",
       "    }\n",
       "\n",
       "    .dataframe tbody tr th {\n",
       "        vertical-align: top;\n",
       "    }\n",
       "\n",
       "    .dataframe thead th {\n",
       "        text-align: right;\n",
       "    }\n",
       "</style>\n",
       "<table border=\"1\" class=\"dataframe\">\n",
       "  <thead>\n",
       "    <tr style=\"text-align: right;\">\n",
       "      <th></th>\n",
       "      <th>MACCS0</th>\n",
       "      <th>MACCS1</th>\n",
       "      <th>MACCS2</th>\n",
       "      <th>MACCS3</th>\n",
       "      <th>MACCS4</th>\n",
       "      <th>MACCS5</th>\n",
       "      <th>MACCS6</th>\n",
       "      <th>MACCS7</th>\n",
       "      <th>MACCS8</th>\n",
       "      <th>MACCS9</th>\n",
       "      <th>...</th>\n",
       "      <th>MACCS157</th>\n",
       "      <th>MACCS158</th>\n",
       "      <th>MACCS159</th>\n",
       "      <th>MACCS160</th>\n",
       "      <th>MACCS161</th>\n",
       "      <th>MACCS162</th>\n",
       "      <th>MACCS163</th>\n",
       "      <th>MACCS164</th>\n",
       "      <th>MACCS165</th>\n",
       "      <th>MACCS166</th>\n",
       "    </tr>\n",
       "  </thead>\n",
       "  <tbody>\n",
       "    <tr>\n",
       "      <th>goserelin</th>\n",
       "      <td>0.0</td>\n",
       "      <td>0.0</td>\n",
       "      <td>0.0</td>\n",
       "      <td>0.0</td>\n",
       "      <td>0.0</td>\n",
       "      <td>0.0</td>\n",
       "      <td>0.0</td>\n",
       "      <td>0.0</td>\n",
       "      <td>0.0</td>\n",
       "      <td>0.0</td>\n",
       "      <td>...</td>\n",
       "      <td>1.0</td>\n",
       "      <td>1.0</td>\n",
       "      <td>1.0</td>\n",
       "      <td>1.0</td>\n",
       "      <td>1.0</td>\n",
       "      <td>1.0</td>\n",
       "      <td>1.0</td>\n",
       "      <td>1.0</td>\n",
       "      <td>1.0</td>\n",
       "      <td>0.0</td>\n",
       "    </tr>\n",
       "    <tr>\n",
       "      <th>cetrorelix</th>\n",
       "      <td>0.0</td>\n",
       "      <td>0.0</td>\n",
       "      <td>0.0</td>\n",
       "      <td>0.0</td>\n",
       "      <td>0.0</td>\n",
       "      <td>0.0</td>\n",
       "      <td>0.0</td>\n",
       "      <td>0.0</td>\n",
       "      <td>0.0</td>\n",
       "      <td>0.0</td>\n",
       "      <td>...</td>\n",
       "      <td>1.0</td>\n",
       "      <td>1.0</td>\n",
       "      <td>1.0</td>\n",
       "      <td>1.0</td>\n",
       "      <td>1.0</td>\n",
       "      <td>1.0</td>\n",
       "      <td>1.0</td>\n",
       "      <td>1.0</td>\n",
       "      <td>1.0</td>\n",
       "      <td>0.0</td>\n",
       "    </tr>\n",
       "    <tr>\n",
       "      <th>ciclosporin</th>\n",
       "      <td>0.0</td>\n",
       "      <td>0.0</td>\n",
       "      <td>0.0</td>\n",
       "      <td>0.0</td>\n",
       "      <td>0.0</td>\n",
       "      <td>0.0</td>\n",
       "      <td>0.0</td>\n",
       "      <td>0.0</td>\n",
       "      <td>0.0</td>\n",
       "      <td>0.0</td>\n",
       "      <td>...</td>\n",
       "      <td>1.0</td>\n",
       "      <td>1.0</td>\n",
       "      <td>1.0</td>\n",
       "      <td>1.0</td>\n",
       "      <td>1.0</td>\n",
       "      <td>0.0</td>\n",
       "      <td>0.0</td>\n",
       "      <td>1.0</td>\n",
       "      <td>1.0</td>\n",
       "      <td>0.0</td>\n",
       "    </tr>\n",
       "    <tr>\n",
       "      <th>octreotide</th>\n",
       "      <td>0.0</td>\n",
       "      <td>0.0</td>\n",
       "      <td>0.0</td>\n",
       "      <td>0.0</td>\n",
       "      <td>0.0</td>\n",
       "      <td>0.0</td>\n",
       "      <td>0.0</td>\n",
       "      <td>0.0</td>\n",
       "      <td>0.0</td>\n",
       "      <td>0.0</td>\n",
       "      <td>...</td>\n",
       "      <td>1.0</td>\n",
       "      <td>1.0</td>\n",
       "      <td>1.0</td>\n",
       "      <td>1.0</td>\n",
       "      <td>1.0</td>\n",
       "      <td>1.0</td>\n",
       "      <td>1.0</td>\n",
       "      <td>1.0</td>\n",
       "      <td>1.0</td>\n",
       "      <td>0.0</td>\n",
       "    </tr>\n",
       "    <tr>\n",
       "      <th>choline</th>\n",
       "      <td>0.0</td>\n",
       "      <td>0.0</td>\n",
       "      <td>0.0</td>\n",
       "      <td>0.0</td>\n",
       "      <td>0.0</td>\n",
       "      <td>0.0</td>\n",
       "      <td>0.0</td>\n",
       "      <td>0.0</td>\n",
       "      <td>0.0</td>\n",
       "      <td>0.0</td>\n",
       "      <td>...</td>\n",
       "      <td>1.0</td>\n",
       "      <td>1.0</td>\n",
       "      <td>0.0</td>\n",
       "      <td>1.0</td>\n",
       "      <td>1.0</td>\n",
       "      <td>0.0</td>\n",
       "      <td>0.0</td>\n",
       "      <td>1.0</td>\n",
       "      <td>0.0</td>\n",
       "      <td>0.0</td>\n",
       "    </tr>\n",
       "  </tbody>\n",
       "</table>\n",
       "<p>5 rows × 167 columns</p>\n",
       "</div>"
      ],
      "text/plain": [
       "             MACCS0  MACCS1  MACCS2  MACCS3  MACCS4  MACCS5  MACCS6  MACCS7  \\\n",
       "goserelin       0.0     0.0     0.0     0.0     0.0     0.0     0.0     0.0   \n",
       "cetrorelix      0.0     0.0     0.0     0.0     0.0     0.0     0.0     0.0   \n",
       "ciclosporin     0.0     0.0     0.0     0.0     0.0     0.0     0.0     0.0   \n",
       "octreotide      0.0     0.0     0.0     0.0     0.0     0.0     0.0     0.0   \n",
       "choline         0.0     0.0     0.0     0.0     0.0     0.0     0.0     0.0   \n",
       "\n",
       "             MACCS8  MACCS9  ...  MACCS157  MACCS158  MACCS159  MACCS160  \\\n",
       "goserelin       0.0     0.0  ...       1.0       1.0       1.0       1.0   \n",
       "cetrorelix      0.0     0.0  ...       1.0       1.0       1.0       1.0   \n",
       "ciclosporin     0.0     0.0  ...       1.0       1.0       1.0       1.0   \n",
       "octreotide      0.0     0.0  ...       1.0       1.0       1.0       1.0   \n",
       "choline         0.0     0.0  ...       1.0       1.0       0.0       1.0   \n",
       "\n",
       "             MACCS161  MACCS162  MACCS163  MACCS164  MACCS165  MACCS166  \n",
       "goserelin         1.0       1.0       1.0       1.0       1.0       0.0  \n",
       "cetrorelix        1.0       1.0       1.0       1.0       1.0       0.0  \n",
       "ciclosporin       1.0       0.0       0.0       1.0       1.0       0.0  \n",
       "octreotide        1.0       1.0       1.0       1.0       1.0       0.0  \n",
       "choline           1.0       0.0       0.0       1.0       0.0       0.0  \n",
       "\n",
       "[5 rows x 167 columns]"
      ]
     },
     "execution_count": 12,
     "metadata": {},
     "output_type": "execute_result"
    }
   ],
   "source": [
    "maccs_df.head()"
   ]
  },
  {
   "cell_type": "markdown",
   "metadata": {},
   "source": [
    "### Export as binary matrix"
   ]
  },
  {
   "cell_type": "code",
   "execution_count": 13,
   "metadata": {},
   "outputs": [],
   "source": [
    "maccs_df.to_csv('../data/RDKIT/RDKIT_maccs_fp_matrix.tsv', sep='\\t')"
   ]
  },
  {
   "cell_type": "markdown",
   "metadata": {},
   "source": [
    "### Exporting as drug-set library"
   ]
  },
  {
   "cell_type": "code",
   "execution_count": 14,
   "metadata": {},
   "outputs": [],
   "source": [
    "for i,col in enumerate(maccs_df.columns):\n",
    "    index = maccs_df[maccs_df[col] == 1].index\n",
    "    lst = index.values.tolist()\n",
    "    if len(lst) >= 5:\n",
    "        lst.insert(0, col)\n",
    "    else:\n",
    "        lst.insert(1, 'NA')\n",
    "    \n",
    "    if 'NA' in lst:\n",
    "        pass\n",
    "    else:\n",
    "        lst = ['{0}\\t'.format(elem) for elem in lst] # add tabs between terms in the lst\n",
    "        lst.insert(len(lst), '\\n') # add a newline char at the end of each lst\n",
    "        with open('../data/RDKIT/RDKIT_maccs_fingerprints_drugsetlibrary.txt', 'a') as f:\n",
    "            f.writelines(lst)"
   ]
  },
  {
   "cell_type": "markdown",
   "metadata": {},
   "source": [
    "### Library counts"
   ]
  },
  {
   "cell_type": "code",
   "execution_count": 15,
   "metadata": {},
   "outputs": [
    {
     "name": "stdout",
     "output_type": "stream",
     "text": [
      "43941 unique drugs\n",
      "163 unique association terms\n",
      "2241402 unique associations\n",
      "13750.932515337423 average drugs per term\n"
     ]
    }
   ],
   "source": [
    "import csv\n",
    "\n",
    "with open('../data/RDKIT/RDKIT_maccs_fingerprints_drugsetlibrary.txt', 'r') as f:\n",
    "    reader = csv.reader(f, delimiter = '\\t')\n",
    "    drugsetlibrary = {line[0]:list(([(str(g)).split('\\t')[0] for g in line[2:]])) for line in reader}\n",
    "    \n",
    "library_counts(drugsetlibrary)"
   ]
  }
 ],
 "metadata": {
  "kernelspec": {
   "display_name": "Python [conda env:my-rdkit-env]",
   "language": "python",
   "name": "conda-env-my-rdkit-env-py"
  },
  "language_info": {
   "codemirror_mode": {
    "name": "ipython",
    "version": 3
   },
   "file_extension": ".py",
   "mimetype": "text/x-python",
   "name": "python",
   "nbconvert_exporter": "python",
   "pygments_lexer": "ipython3",
   "version": "3.6.8"
  }
 },
 "nbformat": 4,
 "nbformat_minor": 2
}
