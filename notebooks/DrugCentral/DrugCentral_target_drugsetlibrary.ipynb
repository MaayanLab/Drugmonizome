{
 "cells": [
  {
   "cell_type": "markdown",
   "metadata": {},
   "source": [
    "## DrugCentral Target Drug-Set Library\n",
    "### Drug-set labels: Genes\n",
    "#### ALL DATABASES ACCESSED 03/01/20\n",
    "##### Author : Eryk Kropiwnicki | eryk.kropiwnicki@icahn.mssm.edu"
   ]
  },
  {
   "cell_type": "code",
   "execution_count": 1,
   "metadata": {},
   "outputs": [],
   "source": [
    "import os\n",
    "import csv\n",
    "import json\n",
    "import pandas as pd\n",
    "from collections import defaultdict"
   ]
  },
  {
   "cell_type": "code",
   "execution_count": 2,
   "metadata": {},
   "outputs": [],
   "source": [
    "os.chdir('../../scripts')\n",
    "from export_script import *\n",
    "from gene_resolver import *\n",
    "os.chdir('../notebooks/DrugCentral')"
   ]
  },
  {
   "cell_type": "markdown",
   "metadata": {},
   "source": [
    "### Import target interaction data & drug metadata\n",
    "#### Source : http://drugcentral.org/download"
   ]
  },
  {
   "cell_type": "code",
   "execution_count": 3,
   "metadata": {},
   "outputs": [
    {
     "data": {
      "text/html": [
       "<div>\n",
       "<style scoped>\n",
       "    .dataframe tbody tr th:only-of-type {\n",
       "        vertical-align: middle;\n",
       "    }\n",
       "\n",
       "    .dataframe tbody tr th {\n",
       "        vertical-align: top;\n",
       "    }\n",
       "\n",
       "    .dataframe thead th {\n",
       "        text-align: right;\n",
       "    }\n",
       "</style>\n",
       "<table border=\"1\" class=\"dataframe\">\n",
       "  <thead>\n",
       "    <tr style=\"text-align: right;\">\n",
       "      <th></th>\n",
       "      <th>DRUG_NAME</th>\n",
       "      <th>ACCESSION</th>\n",
       "      <th>GENE</th>\n",
       "      <th>ORGANISM</th>\n",
       "    </tr>\n",
       "  </thead>\n",
       "  <tbody>\n",
       "    <tr>\n",
       "      <th>0</th>\n",
       "      <td>levobupivacaine</td>\n",
       "      <td>P35499</td>\n",
       "      <td>SCN4A</td>\n",
       "      <td>Homo sapiens</td>\n",
       "    </tr>\n",
       "    <tr>\n",
       "      <th>1</th>\n",
       "      <td>levobupivacaine</td>\n",
       "      <td>P10635</td>\n",
       "      <td>CYP2D6</td>\n",
       "      <td>Homo sapiens</td>\n",
       "    </tr>\n",
       "    <tr>\n",
       "      <th>2</th>\n",
       "      <td>levobupivacaine</td>\n",
       "      <td>Q12809</td>\n",
       "      <td>KCNH2</td>\n",
       "      <td>Homo sapiens</td>\n",
       "    </tr>\n",
       "    <tr>\n",
       "      <th>3</th>\n",
       "      <td>levobupivacaine</td>\n",
       "      <td>Q9UK17</td>\n",
       "      <td>KCND3</td>\n",
       "      <td>Homo sapiens</td>\n",
       "    </tr>\n",
       "    <tr>\n",
       "      <th>4</th>\n",
       "      <td>levobupivacaine</td>\n",
       "      <td>P34995</td>\n",
       "      <td>PTGER1</td>\n",
       "      <td>Homo sapiens</td>\n",
       "    </tr>\n",
       "  </tbody>\n",
       "</table>\n",
       "</div>"
      ],
      "text/plain": [
       "         DRUG_NAME ACCESSION    GENE      ORGANISM\n",
       "0  levobupivacaine    P35499   SCN4A  Homo sapiens\n",
       "1  levobupivacaine    P10635  CYP2D6  Homo sapiens\n",
       "2  levobupivacaine    Q12809   KCNH2  Homo sapiens\n",
       "3  levobupivacaine    Q9UK17   KCND3  Homo sapiens\n",
       "4  levobupivacaine    P34995  PTGER1  Homo sapiens"
      ]
     },
     "execution_count": 3,
     "metadata": {},
     "output_type": "execute_result"
    }
   ],
   "source": [
    "df_interactions = pd.read_csv('input/drug.target.interaction.tsv', sep = '\\t', usecols = ['DRUG_NAME','ACCESSION',\n",
    "                                                                             'GENE','ORGANISM'])\n",
    "df_interactions.head()"
   ]
  },
  {
   "cell_type": "code",
   "execution_count": 4,
   "metadata": {},
   "outputs": [
    {
     "data": {
      "text/html": [
       "<div>\n",
       "<style scoped>\n",
       "    .dataframe tbody tr th:only-of-type {\n",
       "        vertical-align: middle;\n",
       "    }\n",
       "\n",
       "    .dataframe tbody tr th {\n",
       "        vertical-align: top;\n",
       "    }\n",
       "\n",
       "    .dataframe thead th {\n",
       "        text-align: right;\n",
       "    }\n",
       "</style>\n",
       "<table border=\"1\" class=\"dataframe\">\n",
       "  <thead>\n",
       "    <tr style=\"text-align: right;\">\n",
       "      <th></th>\n",
       "      <th>SMILES</th>\n",
       "      <th>InChI</th>\n",
       "      <th>InChIKey</th>\n",
       "      <th>ID</th>\n",
       "      <th>INN</th>\n",
       "      <th>CAS_RN</th>\n",
       "    </tr>\n",
       "  </thead>\n",
       "  <tbody>\n",
       "    <tr>\n",
       "      <th>0</th>\n",
       "      <td>CCCCN1CCCC[C@H]1C(=O)NC1=C(C)C=CC=C1C</td>\n",
       "      <td>InChI=1S/C18H28N2O/c1-4-5-12-20-13-7-6-11-16(2...</td>\n",
       "      <td>LEBVLXFERQHONN-INIZCTEOSA-N</td>\n",
       "      <td>4</td>\n",
       "      <td>levobupivacaine</td>\n",
       "      <td>27262-47-1</td>\n",
       "    </tr>\n",
       "    <tr>\n",
       "      <th>1</th>\n",
       "      <td>COC(=O)C1=C(C)NC(C)=C([C@H]1C1=CC(=CC=C1)[N+](...</td>\n",
       "      <td>InChI=1S/C26H29N3O6/c1-17-22(25(30)34-4)24(20-...</td>\n",
       "      <td>ZBBHBTPTTSWHBA-DEOSSOPVSA-N</td>\n",
       "      <td>5</td>\n",
       "      <td>(S)-nicardipine</td>\n",
       "      <td>76093-36-2</td>\n",
       "    </tr>\n",
       "    <tr>\n",
       "      <th>2</th>\n",
       "      <td>CCOC(=O)C1=C(C)NC(C)=C([C@@H]1C1=CC(=CC=C1)[N+...</td>\n",
       "      <td>InChI=1S/C18H20N2O6/c1-5-26-18(22)15-11(3)19-1...</td>\n",
       "      <td>PVHUJELLJLJGLN-INIZCTEOSA-N</td>\n",
       "      <td>6</td>\n",
       "      <td>(S)-nitrendipine</td>\n",
       "      <td>80873-62-7</td>\n",
       "    </tr>\n",
       "    <tr>\n",
       "      <th>3</th>\n",
       "      <td>C[C@@H](CCC1=CC=C(O)C=C1)NCCC1=CC=C(O)C(O)=C1</td>\n",
       "      <td>InChI=1S/C18H23NO3/c1-13(2-3-14-4-7-16(20)8-5-...</td>\n",
       "      <td>JRWZLRBJNMZMFE-ZDUSSCGKSA-N</td>\n",
       "      <td>13</td>\n",
       "      <td>levdobutamine</td>\n",
       "      <td>61661-06-1</td>\n",
       "    </tr>\n",
       "    <tr>\n",
       "      <th>4</th>\n",
       "      <td>NC1=NC2=NC=C(CNC3=CC=C(C=C3)C(=O)N[C@@H](CCC(O...</td>\n",
       "      <td>InChI=1S/C19H20N8O5/c20-15-14-16(27-19(21)26-1...</td>\n",
       "      <td>TVZGACDUOSZQKY-LBPRGKRZSA-N</td>\n",
       "      <td>21</td>\n",
       "      <td>aminopterin</td>\n",
       "      <td>54-62-6</td>\n",
       "    </tr>\n",
       "  </tbody>\n",
       "</table>\n",
       "</div>"
      ],
      "text/plain": [
       "                                              SMILES  \\\n",
       "0              CCCCN1CCCC[C@H]1C(=O)NC1=C(C)C=CC=C1C   \n",
       "1  COC(=O)C1=C(C)NC(C)=C([C@H]1C1=CC(=CC=C1)[N+](...   \n",
       "2  CCOC(=O)C1=C(C)NC(C)=C([C@@H]1C1=CC(=CC=C1)[N+...   \n",
       "3      C[C@@H](CCC1=CC=C(O)C=C1)NCCC1=CC=C(O)C(O)=C1   \n",
       "4  NC1=NC2=NC=C(CNC3=CC=C(C=C3)C(=O)N[C@@H](CCC(O...   \n",
       "\n",
       "                                               InChI  \\\n",
       "0  InChI=1S/C18H28N2O/c1-4-5-12-20-13-7-6-11-16(2...   \n",
       "1  InChI=1S/C26H29N3O6/c1-17-22(25(30)34-4)24(20-...   \n",
       "2  InChI=1S/C18H20N2O6/c1-5-26-18(22)15-11(3)19-1...   \n",
       "3  InChI=1S/C18H23NO3/c1-13(2-3-14-4-7-16(20)8-5-...   \n",
       "4  InChI=1S/C19H20N8O5/c20-15-14-16(27-19(21)26-1...   \n",
       "\n",
       "                      InChIKey  ID               INN      CAS_RN  \n",
       "0  LEBVLXFERQHONN-INIZCTEOSA-N   4   levobupivacaine  27262-47-1  \n",
       "1  ZBBHBTPTTSWHBA-DEOSSOPVSA-N   5   (S)-nicardipine  76093-36-2  \n",
       "2  PVHUJELLJLJGLN-INIZCTEOSA-N   6  (S)-nitrendipine  80873-62-7  \n",
       "3  JRWZLRBJNMZMFE-ZDUSSCGKSA-N  13     levdobutamine  61661-06-1  \n",
       "4  TVZGACDUOSZQKY-LBPRGKRZSA-N  21       aminopterin     54-62-6  "
      ]
     },
     "execution_count": 4,
     "metadata": {},
     "output_type": "execute_result"
    }
   ],
   "source": [
    "df_meta = pd.read_csv('input/structures.smiles.tsv', sep = '\\t')\n",
    "df_meta.head()"
   ]
  },
  {
   "cell_type": "code",
   "execution_count": 5,
   "metadata": {},
   "outputs": [],
   "source": [
    "# Renaming drug column names to be the same and merging drug metadata\n",
    "df_meta.rename(columns={'INN':'DRUG_NAME'}, inplace=True)\n",
    "df_interactions = df_interactions.merge(df_meta) "
   ]
  },
  {
   "cell_type": "code",
   "execution_count": 6,
   "metadata": {},
   "outputs": [
    {
     "data": {
      "text/html": [
       "<div>\n",
       "<style scoped>\n",
       "    .dataframe tbody tr th:only-of-type {\n",
       "        vertical-align: middle;\n",
       "    }\n",
       "\n",
       "    .dataframe tbody tr th {\n",
       "        vertical-align: top;\n",
       "    }\n",
       "\n",
       "    .dataframe thead th {\n",
       "        text-align: right;\n",
       "    }\n",
       "</style>\n",
       "<table border=\"1\" class=\"dataframe\">\n",
       "  <thead>\n",
       "    <tr style=\"text-align: right;\">\n",
       "      <th></th>\n",
       "      <th>DRUG_NAME</th>\n",
       "      <th>ACCESSION</th>\n",
       "      <th>GENE</th>\n",
       "      <th>ORGANISM</th>\n",
       "      <th>SMILES</th>\n",
       "      <th>InChI</th>\n",
       "      <th>InChIKey</th>\n",
       "      <th>ID</th>\n",
       "      <th>CAS_RN</th>\n",
       "    </tr>\n",
       "  </thead>\n",
       "  <tbody>\n",
       "    <tr>\n",
       "      <th>0</th>\n",
       "      <td>levobupivacaine</td>\n",
       "      <td>P35499</td>\n",
       "      <td>SCN4A</td>\n",
       "      <td>Homo sapiens</td>\n",
       "      <td>CCCCN1CCCC[C@H]1C(=O)NC1=C(C)C=CC=C1C</td>\n",
       "      <td>InChI=1S/C18H28N2O/c1-4-5-12-20-13-7-6-11-16(2...</td>\n",
       "      <td>LEBVLXFERQHONN-INIZCTEOSA-N</td>\n",
       "      <td>4</td>\n",
       "      <td>27262-47-1</td>\n",
       "    </tr>\n",
       "    <tr>\n",
       "      <th>1</th>\n",
       "      <td>levobupivacaine</td>\n",
       "      <td>P10635</td>\n",
       "      <td>CYP2D6</td>\n",
       "      <td>Homo sapiens</td>\n",
       "      <td>CCCCN1CCCC[C@H]1C(=O)NC1=C(C)C=CC=C1C</td>\n",
       "      <td>InChI=1S/C18H28N2O/c1-4-5-12-20-13-7-6-11-16(2...</td>\n",
       "      <td>LEBVLXFERQHONN-INIZCTEOSA-N</td>\n",
       "      <td>4</td>\n",
       "      <td>27262-47-1</td>\n",
       "    </tr>\n",
       "    <tr>\n",
       "      <th>2</th>\n",
       "      <td>levobupivacaine</td>\n",
       "      <td>Q12809</td>\n",
       "      <td>KCNH2</td>\n",
       "      <td>Homo sapiens</td>\n",
       "      <td>CCCCN1CCCC[C@H]1C(=O)NC1=C(C)C=CC=C1C</td>\n",
       "      <td>InChI=1S/C18H28N2O/c1-4-5-12-20-13-7-6-11-16(2...</td>\n",
       "      <td>LEBVLXFERQHONN-INIZCTEOSA-N</td>\n",
       "      <td>4</td>\n",
       "      <td>27262-47-1</td>\n",
       "    </tr>\n",
       "    <tr>\n",
       "      <th>3</th>\n",
       "      <td>levobupivacaine</td>\n",
       "      <td>Q9UK17</td>\n",
       "      <td>KCND3</td>\n",
       "      <td>Homo sapiens</td>\n",
       "      <td>CCCCN1CCCC[C@H]1C(=O)NC1=C(C)C=CC=C1C</td>\n",
       "      <td>InChI=1S/C18H28N2O/c1-4-5-12-20-13-7-6-11-16(2...</td>\n",
       "      <td>LEBVLXFERQHONN-INIZCTEOSA-N</td>\n",
       "      <td>4</td>\n",
       "      <td>27262-47-1</td>\n",
       "    </tr>\n",
       "    <tr>\n",
       "      <th>4</th>\n",
       "      <td>levobupivacaine</td>\n",
       "      <td>P34995</td>\n",
       "      <td>PTGER1</td>\n",
       "      <td>Homo sapiens</td>\n",
       "      <td>CCCCN1CCCC[C@H]1C(=O)NC1=C(C)C=CC=C1C</td>\n",
       "      <td>InChI=1S/C18H28N2O/c1-4-5-12-20-13-7-6-11-16(2...</td>\n",
       "      <td>LEBVLXFERQHONN-INIZCTEOSA-N</td>\n",
       "      <td>4</td>\n",
       "      <td>27262-47-1</td>\n",
       "    </tr>\n",
       "  </tbody>\n",
       "</table>\n",
       "</div>"
      ],
      "text/plain": [
       "         DRUG_NAME ACCESSION    GENE      ORGANISM  \\\n",
       "0  levobupivacaine    P35499   SCN4A  Homo sapiens   \n",
       "1  levobupivacaine    P10635  CYP2D6  Homo sapiens   \n",
       "2  levobupivacaine    Q12809   KCNH2  Homo sapiens   \n",
       "3  levobupivacaine    Q9UK17   KCND3  Homo sapiens   \n",
       "4  levobupivacaine    P34995  PTGER1  Homo sapiens   \n",
       "\n",
       "                                  SMILES  \\\n",
       "0  CCCCN1CCCC[C@H]1C(=O)NC1=C(C)C=CC=C1C   \n",
       "1  CCCCN1CCCC[C@H]1C(=O)NC1=C(C)C=CC=C1C   \n",
       "2  CCCCN1CCCC[C@H]1C(=O)NC1=C(C)C=CC=C1C   \n",
       "3  CCCCN1CCCC[C@H]1C(=O)NC1=C(C)C=CC=C1C   \n",
       "4  CCCCN1CCCC[C@H]1C(=O)NC1=C(C)C=CC=C1C   \n",
       "\n",
       "                                               InChI  \\\n",
       "0  InChI=1S/C18H28N2O/c1-4-5-12-20-13-7-6-11-16(2...   \n",
       "1  InChI=1S/C18H28N2O/c1-4-5-12-20-13-7-6-11-16(2...   \n",
       "2  InChI=1S/C18H28N2O/c1-4-5-12-20-13-7-6-11-16(2...   \n",
       "3  InChI=1S/C18H28N2O/c1-4-5-12-20-13-7-6-11-16(2...   \n",
       "4  InChI=1S/C18H28N2O/c1-4-5-12-20-13-7-6-11-16(2...   \n",
       "\n",
       "                      InChIKey  ID      CAS_RN  \n",
       "0  LEBVLXFERQHONN-INIZCTEOSA-N   4  27262-47-1  \n",
       "1  LEBVLXFERQHONN-INIZCTEOSA-N   4  27262-47-1  \n",
       "2  LEBVLXFERQHONN-INIZCTEOSA-N   4  27262-47-1  \n",
       "3  LEBVLXFERQHONN-INIZCTEOSA-N   4  27262-47-1  \n",
       "4  LEBVLXFERQHONN-INIZCTEOSA-N   4  27262-47-1  "
      ]
     },
     "execution_count": 6,
     "metadata": {},
     "output_type": "execute_result"
    }
   ],
   "source": [
    "df_interactions.head()"
   ]
  },
  {
   "cell_type": "markdown",
   "metadata": {},
   "source": [
    "### Resolving drugs to InChI Keys\n",
    "In this case, CAS numbers are available as a mapping which will be the most resolute criteria for harmonization"
   ]
  },
  {
   "cell_type": "code",
   "execution_count": 7,
   "metadata": {},
   "outputs": [],
   "source": [
    "df_drugbank = pd.read_csv('../../metadata/drugmonizome_metadata.tsv', sep = '\\t', usecols = ['DrugBank ID','CAS',\n",
    "                                                                                             'Standard InChI Key'])"
   ]
  },
  {
   "cell_type": "code",
   "execution_count": 8,
   "metadata": {},
   "outputs": [
    {
     "data": {
      "text/html": [
       "<div>\n",
       "<style scoped>\n",
       "    .dataframe tbody tr th:only-of-type {\n",
       "        vertical-align: middle;\n",
       "    }\n",
       "\n",
       "    .dataframe tbody tr th {\n",
       "        vertical-align: top;\n",
       "    }\n",
       "\n",
       "    .dataframe thead th {\n",
       "        text-align: right;\n",
       "    }\n",
       "</style>\n",
       "<table border=\"1\" class=\"dataframe\">\n",
       "  <thead>\n",
       "    <tr style=\"text-align: right;\">\n",
       "      <th></th>\n",
       "      <th>DrugBank ID</th>\n",
       "      <th>CAS</th>\n",
       "      <th>Standard InChI Key</th>\n",
       "    </tr>\n",
       "  </thead>\n",
       "  <tbody>\n",
       "    <tr>\n",
       "      <th>0</th>\n",
       "      <td>DB00006</td>\n",
       "      <td>128270-60-0</td>\n",
       "      <td>OIRCOABEOLEUMC-GEJPAHFPSA-N</td>\n",
       "    </tr>\n",
       "    <tr>\n",
       "      <th>1</th>\n",
       "      <td>DB00007</td>\n",
       "      <td>53714-56-0</td>\n",
       "      <td>GFIJNRVAKGFPGQ-LIJARHBVSA-N</td>\n",
       "    </tr>\n",
       "    <tr>\n",
       "      <th>2</th>\n",
       "      <td>DB00014</td>\n",
       "      <td>65807-02-5</td>\n",
       "      <td>BLCLNMBMMGCOAS-URPVMXJPSA-N</td>\n",
       "    </tr>\n",
       "    <tr>\n",
       "      <th>3</th>\n",
       "      <td>DB00027</td>\n",
       "      <td>1405-97-6</td>\n",
       "      <td>NDAYQJDHGXTBJL-MWWSRJDJSA-N</td>\n",
       "    </tr>\n",
       "    <tr>\n",
       "      <th>4</th>\n",
       "      <td>DB00035</td>\n",
       "      <td>16679-58-6</td>\n",
       "      <td>NFLWUMRGJYTJIN-PNIOQBSNSA-N</td>\n",
       "    </tr>\n",
       "  </tbody>\n",
       "</table>\n",
       "</div>"
      ],
      "text/plain": [
       "  DrugBank ID          CAS           Standard InChI Key\n",
       "0     DB00006  128270-60-0  OIRCOABEOLEUMC-GEJPAHFPSA-N\n",
       "1     DB00007   53714-56-0  GFIJNRVAKGFPGQ-LIJARHBVSA-N\n",
       "2     DB00014   65807-02-5  BLCLNMBMMGCOAS-URPVMXJPSA-N\n",
       "3     DB00027    1405-97-6  NDAYQJDHGXTBJL-MWWSRJDJSA-N\n",
       "4     DB00035   16679-58-6  NFLWUMRGJYTJIN-PNIOQBSNSA-N"
      ]
     },
     "execution_count": 8,
     "metadata": {},
     "output_type": "execute_result"
    }
   ],
   "source": [
    "df_drugbank.head()"
   ]
  },
  {
   "cell_type": "code",
   "execution_count": 9,
   "metadata": {},
   "outputs": [
    {
     "data": {
      "text/plain": [
       "2174"
      ]
     },
     "execution_count": 9,
     "metadata": {},
     "output_type": "execute_result"
    }
   ],
   "source": [
    "len(set(df_interactions['DRUG_NAME']))"
   ]
  },
  {
   "cell_type": "code",
   "execution_count": 10,
   "metadata": {},
   "outputs": [],
   "source": [
    "# Mapping Drugbank IDs by shared CAS number\n",
    "df_drugbank.rename(columns={'CAS':'CAS_RN'}, inplace=True)\n",
    "df_interactions = df_drugbank.merge(df_interactions)"
   ]
  },
  {
   "cell_type": "markdown",
   "metadata": {},
   "source": [
    "1895/2174 small molecules were mapped"
   ]
  },
  {
   "cell_type": "code",
   "execution_count": 11,
   "metadata": {},
   "outputs": [
    {
     "data": {
      "text/plain": [
       "1895"
      ]
     },
     "execution_count": 11,
     "metadata": {},
     "output_type": "execute_result"
    }
   ],
   "source": [
    "len(set(df_interactions['DRUG_NAME']))"
   ]
  },
  {
   "cell_type": "code",
   "execution_count": 12,
   "metadata": {},
   "outputs": [
    {
     "data": {
      "text/html": [
       "<div>\n",
       "<style scoped>\n",
       "    .dataframe tbody tr th:only-of-type {\n",
       "        vertical-align: middle;\n",
       "    }\n",
       "\n",
       "    .dataframe tbody tr th {\n",
       "        vertical-align: top;\n",
       "    }\n",
       "\n",
       "    .dataframe thead th {\n",
       "        text-align: right;\n",
       "    }\n",
       "</style>\n",
       "<table border=\"1\" class=\"dataframe\">\n",
       "  <thead>\n",
       "    <tr style=\"text-align: right;\">\n",
       "      <th></th>\n",
       "      <th>DrugBank ID</th>\n",
       "      <th>CAS_RN</th>\n",
       "      <th>Standard InChI Key</th>\n",
       "      <th>DRUG_NAME</th>\n",
       "      <th>ACCESSION</th>\n",
       "      <th>GENE</th>\n",
       "      <th>ORGANISM</th>\n",
       "      <th>SMILES</th>\n",
       "      <th>InChI</th>\n",
       "      <th>InChIKey</th>\n",
       "      <th>ID</th>\n",
       "    </tr>\n",
       "  </thead>\n",
       "  <tbody>\n",
       "    <tr>\n",
       "      <th>0</th>\n",
       "      <td>DB00006</td>\n",
       "      <td>128270-60-0</td>\n",
       "      <td>OIRCOABEOLEUMC-GEJPAHFPSA-N</td>\n",
       "      <td>bivalirudin</td>\n",
       "      <td>P00734</td>\n",
       "      <td>F2</td>\n",
       "      <td>Homo sapiens</td>\n",
       "      <td>CC[C@H](C)[C@H](NC(=O)[C@H](CCC(O)=O)NC(=O)[C@...</td>\n",
       "      <td>InChI=1S/C98H138N24O33/c1-5-52(4)82(96(153)122...</td>\n",
       "      <td>OIRCOABEOLEUMC-GEJPAHFPSA-N</td>\n",
       "      <td>385</td>\n",
       "    </tr>\n",
       "    <tr>\n",
       "      <th>1</th>\n",
       "      <td>DB00007</td>\n",
       "      <td>53714-56-0</td>\n",
       "      <td>GFIJNRVAKGFPGQ-LIJARHBVSA-N</td>\n",
       "      <td>leuprorelin</td>\n",
       "      <td>P30968</td>\n",
       "      <td>GNRHR</td>\n",
       "      <td>Homo sapiens</td>\n",
       "      <td>CCNC(=O)[C@@H]1CCCN1C(=O)[C@H](CCCNC(N)=N)NC(=...</td>\n",
       "      <td>InChI=1S/C59H84N16O12/c1-6-63-57(86)48-14-10-2...</td>\n",
       "      <td>GFIJNRVAKGFPGQ-LIJARHBVSA-N</td>\n",
       "      <td>1559</td>\n",
       "    </tr>\n",
       "    <tr>\n",
       "      <th>2</th>\n",
       "      <td>DB00007</td>\n",
       "      <td>53714-56-0</td>\n",
       "      <td>GFIJNRVAKGFPGQ-LIJARHBVSA-N</td>\n",
       "      <td>leuprorelin</td>\n",
       "      <td>P30969</td>\n",
       "      <td>Gnrhr</td>\n",
       "      <td>Rattus norvegicus</td>\n",
       "      <td>CCNC(=O)[C@@H]1CCCN1C(=O)[C@H](CCCNC(N)=N)NC(=...</td>\n",
       "      <td>InChI=1S/C59H84N16O12/c1-6-63-57(86)48-14-10-2...</td>\n",
       "      <td>GFIJNRVAKGFPGQ-LIJARHBVSA-N</td>\n",
       "      <td>1559</td>\n",
       "    </tr>\n",
       "    <tr>\n",
       "      <th>3</th>\n",
       "      <td>DB00014</td>\n",
       "      <td>65807-02-5</td>\n",
       "      <td>BLCLNMBMMGCOAS-URPVMXJPSA-N</td>\n",
       "      <td>goserelin</td>\n",
       "      <td>P22888</td>\n",
       "      <td>LHCGR</td>\n",
       "      <td>Homo sapiens</td>\n",
       "      <td>CC(C)C[C@H](NC(=O)[C@@H](COC(C)(C)C)NC(=O)[C@H...</td>\n",
       "      <td>InChI=1S/C59H84N18O14/c1-31(2)22-40(49(82)68-3...</td>\n",
       "      <td>BLCLNMBMMGCOAS-URPVMXJPSA-N</td>\n",
       "      <td>1327</td>\n",
       "    </tr>\n",
       "    <tr>\n",
       "      <th>4</th>\n",
       "      <td>DB00014</td>\n",
       "      <td>65807-02-5</td>\n",
       "      <td>BLCLNMBMMGCOAS-URPVMXJPSA-N</td>\n",
       "      <td>goserelin</td>\n",
       "      <td>P30968</td>\n",
       "      <td>GNRHR</td>\n",
       "      <td>Homo sapiens</td>\n",
       "      <td>CC(C)C[C@H](NC(=O)[C@@H](COC(C)(C)C)NC(=O)[C@H...</td>\n",
       "      <td>InChI=1S/C59H84N18O14/c1-31(2)22-40(49(82)68-3...</td>\n",
       "      <td>BLCLNMBMMGCOAS-URPVMXJPSA-N</td>\n",
       "      <td>1327</td>\n",
       "    </tr>\n",
       "  </tbody>\n",
       "</table>\n",
       "</div>"
      ],
      "text/plain": [
       "  DrugBank ID       CAS_RN           Standard InChI Key    DRUG_NAME  \\\n",
       "0     DB00006  128270-60-0  OIRCOABEOLEUMC-GEJPAHFPSA-N  bivalirudin   \n",
       "1     DB00007   53714-56-0  GFIJNRVAKGFPGQ-LIJARHBVSA-N  leuprorelin   \n",
       "2     DB00007   53714-56-0  GFIJNRVAKGFPGQ-LIJARHBVSA-N  leuprorelin   \n",
       "3     DB00014   65807-02-5  BLCLNMBMMGCOAS-URPVMXJPSA-N    goserelin   \n",
       "4     DB00014   65807-02-5  BLCLNMBMMGCOAS-URPVMXJPSA-N    goserelin   \n",
       "\n",
       "  ACCESSION   GENE           ORGANISM  \\\n",
       "0    P00734     F2       Homo sapiens   \n",
       "1    P30968  GNRHR       Homo sapiens   \n",
       "2    P30969  Gnrhr  Rattus norvegicus   \n",
       "3    P22888  LHCGR       Homo sapiens   \n",
       "4    P30968  GNRHR       Homo sapiens   \n",
       "\n",
       "                                              SMILES  \\\n",
       "0  CC[C@H](C)[C@H](NC(=O)[C@H](CCC(O)=O)NC(=O)[C@...   \n",
       "1  CCNC(=O)[C@@H]1CCCN1C(=O)[C@H](CCCNC(N)=N)NC(=...   \n",
       "2  CCNC(=O)[C@@H]1CCCN1C(=O)[C@H](CCCNC(N)=N)NC(=...   \n",
       "3  CC(C)C[C@H](NC(=O)[C@@H](COC(C)(C)C)NC(=O)[C@H...   \n",
       "4  CC(C)C[C@H](NC(=O)[C@@H](COC(C)(C)C)NC(=O)[C@H...   \n",
       "\n",
       "                                               InChI  \\\n",
       "0  InChI=1S/C98H138N24O33/c1-5-52(4)82(96(153)122...   \n",
       "1  InChI=1S/C59H84N16O12/c1-6-63-57(86)48-14-10-2...   \n",
       "2  InChI=1S/C59H84N16O12/c1-6-63-57(86)48-14-10-2...   \n",
       "3  InChI=1S/C59H84N18O14/c1-31(2)22-40(49(82)68-3...   \n",
       "4  InChI=1S/C59H84N18O14/c1-31(2)22-40(49(82)68-3...   \n",
       "\n",
       "                      InChIKey    ID  \n",
       "0  OIRCOABEOLEUMC-GEJPAHFPSA-N   385  \n",
       "1  GFIJNRVAKGFPGQ-LIJARHBVSA-N  1559  \n",
       "2  GFIJNRVAKGFPGQ-LIJARHBVSA-N  1559  \n",
       "3  BLCLNMBMMGCOAS-URPVMXJPSA-N  1327  \n",
       "4  BLCLNMBMMGCOAS-URPVMXJPSA-N  1327  "
      ]
     },
     "execution_count": 12,
     "metadata": {},
     "output_type": "execute_result"
    }
   ],
   "source": [
    "df_interactions.head()"
   ]
  },
  {
   "cell_type": "markdown",
   "metadata": {},
   "source": [
    "### Resolve genes"
   ]
  },
  {
   "cell_type": "code",
   "execution_count": 13,
   "metadata": {},
   "outputs": [],
   "source": [
    "# Retaining only human specific associations\n",
    "df_human = df_interactions[df_interactions['ORGANISM'] == 'Homo sapiens']"
   ]
  },
  {
   "cell_type": "markdown",
   "metadata": {},
   "source": [
    "Some genes are paired with multiple symbols"
   ]
  },
  {
   "cell_type": "code",
   "execution_count": 14,
   "metadata": {},
   "outputs": [
    {
     "data": {
      "text/html": [
       "<div>\n",
       "<style scoped>\n",
       "    .dataframe tbody tr th:only-of-type {\n",
       "        vertical-align: middle;\n",
       "    }\n",
       "\n",
       "    .dataframe tbody tr th {\n",
       "        vertical-align: top;\n",
       "    }\n",
       "\n",
       "    .dataframe thead th {\n",
       "        text-align: right;\n",
       "    }\n",
       "</style>\n",
       "<table border=\"1\" class=\"dataframe\">\n",
       "  <thead>\n",
       "    <tr style=\"text-align: right;\">\n",
       "      <th></th>\n",
       "      <th>DrugBank ID</th>\n",
       "      <th>CAS_RN</th>\n",
       "      <th>Standard InChI Key</th>\n",
       "      <th>DRUG_NAME</th>\n",
       "      <th>ACCESSION</th>\n",
       "      <th>GENE</th>\n",
       "      <th>ORGANISM</th>\n",
       "      <th>SMILES</th>\n",
       "      <th>InChI</th>\n",
       "      <th>InChIKey</th>\n",
       "      <th>ID</th>\n",
       "    </tr>\n",
       "  </thead>\n",
       "  <tbody>\n",
       "    <tr>\n",
       "      <th>3608</th>\n",
       "      <td>DB00528</td>\n",
       "      <td>100427-26-7</td>\n",
       "      <td>ZDXUKAKRHYTAKV-UHFFFAOYSA-N</td>\n",
       "      <td>lercanidipine</td>\n",
       "      <td>Q01668|Q13936</td>\n",
       "      <td>CACNA1C|CACNA1D</td>\n",
       "      <td>Homo sapiens</td>\n",
       "      <td>COC(=O)C1=C(C)NC(C)=C(C1C1=CC=CC(=C1)[N+]([O-]...</td>\n",
       "      <td>InChI=1S/C36H41N3O6/c1-24-31(34(40)44-6)33(28-...</td>\n",
       "      <td>ZDXUKAKRHYTAKV-UHFFFAOYSA-N</td>\n",
       "      <td>4157</td>\n",
       "    </tr>\n",
       "    <tr>\n",
       "      <th>4437</th>\n",
       "      <td>DB00622</td>\n",
       "      <td>55985-32-5</td>\n",
       "      <td>ZBBHBTPTTSWHBA-UHFFFAOYSA-N</td>\n",
       "      <td>nicardipine</td>\n",
       "      <td>Q01668|Q13936</td>\n",
       "      <td>CACNA1C|CACNA1D</td>\n",
       "      <td>Homo sapiens</td>\n",
       "      <td>COC(=O)C1=C(C)NC(C)=C(C1C1=CC(=CC=C1)[N+]([O-]...</td>\n",
       "      <td>InChI=1S/C26H29N3O6/c1-17-22(25(30)34-4)24(20-...</td>\n",
       "      <td>ZBBHBTPTTSWHBA-UHFFFAOYSA-N</td>\n",
       "      <td>1909</td>\n",
       "    </tr>\n",
       "  </tbody>\n",
       "</table>\n",
       "</div>"
      ],
      "text/plain": [
       "     DrugBank ID       CAS_RN           Standard InChI Key      DRUG_NAME  \\\n",
       "3608     DB00528  100427-26-7  ZDXUKAKRHYTAKV-UHFFFAOYSA-N  lercanidipine   \n",
       "4437     DB00622   55985-32-5  ZBBHBTPTTSWHBA-UHFFFAOYSA-N    nicardipine   \n",
       "\n",
       "          ACCESSION             GENE      ORGANISM  \\\n",
       "3608  Q01668|Q13936  CACNA1C|CACNA1D  Homo sapiens   \n",
       "4437  Q01668|Q13936  CACNA1C|CACNA1D  Homo sapiens   \n",
       "\n",
       "                                                 SMILES  \\\n",
       "3608  COC(=O)C1=C(C)NC(C)=C(C1C1=CC=CC(=C1)[N+]([O-]...   \n",
       "4437  COC(=O)C1=C(C)NC(C)=C(C1C1=CC(=CC=C1)[N+]([O-]...   \n",
       "\n",
       "                                                  InChI  \\\n",
       "3608  InChI=1S/C36H41N3O6/c1-24-31(34(40)44-6)33(28-...   \n",
       "4437  InChI=1S/C26H29N3O6/c1-17-22(25(30)34-4)24(20-...   \n",
       "\n",
       "                         InChIKey    ID  \n",
       "3608  ZDXUKAKRHYTAKV-UHFFFAOYSA-N  4157  \n",
       "4437  ZBBHBTPTTSWHBA-UHFFFAOYSA-N  1909  "
      ]
     },
     "execution_count": 14,
     "metadata": {},
     "output_type": "execute_result"
    }
   ],
   "source": [
    "df_human[df_human['GENE'] == 'CACNA1C|CACNA1D'].head(2)"
   ]
  },
  {
   "cell_type": "code",
   "execution_count": 15,
   "metadata": {},
   "outputs": [],
   "source": [
    "# Splitting instances of multiple genes into separate rows\n",
    "df_human_split = pd.DataFrame(df_human['GENE'].str.split('|').tolist(), index=df_human['Standard InChI Key']).stack()\n",
    "df_human_split = df_human_split.reset_index()[[0, 'Standard InChI Key']]\n",
    "df_human_split.columns = ['Gene', 'Drug'] "
   ]
  },
  {
   "cell_type": "code",
   "execution_count": 16,
   "metadata": {},
   "outputs": [],
   "source": [
    "gene_resolver(df_human_split, columnName = 'Gene')"
   ]
  },
  {
   "cell_type": "code",
   "execution_count": 17,
   "metadata": {},
   "outputs": [
    {
     "data": {
      "text/html": [
       "<div>\n",
       "<style scoped>\n",
       "    .dataframe tbody tr th:only-of-type {\n",
       "        vertical-align: middle;\n",
       "    }\n",
       "\n",
       "    .dataframe tbody tr th {\n",
       "        vertical-align: top;\n",
       "    }\n",
       "\n",
       "    .dataframe thead th {\n",
       "        text-align: right;\n",
       "    }\n",
       "</style>\n",
       "<table border=\"1\" class=\"dataframe\">\n",
       "  <thead>\n",
       "    <tr style=\"text-align: right;\">\n",
       "      <th></th>\n",
       "      <th>Gene</th>\n",
       "      <th>Drug</th>\n",
       "      <th>Approved Symbol</th>\n",
       "    </tr>\n",
       "  </thead>\n",
       "  <tbody>\n",
       "    <tr>\n",
       "      <th>0</th>\n",
       "      <td>F2</td>\n",
       "      <td>OIRCOABEOLEUMC-GEJPAHFPSA-N</td>\n",
       "      <td>F2</td>\n",
       "    </tr>\n",
       "    <tr>\n",
       "      <th>1</th>\n",
       "      <td>GNRHR</td>\n",
       "      <td>GFIJNRVAKGFPGQ-LIJARHBVSA-N</td>\n",
       "      <td>GNRHR</td>\n",
       "    </tr>\n",
       "    <tr>\n",
       "      <th>2</th>\n",
       "      <td>LHCGR</td>\n",
       "      <td>BLCLNMBMMGCOAS-URPVMXJPSA-N</td>\n",
       "      <td>LHCGR</td>\n",
       "    </tr>\n",
       "    <tr>\n",
       "      <th>3</th>\n",
       "      <td>GNRHR</td>\n",
       "      <td>BLCLNMBMMGCOAS-URPVMXJPSA-N</td>\n",
       "      <td>GNRHR</td>\n",
       "    </tr>\n",
       "    <tr>\n",
       "      <th>4</th>\n",
       "      <td>OXTR</td>\n",
       "      <td>NFLWUMRGJYTJIN-PNIOQBSNSA-N</td>\n",
       "      <td>OXTR</td>\n",
       "    </tr>\n",
       "  </tbody>\n",
       "</table>\n",
       "</div>"
      ],
      "text/plain": [
       "    Gene                         Drug Approved Symbol\n",
       "0     F2  OIRCOABEOLEUMC-GEJPAHFPSA-N              F2\n",
       "1  GNRHR  GFIJNRVAKGFPGQ-LIJARHBVSA-N           GNRHR\n",
       "2  LHCGR  BLCLNMBMMGCOAS-URPVMXJPSA-N           LHCGR\n",
       "3  GNRHR  BLCLNMBMMGCOAS-URPVMXJPSA-N           GNRHR\n",
       "4   OXTR  NFLWUMRGJYTJIN-PNIOQBSNSA-N            OXTR"
      ]
     },
     "execution_count": 17,
     "metadata": {},
     "output_type": "execute_result"
    }
   ],
   "source": [
    "df_human_split.head()"
   ]
  },
  {
   "cell_type": "markdown",
   "metadata": {},
   "source": [
    "### Creating drugsetlibrary and exporting"
   ]
  },
  {
   "cell_type": "code",
   "execution_count": 18,
   "metadata": {},
   "outputs": [],
   "source": [
    "target_dict = tuple(zip(df_human_split['Approved Symbol'].tolist(),df_human_split['Drug'].tolist()))\n",
    "drugsetlibrary = defaultdict(list)\n",
    "for gene,drug in target_dict:\n",
    "    drugsetlibrary[gene].append(drug)"
   ]
  },
  {
   "cell_type": "code",
   "execution_count": 19,
   "metadata": {},
   "outputs": [],
   "source": [
    "# Removing duplicates any terms not paired with at least 5 drugs \n",
    "drugsetlibrary = {k:list(set(v)) for k,v in drugsetlibrary.items() if len(set(v))>=5}"
   ]
  },
  {
   "cell_type": "code",
   "execution_count": 20,
   "metadata": {},
   "outputs": [],
   "source": [
    "os.chdir('../../data/DrugCentral')"
   ]
  },
  {
   "cell_type": "code",
   "execution_count": 21,
   "metadata": {},
   "outputs": [],
   "source": [
    "gmt_formatter(drugsetlibrary, 'DrugCentral_target_drugsetlibrary.gmt')"
   ]
  },
  {
   "cell_type": "markdown",
   "metadata": {},
   "source": [
    "### Library counts"
   ]
  },
  {
   "cell_type": "code",
   "execution_count": 22,
   "metadata": {},
   "outputs": [
    {
     "name": "stdout",
     "output_type": "stream",
     "text": [
      "1555 unique drugs\n",
      "540 unique association terms\n",
      "10350 unique associations\n",
      "19.166666666666668 average drugs per term\n"
     ]
    }
   ],
   "source": [
    "library_counts(drugsetlibrary)"
   ]
  }
 ],
 "metadata": {
  "kernelspec": {
   "display_name": "Python 3",
   "language": "python",
   "name": "python3"
  },
  "language_info": {
   "codemirror_mode": {
    "name": "ipython",
    "version": 3
   },
   "file_extension": ".py",
   "mimetype": "text/x-python",
   "name": "python",
   "nbconvert_exporter": "python",
   "pygments_lexer": "ipython3",
   "version": "3.6.5"
  }
 },
 "nbformat": 4,
 "nbformat_minor": 2
}
