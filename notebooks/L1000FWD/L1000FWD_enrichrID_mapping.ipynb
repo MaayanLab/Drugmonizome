{
 "cells": [
  {
   "cell_type": "markdown",
   "metadata": {},
   "source": [
    "## L1000FWD Drug to EnrichrID Mapping Using the Enrichr API\n",
    "#### ALL DATABASES ACCESSED 03/2020\n",
    "##### Author : Eryk Kropiwnicki | eryk.kropiwnicki@icahn.mssm.edu"
   ]
  },
  {
   "cell_type": "markdown",
   "metadata": {},
   "source": [
    "### Querying Enrichr API to retrieve user IDs for each downregulated gene list \n",
    "#### Platform: https://amp.pharm.mssm.edu/Enrichr/help#api"
   ]
  },
  {
   "cell_type": "code",
   "execution_count": 1,
   "metadata": {},
   "outputs": [],
   "source": [
    "import json\n",
    "import pandas as pd\n",
    "import requests\n",
    "import time\n",
    "from collections import defaultdict\n",
    "import csv\n",
    "import numpy as np\n",
    "import os"
   ]
  },
  {
   "cell_type": "code",
   "execution_count": 2,
   "metadata": {},
   "outputs": [],
   "source": [
    "os.chdir('../../scripts')\n",
    "from export_script import *\n",
    "os.chdir('../notebooks/L1000FWD')"
   ]
  },
  {
   "cell_type": "markdown",
   "metadata": {},
   "source": [
    "### Querying Enrichr API to retrieve user IDs for each downregulated gene list \n",
    "#### Platform: https://amp.pharm.mssm.edu/Enrichr/help#api"
   ]
  },
  {
   "cell_type": "code",
   "execution_count": 3,
   "metadata": {},
   "outputs": [],
   "source": [
    "def enrichr_id_retrieval(dictionary):\n",
    "    '''\n",
    "    Queries a genelist (value of input dictionary) through the Enrichr API and creates an output dictionary of your input dictionary key matched to the retrieved EnrichrID\n",
    "    Parameters:\n",
    "    dictionary (dict): Key (e.g. drug) matched to value (genelist)\n",
    "    Returns:\n",
    "    output_dict (dict): Key (e.g. drug) matched to value (EnrichrID)\n",
    "    '''\n",
    "\n",
    "    # Associating downregulated genelists with userListIDs in Enrichr #\n",
    "    enrichr_url = 'http://amp.pharm.mssm.edu/Enrichr/addList'\n",
    "    failed_list = []\n",
    "    output_dict = {}\n",
    "\n",
    "    for term,genelist in dictionary.items():\n",
    "        genes_str = '\\n'.join(genelist)\n",
    "        \n",
    "        payload = {'list': (None, genes_str)}\n",
    "        response = requests.post(enrichr_url, files=payload)\n",
    "        \n",
    "        if not response.ok:\n",
    "            failed_list.append(term)\n",
    "        \n",
    "        user_id = response.json()['userListId']\n",
    "        output_dict[term] = user_id\n",
    "        time.sleep(0.5)\n",
    "    \n",
    "    print(str(len(failed_list))+ \" genelists failed to be matched with a EnrichrID!\")\n",
    "    return output_dict"
   ]
  },
  {
   "cell_type": "code",
   "execution_count": 4,
   "metadata": {},
   "outputs": [],
   "source": [
    "with open('input/L1000FWD_enrichr_query_down.txt', 'r') as f:\n",
    "    reader = csv.reader(f, delimiter = '\\t')\n",
    "    # Creating dictionary of signature ids matched to gene signatures (upregulated)\n",
    "    d_down = {line[0]:\n",
    "            ([(str(g))\n",
    "            for g in line[2:]])\n",
    "            for line in reader}"
   ]
  },
  {
   "cell_type": "code",
   "execution_count": 5,
   "metadata": {},
   "outputs": [
    {
     "name": "stdout",
     "output_type": "stream",
     "text": [
      "0 genelists failed to be matched with a EnrichrID!\n"
     ]
    }
   ],
   "source": [
    "# Associating downregulated genelists with userListIDs in Enrichr #\n",
    "id_dict_down = enrichr_id_retrieval(d_down)"
   ]
  },
  {
   "cell_type": "code",
   "execution_count": 6,
   "metadata": {},
   "outputs": [],
   "source": [
    "# Exporting downregulated genelist : userListID associations #\n",
    "df_down = pd.DataFrame.from_dict(id_dict_down, orient = 'index')\n",
    "df_down = df_down.reset_index()\n",
    "df_down.columns = ['pert_id','enrichr_id']\n",
    "df_down.to_csv('input/EnrichrIDs_downregulated.tsv', sep = '\\t', index = False)"
   ]
  },
  {
   "cell_type": "markdown",
   "metadata": {},
   "source": [
    "### Querying Enrichr API to retrieve user IDs for each upregulated gene list \n",
    "#### Platform: https://amp.pharm.mssm.edu/Enrichr/help#api"
   ]
  },
  {
   "cell_type": "code",
   "execution_count": 7,
   "metadata": {},
   "outputs": [],
   "source": [
    "with open('input/L1000FWD_enrichr_query_up.txt', 'r') as f:\n",
    "    reader = csv.reader(f, delimiter = '\\t')\n",
    "    # Creating dictionary of signature ids matched to gene signatures (upregulated)\n",
    "    d_up = {line[0]:\n",
    "            ([(str(g))\n",
    "            for g in line[2:]])\n",
    "            for line in reader}"
   ]
  },
  {
   "cell_type": "code",
   "execution_count": 8,
   "metadata": {},
   "outputs": [
    {
     "name": "stdout",
     "output_type": "stream",
     "text": [
      "0 genelists failed to be matched with a EnrichrID!\n"
     ]
    }
   ],
   "source": [
    "# Associating upregulated genelists with userListIDs in Enrichr #\n",
    "id_dict_up = enrichr_id_retrieval(d_up)"
   ]
  },
  {
   "cell_type": "code",
   "execution_count": 9,
   "metadata": {},
   "outputs": [],
   "source": [
    "# Exporting downregulated genelist : userListID associations #\n",
    "df_up = pd.DataFrame.from_dict(id_dict_up, orient = 'index')\n",
    "df_up = df_up.reset_index()\n",
    "df_up.columns = ['pert_id','enrichr_id']\n",
    "df_up.to_csv('input/EnrichrIDs_upregulated.tsv', sep = '\\t', index = False)"
   ]
  }
 ],
 "metadata": {
  "kernelspec": {
   "display_name": "Python 3",
   "language": "python",
   "name": "python3"
  },
  "language_info": {
   "codemirror_mode": {
    "name": "ipython",
    "version": 3
   },
   "file_extension": ".py",
   "mimetype": "text/x-python",
   "name": "python",
   "nbconvert_exporter": "python",
   "pygments_lexer": "ipython3",
   "version": "3.6.5"
  }
 },
 "nbformat": 4,
 "nbformat_minor": 2
}
