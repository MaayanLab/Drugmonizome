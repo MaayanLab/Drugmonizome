{
 "cells": [
  {
   "cell_type": "markdown",
   "metadata": {},
   "source": [
    "## L1000FWD GO Terms Drug-Set Libraries\n",
    "#### Drug-Set Labels : GO Terms\n",
    "#### ALL DATABASES ACCESSED 11/2019\n",
    "##### Author : Eryk Kropiwnicki | eryk.kropiwnicki@icahn.mssm.edu"
   ]
  },
  {
   "cell_type": "code",
   "execution_count": 1,
   "metadata": {},
   "outputs": [],
   "source": [
    "import json\n",
    "import pandas as pd\n",
    "import requests\n",
    "import time\n",
    "from collections import defaultdict\n",
    "import csv\n",
    "import os"
   ]
  },
  {
   "cell_type": "code",
   "execution_count": 2,
   "metadata": {},
   "outputs": [],
   "source": [
    "os.chdir('../scripts')\n",
    "from enrichr_querying_script import *\n",
    "from export_script import *\n",
    "os.chdir('../L1000FWD')"
   ]
  },
  {
   "cell_type": "markdown",
   "metadata": {},
   "source": [
    "### Importing Drugs matched to EnrichrIDs for querying through Enrichr API\n",
    "#### Input Files : EnrichrIDs_downregulated.tsv | EnrichrIDs_upregulated.tsv"
   ]
  },
  {
   "cell_type": "code",
   "execution_count": 3,
   "metadata": {},
   "outputs": [],
   "source": [
    "df_up = pd.read_csv('input/EnrichrIDs_upregulated.tsv', delimiter = '\\t')\n",
    "df_up.head()\n",
    "id_dict_up = df_up.set_index('drug_name').to_dict()['enrichr_id']"
   ]
  },
  {
   "cell_type": "code",
   "execution_count": 4,
   "metadata": {},
   "outputs": [],
   "source": [
    "df_down = pd.read_csv('input/EnrichrIDs_downregulated.tsv', delimiter = '\\t')\n",
    "df_down.head()\n",
    "id_dict_down = df_down.set_index('drug_name').to_dict()['enrichr_id']"
   ]
  },
  {
   "cell_type": "markdown",
   "metadata": {},
   "source": [
    "#### For all drug-term associations I use a p-value cut-off of 0.01"
   ]
  },
  {
   "cell_type": "markdown",
   "metadata": {},
   "source": [
    "### Biological Processes drug-set libraries"
   ]
  },
  {
   "cell_type": "code",
   "execution_count": 5,
   "metadata": {},
   "outputs": [],
   "source": [
    "os.chdir('../data/L1000FWD')"
   ]
  },
  {
   "cell_type": "code",
   "execution_count": 6,
   "metadata": {},
   "outputs": [],
   "source": [
    "# Upregulated \n",
    "GO_BP_drugsetlibrary_up = enrichr_library_generator('GO_Biological_Process_2018', id_dict_up)\n",
    "\n",
    "# Downregulated \n",
    "GO_BP_drugsetlibrary_down = enrichr_library_generator('GO_Biological_Process_2018', id_dict_down)"
   ]
  },
  {
   "cell_type": "code",
   "execution_count": 7,
   "metadata": {},
   "outputs": [],
   "source": [
    "# Exporting\n",
    "gmt_formatter(GO_BP_drugsetlibrary_up, 'L1000FWD_GO_Biological_Processes_drugsetlibrary_up.txt')\n",
    "gmt_formatter(GO_BP_drugsetlibrary_down, 'L1000FWD_GO_Biological_Processes_drugsetlibrary_down.txt')"
   ]
  },
  {
   "cell_type": "markdown",
   "metadata": {},
   "source": [
    "### Biological Processes Library Counts"
   ]
  },
  {
   "cell_type": "code",
   "execution_count": 8,
   "metadata": {},
   "outputs": [
    {
     "name": "stdout",
     "output_type": "stream",
     "text": [
      "3793 unique drugs\n",
      "1141 unique association terms\n",
      "62372 unique associations\n",
      "54.66432953549518 average drugs per term\n"
     ]
    }
   ],
   "source": [
    "library_counts(GO_BP_drugsetlibrary_up)"
   ]
  },
  {
   "cell_type": "code",
   "execution_count": 9,
   "metadata": {},
   "outputs": [
    {
     "name": "stdout",
     "output_type": "stream",
     "text": [
      "3631 unique drugs\n",
      "988 unique association terms\n",
      "47035 unique associations\n",
      "47.60627530364373 average drugs per term\n"
     ]
    }
   ],
   "source": [
    "library_counts(GO_BP_drugsetlibrary_down)"
   ]
  },
  {
   "cell_type": "markdown",
   "metadata": {},
   "source": [
    "### Cellular Component drug-set libraries"
   ]
  },
  {
   "cell_type": "code",
   "execution_count": 9,
   "metadata": {},
   "outputs": [],
   "source": [
    "# Upregulated \n",
    "GO_CC_drugsetlibrary_up = enrichr_library_generator('GO_Cellular_Component_2018', id_dict_up)\n",
    "\n",
    "# Downregulated \n",
    "GO_CC_drugsetlibrary_down = enrichr_library_generator('GO_Cellular_Component_2018', id_dict_down)"
   ]
  },
  {
   "cell_type": "code",
   "execution_count": 10,
   "metadata": {},
   "outputs": [],
   "source": [
    "# Exporting\n",
    "gmt_formatter(GO_CC_drugsetlibrary_up, 'L1000FWD_GO_Cellular_Component_drugsetlibrary_up.txt')\n",
    "gmt_formatter(GO_CC_drugsetlibrary_down, 'L1000FWD_GO_Cellular_Component_drugsetlibrary_down.txt')"
   ]
  },
  {
   "cell_type": "markdown",
   "metadata": {},
   "source": [
    "### Cellular Component Library Counts"
   ]
  },
  {
   "cell_type": "code",
   "execution_count": 11,
   "metadata": {},
   "outputs": [
    {
     "name": "stdout",
     "output_type": "stream",
     "text": [
      "3030 unique drugs\n",
      "145 unique association terms\n",
      "13779 unique associations\n",
      "95.02758620689656 average drugs per term\n"
     ]
    }
   ],
   "source": [
    "library_counts(GO_CC_drugsetlibrary_up)"
   ]
  },
  {
   "cell_type": "code",
   "execution_count": 12,
   "metadata": {},
   "outputs": [
    {
     "name": "stdout",
     "output_type": "stream",
     "text": [
      "2955 unique drugs\n",
      "153 unique association terms\n",
      "14048 unique associations\n",
      "91.81699346405229 average drugs per term\n"
     ]
    }
   ],
   "source": [
    "library_counts(GO_CC_drugsetlibrary_down)"
   ]
  },
  {
   "cell_type": "markdown",
   "metadata": {},
   "source": [
    "### Molecular Function drug-set libraries"
   ]
  },
  {
   "cell_type": "code",
   "execution_count": 12,
   "metadata": {},
   "outputs": [],
   "source": [
    "# Upregulated \n",
    "GO_MF_drugsetlibrary_up = enrichr_library_generator('GO_Molecular_Function_2018', id_dict_up)\n",
    "\n",
    "# Downregulated \n",
    "GO_MF_drugsetlibrary_down = enrichr_library_generator('GO_Molecular_Function_2018', id_dict_down)"
   ]
  },
  {
   "cell_type": "code",
   "execution_count": 13,
   "metadata": {},
   "outputs": [],
   "source": [
    "# Exporting\n",
    "gmt_formatter(GO_MF_drugsetlibrary_up, 'L1000FWD_GO_Molecular_Function_drugsetlibrary_up.txt')\n",
    "gmt_formatter(GO_MF_drugsetlibrary_down, 'L1000FWD_GO_Molecular_Function_drugsetlibrary_down.txt')"
   ]
  },
  {
   "cell_type": "markdown",
   "metadata": {},
   "source": [
    "### Molecular Function Library Counts"
   ]
  },
  {
   "cell_type": "code",
   "execution_count": 14,
   "metadata": {},
   "outputs": [
    {
     "name": "stdout",
     "output_type": "stream",
     "text": [
      "2180 unique drugs\n",
      "171 unique association terms\n",
      "9183 unique associations\n",
      "53.70175438596491 average drugs per term\n"
     ]
    }
   ],
   "source": [
    "library_counts(GO_MF_drugsetlibrary_up)"
   ]
  },
  {
   "cell_type": "code",
   "execution_count": 15,
   "metadata": {},
   "outputs": [
    {
     "name": "stdout",
     "output_type": "stream",
     "text": [
      "1904 unique drugs\n",
      "144 unique association terms\n",
      "6532 unique associations\n",
      "45.361111111111114 average drugs per term\n"
     ]
    }
   ],
   "source": [
    "library_counts(GO_MF_drugsetlibrary_down)"
   ]
  }
 ],
 "metadata": {
  "kernelspec": {
   "display_name": "Python 3",
   "language": "python",
   "name": "python3"
  },
  "language_info": {
   "codemirror_mode": {
    "name": "ipython",
    "version": 3
   },
   "file_extension": ".py",
   "mimetype": "text/x-python",
   "name": "python",
   "nbconvert_exporter": "python",
   "pygments_lexer": "ipython3",
   "version": "3.6.5"
  }
 },
 "nbformat": 4,
 "nbformat_minor": 2
}
