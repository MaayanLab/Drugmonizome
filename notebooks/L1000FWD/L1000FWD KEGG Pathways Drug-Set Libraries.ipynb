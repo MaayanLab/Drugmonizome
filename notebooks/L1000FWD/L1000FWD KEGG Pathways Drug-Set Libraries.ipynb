{
 "cells": [
  {
   "cell_type": "markdown",
   "metadata": {},
   "source": [
    "## L1000FWD KEGG Pathways Drug-Set Libraries\n",
    "#### Drug-Set Labels : KEGG Pathways\n",
    "#### ALL DATABASES ACCESSED 11/2019\n",
    "##### Author : Eryk Kropiwnicki | eryk.kropiwnicki@icahn.mssm.edu"
   ]
  },
  {
   "cell_type": "code",
   "execution_count": 1,
   "metadata": {},
   "outputs": [],
   "source": [
    "import json\n",
    "import pandas as pd\n",
    "import requests\n",
    "import time\n",
    "from collections import defaultdict\n",
    "import csv\n",
    "import os"
   ]
  },
  {
   "cell_type": "code",
   "execution_count": 2,
   "metadata": {},
   "outputs": [],
   "source": [
    "os.chdir('../scripts')\n",
    "from enrichr_querying_script import *\n",
    "from export_script import *\n",
    "os.chdir('../L1000FWD')"
   ]
  },
  {
   "cell_type": "markdown",
   "metadata": {},
   "source": [
    "### Importing Drugs matched to EnrichrIDs for querying through Enrichr API\n",
    "#### Input Files : EnrichrIDs_downregulated.tsv | EnrichrIDs_upregulated.tsv"
   ]
  },
  {
   "cell_type": "code",
   "execution_count": 3,
   "metadata": {},
   "outputs": [
    {
     "data": {
      "text/html": [
       "<div>\n",
       "<style scoped>\n",
       "    .dataframe tbody tr th:only-of-type {\n",
       "        vertical-align: middle;\n",
       "    }\n",
       "\n",
       "    .dataframe tbody tr th {\n",
       "        vertical-align: top;\n",
       "    }\n",
       "\n",
       "    .dataframe thead th {\n",
       "        text-align: right;\n",
       "    }\n",
       "</style>\n",
       "<table border=\"1\" class=\"dataframe\">\n",
       "  <thead>\n",
       "    <tr style=\"text-align: right;\">\n",
       "      <th></th>\n",
       "      <th>drug_name</th>\n",
       "      <th>enrichr_id</th>\n",
       "    </tr>\n",
       "  </thead>\n",
       "  <tbody>\n",
       "    <tr>\n",
       "      <th>0</th>\n",
       "      <td>brd-k24705176</td>\n",
       "      <td>25942782</td>\n",
       "    </tr>\n",
       "    <tr>\n",
       "      <th>1</th>\n",
       "      <td>brd-k47802551</td>\n",
       "      <td>25942783</td>\n",
       "    </tr>\n",
       "    <tr>\n",
       "      <th>2</th>\n",
       "      <td>brd-a45206415</td>\n",
       "      <td>25942784</td>\n",
       "    </tr>\n",
       "    <tr>\n",
       "      <th>3</th>\n",
       "      <td>brd-k28366444</td>\n",
       "      <td>25942785</td>\n",
       "    </tr>\n",
       "    <tr>\n",
       "      <th>4</th>\n",
       "      <td>kn-93</td>\n",
       "      <td>25942786</td>\n",
       "    </tr>\n",
       "  </tbody>\n",
       "</table>\n",
       "</div>"
      ],
      "text/plain": [
       "       drug_name  enrichr_id\n",
       "0  brd-k24705176    25942782\n",
       "1  brd-k47802551    25942783\n",
       "2  brd-a45206415    25942784\n",
       "3  brd-k28366444    25942785\n",
       "4          kn-93    25942786"
      ]
     },
     "execution_count": 3,
     "metadata": {},
     "output_type": "execute_result"
    }
   ],
   "source": [
    "df_up = pd.read_csv('input/EnrichrIDs_upregulated.tsv', delimiter = '\\t')\n",
    "id_dict_up = df_up.set_index('drug_name').to_dict()['enrichr_id']\n",
    "df_up.head()"
   ]
  },
  {
   "cell_type": "code",
   "execution_count": 4,
   "metadata": {},
   "outputs": [
    {
     "data": {
      "text/html": [
       "<div>\n",
       "<style scoped>\n",
       "    .dataframe tbody tr th:only-of-type {\n",
       "        vertical-align: middle;\n",
       "    }\n",
       "\n",
       "    .dataframe tbody tr th {\n",
       "        vertical-align: top;\n",
       "    }\n",
       "\n",
       "    .dataframe thead th {\n",
       "        text-align: right;\n",
       "    }\n",
       "</style>\n",
       "<table border=\"1\" class=\"dataframe\">\n",
       "  <thead>\n",
       "    <tr style=\"text-align: right;\">\n",
       "      <th></th>\n",
       "      <th>drug_name</th>\n",
       "      <th>enrichr_id</th>\n",
       "    </tr>\n",
       "  </thead>\n",
       "  <tbody>\n",
       "    <tr>\n",
       "      <th>0</th>\n",
       "      <td>brd-k24705176</td>\n",
       "      <td>25937180</td>\n",
       "    </tr>\n",
       "    <tr>\n",
       "      <th>1</th>\n",
       "      <td>brd-k47802551</td>\n",
       "      <td>25937181</td>\n",
       "    </tr>\n",
       "    <tr>\n",
       "      <th>2</th>\n",
       "      <td>brd-a45206415</td>\n",
       "      <td>25937182</td>\n",
       "    </tr>\n",
       "    <tr>\n",
       "      <th>3</th>\n",
       "      <td>brd-k28366444</td>\n",
       "      <td>25937183</td>\n",
       "    </tr>\n",
       "    <tr>\n",
       "      <th>4</th>\n",
       "      <td>kn-93</td>\n",
       "      <td>25937184</td>\n",
       "    </tr>\n",
       "  </tbody>\n",
       "</table>\n",
       "</div>"
      ],
      "text/plain": [
       "       drug_name  enrichr_id\n",
       "0  brd-k24705176    25937180\n",
       "1  brd-k47802551    25937181\n",
       "2  brd-a45206415    25937182\n",
       "3  brd-k28366444    25937183\n",
       "4          kn-93    25937184"
      ]
     },
     "execution_count": 4,
     "metadata": {},
     "output_type": "execute_result"
    }
   ],
   "source": [
    "df_down = pd.read_csv('input/EnrichrIDs_downregulated.tsv', delimiter = '\\t')\n",
    "id_dict_down = df_down.set_index('drug_name').to_dict()['enrichr_id']\n",
    "df_down.head()"
   ]
  },
  {
   "cell_type": "markdown",
   "metadata": {},
   "source": [
    "### KEGG Pathways drug-set libraries \n",
    "#### For all drug-term associations I use a corrected Enrichr p-value cut-off of 0.01"
   ]
  },
  {
   "cell_type": "code",
   "execution_count": 5,
   "metadata": {},
   "outputs": [],
   "source": [
    "os.chdir('../data/L1000FWD')"
   ]
  },
  {
   "cell_type": "code",
   "execution_count": null,
   "metadata": {},
   "outputs": [],
   "source": [
    "# Upregulated #\n",
    "KEGG_drugsetlibrary_up = enrichr_library_generator('KEGG_2019_Human', id_dict_up)"
   ]
  },
  {
   "cell_type": "code",
   "execution_count": null,
   "metadata": {},
   "outputs": [],
   "source": [
    "# Downregulated #\n",
    "KEGG_drugsetlibrary_down = enrichr_library_generator('KEGG_2019_Human', id_dict_down)"
   ]
  },
  {
   "cell_type": "markdown",
   "metadata": {},
   "source": [
    "### Library counts"
   ]
  },
  {
   "cell_type": "code",
   "execution_count": 8,
   "metadata": {},
   "outputs": [
    {
     "name": "stdout",
     "output_type": "stream",
     "text": [
      "3326 unique drugs\n",
      "244 unique association terms\n",
      "26611 unique associations\n",
      "109.06147540983606 average drugs per term\n"
     ]
    }
   ],
   "source": [
    "# upregulated\n",
    "library_counts(KEGG_drugsetlibrary_up)"
   ]
  },
  {
   "cell_type": "code",
   "execution_count": 9,
   "metadata": {},
   "outputs": [
    {
     "name": "stdout",
     "output_type": "stream",
     "text": [
      "3013 unique drugs\n",
      "231 unique association terms\n",
      "18559 unique associations\n",
      "80.34199134199135 average drugs per term\n"
     ]
    }
   ],
   "source": [
    "# downregulated\n",
    "library_counts(KEGG_drugsetlibrary_down)"
   ]
  },
  {
   "cell_type": "markdown",
   "metadata": {},
   "source": [
    "#### Exporting"
   ]
  },
  {
   "cell_type": "code",
   "execution_count": null,
   "metadata": {},
   "outputs": [],
   "source": [
    "gmt_formatter(KEGG_drugsetlibrary_up, 'L1000FWD_KEGG_Pathways_drugsetlibrary_up.txt')\n",
    "gmt_formatter(KEGG_drugsetlibrary_down, 'L1000FWD_KEGG_Pathways_drugsetlibrary_down.txt')"
   ]
  }
 ],
 "metadata": {
  "kernelspec": {
   "display_name": "Python 3",
   "language": "python",
   "name": "python3"
  },
  "language_info": {
   "codemirror_mode": {
    "name": "ipython",
    "version": 3
   },
   "file_extension": ".py",
   "mimetype": "text/x-python",
   "name": "python",
   "nbconvert_exporter": "python",
   "pygments_lexer": "ipython3",
   "version": "3.6.5"
  }
 },
 "nbformat": 4,
 "nbformat_minor": 2
}
