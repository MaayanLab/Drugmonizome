{
 "cells": [
  {
   "cell_type": "markdown",
   "metadata": {},
   "source": [
    "## Associating L1000FWD drug signatures with respective drug names\n",
    "### Database : http://amp.pharm.mssm.edu/L1000FWD/"
   ]
  },
  {
   "cell_type": "code",
   "execution_count": 1,
   "metadata": {},
   "outputs": [],
   "source": [
    "import pandas as pd\n",
    "import os\n",
    "import csv\n",
    "from itertools import islice\n",
    "from collections import defaultdict\n",
    "import json"
   ]
  },
  {
   "cell_type": "code",
   "execution_count": 2,
   "metadata": {},
   "outputs": [],
   "source": [
    "os.chdir('../scripts')\n",
    "from export_script import *\n",
    "from gene_resolver import *\n",
    "os.chdir('../L1000FWD')"
   ]
  },
  {
   "cell_type": "code",
   "execution_count": 3,
   "metadata": {},
   "outputs": [],
   "source": [
    "df_sig_metadata = pd.read_csv('input/CD_signature_metadata.csv')\n",
    "df_sig_metadata['pert_desc'] = df_sig_metadata['pert_desc'].str.lower()"
   ]
  },
  {
   "cell_type": "code",
   "execution_count": 4,
   "metadata": {},
   "outputs": [
    {
     "data": {
      "text/plain": [
       "42809"
      ]
     },
     "execution_count": 4,
     "metadata": {},
     "output_type": "execute_result"
    }
   ],
   "source": [
    "len(df_sig_metadata)"
   ]
  },
  {
   "cell_type": "code",
   "execution_count": 5,
   "metadata": {},
   "outputs": [
    {
     "data": {
      "text/html": [
       "<div>\n",
       "<style scoped>\n",
       "    .dataframe tbody tr th:only-of-type {\n",
       "        vertical-align: middle;\n",
       "    }\n",
       "\n",
       "    .dataframe tbody tr th {\n",
       "        vertical-align: top;\n",
       "    }\n",
       "\n",
       "    .dataframe thead th {\n",
       "        text-align: right;\n",
       "    }\n",
       "</style>\n",
       "<table border=\"1\" class=\"dataframe\">\n",
       "  <thead>\n",
       "    <tr style=\"text-align: right;\">\n",
       "      <th></th>\n",
       "      <th>sig_id</th>\n",
       "      <th>SCS_centered_by_batch</th>\n",
       "      <th>batch</th>\n",
       "      <th>cell_id</th>\n",
       "      <th>mean_cosine_dist_centered_by_batch</th>\n",
       "      <th>pert_desc</th>\n",
       "      <th>pert_dose</th>\n",
       "      <th>pert_id</th>\n",
       "      <th>pert_time</th>\n",
       "    </tr>\n",
       "  </thead>\n",
       "  <tbody>\n",
       "    <tr>\n",
       "      <th>0</th>\n",
       "      <td>AML001_CD34_6H:BRD-K43389675:10</td>\n",
       "      <td>0.0</td>\n",
       "      <td>AML001_CD34_6H</td>\n",
       "      <td>CD34</td>\n",
       "      <td>0.853471</td>\n",
       "      <td>daunorubicin</td>\n",
       "      <td>10.00000</td>\n",
       "      <td>BRD-K43389675</td>\n",
       "      <td>6.0</td>\n",
       "    </tr>\n",
       "    <tr>\n",
       "      <th>1</th>\n",
       "      <td>AML001_PC3_6H:BRD-A19037878:0.37037</td>\n",
       "      <td>0.0</td>\n",
       "      <td>AML001_PC3_6H</td>\n",
       "      <td>PC3</td>\n",
       "      <td>0.505995</td>\n",
       "      <td>trichostatin_a</td>\n",
       "      <td>0.37037</td>\n",
       "      <td>BRD-A19037878</td>\n",
       "      <td>6.0</td>\n",
       "    </tr>\n",
       "    <tr>\n",
       "      <th>2</th>\n",
       "      <td>AML001_PC3_6H:BRD-A19037878:1.11111</td>\n",
       "      <td>0.0</td>\n",
       "      <td>AML001_PC3_6H</td>\n",
       "      <td>PC3</td>\n",
       "      <td>0.676204</td>\n",
       "      <td>trichostatin_a</td>\n",
       "      <td>1.11111</td>\n",
       "      <td>BRD-A19037878</td>\n",
       "      <td>6.0</td>\n",
       "    </tr>\n",
       "    <tr>\n",
       "      <th>3</th>\n",
       "      <td>AML001_PC3_6H:BRD-A19037878:10</td>\n",
       "      <td>0.0</td>\n",
       "      <td>AML001_PC3_6H</td>\n",
       "      <td>PC3</td>\n",
       "      <td>0.747633</td>\n",
       "      <td>trichostatin_a</td>\n",
       "      <td>10.00000</td>\n",
       "      <td>BRD-A19037878</td>\n",
       "      <td>6.0</td>\n",
       "    </tr>\n",
       "    <tr>\n",
       "      <th>4</th>\n",
       "      <td>AML001_PC3_6H:BRD-A19037878:3.33333</td>\n",
       "      <td>0.0</td>\n",
       "      <td>AML001_PC3_6H</td>\n",
       "      <td>PC3</td>\n",
       "      <td>0.659851</td>\n",
       "      <td>trichostatin_a</td>\n",
       "      <td>3.33333</td>\n",
       "      <td>BRD-A19037878</td>\n",
       "      <td>6.0</td>\n",
       "    </tr>\n",
       "  </tbody>\n",
       "</table>\n",
       "</div>"
      ],
      "text/plain": [
       "                                sig_id  SCS_centered_by_batch           batch  \\\n",
       "0      AML001_CD34_6H:BRD-K43389675:10                    0.0  AML001_CD34_6H   \n",
       "1  AML001_PC3_6H:BRD-A19037878:0.37037                    0.0   AML001_PC3_6H   \n",
       "2  AML001_PC3_6H:BRD-A19037878:1.11111                    0.0   AML001_PC3_6H   \n",
       "3       AML001_PC3_6H:BRD-A19037878:10                    0.0   AML001_PC3_6H   \n",
       "4  AML001_PC3_6H:BRD-A19037878:3.33333                    0.0   AML001_PC3_6H   \n",
       "\n",
       "  cell_id  mean_cosine_dist_centered_by_batch       pert_desc  pert_dose  \\\n",
       "0    CD34                            0.853471    daunorubicin   10.00000   \n",
       "1     PC3                            0.505995  trichostatin_a    0.37037   \n",
       "2     PC3                            0.676204  trichostatin_a    1.11111   \n",
       "3     PC3                            0.747633  trichostatin_a   10.00000   \n",
       "4     PC3                            0.659851  trichostatin_a    3.33333   \n",
       "\n",
       "         pert_id  pert_time  \n",
       "0  BRD-K43389675        6.0  \n",
       "1  BRD-A19037878        6.0  \n",
       "2  BRD-A19037878        6.0  \n",
       "3  BRD-A19037878        6.0  \n",
       "4  BRD-A19037878        6.0  "
      ]
     },
     "execution_count": 5,
     "metadata": {},
     "output_type": "execute_result"
    }
   ],
   "source": [
    "df_sig_metadata.head()"
   ]
  },
  {
   "cell_type": "code",
   "execution_count": 6,
   "metadata": {},
   "outputs": [],
   "source": [
    "# Creating separate files for up and down genes\n",
    "\n",
    "with open('input/CD_signatures_binary_42809.gmt', 'r') as fin, open('input/L1000FWD_drug_up_genes.gmt', 'w') as fout:\n",
    "    fout.writelines(islice(fin, 0, None, 2))\n",
    "fout.close()\n",
    "\n",
    "with open('input/CD_signatures_binary_42809.gmt', 'r') as fin, open('input/L1000FWD_drug_down_genes.gmt','w') as fout:\n",
    "    fout.writelines(islice(fin, 1, None, 2))\n",
    "fout.close()"
   ]
  },
  {
   "cell_type": "code",
   "execution_count": 7,
   "metadata": {},
   "outputs": [],
   "source": [
    "with open('input/L1000FWD_signatures_up.gmt', 'r') as f:\n",
    "    reader = csv.reader(f, delimiter = '\\t')\n",
    "    # Creating dictionary of signature ids matched to gene signatures (upregulated)\n",
    "    d_up = {line[0]:\n",
    "            ([(str(g)).split(',')[0]\n",
    "            for g in line[2:]])\n",
    "            for line in reader}\n",
    "    \n",
    "with open('input/L1000FWD_signatures_down.gmt', 'r') as f:\n",
    "    reader = csv.reader(f, delimiter = '\\t')\n",
    "    # Creating dictionary of signature ids matched to gene signatures (downregulated)\n",
    "    d_down = {line[0]:\n",
    "              ([(str(g)).split(',')[0] \n",
    "                for g in line[2:]])\n",
    "                for line in reader}"
   ]
  },
  {
   "cell_type": "code",
   "execution_count": 8,
   "metadata": {},
   "outputs": [
    {
     "name": "stdout",
     "output_type": "stream",
     "text": [
      "42809\n",
      "42809\n"
     ]
    }
   ],
   "source": [
    "print(len(d_up))\n",
    "print(len(d_down))"
   ]
  },
  {
   "cell_type": "markdown",
   "metadata": {},
   "source": [
    "### Filtering df_sig_metadata by lowest mean_cosine_dist_centered_by_batch"
   ]
  },
  {
   "cell_type": "code",
   "execution_count": 9,
   "metadata": {},
   "outputs": [],
   "source": [
    "# Get the smallest mean cosine distance for each pert id #\n",
    "row_meta_df_g = df_sig_metadata.sort_values(by = ['pert_id', 'mean_cosine_dist_centered_by_batch'])\\\n",
    "    .groupby('pert_id')\\\n",
    "    .head(1)"
   ]
  },
  {
   "cell_type": "code",
   "execution_count": 10,
   "metadata": {},
   "outputs": [
    {
     "data": {
      "text/plain": [
       "4941"
      ]
     },
     "execution_count": 10,
     "metadata": {},
     "output_type": "execute_result"
    }
   ],
   "source": [
    "len(row_meta_df_g)"
   ]
  },
  {
   "cell_type": "code",
   "execution_count": 11,
   "metadata": {},
   "outputs": [],
   "source": [
    "# Create a new dataframe to append the smallest mean cosine distance signatures #\n",
    "df_filtered = pd.DataFrame()\n",
    "for ind in row_meta_df_g.index:\n",
    "    to_append = df_sig_metadata.loc[[ind]]\n",
    "    df_filtered = df_filtered.append(to_append)"
   ]
  },
  {
   "cell_type": "code",
   "execution_count": 12,
   "metadata": {},
   "outputs": [],
   "source": [
    "for rid in df_filtered.index:\n",
    "    df_filtered.loc[rid,'pert_desc'] = row_meta_df_g.loc[rid,'pert_desc']\n",
    "df_filtered['pert_desc'] = df_filtered['pert_desc'].apply(lambda x: x.strip(\"b'\"))"
   ]
  },
  {
   "cell_type": "code",
   "execution_count": 13,
   "metadata": {},
   "outputs": [
    {
     "data": {
      "text/html": [
       "<div>\n",
       "<style scoped>\n",
       "    .dataframe tbody tr th:only-of-type {\n",
       "        vertical-align: middle;\n",
       "    }\n",
       "\n",
       "    .dataframe tbody tr th {\n",
       "        vertical-align: top;\n",
       "    }\n",
       "\n",
       "    .dataframe thead th {\n",
       "        text-align: right;\n",
       "    }\n",
       "</style>\n",
       "<table border=\"1\" class=\"dataframe\">\n",
       "  <thead>\n",
       "    <tr style=\"text-align: right;\">\n",
       "      <th></th>\n",
       "      <th>sig_id</th>\n",
       "      <th>SCS_centered_by_batch</th>\n",
       "      <th>batch</th>\n",
       "      <th>cell_id</th>\n",
       "      <th>mean_cosine_dist_centered_by_batch</th>\n",
       "      <th>pert_desc</th>\n",
       "      <th>pert_dose</th>\n",
       "      <th>pert_id</th>\n",
       "      <th>pert_time</th>\n",
       "    </tr>\n",
       "  </thead>\n",
       "  <tbody>\n",
       "    <tr>\n",
       "      <th>26739</th>\n",
       "      <td>CPC015_PHH_24H:BRD-A00100033-001-04-8:10</td>\n",
       "      <td>0.0203</td>\n",
       "      <td>CPC015_PHH_24H</td>\n",
       "      <td>PHH</td>\n",
       "      <td>0.911062</td>\n",
       "      <td>nifurtimox</td>\n",
       "      <td>10.0</td>\n",
       "      <td>BRD-A00100033</td>\n",
       "      <td>24.0</td>\n",
       "    </tr>\n",
       "    <tr>\n",
       "      <th>336</th>\n",
       "      <td>CPC001_HA1E_24H:BRD-A00267231-001-01-1:10</td>\n",
       "      <td>0.0022</td>\n",
       "      <td>CPC001_HA1E_24H</td>\n",
       "      <td>HA1E</td>\n",
       "      <td>0.897247</td>\n",
       "      <td>hemado</td>\n",
       "      <td>10.0</td>\n",
       "      <td>BRD-A00267231</td>\n",
       "      <td>24.0</td>\n",
       "    </tr>\n",
       "    <tr>\n",
       "      <th>31189</th>\n",
       "      <td>CPC019_MCF7_24H:BRD-A00420644-001-01-7:10</td>\n",
       "      <td>0.0000</td>\n",
       "      <td>CPC019_MCF7_24H</td>\n",
       "      <td>MCF7</td>\n",
       "      <td>0.728397</td>\n",
       "      <td>-666</td>\n",
       "      <td>10.0</td>\n",
       "      <td>BRD-A00420644</td>\n",
       "      <td>24.0</td>\n",
       "    </tr>\n",
       "    <tr>\n",
       "      <th>16182</th>\n",
       "      <td>CPC010_HA1E_6H:BRD-A00474148-001-02-3:10</td>\n",
       "      <td>0.0007</td>\n",
       "      <td>CPC010_HA1E_6H</td>\n",
       "      <td>HA1E</td>\n",
       "      <td>0.913214</td>\n",
       "      <td>-666</td>\n",
       "      <td>10.0</td>\n",
       "      <td>BRD-A00474148</td>\n",
       "      <td>6.0</td>\n",
       "    </tr>\n",
       "    <tr>\n",
       "      <th>17487</th>\n",
       "      <td>CPC011_HA1E_6H:BRD-A00520476-001-05-8:10</td>\n",
       "      <td>0.0147</td>\n",
       "      <td>CPC011_HA1E_6H</td>\n",
       "      <td>HA1E</td>\n",
       "      <td>0.890211</td>\n",
       "      <td>6h-pyrido[2,3-b][1,4]benzodiazepin-6-one, 11-[...</td>\n",
       "      <td>10.0</td>\n",
       "      <td>BRD-A00520476</td>\n",
       "      <td>6.0</td>\n",
       "    </tr>\n",
       "  </tbody>\n",
       "</table>\n",
       "</div>"
      ],
      "text/plain": [
       "                                          sig_id  SCS_centered_by_batch  \\\n",
       "26739   CPC015_PHH_24H:BRD-A00100033-001-04-8:10                 0.0203   \n",
       "336    CPC001_HA1E_24H:BRD-A00267231-001-01-1:10                 0.0022   \n",
       "31189  CPC019_MCF7_24H:BRD-A00420644-001-01-7:10                 0.0000   \n",
       "16182   CPC010_HA1E_6H:BRD-A00474148-001-02-3:10                 0.0007   \n",
       "17487   CPC011_HA1E_6H:BRD-A00520476-001-05-8:10                 0.0147   \n",
       "\n",
       "                 batch cell_id  mean_cosine_dist_centered_by_batch  \\\n",
       "26739   CPC015_PHH_24H     PHH                            0.911062   \n",
       "336    CPC001_HA1E_24H    HA1E                            0.897247   \n",
       "31189  CPC019_MCF7_24H    MCF7                            0.728397   \n",
       "16182   CPC010_HA1E_6H    HA1E                            0.913214   \n",
       "17487   CPC011_HA1E_6H    HA1E                            0.890211   \n",
       "\n",
       "                                               pert_desc  pert_dose  \\\n",
       "26739                                         nifurtimox       10.0   \n",
       "336                                               hemado       10.0   \n",
       "31189                                               -666       10.0   \n",
       "16182                                               -666       10.0   \n",
       "17487  6h-pyrido[2,3-b][1,4]benzodiazepin-6-one, 11-[...       10.0   \n",
       "\n",
       "             pert_id  pert_time  \n",
       "26739  BRD-A00100033       24.0  \n",
       "336    BRD-A00267231       24.0  \n",
       "31189  BRD-A00420644       24.0  \n",
       "16182  BRD-A00474148        6.0  \n",
       "17487  BRD-A00520476        6.0  "
      ]
     },
     "execution_count": 13,
     "metadata": {},
     "output_type": "execute_result"
    }
   ],
   "source": [
    "df_filtered.head()"
   ]
  },
  {
   "cell_type": "code",
   "execution_count": 14,
   "metadata": {},
   "outputs": [],
   "source": [
    "# List of significant signature ids\n",
    "sig_id_list = set(df_filtered['sig_id'].tolist())\n",
    "\n",
    "# Creating reference dict of signature ids paired to pert ids (required for matching sig ids to correct drug names)\n",
    "pert_id_dict = df_filtered.set_index('sig_id').to_dict()['pert_id']"
   ]
  },
  {
   "cell_type": "code",
   "execution_count": 15,
   "metadata": {},
   "outputs": [],
   "source": [
    "# Retaining significant signature ids only in the up and downregulated dictionaries\n",
    "d_up_filtered = {k:v for k, v in d_up.items() if k in sig_id_list}\n",
    "d_down_filtered = {k:v for k, v in d_down.items() if k in sig_id_list}"
   ]
  },
  {
   "cell_type": "code",
   "execution_count": 16,
   "metadata": {},
   "outputs": [
    {
     "name": "stdout",
     "output_type": "stream",
     "text": [
      "4941\n",
      "4941\n"
     ]
    }
   ],
   "source": [
    "print(len(d_up_filtered))\n",
    "print(len(d_down_filtered))"
   ]
  },
  {
   "cell_type": "code",
   "execution_count": 17,
   "metadata": {},
   "outputs": [],
   "source": [
    "# Replacing signature_id dictionary key with pert_id\n",
    "d_up_filtered_pertids = {pert_id_dict.get(k,k): v for k,v in d_up_filtered.items()}\n",
    "d_down_filtered_pertids = {pert_id_dict.get(k,k): v for k,v in d_down_filtered.items()}"
   ]
  },
  {
   "cell_type": "code",
   "execution_count": 18,
   "metadata": {},
   "outputs": [
    {
     "name": "stdout",
     "output_type": "stream",
     "text": [
      "4941\n",
      "4941\n"
     ]
    }
   ],
   "source": [
    "print(len(d_up_filtered_pertids))\n",
    "print(len(d_down_filtered_pertids))"
   ]
  },
  {
   "cell_type": "markdown",
   "metadata": {},
   "source": [
    "### Importing drug metadata to match pert_ids to drug names "
   ]
  },
  {
   "cell_type": "code",
   "execution_count": 19,
   "metadata": {},
   "outputs": [],
   "source": [
    "df_metadata = pd.read_csv('input/Drugs_metadata.csv')\n",
    "df_metadata['pert_iname'] = df_metadata['pert_iname'].str.lower()"
   ]
  },
  {
   "cell_type": "code",
   "execution_count": 20,
   "metadata": {},
   "outputs": [
    {
     "data": {
      "text/html": [
       "<div>\n",
       "<style scoped>\n",
       "    .dataframe tbody tr th:only-of-type {\n",
       "        vertical-align: middle;\n",
       "    }\n",
       "\n",
       "    .dataframe tbody tr th {\n",
       "        vertical-align: top;\n",
       "    }\n",
       "\n",
       "    .dataframe thead th {\n",
       "        text-align: right;\n",
       "    }\n",
       "</style>\n",
       "<table border=\"1\" class=\"dataframe\">\n",
       "  <thead>\n",
       "    <tr style=\"text-align: right;\">\n",
       "      <th></th>\n",
       "      <th>pert_id</th>\n",
       "      <th>LSM_id</th>\n",
       "      <th>pert_iname</th>\n",
       "      <th>alt_name</th>\n",
       "      <th>canonical_smiles</th>\n",
       "      <th>inchi_key</th>\n",
       "      <th>inchi_string</th>\n",
       "      <th>molecular_formula</th>\n",
       "      <th>molecular_wt</th>\n",
       "      <th>pert_collection</th>\n",
       "      <th>pert_summary</th>\n",
       "      <th>pert_url</th>\n",
       "      <th>pubchem_cid</th>\n",
       "    </tr>\n",
       "  </thead>\n",
       "  <tbody>\n",
       "    <tr>\n",
       "      <th>0</th>\n",
       "      <td>BRD-A00100033</td>\n",
       "      <td>LSM-1232</td>\n",
       "      <td>nifurtimox</td>\n",
       "      <td>NaN</td>\n",
       "      <td>CC1CS(=O)(=O)CCN1N=Cc2ccc(o2)[N+](=O)[O-]</td>\n",
       "      <td>InChIKey=ARFHIAQFJWUCFH-UHFFFAOYSA-N</td>\n",
       "      <td>InChI=1S/C10H13N3O5S/c1-8-7-19(16,17)5-4-12(8)...</td>\n",
       "      <td>C10H13N3O5S</td>\n",
       "      <td>287.292</td>\n",
       "      <td>BIOA</td>\n",
       "      <td>NaN</td>\n",
       "      <td>http://en.wikipedia.org/wiki/Nifurtimox</td>\n",
       "      <td>6842999</td>\n",
       "    </tr>\n",
       "    <tr>\n",
       "      <th>1</th>\n",
       "      <td>BRD-A00520476</td>\n",
       "      <td>LSM-22625</td>\n",
       "      <td>otenzepad</td>\n",
       "      <td>AF-DX 116</td>\n",
       "      <td>CCN(CC)CC1CCCCN1CC(=O)N2c3ccccc3C(=O)Nc4cccnc24</td>\n",
       "      <td>InChIKey=UBRKDAVQCKZSPO-UHFFFAOYSA-N</td>\n",
       "      <td>InChI=1S/C24H31N5O2/c1-3-27(4-2)16-18-10-7-8-1...</td>\n",
       "      <td>C24H31N5O2</td>\n",
       "      <td>421.535</td>\n",
       "      <td>BIOA</td>\n",
       "      <td>NaN</td>\n",
       "      <td>http://www.tocris.com/dispprod.php?ItemId=2135...</td>\n",
       "      <td>107867</td>\n",
       "    </tr>\n",
       "    <tr>\n",
       "      <th>2</th>\n",
       "      <td>BRD-A00546892</td>\n",
       "      <td>LSM-1235</td>\n",
       "      <td>biperiden</td>\n",
       "      <td>S1285</td>\n",
       "      <td>OC(CCN1CCCCC1)(C2CC3CC2C=C3)c4ccccc4</td>\n",
       "      <td>InChIKey=YSXKPIUOCJLQIE-UHFFFAOYSA-N</td>\n",
       "      <td>InChI=1S/C21H29NO/c23-21(19-7-3-1-4-8-19,11-14...</td>\n",
       "      <td>C21H29NO</td>\n",
       "      <td>311.461</td>\n",
       "      <td>BIOA</td>\n",
       "      <td>Biperiden is an antiparkinsonian agent of the ...</td>\n",
       "      <td>http://en.wikipedia.org/wiki/Biperiden,http://...</td>\n",
       "      <td>92151</td>\n",
       "    </tr>\n",
       "    <tr>\n",
       "      <th>3</th>\n",
       "      <td>BRD-A00758722</td>\n",
       "      <td>LSM-1237</td>\n",
       "      <td>noretynodrel</td>\n",
       "      <td>norethynodrel</td>\n",
       "      <td>C[C@@]12CCC3C(CCC4=C3CCC(=O)C4)C2CC[C@@]1(O)C#C</td>\n",
       "      <td>InChIKey=ICTXHFFSOAJUMG-OQPPHWFISA-N</td>\n",
       "      <td>InChI=1S/C20H26O2/c1-3-20(22)11-9-18-17-6-4-13...</td>\n",
       "      <td>C20H26O2</td>\n",
       "      <td>298.419</td>\n",
       "      <td>BIOA</td>\n",
       "      <td>NaN</td>\n",
       "      <td>http://en.wikipedia.org/wiki/Norethynodrel,htt...</td>\n",
       "      <td>5702095</td>\n",
       "    </tr>\n",
       "    <tr>\n",
       "      <th>4</th>\n",
       "      <td>BRD-A00827783</td>\n",
       "      <td>LSM-4299</td>\n",
       "      <td>dyphylline</td>\n",
       "      <td>diprophylline</td>\n",
       "      <td>Cn1c(=O)n(C)c2ncn(CC(O)CO)c2c1=O</td>\n",
       "      <td>InChIKey=KSCFJBIXMNOVSH-UHFFFAOYSA-N</td>\n",
       "      <td>InChI=1S/C10H14N4O4/c1-12-8-7(9(17)13(2)10(12)...</td>\n",
       "      <td>C10H14N4O4</td>\n",
       "      <td>254.243</td>\n",
       "      <td>BIOA</td>\n",
       "      <td>NaN</td>\n",
       "      <td>http://en.wikipedia.org/wiki/Dyphylline</td>\n",
       "      <td>3182</td>\n",
       "    </tr>\n",
       "  </tbody>\n",
       "</table>\n",
       "</div>"
      ],
      "text/plain": [
       "         pert_id     LSM_id    pert_iname       alt_name  \\\n",
       "0  BRD-A00100033   LSM-1232    nifurtimox            NaN   \n",
       "1  BRD-A00520476  LSM-22625     otenzepad      AF-DX 116   \n",
       "2  BRD-A00546892   LSM-1235     biperiden          S1285   \n",
       "3  BRD-A00758722   LSM-1237  noretynodrel  norethynodrel   \n",
       "4  BRD-A00827783   LSM-4299    dyphylline  diprophylline   \n",
       "\n",
       "                                  canonical_smiles  \\\n",
       "0        CC1CS(=O)(=O)CCN1N=Cc2ccc(o2)[N+](=O)[O-]   \n",
       "1  CCN(CC)CC1CCCCN1CC(=O)N2c3ccccc3C(=O)Nc4cccnc24   \n",
       "2             OC(CCN1CCCCC1)(C2CC3CC2C=C3)c4ccccc4   \n",
       "3  C[C@@]12CCC3C(CCC4=C3CCC(=O)C4)C2CC[C@@]1(O)C#C   \n",
       "4                 Cn1c(=O)n(C)c2ncn(CC(O)CO)c2c1=O   \n",
       "\n",
       "                              inchi_key  \\\n",
       "0  InChIKey=ARFHIAQFJWUCFH-UHFFFAOYSA-N   \n",
       "1  InChIKey=UBRKDAVQCKZSPO-UHFFFAOYSA-N   \n",
       "2  InChIKey=YSXKPIUOCJLQIE-UHFFFAOYSA-N   \n",
       "3  InChIKey=ICTXHFFSOAJUMG-OQPPHWFISA-N   \n",
       "4  InChIKey=KSCFJBIXMNOVSH-UHFFFAOYSA-N   \n",
       "\n",
       "                                        inchi_string molecular_formula  \\\n",
       "0  InChI=1S/C10H13N3O5S/c1-8-7-19(16,17)5-4-12(8)...       C10H13N3O5S   \n",
       "1  InChI=1S/C24H31N5O2/c1-3-27(4-2)16-18-10-7-8-1...        C24H31N5O2   \n",
       "2  InChI=1S/C21H29NO/c23-21(19-7-3-1-4-8-19,11-14...          C21H29NO   \n",
       "3  InChI=1S/C20H26O2/c1-3-20(22)11-9-18-17-6-4-13...          C20H26O2   \n",
       "4  InChI=1S/C10H14N4O4/c1-12-8-7(9(17)13(2)10(12)...        C10H14N4O4   \n",
       "\n",
       "   molecular_wt pert_collection  \\\n",
       "0       287.292            BIOA   \n",
       "1       421.535            BIOA   \n",
       "2       311.461            BIOA   \n",
       "3       298.419            BIOA   \n",
       "4       254.243            BIOA   \n",
       "\n",
       "                                        pert_summary  \\\n",
       "0                                                NaN   \n",
       "1                                                NaN   \n",
       "2  Biperiden is an antiparkinsonian agent of the ...   \n",
       "3                                                NaN   \n",
       "4                                                NaN   \n",
       "\n",
       "                                            pert_url pubchem_cid  \n",
       "0            http://en.wikipedia.org/wiki/Nifurtimox     6842999  \n",
       "1  http://www.tocris.com/dispprod.php?ItemId=2135...      107867  \n",
       "2  http://en.wikipedia.org/wiki/Biperiden,http://...       92151  \n",
       "3  http://en.wikipedia.org/wiki/Norethynodrel,htt...     5702095  \n",
       "4            http://en.wikipedia.org/wiki/Dyphylline        3182  "
      ]
     },
     "execution_count": 20,
     "metadata": {},
     "output_type": "execute_result"
    }
   ],
   "source": [
    "df_metadata.head()"
   ]
  },
  {
   "cell_type": "code",
   "execution_count": 21,
   "metadata": {},
   "outputs": [],
   "source": [
    "# Creating list of significant pert_ids\n",
    "pert_id_list = []\n",
    "for k,v in d_up_filtered_pertids.items():\n",
    "    pert_id_list.append(k)\n",
    "    \n",
    "# Filtering the metadata dataframe by significant pert_ids\n",
    "for index, row in df_metadata.iterrows():\n",
    "    pert_id = row.loc['pert_id']\n",
    "    if pert_id not in pert_id_list:\n",
    "        df_metadata.drop(index, inplace = True)"
   ]
  },
  {
   "cell_type": "code",
   "execution_count": 22,
   "metadata": {},
   "outputs": [
    {
     "data": {
      "text/plain": [
       "4941"
      ]
     },
     "execution_count": 22,
     "metadata": {},
     "output_type": "execute_result"
    }
   ],
   "source": [
    "len(df_metadata)"
   ]
  },
  {
   "cell_type": "code",
   "execution_count": 23,
   "metadata": {},
   "outputs": [],
   "source": [
    "# Dropping all duplicate drug names, leaving us with one unique drug for each pert_id\n",
    "'''\n",
    "All these drugs are significant regardless, and it is preferrable for there to be one drug name matched to each\n",
    "pert_id\n",
    "'''\n",
    "df_metadata = df_metadata.drop_duplicates(subset = 'pert_iname')"
   ]
  },
  {
   "cell_type": "code",
   "execution_count": 24,
   "metadata": {},
   "outputs": [
    {
     "data": {
      "text/plain": [
       "4606"
      ]
     },
     "execution_count": 24,
     "metadata": {},
     "output_type": "execute_result"
    }
   ],
   "source": [
    "len(df_metadata)"
   ]
  },
  {
   "cell_type": "code",
   "execution_count": 25,
   "metadata": {},
   "outputs": [
    {
     "data": {
      "text/html": [
       "<div>\n",
       "<style scoped>\n",
       "    .dataframe tbody tr th:only-of-type {\n",
       "        vertical-align: middle;\n",
       "    }\n",
       "\n",
       "    .dataframe tbody tr th {\n",
       "        vertical-align: top;\n",
       "    }\n",
       "\n",
       "    .dataframe thead th {\n",
       "        text-align: right;\n",
       "    }\n",
       "</style>\n",
       "<table border=\"1\" class=\"dataframe\">\n",
       "  <thead>\n",
       "    <tr style=\"text-align: right;\">\n",
       "      <th></th>\n",
       "      <th>pert_id</th>\n",
       "      <th>LSM_id</th>\n",
       "      <th>pert_iname</th>\n",
       "      <th>alt_name</th>\n",
       "      <th>canonical_smiles</th>\n",
       "      <th>inchi_key</th>\n",
       "      <th>inchi_string</th>\n",
       "      <th>molecular_formula</th>\n",
       "      <th>molecular_wt</th>\n",
       "      <th>pert_collection</th>\n",
       "      <th>pert_summary</th>\n",
       "      <th>pert_url</th>\n",
       "      <th>pubchem_cid</th>\n",
       "    </tr>\n",
       "  </thead>\n",
       "  <tbody>\n",
       "    <tr>\n",
       "      <th>0</th>\n",
       "      <td>BRD-A00100033</td>\n",
       "      <td>LSM-1232</td>\n",
       "      <td>nifurtimox</td>\n",
       "      <td>NaN</td>\n",
       "      <td>CC1CS(=O)(=O)CCN1N=Cc2ccc(o2)[N+](=O)[O-]</td>\n",
       "      <td>InChIKey=ARFHIAQFJWUCFH-UHFFFAOYSA-N</td>\n",
       "      <td>InChI=1S/C10H13N3O5S/c1-8-7-19(16,17)5-4-12(8)...</td>\n",
       "      <td>C10H13N3O5S</td>\n",
       "      <td>287.292</td>\n",
       "      <td>BIOA</td>\n",
       "      <td>NaN</td>\n",
       "      <td>http://en.wikipedia.org/wiki/Nifurtimox</td>\n",
       "      <td>6842999</td>\n",
       "    </tr>\n",
       "    <tr>\n",
       "      <th>1</th>\n",
       "      <td>BRD-A00520476</td>\n",
       "      <td>LSM-22625</td>\n",
       "      <td>otenzepad</td>\n",
       "      <td>AF-DX 116</td>\n",
       "      <td>CCN(CC)CC1CCCCN1CC(=O)N2c3ccccc3C(=O)Nc4cccnc24</td>\n",
       "      <td>InChIKey=UBRKDAVQCKZSPO-UHFFFAOYSA-N</td>\n",
       "      <td>InChI=1S/C24H31N5O2/c1-3-27(4-2)16-18-10-7-8-1...</td>\n",
       "      <td>C24H31N5O2</td>\n",
       "      <td>421.535</td>\n",
       "      <td>BIOA</td>\n",
       "      <td>NaN</td>\n",
       "      <td>http://www.tocris.com/dispprod.php?ItemId=2135...</td>\n",
       "      <td>107867</td>\n",
       "    </tr>\n",
       "    <tr>\n",
       "      <th>2</th>\n",
       "      <td>BRD-A00546892</td>\n",
       "      <td>LSM-1235</td>\n",
       "      <td>biperiden</td>\n",
       "      <td>S1285</td>\n",
       "      <td>OC(CCN1CCCCC1)(C2CC3CC2C=C3)c4ccccc4</td>\n",
       "      <td>InChIKey=YSXKPIUOCJLQIE-UHFFFAOYSA-N</td>\n",
       "      <td>InChI=1S/C21H29NO/c23-21(19-7-3-1-4-8-19,11-14...</td>\n",
       "      <td>C21H29NO</td>\n",
       "      <td>311.461</td>\n",
       "      <td>BIOA</td>\n",
       "      <td>Biperiden is an antiparkinsonian agent of the ...</td>\n",
       "      <td>http://en.wikipedia.org/wiki/Biperiden,http://...</td>\n",
       "      <td>92151</td>\n",
       "    </tr>\n",
       "    <tr>\n",
       "      <th>3</th>\n",
       "      <td>BRD-A00758722</td>\n",
       "      <td>LSM-1237</td>\n",
       "      <td>noretynodrel</td>\n",
       "      <td>norethynodrel</td>\n",
       "      <td>C[C@@]12CCC3C(CCC4=C3CCC(=O)C4)C2CC[C@@]1(O)C#C</td>\n",
       "      <td>InChIKey=ICTXHFFSOAJUMG-OQPPHWFISA-N</td>\n",
       "      <td>InChI=1S/C20H26O2/c1-3-20(22)11-9-18-17-6-4-13...</td>\n",
       "      <td>C20H26O2</td>\n",
       "      <td>298.419</td>\n",
       "      <td>BIOA</td>\n",
       "      <td>NaN</td>\n",
       "      <td>http://en.wikipedia.org/wiki/Norethynodrel,htt...</td>\n",
       "      <td>5702095</td>\n",
       "    </tr>\n",
       "    <tr>\n",
       "      <th>5</th>\n",
       "      <td>BRD-A00993607</td>\n",
       "      <td>LSM-1238</td>\n",
       "      <td>alprenolol</td>\n",
       "      <td>NaN</td>\n",
       "      <td>CC(C)NCC(O)COc1ccccc1CC=C</td>\n",
       "      <td>InChIKey=PAZJSJFMUHDSTF-UHFFFAOYSA-N</td>\n",
       "      <td>InChI=1S/C15H23NO2/c1-4-7-13-8-5-6-9-15(13)18-...</td>\n",
       "      <td>C15H23NO2</td>\n",
       "      <td>285.810</td>\n",
       "      <td>BIOA</td>\n",
       "      <td>NaN</td>\n",
       "      <td>http://en.wikipedia.org/wiki/Alprenolol</td>\n",
       "      <td>66368</td>\n",
       "    </tr>\n",
       "  </tbody>\n",
       "</table>\n",
       "</div>"
      ],
      "text/plain": [
       "         pert_id     LSM_id    pert_iname       alt_name  \\\n",
       "0  BRD-A00100033   LSM-1232    nifurtimox            NaN   \n",
       "1  BRD-A00520476  LSM-22625     otenzepad      AF-DX 116   \n",
       "2  BRD-A00546892   LSM-1235     biperiden          S1285   \n",
       "3  BRD-A00758722   LSM-1237  noretynodrel  norethynodrel   \n",
       "5  BRD-A00993607   LSM-1238    alprenolol            NaN   \n",
       "\n",
       "                                  canonical_smiles  \\\n",
       "0        CC1CS(=O)(=O)CCN1N=Cc2ccc(o2)[N+](=O)[O-]   \n",
       "1  CCN(CC)CC1CCCCN1CC(=O)N2c3ccccc3C(=O)Nc4cccnc24   \n",
       "2             OC(CCN1CCCCC1)(C2CC3CC2C=C3)c4ccccc4   \n",
       "3  C[C@@]12CCC3C(CCC4=C3CCC(=O)C4)C2CC[C@@]1(O)C#C   \n",
       "5                        CC(C)NCC(O)COc1ccccc1CC=C   \n",
       "\n",
       "                              inchi_key  \\\n",
       "0  InChIKey=ARFHIAQFJWUCFH-UHFFFAOYSA-N   \n",
       "1  InChIKey=UBRKDAVQCKZSPO-UHFFFAOYSA-N   \n",
       "2  InChIKey=YSXKPIUOCJLQIE-UHFFFAOYSA-N   \n",
       "3  InChIKey=ICTXHFFSOAJUMG-OQPPHWFISA-N   \n",
       "5  InChIKey=PAZJSJFMUHDSTF-UHFFFAOYSA-N   \n",
       "\n",
       "                                        inchi_string molecular_formula  \\\n",
       "0  InChI=1S/C10H13N3O5S/c1-8-7-19(16,17)5-4-12(8)...       C10H13N3O5S   \n",
       "1  InChI=1S/C24H31N5O2/c1-3-27(4-2)16-18-10-7-8-1...        C24H31N5O2   \n",
       "2  InChI=1S/C21H29NO/c23-21(19-7-3-1-4-8-19,11-14...          C21H29NO   \n",
       "3  InChI=1S/C20H26O2/c1-3-20(22)11-9-18-17-6-4-13...          C20H26O2   \n",
       "5  InChI=1S/C15H23NO2/c1-4-7-13-8-5-6-9-15(13)18-...         C15H23NO2   \n",
       "\n",
       "   molecular_wt pert_collection  \\\n",
       "0       287.292            BIOA   \n",
       "1       421.535            BIOA   \n",
       "2       311.461            BIOA   \n",
       "3       298.419            BIOA   \n",
       "5       285.810            BIOA   \n",
       "\n",
       "                                        pert_summary  \\\n",
       "0                                                NaN   \n",
       "1                                                NaN   \n",
       "2  Biperiden is an antiparkinsonian agent of the ...   \n",
       "3                                                NaN   \n",
       "5                                                NaN   \n",
       "\n",
       "                                            pert_url pubchem_cid  \n",
       "0            http://en.wikipedia.org/wiki/Nifurtimox     6842999  \n",
       "1  http://www.tocris.com/dispprod.php?ItemId=2135...      107867  \n",
       "2  http://en.wikipedia.org/wiki/Biperiden,http://...       92151  \n",
       "3  http://en.wikipedia.org/wiki/Norethynodrel,htt...     5702095  \n",
       "5            http://en.wikipedia.org/wiki/Alprenolol       66368  "
      ]
     },
     "execution_count": 25,
     "metadata": {},
     "output_type": "execute_result"
    }
   ],
   "source": [
    "df_metadata.head()"
   ]
  },
  {
   "cell_type": "code",
   "execution_count": 26,
   "metadata": {},
   "outputs": [],
   "source": [
    "# Creating reference dictionary of pert_ids matched to drug names\n",
    "drug_name_dict = df_metadata.set_index('pert_id').to_dict()['pert_iname']\n",
    "\n",
    "# Creating reference list of significant drug_names \n",
    "drug_names = df_metadata['pert_iname'].tolist()"
   ]
  },
  {
   "cell_type": "markdown",
   "metadata": {},
   "source": [
    "### Exporting updated metadata for harmonization"
   ]
  },
  {
   "cell_type": "code",
   "execution_count": null,
   "metadata": {},
   "outputs": [],
   "source": [
    "# Exporting edited drug metadata containing only signifcant signatures\n",
    "df_metadata.to_csv('input/Drugs_metadata_significant.csv', index = False)"
   ]
  },
  {
   "cell_type": "code",
   "execution_count": 31,
   "metadata": {},
   "outputs": [],
   "source": [
    "# Creating list of harmonized drugs & filtering drug_name_dict \n",
    "harmonized_drugs = df_harmonized['Drug_name'].tolist()\n",
    "drug_name_dict = {k:v for k,v in drug_name_dict.items() if v in harmonized_drugs}"
   ]
  },
  {
   "cell_type": "code",
   "execution_count": 32,
   "metadata": {},
   "outputs": [
    {
     "data": {
      "text/plain": [
       "4447"
      ]
     },
     "execution_count": 32,
     "metadata": {},
     "output_type": "execute_result"
    }
   ],
   "source": [
    "len(drug_name_dict)"
   ]
  },
  {
   "cell_type": "code",
   "execution_count": 33,
   "metadata": {},
   "outputs": [],
   "source": [
    "# Replacing pert_id dictionary key with drug name \n",
    "d_up_drugs = {drug_name_dict.get(k,k): v for k,v in d_up_filtered_pertids.items()}\n",
    "d_down_drugs = {drug_name_dict.get(k,k): v for k,v in d_down_filtered_pertids.items()}\n",
    "\n",
    "# Removing unmatched keys\n",
    "d_up_drugs = {k:v for k,v in d_up_drugs.items() if k in drug_names}\n",
    "d_down_drugs = {k:v for k,v in d_down_drugs.items() if k in drug_names}"
   ]
  },
  {
   "cell_type": "code",
   "execution_count": 34,
   "metadata": {},
   "outputs": [
    {
     "name": "stdout",
     "output_type": "stream",
     "text": [
      "4447\n",
      "4447\n"
     ]
    }
   ],
   "source": [
    "print(len(d_up_drugs))\n",
    "print(len(d_down_drugs))"
   ]
  },
  {
   "cell_type": "markdown",
   "metadata": {},
   "source": [
    "### Exporting GMT file of drugs matched to signatures for Enrichr API Querying"
   ]
  },
  {
   "cell_type": "code",
   "execution_count": 48,
   "metadata": {},
   "outputs": [],
   "source": [
    "os.chdir('../L1000FWD')"
   ]
  },
  {
   "cell_type": "code",
   "execution_count": null,
   "metadata": {},
   "outputs": [],
   "source": [
    "gmt_formatter(d_up_drugs, 'input/L1000FWD_drugsignatures_up.txt')\n",
    "gmt_formatter(d_down_drugs, 'input/L1000FWD_drugsignatures_down.txt')"
   ]
  },
  {
   "cell_type": "markdown",
   "metadata": {},
   "source": [
    "### Exporting a dictionary of pert ids matched to drug names for querying through SEP-L1000 API"
   ]
  },
  {
   "cell_type": "code",
   "execution_count": null,
   "metadata": {},
   "outputs": [],
   "source": [
    "# Exporting pert_ids matched to drug names for querying through SEP-L1000 API\n",
    "df_pert2name = pd.DataFrame.from_dict(drug_name_dict, orient = 'index')\n",
    "df_pert2name = df_pert2name.reset_index()\n",
    "df_pert2name.columns = ['pert_id', 'drug_name']\n",
    "df_pert2name.to_csv('input/pertid_to_name.tsv', sep = '\\t', index = False)"
   ]
  },
  {
   "cell_type": "code",
   "execution_count": null,
   "metadata": {},
   "outputs": [],
   "source": [
    "df_pert2name.head()"
   ]
  },
  {
   "cell_type": "markdown",
   "metadata": {},
   "source": [
    "### Exporting drug-set libraries in GMT format"
   ]
  },
  {
   "cell_type": "markdown",
   "metadata": {},
   "source": [
    "#### Matching genes to approved symbols"
   ]
  },
  {
   "cell_type": "code",
   "execution_count": 35,
   "metadata": {},
   "outputs": [],
   "source": [
    "# Transposing dictionary so that genes are set-labels and drugs are set members\n",
    "drugsetlibrary_up = transposer(d_up_drugs)\n",
    "drugsetlibrary_down = transposer(d_down_drugs)"
   ]
  },
  {
   "cell_type": "code",
   "execution_count": 42,
   "metadata": {},
   "outputs": [],
   "source": [
    "def resolve_drugsetlibrary(library):\n",
    "    gene_list = []\n",
    "    df_genes = pd.DataFrame()\n",
    "\n",
    "    for gene, drugs in library.items():\n",
    "        gene_list.append(gene)\n",
    "    df_genes['Gene Name'] = gene_list\n",
    "    \n",
    "    gene_resolver(df_genes) # script that will match synonyms to approved symbols\n",
    "    gene_dict = df_genes.set_index('Gene Name').to_dict()['Approved Symbol']\n",
    "    approved_genes = [v for k,v in gene_dict.items()] # separate comparison list of approved symbols\n",
    "    \n",
    "    # Get each approved symbol for synonyms\n",
    "    drugsetlibrary = {gene_dict.get(k,k):v for k,v in library.items()}\n",
    "    # Filter out any unapproved symbols\n",
    "    drugsetlibrary = {k: drugsetlibrary[k] for k in approved_genes if k in drugsetlibrary}\n",
    "    # Drop sets with less than 5 drugs\n",
    "    drugsetlibrary = {k:v for k,v in drugsetlibrary.items() if len(v) >=5}\n",
    "    \n",
    "    return drugsetlibrary"
   ]
  },
  {
   "cell_type": "code",
   "execution_count": 44,
   "metadata": {},
   "outputs": [],
   "source": [
    "drugsetlibrary_upregulated = resolve_drugsetlibrary(drugsetlibrary_up)\n",
    "\n",
    "drugsetlibrary_downregulated = resolve_drugsetlibrary(drugsetlibrary_down)"
   ]
  },
  {
   "cell_type": "code",
   "execution_count": 51,
   "metadata": {},
   "outputs": [],
   "source": [
    "os.chdir('../data/L1000FWD')\n",
    "\n",
    "gmt_formatter(drugsetlibrary_upregulated, 'L1000FWD_signature_drugsetlibrary_up.txt')\n",
    "\n",
    "gmt_formatter(drugsetlibrary_downregulated, 'L1000FWD_signature_drugsetlibrary_down.txt')"
   ]
  }
 ],
 "metadata": {
  "kernelspec": {
   "display_name": "Python 3",
   "language": "python",
   "name": "python3"
  },
  "language_info": {
   "codemirror_mode": {
    "name": "ipython",
    "version": 3
   },
   "file_extension": ".py",
   "mimetype": "text/x-python",
   "name": "python",
   "nbconvert_exporter": "python",
   "pygments_lexer": "ipython3",
   "version": "3.6.5"
  }
 },
 "nbformat": 4,
 "nbformat_minor": 2
}
