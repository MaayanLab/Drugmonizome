{
 "cells": [
  {
   "cell_type": "markdown",
   "metadata": {},
   "source": [
    "## L1000FWD Predicted Side Effects Drug-Set Library\n",
    "### Drug-set labels: Predicted Side Effects\n",
    "#### ALL DATABASES ACCESSED 09/2019\n",
    "##### Author : Eryk Kropiwnicki | eryk.kropiwnicki@icahn.mssm.edu"
   ]
  },
  {
   "cell_type": "code",
   "execution_count": 1,
   "metadata": {},
   "outputs": [],
   "source": [
    "import json\n",
    "import pandas as pd\n",
    "import requests\n",
    "import time\n",
    "from collections import defaultdict\n",
    "import csv\n",
    "import os\n",
    "import matplotlib"
   ]
  },
  {
   "cell_type": "code",
   "execution_count": 2,
   "metadata": {},
   "outputs": [],
   "source": [
    "os.chdir('../../scripts')\n",
    "from export_script import *\n",
    "os.chdir('../notebooks/L1000FWD')"
   ]
  },
  {
   "cell_type": "code",
   "execution_count": 3,
   "metadata": {},
   "outputs": [
    {
     "data": {
      "text/html": [
       "<div>\n",
       "<style scoped>\n",
       "    .dataframe tbody tr th:only-of-type {\n",
       "        vertical-align: middle;\n",
       "    }\n",
       "\n",
       "    .dataframe tbody tr th {\n",
       "        vertical-align: top;\n",
       "    }\n",
       "\n",
       "    .dataframe thead th {\n",
       "        text-align: right;\n",
       "    }\n",
       "</style>\n",
       "<table border=\"1\" class=\"dataframe\">\n",
       "  <thead>\n",
       "    <tr style=\"text-align: right;\">\n",
       "      <th></th>\n",
       "      <th>pert_id</th>\n",
       "      <th>inchi_key</th>\n",
       "    </tr>\n",
       "  </thead>\n",
       "  <tbody>\n",
       "    <tr>\n",
       "      <th>0</th>\n",
       "      <td>BRD-A00546892</td>\n",
       "      <td>YSXKPIUOCJLQIE-UHFFFAOYSA-N</td>\n",
       "    </tr>\n",
       "    <tr>\n",
       "      <th>1</th>\n",
       "      <td>BRD-A00993607</td>\n",
       "      <td>PAZJSJFMUHDSTF-UHFFFAOYSA-N</td>\n",
       "    </tr>\n",
       "    <tr>\n",
       "      <th>2</th>\n",
       "      <td>BRD-A01320529</td>\n",
       "      <td>GIIZNNXWQWCKIB-UHFFFAOYSA-N</td>\n",
       "    </tr>\n",
       "    <tr>\n",
       "      <th>3</th>\n",
       "      <td>BRD-A01787639</td>\n",
       "      <td>HRRBJVNMSRJFHQ-UHFFFAOYSA-N</td>\n",
       "    </tr>\n",
       "    <tr>\n",
       "      <th>4</th>\n",
       "      <td>BRD-A01826957</td>\n",
       "      <td>DSFGXPJYDCSWTA-UHFFFAOYSA-N</td>\n",
       "    </tr>\n",
       "  </tbody>\n",
       "</table>\n",
       "</div>"
      ],
      "text/plain": [
       "         pert_id                    inchi_key\n",
       "0  BRD-A00546892  YSXKPIUOCJLQIE-UHFFFAOYSA-N\n",
       "1  BRD-A00993607  PAZJSJFMUHDSTF-UHFFFAOYSA-N\n",
       "2  BRD-A01320529  GIIZNNXWQWCKIB-UHFFFAOYSA-N\n",
       "3  BRD-A01787639  HRRBJVNMSRJFHQ-UHFFFAOYSA-N\n",
       "4  BRD-A01826957  DSFGXPJYDCSWTA-UHFFFAOYSA-N"
      ]
     },
     "execution_count": 3,
     "metadata": {},
     "output_type": "execute_result"
    }
   ],
   "source": [
    "df = pd.read_csv('input/pert_id_inchi.tsv', delimiter = '\\t')\n",
    "df.head()"
   ]
  },
  {
   "cell_type": "code",
   "execution_count": 4,
   "metadata": {},
   "outputs": [],
   "source": [
    "pert_ids = df['pert_id'].tolist()\n",
    "pert_id_inchi= df.set_index('pert_id').to_dict()['inchi_key']"
   ]
  },
  {
   "cell_type": "code",
   "execution_count": 5,
   "metadata": {},
   "outputs": [
    {
     "data": {
      "text/plain": [
       "4901"
      ]
     },
     "execution_count": 5,
     "metadata": {},
     "output_type": "execute_result"
    }
   ],
   "source": [
    "len(pert_ids)"
   ]
  },
  {
   "cell_type": "code",
   "execution_count": null,
   "metadata": {},
   "outputs": [],
   "source": [
    "# Matching signatures to predicted side effects using SEP-L1000 API #\n",
    "failed_list = []\n",
    "output = []\n",
    "\n",
    "for pert_id in pert_ids:\n",
    "    side_effect_list = []\n",
    "    try:\n",
    "        url = 'http://maayanlab.net/SEP-L1000/get_drug_se.php?pert_id='+pert_id\n",
    "        response = requests.get(url)\n",
    "    except ValueError:\n",
    "        pass\n",
    "    try:\n",
    "        for item in response.json():\n",
    "            side_effect_list.append(item)\n",
    "\n",
    "        # replace pert_id with InChiKey and associate with side effects\n",
    "        output.append({pert_id_inchi[pert_id]:side_effect_list})\n",
    "    except:\n",
    "        failed_list.append(pert_id)\n",
    "    time.sleep(0.5)\n",
    "    \n",
    "with open('input/predicted_side_effects.json', 'w') as f:\n",
    "    json.dump(output,f, indent = 4)\n",
    "f.close()"
   ]
  },
  {
   "cell_type": "code",
   "execution_count": 6,
   "metadata": {},
   "outputs": [],
   "source": [
    "with open('input/predicted_side_effects.json','r') as f:\n",
    "    se_data = json.load(f)"
   ]
  },
  {
   "cell_type": "code",
   "execution_count": 7,
   "metadata": {},
   "outputs": [],
   "source": [
    "se_list = []\n",
    "inchi_list = []\n",
    "probs = []\n",
    "for dictionary in se_data:\n",
    "    for inchi_key,lists in dictionary.items():\n",
    "        for se in lists:\n",
    "            if float(se['p_val']) > 0.5:\n",
    "                probs.append(float(se['p_val']))\n",
    "                se_list.append(se['name'])\n",
    "                inchi_list.append(inchi_key)\n",
    "                \n",
    "df = pd.DataFrame()\n",
    "df['inchi_key'] = inchi_list\n",
    "df['side_effect'] = se_list\n",
    "df['probability'] = probs"
   ]
  },
  {
   "cell_type": "code",
   "execution_count": 8,
   "metadata": {
    "scrolled": true
   },
   "outputs": [
    {
     "data": {
      "text/html": [
       "<div>\n",
       "<style scoped>\n",
       "    .dataframe tbody tr th:only-of-type {\n",
       "        vertical-align: middle;\n",
       "    }\n",
       "\n",
       "    .dataframe tbody tr th {\n",
       "        vertical-align: top;\n",
       "    }\n",
       "\n",
       "    .dataframe thead th {\n",
       "        text-align: right;\n",
       "    }\n",
       "</style>\n",
       "<table border=\"1\" class=\"dataframe\">\n",
       "  <thead>\n",
       "    <tr style=\"text-align: right;\">\n",
       "      <th></th>\n",
       "      <th>inchi_key</th>\n",
       "      <th>side_effect</th>\n",
       "      <th>probability</th>\n",
       "    </tr>\n",
       "  </thead>\n",
       "  <tbody>\n",
       "    <tr>\n",
       "      <th>0</th>\n",
       "      <td>YSXKPIUOCJLQIE-UHFFFAOYSA-N</td>\n",
       "      <td>Dry mouth</td>\n",
       "      <td>0.86</td>\n",
       "    </tr>\n",
       "    <tr>\n",
       "      <th>1</th>\n",
       "      <td>YSXKPIUOCJLQIE-UHFFFAOYSA-N</td>\n",
       "      <td>Urinary retention</td>\n",
       "      <td>0.78</td>\n",
       "    </tr>\n",
       "    <tr>\n",
       "      <th>2</th>\n",
       "      <td>YSXKPIUOCJLQIE-UHFFFAOYSA-N</td>\n",
       "      <td>Epigastric discomfort</td>\n",
       "      <td>0.61</td>\n",
       "    </tr>\n",
       "    <tr>\n",
       "      <th>3</th>\n",
       "      <td>YSXKPIUOCJLQIE-UHFFFAOYSA-N</td>\n",
       "      <td>Bradycardia</td>\n",
       "      <td>0.81</td>\n",
       "    </tr>\n",
       "    <tr>\n",
       "      <th>4</th>\n",
       "      <td>YSXKPIUOCJLQIE-UHFFFAOYSA-N</td>\n",
       "      <td>Disorientation</td>\n",
       "      <td>0.72</td>\n",
       "    </tr>\n",
       "  </tbody>\n",
       "</table>\n",
       "</div>"
      ],
      "text/plain": [
       "                     inchi_key            side_effect  probability\n",
       "0  YSXKPIUOCJLQIE-UHFFFAOYSA-N              Dry mouth         0.86\n",
       "1  YSXKPIUOCJLQIE-UHFFFAOYSA-N      Urinary retention         0.78\n",
       "2  YSXKPIUOCJLQIE-UHFFFAOYSA-N  Epigastric discomfort         0.61\n",
       "3  YSXKPIUOCJLQIE-UHFFFAOYSA-N            Bradycardia         0.81\n",
       "4  YSXKPIUOCJLQIE-UHFFFAOYSA-N         Disorientation         0.72"
      ]
     },
     "execution_count": 8,
     "metadata": {},
     "output_type": "execute_result"
    }
   ],
   "source": [
    "df.head()"
   ]
  },
  {
   "cell_type": "code",
   "execution_count": 9,
   "metadata": {},
   "outputs": [],
   "source": [
    "# Filter each side effect by top 1000 associations by probability\n",
    "df_filtered = df.sort_values(by = ['side_effect', 'probability'], ascending = False)\\\n",
    "    .groupby('side_effect')\\\n",
    "    .head(1000)"
   ]
  },
  {
   "cell_type": "code",
   "execution_count": 10,
   "metadata": {},
   "outputs": [],
   "source": [
    "# Find cutoff for 1000th term to create cutoff list for each side effect\n",
    "df_cutoff = df_filtered.groupby('side_effect')\\\n",
    "    .tail(1)"
   ]
  },
  {
   "cell_type": "code",
   "execution_count": 11,
   "metadata": {},
   "outputs": [],
   "source": [
    "cutoff_dict = df_cutoff.set_index('side_effect').to_dict()['probability']"
   ]
  },
  {
   "cell_type": "code",
   "execution_count": 12,
   "metadata": {},
   "outputs": [],
   "source": [
    "for index,row in df.iterrows():\n",
    "    side_effect = row['side_effect']\n",
    "    cutoff = cutoff_dict[side_effect]\n",
    "    if row['probability'] < cutoff:\n",
    "        df.drop(index, inplace = True)"
   ]
  },
  {
   "cell_type": "code",
   "execution_count": 13,
   "metadata": {},
   "outputs": [],
   "source": [
    "id_list = (zip(df['side_effect'].tolist(),df['inchi_key'].tolist()))\n",
    "drugsetlibrary = defaultdict(list)\n",
    "for k,v in id_list:\n",
    "    drugsetlibrary[k].append(v)\n",
    "drugsetlibrary = {k:list(set(v)) for k,v in drugsetlibrary.items() if len(set(v))>=5}"
   ]
  },
  {
   "cell_type": "markdown",
   "metadata": {},
   "source": [
    "### Histogram of drugset size distribution"
   ]
  },
  {
   "cell_type": "code",
   "execution_count": 18,
   "metadata": {},
   "outputs": [
    {
     "data": {
      "image/png": "[encoded data removed]",
      "text/plain": [
       "<Figure size 432x288 with 1 Axes>"
      ]
     },
     "metadata": {},
     "output_type": "display_data"
    }
   ],
   "source": [
    "import matplotlib.pyplot as plt\n",
    "import numpy as np\n",
    "from pylab import figure, text, scatter, show\n",
    "\n",
    "df_setsize = pd.DataFrame(columns = ['Side_effect','Drugset_size'])\n",
    "se = []\n",
    "drugset = []\n",
    "for k,v in drugsetlibrary.items():\n",
    "    se.append(k)\n",
    "    drugset.append(len(set(v)))\n",
    "df_setsize['Side_effect'] = se\n",
    "df_setsize['Drugset_size'] = drugset\n",
    "\n",
    "plt.figure()\n",
    "plt.hist(df_setsize['Drugset_size'].values, bins=100)\n",
    "plt.xlabel('Drugset size')\n",
    "plt.ylabel('Counts')\n",
    "plt.title('Histogram of drugset size per term')\n",
    "plt.yscale('log')\n",
    "plt.axvline(np.mean(df_setsize['Drugset_size']), color='red', label='mean')\n",
    "plt.axvline(np.median(df_setsize['Drugset_size']), color='black', label='median')\n",
    "plt.legend()\n",
    "plt.show()"
   ]
  },
  {
   "cell_type": "markdown",
   "metadata": {},
   "source": [
    "### Library counts"
   ]
  },
  {
   "cell_type": "code",
   "execution_count": 15,
   "metadata": {},
   "outputs": [
    {
     "name": "stdout",
     "output_type": "stream",
     "text": [
      "4852 unique drugs\n",
      "1013 unique association terms\n",
      "100635 unique associations\n",
      "99.34353405725568 average drugs per term\n"
     ]
    }
   ],
   "source": [
    "library_counts(drugsetlibrary)"
   ]
  },
  {
   "cell_type": "markdown",
   "metadata": {},
   "source": [
    "### Exporting the drug-set library in GMT format"
   ]
  },
  {
   "cell_type": "code",
   "execution_count": 16,
   "metadata": {},
   "outputs": [],
   "source": [
    "os.chdir('../../data/L1000FWD')"
   ]
  },
  {
   "cell_type": "code",
   "execution_count": 17,
   "metadata": {},
   "outputs": [],
   "source": [
    "gmt_formatter(drugsetlibrary, 'L1000FWD_predicted_side_effects.gmt')"
   ]
  }
 ],
 "metadata": {
  "kernelspec": {
   "display_name": "Python 3",
   "language": "python",
   "name": "python3"
  },
  "language_info": {
   "codemirror_mode": {
    "name": "ipython",
    "version": 3
   },
   "file_extension": ".py",
   "mimetype": "text/x-python",
   "name": "python",
   "nbconvert_exporter": "python",
   "pygments_lexer": "ipython3",
   "version": "3.6.5"
  }
 },
 "nbformat": 4,
 "nbformat_minor": 2
}
