{
 "cells": [
  {
   "cell_type": "markdown",
   "metadata": {},
   "source": [
    "## Associating significant L1000FWD drug signatures with respective drugs\n",
    "### Database : http://amp.pharm.mssm.edu/L1000FWD/"
   ]
  },
  {
   "cell_type": "code",
   "execution_count": 1,
   "metadata": {},
   "outputs": [],
   "source": [
    "import pandas as pd\n",
    "import os\n",
    "import csv\n",
    "from itertools import islice\n",
    "from collections import defaultdict\n",
    "import json"
   ]
  },
  {
   "cell_type": "code",
   "execution_count": 2,
   "metadata": {},
   "outputs": [],
   "source": [
    "os.chdir('../../scripts')\n",
    "from export_script import *\n",
    "from gene_resolver import *\n",
    "os.chdir('../notebooks/L1000FWD')"
   ]
  },
  {
   "cell_type": "code",
   "execution_count": 3,
   "metadata": {},
   "outputs": [],
   "source": [
    "df_sig_metadata = pd.read_csv('input/CD_signature_metadata.csv')\n",
    "df_sig_metadata['pert_desc'] = df_sig_metadata['pert_desc'].str.lower()"
   ]
  },
  {
   "cell_type": "code",
   "execution_count": 4,
   "metadata": {},
   "outputs": [
    {
     "data": {
      "text/html": [
       "<div>\n",
       "<style scoped>\n",
       "    .dataframe tbody tr th:only-of-type {\n",
       "        vertical-align: middle;\n",
       "    }\n",
       "\n",
       "    .dataframe tbody tr th {\n",
       "        vertical-align: top;\n",
       "    }\n",
       "\n",
       "    .dataframe thead th {\n",
       "        text-align: right;\n",
       "    }\n",
       "</style>\n",
       "<table border=\"1\" class=\"dataframe\">\n",
       "  <thead>\n",
       "    <tr style=\"text-align: right;\">\n",
       "      <th></th>\n",
       "      <th>sig_id</th>\n",
       "      <th>SCS_centered_by_batch</th>\n",
       "      <th>batch</th>\n",
       "      <th>cell_id</th>\n",
       "      <th>mean_cosine_dist_centered_by_batch</th>\n",
       "      <th>pert_desc</th>\n",
       "      <th>pert_dose</th>\n",
       "      <th>pert_id</th>\n",
       "      <th>pert_time</th>\n",
       "    </tr>\n",
       "  </thead>\n",
       "  <tbody>\n",
       "    <tr>\n",
       "      <th>0</th>\n",
       "      <td>AML001_CD34_6H:BRD-K43389675:10</td>\n",
       "      <td>0.0</td>\n",
       "      <td>AML001_CD34_6H</td>\n",
       "      <td>CD34</td>\n",
       "      <td>0.853471</td>\n",
       "      <td>daunorubicin</td>\n",
       "      <td>10.00000</td>\n",
       "      <td>BRD-K43389675</td>\n",
       "      <td>6.0</td>\n",
       "    </tr>\n",
       "    <tr>\n",
       "      <th>1</th>\n",
       "      <td>AML001_PC3_6H:BRD-A19037878:0.37037</td>\n",
       "      <td>0.0</td>\n",
       "      <td>AML001_PC3_6H</td>\n",
       "      <td>PC3</td>\n",
       "      <td>0.505995</td>\n",
       "      <td>trichostatin_a</td>\n",
       "      <td>0.37037</td>\n",
       "      <td>BRD-A19037878</td>\n",
       "      <td>6.0</td>\n",
       "    </tr>\n",
       "    <tr>\n",
       "      <th>2</th>\n",
       "      <td>AML001_PC3_6H:BRD-A19037878:1.11111</td>\n",
       "      <td>0.0</td>\n",
       "      <td>AML001_PC3_6H</td>\n",
       "      <td>PC3</td>\n",
       "      <td>0.676204</td>\n",
       "      <td>trichostatin_a</td>\n",
       "      <td>1.11111</td>\n",
       "      <td>BRD-A19037878</td>\n",
       "      <td>6.0</td>\n",
       "    </tr>\n",
       "    <tr>\n",
       "      <th>3</th>\n",
       "      <td>AML001_PC3_6H:BRD-A19037878:10</td>\n",
       "      <td>0.0</td>\n",
       "      <td>AML001_PC3_6H</td>\n",
       "      <td>PC3</td>\n",
       "      <td>0.747633</td>\n",
       "      <td>trichostatin_a</td>\n",
       "      <td>10.00000</td>\n",
       "      <td>BRD-A19037878</td>\n",
       "      <td>6.0</td>\n",
       "    </tr>\n",
       "    <tr>\n",
       "      <th>4</th>\n",
       "      <td>AML001_PC3_6H:BRD-A19037878:3.33333</td>\n",
       "      <td>0.0</td>\n",
       "      <td>AML001_PC3_6H</td>\n",
       "      <td>PC3</td>\n",
       "      <td>0.659851</td>\n",
       "      <td>trichostatin_a</td>\n",
       "      <td>3.33333</td>\n",
       "      <td>BRD-A19037878</td>\n",
       "      <td>6.0</td>\n",
       "    </tr>\n",
       "  </tbody>\n",
       "</table>\n",
       "</div>"
      ],
      "text/plain": [
       "                                sig_id  SCS_centered_by_batch           batch  \\\n",
       "0      AML001_CD34_6H:BRD-K43389675:10                    0.0  AML001_CD34_6H   \n",
       "1  AML001_PC3_6H:BRD-A19037878:0.37037                    0.0   AML001_PC3_6H   \n",
       "2  AML001_PC3_6H:BRD-A19037878:1.11111                    0.0   AML001_PC3_6H   \n",
       "3       AML001_PC3_6H:BRD-A19037878:10                    0.0   AML001_PC3_6H   \n",
       "4  AML001_PC3_6H:BRD-A19037878:3.33333                    0.0   AML001_PC3_6H   \n",
       "\n",
       "  cell_id  mean_cosine_dist_centered_by_batch       pert_desc  pert_dose  \\\n",
       "0    CD34                            0.853471    daunorubicin   10.00000   \n",
       "1     PC3                            0.505995  trichostatin_a    0.37037   \n",
       "2     PC3                            0.676204  trichostatin_a    1.11111   \n",
       "3     PC3                            0.747633  trichostatin_a   10.00000   \n",
       "4     PC3                            0.659851  trichostatin_a    3.33333   \n",
       "\n",
       "         pert_id  pert_time  \n",
       "0  BRD-K43389675        6.0  \n",
       "1  BRD-A19037878        6.0  \n",
       "2  BRD-A19037878        6.0  \n",
       "3  BRD-A19037878        6.0  \n",
       "4  BRD-A19037878        6.0  "
      ]
     },
     "execution_count": 4,
     "metadata": {},
     "output_type": "execute_result"
    }
   ],
   "source": [
    "df_sig_metadata.head()"
   ]
  },
  {
   "cell_type": "code",
   "execution_count": 5,
   "metadata": {},
   "outputs": [],
   "source": [
    "# Creating separate files for up and down genes\n",
    "\n",
    "with open('input/CD_signatures_binary_42809.gmt', 'r') as fin, open('input/L1000FWD_drug_up_genes.gmt', 'w') as fout:\n",
    "    fout.writelines(islice(fin, 0, None, 2))\n",
    "fout.close()\n",
    "\n",
    "with open('input/CD_signatures_binary_42809.gmt', 'r') as fin, open('input/L1000FWD_drug_down_genes.gmt','w') as fout:\n",
    "    fout.writelines(islice(fin, 1, None, 2))\n",
    "fout.close()"
   ]
  },
  {
   "cell_type": "markdown",
   "metadata": {},
   "source": [
    "### Filtering df_sig_metadata by lowest mean_cosine_dist_centered_by_batch"
   ]
  },
  {
   "cell_type": "code",
   "execution_count": 6,
   "metadata": {},
   "outputs": [],
   "source": [
    "# Get the smallest mean cosine distance for each pert id #\n",
    "df_filtered = df_sig_metadata.sort_values(by = ['pert_id', 'mean_cosine_dist_centered_by_batch'])\\\n",
    "    .groupby('pert_id')\\\n",
    "    .head(1)"
   ]
  },
  {
   "cell_type": "code",
   "execution_count": 7,
   "metadata": {},
   "outputs": [
    {
     "data": {
      "text/plain": [
       "4941"
      ]
     },
     "execution_count": 7,
     "metadata": {},
     "output_type": "execute_result"
    }
   ],
   "source": [
    "len(df_filtered)"
   ]
  },
  {
   "cell_type": "code",
   "execution_count": 8,
   "metadata": {},
   "outputs": [
    {
     "data": {
      "text/html": [
       "<div>\n",
       "<style scoped>\n",
       "    .dataframe tbody tr th:only-of-type {\n",
       "        vertical-align: middle;\n",
       "    }\n",
       "\n",
       "    .dataframe tbody tr th {\n",
       "        vertical-align: top;\n",
       "    }\n",
       "\n",
       "    .dataframe thead th {\n",
       "        text-align: right;\n",
       "    }\n",
       "</style>\n",
       "<table border=\"1\" class=\"dataframe\">\n",
       "  <thead>\n",
       "    <tr style=\"text-align: right;\">\n",
       "      <th></th>\n",
       "      <th>sig_id</th>\n",
       "      <th>SCS_centered_by_batch</th>\n",
       "      <th>batch</th>\n",
       "      <th>cell_id</th>\n",
       "      <th>mean_cosine_dist_centered_by_batch</th>\n",
       "      <th>pert_desc</th>\n",
       "      <th>pert_dose</th>\n",
       "      <th>pert_id</th>\n",
       "      <th>pert_time</th>\n",
       "    </tr>\n",
       "  </thead>\n",
       "  <tbody>\n",
       "    <tr>\n",
       "      <th>26739</th>\n",
       "      <td>CPC015_PHH_24H:BRD-A00100033-001-04-8:10</td>\n",
       "      <td>0.0203</td>\n",
       "      <td>CPC015_PHH_24H</td>\n",
       "      <td>PHH</td>\n",
       "      <td>0.911062</td>\n",
       "      <td>nifurtimox</td>\n",
       "      <td>10.0</td>\n",
       "      <td>BRD-A00100033</td>\n",
       "      <td>24.0</td>\n",
       "    </tr>\n",
       "    <tr>\n",
       "      <th>336</th>\n",
       "      <td>CPC001_HA1E_24H:BRD-A00267231-001-01-1:10</td>\n",
       "      <td>0.0022</td>\n",
       "      <td>CPC001_HA1E_24H</td>\n",
       "      <td>HA1E</td>\n",
       "      <td>0.897247</td>\n",
       "      <td>hemado</td>\n",
       "      <td>10.0</td>\n",
       "      <td>BRD-A00267231</td>\n",
       "      <td>24.0</td>\n",
       "    </tr>\n",
       "    <tr>\n",
       "      <th>31189</th>\n",
       "      <td>CPC019_MCF7_24H:BRD-A00420644-001-01-7:10</td>\n",
       "      <td>0.0000</td>\n",
       "      <td>CPC019_MCF7_24H</td>\n",
       "      <td>MCF7</td>\n",
       "      <td>0.728397</td>\n",
       "      <td>-666</td>\n",
       "      <td>10.0</td>\n",
       "      <td>BRD-A00420644</td>\n",
       "      <td>24.0</td>\n",
       "    </tr>\n",
       "    <tr>\n",
       "      <th>16182</th>\n",
       "      <td>CPC010_HA1E_6H:BRD-A00474148-001-02-3:10</td>\n",
       "      <td>0.0007</td>\n",
       "      <td>CPC010_HA1E_6H</td>\n",
       "      <td>HA1E</td>\n",
       "      <td>0.913214</td>\n",
       "      <td>-666</td>\n",
       "      <td>10.0</td>\n",
       "      <td>BRD-A00474148</td>\n",
       "      <td>6.0</td>\n",
       "    </tr>\n",
       "    <tr>\n",
       "      <th>17487</th>\n",
       "      <td>CPC011_HA1E_6H:BRD-A00520476-001-05-8:10</td>\n",
       "      <td>0.0147</td>\n",
       "      <td>CPC011_HA1E_6H</td>\n",
       "      <td>HA1E</td>\n",
       "      <td>0.890211</td>\n",
       "      <td>6h-pyrido[2,3-b][1,4]benzodiazepin-6-one, 11-[...</td>\n",
       "      <td>10.0</td>\n",
       "      <td>BRD-A00520476</td>\n",
       "      <td>6.0</td>\n",
       "    </tr>\n",
       "  </tbody>\n",
       "</table>\n",
       "</div>"
      ],
      "text/plain": [
       "                                          sig_id  SCS_centered_by_batch  \\\n",
       "26739   CPC015_PHH_24H:BRD-A00100033-001-04-8:10                 0.0203   \n",
       "336    CPC001_HA1E_24H:BRD-A00267231-001-01-1:10                 0.0022   \n",
       "31189  CPC019_MCF7_24H:BRD-A00420644-001-01-7:10                 0.0000   \n",
       "16182   CPC010_HA1E_6H:BRD-A00474148-001-02-3:10                 0.0007   \n",
       "17487   CPC011_HA1E_6H:BRD-A00520476-001-05-8:10                 0.0147   \n",
       "\n",
       "                 batch cell_id  mean_cosine_dist_centered_by_batch  \\\n",
       "26739   CPC015_PHH_24H     PHH                            0.911062   \n",
       "336    CPC001_HA1E_24H    HA1E                            0.897247   \n",
       "31189  CPC019_MCF7_24H    MCF7                            0.728397   \n",
       "16182   CPC010_HA1E_6H    HA1E                            0.913214   \n",
       "17487   CPC011_HA1E_6H    HA1E                            0.890211   \n",
       "\n",
       "                                               pert_desc  pert_dose  \\\n",
       "26739                                         nifurtimox       10.0   \n",
       "336                                               hemado       10.0   \n",
       "31189                                               -666       10.0   \n",
       "16182                                               -666       10.0   \n",
       "17487  6h-pyrido[2,3-b][1,4]benzodiazepin-6-one, 11-[...       10.0   \n",
       "\n",
       "             pert_id  pert_time  \n",
       "26739  BRD-A00100033       24.0  \n",
       "336    BRD-A00267231       24.0  \n",
       "31189  BRD-A00420644       24.0  \n",
       "16182  BRD-A00474148        6.0  \n",
       "17487  BRD-A00520476        6.0  "
      ]
     },
     "execution_count": 8,
     "metadata": {},
     "output_type": "execute_result"
    }
   ],
   "source": [
    "df_filtered.head()"
   ]
  },
  {
   "cell_type": "markdown",
   "metadata": {},
   "source": [
    "### Importing L1000FWD drug metadata to match pert_ids"
   ]
  },
  {
   "cell_type": "code",
   "execution_count": 13,
   "metadata": {},
   "outputs": [],
   "source": [
    "df_metadata = pd.read_csv('input/Drugs_metadata.csv', usecols = ['pert_iname','pert_id','inchi_key','pubchem_cid',\n",
    "                                                                'LSM_id'])\n",
    "df_metadata.dropna(subset = ['pubchem_cid'], inplace = True)\n",
    "df_metadata['pubchem_cid'] = df_metadata['pubchem_cid'].astype(int)\n",
    "df_metadata['inchi_key'] = df_metadata['inchi_key'].astype(str)\n",
    "df_metadata['inchi_key'] = df_metadata['inchi_key'].apply(lambda x: str(x[9:]))"
   ]
  },
  {
   "cell_type": "code",
   "execution_count": 14,
   "metadata": {},
   "outputs": [
    {
     "data": {
      "text/html": [
       "<div>\n",
       "<style scoped>\n",
       "    .dataframe tbody tr th:only-of-type {\n",
       "        vertical-align: middle;\n",
       "    }\n",
       "\n",
       "    .dataframe tbody tr th {\n",
       "        vertical-align: top;\n",
       "    }\n",
       "\n",
       "    .dataframe thead th {\n",
       "        text-align: right;\n",
       "    }\n",
       "</style>\n",
       "<table border=\"1\" class=\"dataframe\">\n",
       "  <thead>\n",
       "    <tr style=\"text-align: right;\">\n",
       "      <th></th>\n",
       "      <th>pert_id</th>\n",
       "      <th>LSM_id</th>\n",
       "      <th>pert_iname</th>\n",
       "      <th>inchi_key</th>\n",
       "      <th>pubchem_cid</th>\n",
       "    </tr>\n",
       "  </thead>\n",
       "  <tbody>\n",
       "    <tr>\n",
       "      <th>0</th>\n",
       "      <td>BRD-A00100033</td>\n",
       "      <td>LSM-1232</td>\n",
       "      <td>nifurtimox</td>\n",
       "      <td>ARFHIAQFJWUCFH-UHFFFAOYSA-N</td>\n",
       "      <td>6842999</td>\n",
       "    </tr>\n",
       "    <tr>\n",
       "      <th>1</th>\n",
       "      <td>BRD-A00520476</td>\n",
       "      <td>LSM-22625</td>\n",
       "      <td>otenzepad</td>\n",
       "      <td>UBRKDAVQCKZSPO-UHFFFAOYSA-N</td>\n",
       "      <td>107867</td>\n",
       "    </tr>\n",
       "    <tr>\n",
       "      <th>2</th>\n",
       "      <td>BRD-A00546892</td>\n",
       "      <td>LSM-1235</td>\n",
       "      <td>biperiden</td>\n",
       "      <td>YSXKPIUOCJLQIE-UHFFFAOYSA-N</td>\n",
       "      <td>92151</td>\n",
       "    </tr>\n",
       "    <tr>\n",
       "      <th>3</th>\n",
       "      <td>BRD-A00758722</td>\n",
       "      <td>LSM-1237</td>\n",
       "      <td>noretynodrel</td>\n",
       "      <td>ICTXHFFSOAJUMG-OQPPHWFISA-N</td>\n",
       "      <td>5702095</td>\n",
       "    </tr>\n",
       "    <tr>\n",
       "      <th>4</th>\n",
       "      <td>BRD-A00827783</td>\n",
       "      <td>LSM-4299</td>\n",
       "      <td>dyphylline</td>\n",
       "      <td>KSCFJBIXMNOVSH-UHFFFAOYSA-N</td>\n",
       "      <td>3182</td>\n",
       "    </tr>\n",
       "  </tbody>\n",
       "</table>\n",
       "</div>"
      ],
      "text/plain": [
       "         pert_id     LSM_id    pert_iname                    inchi_key  \\\n",
       "0  BRD-A00100033   LSM-1232    nifurtimox  ARFHIAQFJWUCFH-UHFFFAOYSA-N   \n",
       "1  BRD-A00520476  LSM-22625     otenzepad  UBRKDAVQCKZSPO-UHFFFAOYSA-N   \n",
       "2  BRD-A00546892   LSM-1235     biperiden  YSXKPIUOCJLQIE-UHFFFAOYSA-N   \n",
       "3  BRD-A00758722   LSM-1237  noretynodrel  ICTXHFFSOAJUMG-OQPPHWFISA-N   \n",
       "4  BRD-A00827783   LSM-4299    dyphylline  KSCFJBIXMNOVSH-UHFFFAOYSA-N   \n",
       "\n",
       "   pubchem_cid  \n",
       "0      6842999  \n",
       "1       107867  \n",
       "2        92151  \n",
       "3      5702095  \n",
       "4         3182  "
      ]
     },
     "execution_count": 14,
     "metadata": {},
     "output_type": "execute_result"
    }
   ],
   "source": [
    "df_metadata.head()"
   ]
  },
  {
   "cell_type": "code",
   "execution_count": 15,
   "metadata": {},
   "outputs": [],
   "source": [
    "df_main = df_filtered.merge(df_metadata)"
   ]
  },
  {
   "cell_type": "code",
   "execution_count": 16,
   "metadata": {},
   "outputs": [
    {
     "data": {
      "text/html": [
       "<div>\n",
       "<style scoped>\n",
       "    .dataframe tbody tr th:only-of-type {\n",
       "        vertical-align: middle;\n",
       "    }\n",
       "\n",
       "    .dataframe tbody tr th {\n",
       "        vertical-align: top;\n",
       "    }\n",
       "\n",
       "    .dataframe thead th {\n",
       "        text-align: right;\n",
       "    }\n",
       "</style>\n",
       "<table border=\"1\" class=\"dataframe\">\n",
       "  <thead>\n",
       "    <tr style=\"text-align: right;\">\n",
       "      <th></th>\n",
       "      <th>sig_id</th>\n",
       "      <th>SCS_centered_by_batch</th>\n",
       "      <th>batch</th>\n",
       "      <th>cell_id</th>\n",
       "      <th>mean_cosine_dist_centered_by_batch</th>\n",
       "      <th>pert_desc</th>\n",
       "      <th>pert_dose</th>\n",
       "      <th>pert_id</th>\n",
       "      <th>pert_time</th>\n",
       "      <th>LSM_id</th>\n",
       "      <th>pert_iname</th>\n",
       "      <th>inchi_key</th>\n",
       "      <th>pubchem_cid</th>\n",
       "    </tr>\n",
       "  </thead>\n",
       "  <tbody>\n",
       "    <tr>\n",
       "      <th>0</th>\n",
       "      <td>CPC015_PHH_24H:BRD-A00100033-001-04-8:10</td>\n",
       "      <td>0.0203</td>\n",
       "      <td>CPC015_PHH_24H</td>\n",
       "      <td>PHH</td>\n",
       "      <td>0.911062</td>\n",
       "      <td>nifurtimox</td>\n",
       "      <td>10.0</td>\n",
       "      <td>BRD-A00100033</td>\n",
       "      <td>24.0</td>\n",
       "      <td>LSM-1232</td>\n",
       "      <td>nifurtimox</td>\n",
       "      <td>ARFHIAQFJWUCFH-UHFFFAOYSA-N</td>\n",
       "      <td>6842999</td>\n",
       "    </tr>\n",
       "    <tr>\n",
       "      <th>1</th>\n",
       "      <td>CPC001_HA1E_24H:BRD-A00267231-001-01-1:10</td>\n",
       "      <td>0.0022</td>\n",
       "      <td>CPC001_HA1E_24H</td>\n",
       "      <td>HA1E</td>\n",
       "      <td>0.897247</td>\n",
       "      <td>hemado</td>\n",
       "      <td>10.0</td>\n",
       "      <td>BRD-A00267231</td>\n",
       "      <td>24.0</td>\n",
       "      <td>LSM-1233</td>\n",
       "      <td>hemado</td>\n",
       "      <td>KOCIMZNSNPOGOP-UHFFFAOYSA-N</td>\n",
       "      <td>4043357</td>\n",
       "    </tr>\n",
       "    <tr>\n",
       "      <th>2</th>\n",
       "      <td>CPC019_MCF7_24H:BRD-A00420644-001-01-7:10</td>\n",
       "      <td>0.0000</td>\n",
       "      <td>CPC019_MCF7_24H</td>\n",
       "      <td>MCF7</td>\n",
       "      <td>0.728397</td>\n",
       "      <td>-666</td>\n",
       "      <td>10.0</td>\n",
       "      <td>BRD-A00420644</td>\n",
       "      <td>24.0</td>\n",
       "      <td>LSM-6366</td>\n",
       "      <td>SA-3676</td>\n",
       "      <td>ASCBUEVCEVGOFP-UHFFFAOYSA-N</td>\n",
       "      <td>2853908</td>\n",
       "    </tr>\n",
       "    <tr>\n",
       "      <th>3</th>\n",
       "      <td>CPC010_HA1E_6H:BRD-A00474148-001-02-3:10</td>\n",
       "      <td>0.0007</td>\n",
       "      <td>CPC010_HA1E_6H</td>\n",
       "      <td>HA1E</td>\n",
       "      <td>0.913214</td>\n",
       "      <td>-666</td>\n",
       "      <td>10.0</td>\n",
       "      <td>BRD-A00474148</td>\n",
       "      <td>6.0</td>\n",
       "      <td>LSM-1234</td>\n",
       "      <td>BRD-A00474148</td>\n",
       "      <td>RCGAUPRLRFZAMS-UHFFFAOYSA-N</td>\n",
       "      <td>44825297</td>\n",
       "    </tr>\n",
       "    <tr>\n",
       "      <th>4</th>\n",
       "      <td>CPC011_HA1E_6H:BRD-A00520476-001-05-8:10</td>\n",
       "      <td>0.0147</td>\n",
       "      <td>CPC011_HA1E_6H</td>\n",
       "      <td>HA1E</td>\n",
       "      <td>0.890211</td>\n",
       "      <td>6h-pyrido[2,3-b][1,4]benzodiazepin-6-one, 11-[...</td>\n",
       "      <td>10.0</td>\n",
       "      <td>BRD-A00520476</td>\n",
       "      <td>6.0</td>\n",
       "      <td>LSM-22625</td>\n",
       "      <td>otenzepad</td>\n",
       "      <td>UBRKDAVQCKZSPO-UHFFFAOYSA-N</td>\n",
       "      <td>107867</td>\n",
       "    </tr>\n",
       "  </tbody>\n",
       "</table>\n",
       "</div>"
      ],
      "text/plain": [
       "                                      sig_id  SCS_centered_by_batch  \\\n",
       "0   CPC015_PHH_24H:BRD-A00100033-001-04-8:10                 0.0203   \n",
       "1  CPC001_HA1E_24H:BRD-A00267231-001-01-1:10                 0.0022   \n",
       "2  CPC019_MCF7_24H:BRD-A00420644-001-01-7:10                 0.0000   \n",
       "3   CPC010_HA1E_6H:BRD-A00474148-001-02-3:10                 0.0007   \n",
       "4   CPC011_HA1E_6H:BRD-A00520476-001-05-8:10                 0.0147   \n",
       "\n",
       "             batch cell_id  mean_cosine_dist_centered_by_batch  \\\n",
       "0   CPC015_PHH_24H     PHH                            0.911062   \n",
       "1  CPC001_HA1E_24H    HA1E                            0.897247   \n",
       "2  CPC019_MCF7_24H    MCF7                            0.728397   \n",
       "3   CPC010_HA1E_6H    HA1E                            0.913214   \n",
       "4   CPC011_HA1E_6H    HA1E                            0.890211   \n",
       "\n",
       "                                           pert_desc  pert_dose  \\\n",
       "0                                         nifurtimox       10.0   \n",
       "1                                             hemado       10.0   \n",
       "2                                               -666       10.0   \n",
       "3                                               -666       10.0   \n",
       "4  6h-pyrido[2,3-b][1,4]benzodiazepin-6-one, 11-[...       10.0   \n",
       "\n",
       "         pert_id  pert_time     LSM_id     pert_iname  \\\n",
       "0  BRD-A00100033       24.0   LSM-1232     nifurtimox   \n",
       "1  BRD-A00267231       24.0   LSM-1233         hemado   \n",
       "2  BRD-A00420644       24.0   LSM-6366        SA-3676   \n",
       "3  BRD-A00474148        6.0   LSM-1234  BRD-A00474148   \n",
       "4  BRD-A00520476        6.0  LSM-22625      otenzepad   \n",
       "\n",
       "                     inchi_key  pubchem_cid  \n",
       "0  ARFHIAQFJWUCFH-UHFFFAOYSA-N      6842999  \n",
       "1  KOCIMZNSNPOGOP-UHFFFAOYSA-N      4043357  \n",
       "2  ASCBUEVCEVGOFP-UHFFFAOYSA-N      2853908  \n",
       "3  RCGAUPRLRFZAMS-UHFFFAOYSA-N     44825297  \n",
       "4  UBRKDAVQCKZSPO-UHFFFAOYSA-N       107867  "
      ]
     },
     "execution_count": 16,
     "metadata": {},
     "output_type": "execute_result"
    }
   ],
   "source": [
    "df_main.head()"
   ]
  },
  {
   "cell_type": "markdown",
   "metadata": {},
   "source": [
    "### Importing Drugbank mapping file"
   ]
  },
  {
   "cell_type": "code",
   "execution_count": 22,
   "metadata": {},
   "outputs": [],
   "source": [
    "drugbank_mapping = pd.read_csv('../../metadata/mapping_files/lincs.tsv', sep = '\\t')\n",
    "drugbank_mapping = drugbank_mapping.rename(columns = {'inchi_key':'inchi_drugbank',\n",
    "                                                     'lincs_id':'LSM_id'})"
   ]
  },
  {
   "cell_type": "code",
   "execution_count": 23,
   "metadata": {},
   "outputs": [
    {
     "data": {
      "text/html": [
       "<div>\n",
       "<style scoped>\n",
       "    .dataframe tbody tr th:only-of-type {\n",
       "        vertical-align: middle;\n",
       "    }\n",
       "\n",
       "    .dataframe tbody tr th {\n",
       "        vertical-align: top;\n",
       "    }\n",
       "\n",
       "    .dataframe thead th {\n",
       "        text-align: right;\n",
       "    }\n",
       "</style>\n",
       "<table border=\"1\" class=\"dataframe\">\n",
       "  <thead>\n",
       "    <tr style=\"text-align: right;\">\n",
       "      <th></th>\n",
       "      <th>drugbank_id</th>\n",
       "      <th>LSM_id</th>\n",
       "      <th>inchi_drugbank</th>\n",
       "    </tr>\n",
       "  </thead>\n",
       "  <tbody>\n",
       "    <tr>\n",
       "      <th>0</th>\n",
       "      <td>DB00014</td>\n",
       "      <td>LSM-46023</td>\n",
       "      <td>BLCLNMBMMGCOAS-URPVMXJPSA-N</td>\n",
       "    </tr>\n",
       "    <tr>\n",
       "      <th>1</th>\n",
       "      <td>DB00014</td>\n",
       "      <td>LSM-5104</td>\n",
       "      <td>BLCLNMBMMGCOAS-URPVMXJPSA-N</td>\n",
       "    </tr>\n",
       "    <tr>\n",
       "      <th>2</th>\n",
       "      <td>DB00035</td>\n",
       "      <td>LSM-46024</td>\n",
       "      <td>NFLWUMRGJYTJIN-PNIOQBSNSA-N</td>\n",
       "    </tr>\n",
       "    <tr>\n",
       "      <th>3</th>\n",
       "      <td>DB00091</td>\n",
       "      <td>LSM-1703</td>\n",
       "      <td>PMATZTZNYRCHOR-CGLBZJNRSA-N</td>\n",
       "    </tr>\n",
       "    <tr>\n",
       "      <th>4</th>\n",
       "      <td>DB00091</td>\n",
       "      <td>LSM-2280</td>\n",
       "      <td>PMATZTZNYRCHOR-CGLBZJNRSA-N</td>\n",
       "    </tr>\n",
       "  </tbody>\n",
       "</table>\n",
       "</div>"
      ],
      "text/plain": [
       "  drugbank_id     LSM_id               inchi_drugbank\n",
       "0     DB00014  LSM-46023  BLCLNMBMMGCOAS-URPVMXJPSA-N\n",
       "1     DB00014   LSM-5104  BLCLNMBMMGCOAS-URPVMXJPSA-N\n",
       "2     DB00035  LSM-46024  NFLWUMRGJYTJIN-PNIOQBSNSA-N\n",
       "3     DB00091   LSM-1703  PMATZTZNYRCHOR-CGLBZJNRSA-N\n",
       "4     DB00091   LSM-2280  PMATZTZNYRCHOR-CGLBZJNRSA-N"
      ]
     },
     "execution_count": 23,
     "metadata": {},
     "output_type": "execute_result"
    }
   ],
   "source": [
    "drugbank_mapping.head()"
   ]
  },
  {
   "cell_type": "code",
   "execution_count": 24,
   "metadata": {},
   "outputs": [],
   "source": [
    "df_drugbank = df_main.merge(drugbank_mapping)"
   ]
  },
  {
   "cell_type": "markdown",
   "metadata": {},
   "source": [
    "958 small molecules found in Drugbank, however we need to include the L1000 drugs for analysis"
   ]
  },
  {
   "cell_type": "code",
   "execution_count": 25,
   "metadata": {},
   "outputs": [
    {
     "data": {
      "text/plain": [
       "1433"
      ]
     },
     "execution_count": 25,
     "metadata": {},
     "output_type": "execute_result"
    }
   ],
   "source": [
    "len(df_drugbank)"
   ]
  },
  {
   "cell_type": "code",
   "execution_count": 26,
   "metadata": {},
   "outputs": [
    {
     "data": {
      "text/html": [
       "<div>\n",
       "<style scoped>\n",
       "    .dataframe tbody tr th:only-of-type {\n",
       "        vertical-align: middle;\n",
       "    }\n",
       "\n",
       "    .dataframe tbody tr th {\n",
       "        vertical-align: top;\n",
       "    }\n",
       "\n",
       "    .dataframe thead th {\n",
       "        text-align: right;\n",
       "    }\n",
       "</style>\n",
       "<table border=\"1\" class=\"dataframe\">\n",
       "  <thead>\n",
       "    <tr style=\"text-align: right;\">\n",
       "      <th></th>\n",
       "      <th>sig_id</th>\n",
       "      <th>SCS_centered_by_batch</th>\n",
       "      <th>batch</th>\n",
       "      <th>cell_id</th>\n",
       "      <th>mean_cosine_dist_centered_by_batch</th>\n",
       "      <th>pert_desc</th>\n",
       "      <th>pert_dose</th>\n",
       "      <th>pert_id</th>\n",
       "      <th>pert_time</th>\n",
       "      <th>LSM_id</th>\n",
       "      <th>pert_iname</th>\n",
       "      <th>inchi_key</th>\n",
       "      <th>pubchem_cid</th>\n",
       "      <th>drugbank_id</th>\n",
       "      <th>inchi_drugbank</th>\n",
       "    </tr>\n",
       "  </thead>\n",
       "  <tbody>\n",
       "    <tr>\n",
       "      <th>0</th>\n",
       "      <td>CPC015_PHH_24H:BRD-A00100033-001-04-8:10</td>\n",
       "      <td>0.0203</td>\n",
       "      <td>CPC015_PHH_24H</td>\n",
       "      <td>PHH</td>\n",
       "      <td>0.911062</td>\n",
       "      <td>nifurtimox</td>\n",
       "      <td>10.0</td>\n",
       "      <td>BRD-A00100033</td>\n",
       "      <td>24.0</td>\n",
       "      <td>LSM-1232</td>\n",
       "      <td>nifurtimox</td>\n",
       "      <td>ARFHIAQFJWUCFH-UHFFFAOYSA-N</td>\n",
       "      <td>6842999</td>\n",
       "      <td>DB11820</td>\n",
       "      <td>ARFHIAQFJWUCFH-IZZDOVSWSA-N</td>\n",
       "    </tr>\n",
       "    <tr>\n",
       "      <th>1</th>\n",
       "      <td>CPC015_A375_6H:BRD-A00546892-001-01-8:10</td>\n",
       "      <td>0.0413</td>\n",
       "      <td>CPC015_A375_6H</td>\n",
       "      <td>A375</td>\n",
       "      <td>0.948594</td>\n",
       "      <td>-666</td>\n",
       "      <td>10.0</td>\n",
       "      <td>BRD-A00546892</td>\n",
       "      <td>6.0</td>\n",
       "      <td>LSM-1235</td>\n",
       "      <td>biperiden</td>\n",
       "      <td>YSXKPIUOCJLQIE-UHFFFAOYSA-N</td>\n",
       "      <td>92151</td>\n",
       "      <td>DB00810</td>\n",
       "      <td>YSXKPIUOCJLQIE-UHFFFAOYSA-N</td>\n",
       "    </tr>\n",
       "    <tr>\n",
       "      <th>2</th>\n",
       "      <td>CPC002_VCAP_24H:BRD-A00758722-001-03-1:10</td>\n",
       "      <td>0.0000</td>\n",
       "      <td>CPC002_VCAP_24H</td>\n",
       "      <td>VCAP</td>\n",
       "      <td>0.712465</td>\n",
       "      <td>norethynodrel</td>\n",
       "      <td>10.0</td>\n",
       "      <td>BRD-A00758722</td>\n",
       "      <td>24.0</td>\n",
       "      <td>LSM-1237</td>\n",
       "      <td>noretynodrel</td>\n",
       "      <td>ICTXHFFSOAJUMG-OQPPHWFISA-N</td>\n",
       "      <td>5702095</td>\n",
       "      <td>DB09371</td>\n",
       "      <td>ICTXHFFSOAJUMG-SLHNCBLASA-N</td>\n",
       "    </tr>\n",
       "    <tr>\n",
       "      <th>3</th>\n",
       "      <td>CPC016_MCF7_24H:BRD-A00993607-003-15-4:10</td>\n",
       "      <td>0.0021</td>\n",
       "      <td>CPC016_MCF7_24H</td>\n",
       "      <td>MCF7</td>\n",
       "      <td>0.921066</td>\n",
       "      <td>-666</td>\n",
       "      <td>10.0</td>\n",
       "      <td>BRD-A00993607</td>\n",
       "      <td>24.0</td>\n",
       "      <td>LSM-1238</td>\n",
       "      <td>alprenolol</td>\n",
       "      <td>PAZJSJFMUHDSTF-UHFFFAOYSA-N</td>\n",
       "      <td>66368</td>\n",
       "      <td>DB00866</td>\n",
       "      <td>PAZJSJFMUHDSTF-UHFFFAOYSA-N</td>\n",
       "    </tr>\n",
       "    <tr>\n",
       "      <th>4</th>\n",
       "      <td>CPC006_THP1_6H:BRD-A01145011-001-01-4:11.1</td>\n",
       "      <td>0.0000</td>\n",
       "      <td>CPC006_THP1_6H</td>\n",
       "      <td>THP1</td>\n",
       "      <td>-666.000000</td>\n",
       "      <td>py 7715</td>\n",
       "      <td>11.1</td>\n",
       "      <td>BRD-A01145011</td>\n",
       "      <td>6.0</td>\n",
       "      <td>LSM-6181</td>\n",
       "      <td>zebularine</td>\n",
       "      <td>RPQZTTQVRYEKCR-JJFBUQMESA-N</td>\n",
       "      <td>46783268</td>\n",
       "      <td>DB03068</td>\n",
       "      <td>RPQZTTQVRYEKCR-WCTZXXKLSA-N</td>\n",
       "    </tr>\n",
       "  </tbody>\n",
       "</table>\n",
       "</div>"
      ],
      "text/plain": [
       "                                       sig_id  SCS_centered_by_batch  \\\n",
       "0    CPC015_PHH_24H:BRD-A00100033-001-04-8:10                 0.0203   \n",
       "1    CPC015_A375_6H:BRD-A00546892-001-01-8:10                 0.0413   \n",
       "2   CPC002_VCAP_24H:BRD-A00758722-001-03-1:10                 0.0000   \n",
       "3   CPC016_MCF7_24H:BRD-A00993607-003-15-4:10                 0.0021   \n",
       "4  CPC006_THP1_6H:BRD-A01145011-001-01-4:11.1                 0.0000   \n",
       "\n",
       "             batch cell_id  mean_cosine_dist_centered_by_batch      pert_desc  \\\n",
       "0   CPC015_PHH_24H     PHH                            0.911062     nifurtimox   \n",
       "1   CPC015_A375_6H    A375                            0.948594           -666   \n",
       "2  CPC002_VCAP_24H    VCAP                            0.712465  norethynodrel   \n",
       "3  CPC016_MCF7_24H    MCF7                            0.921066           -666   \n",
       "4   CPC006_THP1_6H    THP1                         -666.000000        py 7715   \n",
       "\n",
       "   pert_dose        pert_id  pert_time    LSM_id    pert_iname  \\\n",
       "0       10.0  BRD-A00100033       24.0  LSM-1232    nifurtimox   \n",
       "1       10.0  BRD-A00546892        6.0  LSM-1235     biperiden   \n",
       "2       10.0  BRD-A00758722       24.0  LSM-1237  noretynodrel   \n",
       "3       10.0  BRD-A00993607       24.0  LSM-1238    alprenolol   \n",
       "4       11.1  BRD-A01145011        6.0  LSM-6181    zebularine   \n",
       "\n",
       "                     inchi_key  pubchem_cid drugbank_id  \\\n",
       "0  ARFHIAQFJWUCFH-UHFFFAOYSA-N      6842999     DB11820   \n",
       "1  YSXKPIUOCJLQIE-UHFFFAOYSA-N        92151     DB00810   \n",
       "2  ICTXHFFSOAJUMG-OQPPHWFISA-N      5702095     DB09371   \n",
       "3  PAZJSJFMUHDSTF-UHFFFAOYSA-N        66368     DB00866   \n",
       "4  RPQZTTQVRYEKCR-JJFBUQMESA-N     46783268     DB03068   \n",
       "\n",
       "                inchi_drugbank  \n",
       "0  ARFHIAQFJWUCFH-IZZDOVSWSA-N  \n",
       "1  YSXKPIUOCJLQIE-UHFFFAOYSA-N  \n",
       "2  ICTXHFFSOAJUMG-SLHNCBLASA-N  \n",
       "3  PAZJSJFMUHDSTF-UHFFFAOYSA-N  \n",
       "4  RPQZTTQVRYEKCR-WCTZXXKLSA-N  "
      ]
     },
     "execution_count": 26,
     "metadata": {},
     "output_type": "execute_result"
    }
   ],
   "source": [
    "df_drugbank.head()"
   ]
  },
  {
   "cell_type": "code",
   "execution_count": 27,
   "metadata": {},
   "outputs": [
    {
     "data": {
      "text/plain": [
       "1245"
      ]
     },
     "execution_count": 27,
     "metadata": {},
     "output_type": "execute_result"
    }
   ],
   "source": [
    "len(set(df_drugbank['LSM_id']))"
   ]
  },
  {
   "cell_type": "code",
   "execution_count": 28,
   "metadata": {},
   "outputs": [
    {
     "data": {
      "text/plain": [
       "1176"
      ]
     },
     "execution_count": 28,
     "metadata": {},
     "output_type": "execute_result"
    }
   ],
   "source": [
    "len(set(df_drugbank['drugbank_id']))"
   ]
  },
  {
   "cell_type": "markdown",
   "metadata": {},
   "source": [
    "Creating a L1000FWD specific metadata table for small molecules not found in Drugbank"
   ]
  },
  {
   "cell_type": "code",
   "execution_count": 30,
   "metadata": {},
   "outputs": [],
   "source": [
    "l1000_metadata = df_main\n",
    "for index,row in l1000_metadata.iterrows():\n",
    "    drugbank_list = df_drugbank['inchi_key'].tolist()\n",
    "    if row['inchi_key'] in drugbank_list:\n",
    "        l1000_metadata.drop(index, inplace = True) # drop drugbank drugs"
   ]
  },
  {
   "cell_type": "code",
   "execution_count": 31,
   "metadata": {},
   "outputs": [
    {
     "data": {
      "text/plain": [
       "3620"
      ]
     },
     "execution_count": 31,
     "metadata": {},
     "output_type": "execute_result"
    }
   ],
   "source": [
    "len(l1000_metadata)"
   ]
  },
  {
   "cell_type": "code",
   "execution_count": 33,
   "metadata": {},
   "outputs": [
    {
     "data": {
      "text/html": [
       "<div>\n",
       "<style scoped>\n",
       "    .dataframe tbody tr th:only-of-type {\n",
       "        vertical-align: middle;\n",
       "    }\n",
       "\n",
       "    .dataframe tbody tr th {\n",
       "        vertical-align: top;\n",
       "    }\n",
       "\n",
       "    .dataframe thead th {\n",
       "        text-align: right;\n",
       "    }\n",
       "</style>\n",
       "<table border=\"1\" class=\"dataframe\">\n",
       "  <thead>\n",
       "    <tr style=\"text-align: right;\">\n",
       "      <th></th>\n",
       "      <th>sig_id</th>\n",
       "      <th>SCS_centered_by_batch</th>\n",
       "      <th>batch</th>\n",
       "      <th>cell_id</th>\n",
       "      <th>mean_cosine_dist_centered_by_batch</th>\n",
       "      <th>pert_desc</th>\n",
       "      <th>pert_dose</th>\n",
       "      <th>pert_id</th>\n",
       "      <th>pert_time</th>\n",
       "      <th>LSM_id</th>\n",
       "      <th>pert_iname</th>\n",
       "      <th>inchi_key</th>\n",
       "      <th>pubchem_cid</th>\n",
       "    </tr>\n",
       "  </thead>\n",
       "  <tbody>\n",
       "    <tr>\n",
       "      <th>1</th>\n",
       "      <td>CPC001_HA1E_24H:BRD-A00267231-001-01-1:10</td>\n",
       "      <td>0.0022</td>\n",
       "      <td>CPC001_HA1E_24H</td>\n",
       "      <td>HA1E</td>\n",
       "      <td>0.897247</td>\n",
       "      <td>hemado</td>\n",
       "      <td>10.0</td>\n",
       "      <td>BRD-A00267231</td>\n",
       "      <td>24.0</td>\n",
       "      <td>LSM-1233</td>\n",
       "      <td>hemado</td>\n",
       "      <td>KOCIMZNSNPOGOP-UHFFFAOYSA-N</td>\n",
       "      <td>4043357</td>\n",
       "    </tr>\n",
       "    <tr>\n",
       "      <th>2</th>\n",
       "      <td>CPC019_MCF7_24H:BRD-A00420644-001-01-7:10</td>\n",
       "      <td>0.0000</td>\n",
       "      <td>CPC019_MCF7_24H</td>\n",
       "      <td>MCF7</td>\n",
       "      <td>0.728397</td>\n",
       "      <td>-666</td>\n",
       "      <td>10.0</td>\n",
       "      <td>BRD-A00420644</td>\n",
       "      <td>24.0</td>\n",
       "      <td>LSM-6366</td>\n",
       "      <td>SA-3676</td>\n",
       "      <td>ASCBUEVCEVGOFP-UHFFFAOYSA-N</td>\n",
       "      <td>2853908</td>\n",
       "    </tr>\n",
       "    <tr>\n",
       "      <th>3</th>\n",
       "      <td>CPC010_HA1E_6H:BRD-A00474148-001-02-3:10</td>\n",
       "      <td>0.0007</td>\n",
       "      <td>CPC010_HA1E_6H</td>\n",
       "      <td>HA1E</td>\n",
       "      <td>0.913214</td>\n",
       "      <td>-666</td>\n",
       "      <td>10.0</td>\n",
       "      <td>BRD-A00474148</td>\n",
       "      <td>6.0</td>\n",
       "      <td>LSM-1234</td>\n",
       "      <td>BRD-A00474148</td>\n",
       "      <td>RCGAUPRLRFZAMS-UHFFFAOYSA-N</td>\n",
       "      <td>44825297</td>\n",
       "    </tr>\n",
       "    <tr>\n",
       "      <th>4</th>\n",
       "      <td>CPC011_HA1E_6H:BRD-A00520476-001-05-8:10</td>\n",
       "      <td>0.0147</td>\n",
       "      <td>CPC011_HA1E_6H</td>\n",
       "      <td>HA1E</td>\n",
       "      <td>0.890211</td>\n",
       "      <td>6h-pyrido[2,3-b][1,4]benzodiazepin-6-one, 11-[...</td>\n",
       "      <td>10.0</td>\n",
       "      <td>BRD-A00520476</td>\n",
       "      <td>6.0</td>\n",
       "      <td>LSM-22625</td>\n",
       "      <td>otenzepad</td>\n",
       "      <td>UBRKDAVQCKZSPO-UHFFFAOYSA-N</td>\n",
       "      <td>107867</td>\n",
       "    </tr>\n",
       "    <tr>\n",
       "      <th>6</th>\n",
       "      <td>CPC008_PC3_24H:BRD-A00626522-001-05-7:10</td>\n",
       "      <td>0.0308</td>\n",
       "      <td>CPC008_PC3_24H</td>\n",
       "      <td>PC3</td>\n",
       "      <td>0.972653</td>\n",
       "      <td>ncgc00189187-01</td>\n",
       "      <td>10.0</td>\n",
       "      <td>BRD-A00626522</td>\n",
       "      <td>24.0</td>\n",
       "      <td>LSM-1236</td>\n",
       "      <td>BRD-A00626522</td>\n",
       "      <td>JESWDHXLYTYZAC-UHFFFAOYSA-N</td>\n",
       "      <td>16746329</td>\n",
       "    </tr>\n",
       "  </tbody>\n",
       "</table>\n",
       "</div>"
      ],
      "text/plain": [
       "                                      sig_id  SCS_centered_by_batch  \\\n",
       "1  CPC001_HA1E_24H:BRD-A00267231-001-01-1:10                 0.0022   \n",
       "2  CPC019_MCF7_24H:BRD-A00420644-001-01-7:10                 0.0000   \n",
       "3   CPC010_HA1E_6H:BRD-A00474148-001-02-3:10                 0.0007   \n",
       "4   CPC011_HA1E_6H:BRD-A00520476-001-05-8:10                 0.0147   \n",
       "6   CPC008_PC3_24H:BRD-A00626522-001-05-7:10                 0.0308   \n",
       "\n",
       "             batch cell_id  mean_cosine_dist_centered_by_batch  \\\n",
       "1  CPC001_HA1E_24H    HA1E                            0.897247   \n",
       "2  CPC019_MCF7_24H    MCF7                            0.728397   \n",
       "3   CPC010_HA1E_6H    HA1E                            0.913214   \n",
       "4   CPC011_HA1E_6H    HA1E                            0.890211   \n",
       "6   CPC008_PC3_24H     PC3                            0.972653   \n",
       "\n",
       "                                           pert_desc  pert_dose  \\\n",
       "1                                             hemado       10.0   \n",
       "2                                               -666       10.0   \n",
       "3                                               -666       10.0   \n",
       "4  6h-pyrido[2,3-b][1,4]benzodiazepin-6-one, 11-[...       10.0   \n",
       "6                                    ncgc00189187-01       10.0   \n",
       "\n",
       "         pert_id  pert_time     LSM_id     pert_iname  \\\n",
       "1  BRD-A00267231       24.0   LSM-1233         hemado   \n",
       "2  BRD-A00420644       24.0   LSM-6366        SA-3676   \n",
       "3  BRD-A00474148        6.0   LSM-1234  BRD-A00474148   \n",
       "4  BRD-A00520476        6.0  LSM-22625      otenzepad   \n",
       "6  BRD-A00626522       24.0   LSM-1236  BRD-A00626522   \n",
       "\n",
       "                     inchi_key  pubchem_cid  \n",
       "1  KOCIMZNSNPOGOP-UHFFFAOYSA-N      4043357  \n",
       "2  ASCBUEVCEVGOFP-UHFFFAOYSA-N      2853908  \n",
       "3  RCGAUPRLRFZAMS-UHFFFAOYSA-N     44825297  \n",
       "4  UBRKDAVQCKZSPO-UHFFFAOYSA-N       107867  \n",
       "6  JESWDHXLYTYZAC-UHFFFAOYSA-N     16746329  "
      ]
     },
     "execution_count": 33,
     "metadata": {},
     "output_type": "execute_result"
    }
   ],
   "source": [
    "l1000_metadata.head()"
   ]
  },
  {
   "cell_type": "code",
   "execution_count": 34,
   "metadata": {},
   "outputs": [],
   "source": [
    "l1000_metadata = l1000_metadata.rename(columns = {'pert_id':'Accession Number', 'pert_iname':'Common name',\n",
    "                                                 'inchi_key':'InChI Key'})"
   ]
  },
  {
   "cell_type": "code",
   "execution_count": 36,
   "metadata": {},
   "outputs": [],
   "source": [
    "# Exporting to metadata directory\n",
    "l1000_metadata.to_csv('../../metadata/l1000fwd_metadata.tsv', sep = '\\t', columns = ['Common name','InChI Key',\n",
    "                                                                                    'Accession Number'])"
   ]
  },
  {
   "cell_type": "code",
   "execution_count": null,
   "metadata": {},
   "outputs": [],
   "source": [
    "# Creating up and downregulated genelists for significant signature IDs\n",
    "with open('input/L1000FWD_signatures_up.gmt', 'r') as f:\n",
    "    reader = csv.reader(f, delimiter = '\\t')\n",
    "    d_up = {line[0]:\n",
    "            ([(str(g)).split(',')[0]\n",
    "            for g in line[2:]])\n",
    "            for line in reader if line[0] in df_inchi['sig_id'].tolist()}\n",
    "    \n",
    "with open('input/L1000FWD_signatures_down.gmt', 'r') as f:\n",
    "    reader = csv.reader(f, delimiter = '\\t')\n",
    "    d_down = {line[0]:\n",
    "              ([(str(g)).split(',')[0] \n",
    "                for g in line[2:]])\n",
    "                for line in reader if line[0] in df_inchi['sig_id'].tolist()}"
   ]
  },
  {
   "cell_type": "code",
   "execution_count": null,
   "metadata": {},
   "outputs": [],
   "source": [
    "len(d_up)"
   ]
  },
  {
   "cell_type": "markdown",
   "metadata": {},
   "source": [
    "### Exporting GMT file of drugs matched to signatures for Enrichr API Querying"
   ]
  },
  {
   "cell_type": "code",
   "execution_count": null,
   "metadata": {},
   "outputs": [],
   "source": [
    "os.chdir('../L1000FWD')"
   ]
  },
  {
   "cell_type": "code",
   "execution_count": null,
   "metadata": {},
   "outputs": [],
   "source": [
    "gmt_formatter(d_up_drugs, 'input/L1000FWD_drugsignatures_up.txt')\n",
    "gmt_formatter(d_down_drugs, 'input/L1000FWD_drugsignatures_down.txt')"
   ]
  },
  {
   "cell_type": "markdown",
   "metadata": {},
   "source": [
    "### Exporting a dictionary of pert ids matched to drug names for querying through SEP-L1000 API"
   ]
  },
  {
   "cell_type": "code",
   "execution_count": null,
   "metadata": {},
   "outputs": [],
   "source": [
    "# Exporting pert_ids matched to drug names for querying through SEP-L1000 API\n",
    "df_pert2name = pd.DataFrame.from_dict(drug_name_dict, orient = 'index')\n",
    "df_pert2name = df_pert2name.reset_index()\n",
    "df_pert2name.columns = ['pert_id', 'drug_name']\n",
    "df_pert2name.to_csv('input/pertid_to_name.tsv', sep = '\\t', index = False)"
   ]
  },
  {
   "cell_type": "code",
   "execution_count": null,
   "metadata": {},
   "outputs": [],
   "source": [
    "df_pert2name.head()"
   ]
  },
  {
   "cell_type": "markdown",
   "metadata": {},
   "source": [
    "### Exporting drug-set libraries in GMT format"
   ]
  },
  {
   "cell_type": "markdown",
   "metadata": {},
   "source": [
    "#### Matching genes to approved symbols"
   ]
  },
  {
   "cell_type": "code",
   "execution_count": null,
   "metadata": {},
   "outputs": [],
   "source": [
    "# Transposing dictionary so that genes are set-labels and drugs are set members\n",
    "drugsetlibrary_up = transposer(d_up_drugs)\n",
    "drugsetlibrary_down = transposer(d_down_drugs)"
   ]
  },
  {
   "cell_type": "code",
   "execution_count": null,
   "metadata": {},
   "outputs": [],
   "source": [
    "def resolve_drugsetlibrary(library):\n",
    "    gene_list = []\n",
    "    df_genes = pd.DataFrame()\n",
    "\n",
    "    for gene, drugs in library.items():\n",
    "        gene_list.append(gene)\n",
    "    df_genes['Gene Name'] = gene_list\n",
    "    \n",
    "    gene_resolver(df_genes) # script that will match synonyms to approved symbols\n",
    "    gene_dict = df_genes.set_index('Gene Name').to_dict()['Approved Symbol']\n",
    "    approved_genes = [v for k,v in gene_dict.items()] # separate comparison list of approved symbols\n",
    "    \n",
    "    # Get each approved symbol for synonyms\n",
    "    drugsetlibrary = {gene_dict.get(k,k):v for k,v in library.items()}\n",
    "    # Filter out any unapproved symbols\n",
    "    drugsetlibrary = {k: drugsetlibrary[k] for k in approved_genes if k in drugsetlibrary}\n",
    "    # Drop duplicates and sets with less than 5 drugs\n",
    "    drugsetlibrary = {k:v for k,v in drugsetlibrary.items() if len(v) >=5}\n",
    "    \n",
    "    return drugsetlibrary"
   ]
  },
  {
   "cell_type": "code",
   "execution_count": null,
   "metadata": {},
   "outputs": [],
   "source": [
    "drugsetlibrary_upregulated = resolve_drugsetlibrary(drugsetlibrary_up)\n",
    "\n",
    "drugsetlibrary_downregulated = resolve_drugsetlibrary(drugsetlibrary_down)"
   ]
  },
  {
   "cell_type": "code",
   "execution_count": null,
   "metadata": {},
   "outputs": [],
   "source": [
    "os.chdir('../data/L1000FWD')\n",
    "\n",
    "gmt_formatter(drugsetlibrary_upregulated, 'L1000FWD_signature_drugsetlibrary_up.txt')\n",
    "\n",
    "gmt_formatter(drugsetlibrary_downregulated, 'L1000FWD_signature_drugsetlibrary_down.txt')"
   ]
  }
 ],
 "metadata": {
  "kernelspec": {
   "display_name": "Python 3",
   "language": "python",
   "name": "python3"
  },
  "language_info": {
   "codemirror_mode": {
    "name": "ipython",
    "version": 3
   },
   "file_extension": ".py",
   "mimetype": "text/x-python",
   "name": "python",
   "nbconvert_exporter": "python",
   "pygments_lexer": "ipython3",
   "version": "3.6.5"
  }
 },
 "nbformat": 4,
 "nbformat_minor": 2
}
