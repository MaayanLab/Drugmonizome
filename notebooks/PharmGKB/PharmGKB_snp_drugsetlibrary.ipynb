{
 "cells": [
  {
   "cell_type": "markdown",
   "metadata": {},
   "source": [
    "## PharmGKB SNP Drug-Set Library\n",
    "### Drug-set labels: Single-Nucleotide Polymorphisms\n",
    "#### ALL DATABASES ACCESSED 10/2019\n",
    "##### Author : Eryk Kropiwnicki | eryk.kropiwnicki@icahn.mssm.edu"
   ]
  },
  {
   "cell_type": "code",
   "execution_count": 1,
   "metadata": {},
   "outputs": [],
   "source": [
    "import pandas as pd\n",
    "from collections import defaultdict\n",
    "import csv\n",
    "import numpy as np\n",
    "import os"
   ]
  },
  {
   "cell_type": "code",
   "execution_count": 2,
   "metadata": {},
   "outputs": [],
   "source": [
    "os.chdir('../../scripts')\n",
    "from export_script import *\n",
    "os.chdir('../notebooks/PharmGKB')"
   ]
  },
  {
   "cell_type": "markdown",
   "metadata": {},
   "source": [
    "### Importing metadata of all drugs from PharmGKB to ensure each chemical has a unique PubChem ID \n",
    "#### INPUT FILES : chemicals.tsv (https://www.pharmgkb.org/downloads)"
   ]
  },
  {
   "cell_type": "code",
   "execution_count": 3,
   "metadata": {},
   "outputs": [],
   "source": [
    "df_chemicals = pd.read_csv('input/chemicals.tsv', delimiter = '\\t', usecols = ['PharmGKB Accession Id',\n",
    "                                                                              'PubChem Compound Identifiers'])\n",
    "df_chemicals = df_chemicals.rename(columns = {'PharmGKB Accession Id':'Entity2_id',\n",
    "                                             'PubChem Compound Identifiers':'pubchem_id'})"
   ]
  },
  {
   "cell_type": "code",
   "execution_count": 4,
   "metadata": {
    "scrolled": true
   },
   "outputs": [
    {
     "data": {
      "text/html": [
       "<div>\n",
       "<style scoped>\n",
       "    .dataframe tbody tr th:only-of-type {\n",
       "        vertical-align: middle;\n",
       "    }\n",
       "\n",
       "    .dataframe tbody tr th {\n",
       "        vertical-align: top;\n",
       "    }\n",
       "\n",
       "    .dataframe thead th {\n",
       "        text-align: right;\n",
       "    }\n",
       "</style>\n",
       "<table border=\"1\" class=\"dataframe\">\n",
       "  <thead>\n",
       "    <tr style=\"text-align: right;\">\n",
       "      <th></th>\n",
       "      <th>Entity2_id</th>\n",
       "      <th>pubchem_id</th>\n",
       "    </tr>\n",
       "  </thead>\n",
       "  <tbody>\n",
       "    <tr>\n",
       "      <th>0</th>\n",
       "      <td>PA166131343</td>\n",
       "      <td>135564825</td>\n",
       "    </tr>\n",
       "    <tr>\n",
       "      <th>1</th>\n",
       "      <td>PA166178312</td>\n",
       "      <td>22267</td>\n",
       "    </tr>\n",
       "    <tr>\n",
       "      <th>2</th>\n",
       "      <td>PA166177606</td>\n",
       "      <td>71316608</td>\n",
       "    </tr>\n",
       "    <tr>\n",
       "      <th>3</th>\n",
       "      <td>PA166178554</td>\n",
       "      <td>643985</td>\n",
       "    </tr>\n",
       "    <tr>\n",
       "      <th>4</th>\n",
       "      <td>PA166165069</td>\n",
       "      <td>15593908</td>\n",
       "    </tr>\n",
       "  </tbody>\n",
       "</table>\n",
       "</div>"
      ],
      "text/plain": [
       "    Entity2_id pubchem_id\n",
       "0  PA166131343  135564825\n",
       "1  PA166178312      22267\n",
       "2  PA166177606   71316608\n",
       "3  PA166178554     643985\n",
       "4  PA166165069   15593908"
      ]
     },
     "execution_count": 4,
     "metadata": {},
     "output_type": "execute_result"
    }
   ],
   "source": [
    "df_chemicals.head()"
   ]
  },
  {
   "cell_type": "code",
   "execution_count": 5,
   "metadata": {},
   "outputs": [],
   "source": [
    "# Removing any rows with a null value in the PubChem Compound Identifier column #\n",
    "df_chemicals = df_chemicals[pd.notnull(df_chemicals['pubchem_id'])]\n",
    "df_chemicals = df_chemicals[~df_chemicals['pubchem_id'].str.contains(',')]\n",
    "df_chemicals['pubchem_id'] = df_chemicals['pubchem_id'].astype(int)"
   ]
  },
  {
   "cell_type": "markdown",
   "metadata": {},
   "source": [
    "### Importing tsv file of variant - chemical relationships\n",
    "#### Input file : relationships.tsv (https://www.pharmgkb.org/downloads)"
   ]
  },
  {
   "cell_type": "code",
   "execution_count": 6,
   "metadata": {},
   "outputs": [],
   "source": [
    "df = pd.read_csv('input/relationships.tsv', delimiter = '\\t')"
   ]
  },
  {
   "cell_type": "code",
   "execution_count": 7,
   "metadata": {},
   "outputs": [
    {
     "data": {
      "text/html": [
       "<div>\n",
       "<style scoped>\n",
       "    .dataframe tbody tr th:only-of-type {\n",
       "        vertical-align: middle;\n",
       "    }\n",
       "\n",
       "    .dataframe tbody tr th {\n",
       "        vertical-align: top;\n",
       "    }\n",
       "\n",
       "    .dataframe thead th {\n",
       "        text-align: right;\n",
       "    }\n",
       "</style>\n",
       "<table border=\"1\" class=\"dataframe\">\n",
       "  <thead>\n",
       "    <tr style=\"text-align: right;\">\n",
       "      <th></th>\n",
       "      <th>Entity1_id</th>\n",
       "      <th>Entity1_name</th>\n",
       "      <th>Entity1_type</th>\n",
       "      <th>Entity2_id</th>\n",
       "      <th>Entity2_name</th>\n",
       "      <th>Entity2_type</th>\n",
       "      <th>Evidence</th>\n",
       "      <th>Association</th>\n",
       "      <th>PK</th>\n",
       "      <th>PD</th>\n",
       "      <th>PMIDs</th>\n",
       "    </tr>\n",
       "  </thead>\n",
       "  <tbody>\n",
       "    <tr>\n",
       "      <th>0</th>\n",
       "      <td>PA166181185</td>\n",
       "      <td>CYP2D6*14</td>\n",
       "      <td>Haplotype</td>\n",
       "      <td>PA131301952</td>\n",
       "      <td>gefitinib</td>\n",
       "      <td>Chemical</td>\n",
       "      <td>VariantAnnotation</td>\n",
       "      <td>associated</td>\n",
       "      <td>NaN</td>\n",
       "      <td>PD</td>\n",
       "      <td>26323212</td>\n",
       "    </tr>\n",
       "    <tr>\n",
       "      <th>1</th>\n",
       "      <td>PA166181185</td>\n",
       "      <td>CYP2D6*14</td>\n",
       "      <td>Haplotype</td>\n",
       "      <td>PA134688071</td>\n",
       "      <td>atomoxetine</td>\n",
       "      <td>Chemical</td>\n",
       "      <td>GuidelineAnnotation</td>\n",
       "      <td>associated</td>\n",
       "      <td>NaN</td>\n",
       "      <td>NaN</td>\n",
       "      <td>30801677</td>\n",
       "    </tr>\n",
       "    <tr>\n",
       "      <th>2</th>\n",
       "      <td>PA166181185</td>\n",
       "      <td>CYP2D6*14</td>\n",
       "      <td>Haplotype</td>\n",
       "      <td>PA161925594</td>\n",
       "      <td>tropisetron</td>\n",
       "      <td>Chemical</td>\n",
       "      <td>GuidelineAnnotation</td>\n",
       "      <td>associated</td>\n",
       "      <td>NaN</td>\n",
       "      <td>NaN</td>\n",
       "      <td>28002639</td>\n",
       "    </tr>\n",
       "    <tr>\n",
       "      <th>3</th>\n",
       "      <td>PA166181185</td>\n",
       "      <td>CYP2D6*14</td>\n",
       "      <td>Haplotype</td>\n",
       "      <td>PA164925725</td>\n",
       "      <td>Toxic liver disease</td>\n",
       "      <td>Disease</td>\n",
       "      <td>VariantAnnotation</td>\n",
       "      <td>associated</td>\n",
       "      <td>NaN</td>\n",
       "      <td>PD</td>\n",
       "      <td>26323212</td>\n",
       "    </tr>\n",
       "    <tr>\n",
       "      <th>4</th>\n",
       "      <td>PA166181185</td>\n",
       "      <td>CYP2D6*14</td>\n",
       "      <td>Haplotype</td>\n",
       "      <td>PA166110256</td>\n",
       "      <td>bufuralol</td>\n",
       "      <td>Chemical</td>\n",
       "      <td>ClinicalAnnotation,VariantAnnotation</td>\n",
       "      <td>associated</td>\n",
       "      <td>PK</td>\n",
       "      <td>NaN</td>\n",
       "      <td>11470994;11950793;12152006;17470523;18784265;1...</td>\n",
       "    </tr>\n",
       "  </tbody>\n",
       "</table>\n",
       "</div>"
      ],
      "text/plain": [
       "    Entity1_id Entity1_name Entity1_type   Entity2_id         Entity2_name  \\\n",
       "0  PA166181185    CYP2D6*14    Haplotype  PA131301952            gefitinib   \n",
       "1  PA166181185    CYP2D6*14    Haplotype  PA134688071          atomoxetine   \n",
       "2  PA166181185    CYP2D6*14    Haplotype  PA161925594          tropisetron   \n",
       "3  PA166181185    CYP2D6*14    Haplotype  PA164925725  Toxic liver disease   \n",
       "4  PA166181185    CYP2D6*14    Haplotype  PA166110256            bufuralol   \n",
       "\n",
       "  Entity2_type                              Evidence Association   PK   PD  \\\n",
       "0     Chemical                     VariantAnnotation  associated  NaN   PD   \n",
       "1     Chemical                   GuidelineAnnotation  associated  NaN  NaN   \n",
       "2     Chemical                   GuidelineAnnotation  associated  NaN  NaN   \n",
       "3      Disease                     VariantAnnotation  associated  NaN   PD   \n",
       "4     Chemical  ClinicalAnnotation,VariantAnnotation  associated   PK  NaN   \n",
       "\n",
       "                                               PMIDs  \n",
       "0                                           26323212  \n",
       "1                                           30801677  \n",
       "2                                           28002639  \n",
       "3                                           26323212  \n",
       "4  11470994;11950793;12152006;17470523;18784265;1...  "
      ]
     },
     "execution_count": 7,
     "metadata": {},
     "output_type": "execute_result"
    }
   ],
   "source": [
    "df.head()"
   ]
  },
  {
   "cell_type": "code",
   "execution_count": 8,
   "metadata": {},
   "outputs": [],
   "source": [
    "# Retaining relevant associations\n",
    "df_snps = df[(df.Entity1_type == 'Haplotype') | (df.Entity1_type == 'Variant')]\n",
    "df_snps = df_snps[df_snps.Entity2_type == 'Chemical']\n",
    "df_snps = df_snps[df_snps.Association == 'associated']"
   ]
  },
  {
   "cell_type": "code",
   "execution_count": 9,
   "metadata": {},
   "outputs": [],
   "source": [
    "# Appending pubchem IDs\n",
    "df_snps = df.merge(df_chemicals)"
   ]
  },
  {
   "cell_type": "markdown",
   "metadata": {},
   "source": [
    "### Importing Drugbank mapping file"
   ]
  },
  {
   "cell_type": "code",
   "execution_count": 10,
   "metadata": {},
   "outputs": [],
   "source": [
    "drugbank_mapping = pd.read_csv('../../metadata/mapping_files/pubchem.tsv', sep = '\\t')"
   ]
  },
  {
   "cell_type": "code",
   "execution_count": 11,
   "metadata": {},
   "outputs": [
    {
     "data": {
      "text/html": [
       "<div>\n",
       "<style scoped>\n",
       "    .dataframe tbody tr th:only-of-type {\n",
       "        vertical-align: middle;\n",
       "    }\n",
       "\n",
       "    .dataframe tbody tr th {\n",
       "        vertical-align: top;\n",
       "    }\n",
       "\n",
       "    .dataframe thead th {\n",
       "        text-align: right;\n",
       "    }\n",
       "</style>\n",
       "<table border=\"1\" class=\"dataframe\">\n",
       "  <thead>\n",
       "    <tr style=\"text-align: right;\">\n",
       "      <th></th>\n",
       "      <th>drugbank_id</th>\n",
       "      <th>pubchem_id</th>\n",
       "      <th>inchi_key</th>\n",
       "    </tr>\n",
       "  </thead>\n",
       "  <tbody>\n",
       "    <tr>\n",
       "      <th>0</th>\n",
       "      <td>DB00006</td>\n",
       "      <td>101041682</td>\n",
       "      <td>OIRCOABEOLEUMC-GEJPAHFPSA-N</td>\n",
       "    </tr>\n",
       "    <tr>\n",
       "      <th>1</th>\n",
       "      <td>DB00006</td>\n",
       "      <td>126480209</td>\n",
       "      <td>OIRCOABEOLEUMC-GEJPAHFPSA-N</td>\n",
       "    </tr>\n",
       "    <tr>\n",
       "      <th>2</th>\n",
       "      <td>DB00006</td>\n",
       "      <td>132229728</td>\n",
       "      <td>OIRCOABEOLEUMC-GEJPAHFPSA-N</td>\n",
       "    </tr>\n",
       "    <tr>\n",
       "      <th>3</th>\n",
       "      <td>DB00006</td>\n",
       "      <td>134827539</td>\n",
       "      <td>OIRCOABEOLEUMC-GEJPAHFPSA-N</td>\n",
       "    </tr>\n",
       "    <tr>\n",
       "      <th>4</th>\n",
       "      <td>DB00006</td>\n",
       "      <td>137167482</td>\n",
       "      <td>OIRCOABEOLEUMC-GEJPAHFPSA-N</td>\n",
       "    </tr>\n",
       "  </tbody>\n",
       "</table>\n",
       "</div>"
      ],
      "text/plain": [
       "  drugbank_id  pubchem_id                    inchi_key\n",
       "0     DB00006   101041682  OIRCOABEOLEUMC-GEJPAHFPSA-N\n",
       "1     DB00006   126480209  OIRCOABEOLEUMC-GEJPAHFPSA-N\n",
       "2     DB00006   132229728  OIRCOABEOLEUMC-GEJPAHFPSA-N\n",
       "3     DB00006   134827539  OIRCOABEOLEUMC-GEJPAHFPSA-N\n",
       "4     DB00006   137167482  OIRCOABEOLEUMC-GEJPAHFPSA-N"
      ]
     },
     "execution_count": 11,
     "metadata": {},
     "output_type": "execute_result"
    }
   ],
   "source": [
    "drugbank_mapping.head()"
   ]
  },
  {
   "cell_type": "code",
   "execution_count": 12,
   "metadata": {},
   "outputs": [],
   "source": [
    "# Matching drugbank IDs based on pubchem IDs\n",
    "df_snps = drugbank_mapping.merge(df_snps)"
   ]
  },
  {
   "cell_type": "code",
   "execution_count": 13,
   "metadata": {},
   "outputs": [
    {
     "data": {
      "text/html": [
       "<div>\n",
       "<style scoped>\n",
       "    .dataframe tbody tr th:only-of-type {\n",
       "        vertical-align: middle;\n",
       "    }\n",
       "\n",
       "    .dataframe tbody tr th {\n",
       "        vertical-align: top;\n",
       "    }\n",
       "\n",
       "    .dataframe thead th {\n",
       "        text-align: right;\n",
       "    }\n",
       "</style>\n",
       "<table border=\"1\" class=\"dataframe\">\n",
       "  <thead>\n",
       "    <tr style=\"text-align: right;\">\n",
       "      <th></th>\n",
       "      <th>drugbank_id</th>\n",
       "      <th>pubchem_id</th>\n",
       "      <th>inchi_key</th>\n",
       "      <th>Entity1_id</th>\n",
       "      <th>Entity1_name</th>\n",
       "      <th>Entity1_type</th>\n",
       "      <th>Entity2_id</th>\n",
       "      <th>Entity2_name</th>\n",
       "      <th>Entity2_type</th>\n",
       "      <th>Evidence</th>\n",
       "      <th>Association</th>\n",
       "      <th>PK</th>\n",
       "      <th>PD</th>\n",
       "      <th>PMIDs</th>\n",
       "    </tr>\n",
       "  </thead>\n",
       "  <tbody>\n",
       "    <tr>\n",
       "      <th>0</th>\n",
       "      <td>DB00007</td>\n",
       "      <td>3911</td>\n",
       "      <td>GFIJNRVAKGFPGQ-LIJARHBVSA-N</td>\n",
       "      <td>PA165816582</td>\n",
       "      <td>CYP2D6*10</td>\n",
       "      <td>Haplotype</td>\n",
       "      <td>PA450203</td>\n",
       "      <td>leuprolide</td>\n",
       "      <td>Chemical</td>\n",
       "      <td>VariantAnnotation</td>\n",
       "      <td>not associated</td>\n",
       "      <td>NaN</td>\n",
       "      <td>PD</td>\n",
       "      <td>NaN</td>\n",
       "    </tr>\n",
       "    <tr>\n",
       "      <th>1</th>\n",
       "      <td>DB00007</td>\n",
       "      <td>3911</td>\n",
       "      <td>GFIJNRVAKGFPGQ-LIJARHBVSA-N</td>\n",
       "      <td>PA165816576</td>\n",
       "      <td>CYP2D6*1</td>\n",
       "      <td>Haplotype</td>\n",
       "      <td>PA450203</td>\n",
       "      <td>leuprolide</td>\n",
       "      <td>Chemical</td>\n",
       "      <td>VariantAnnotation</td>\n",
       "      <td>not associated</td>\n",
       "      <td>NaN</td>\n",
       "      <td>PD</td>\n",
       "      <td>NaN</td>\n",
       "    </tr>\n",
       "    <tr>\n",
       "      <th>2</th>\n",
       "      <td>DB00007</td>\n",
       "      <td>3911</td>\n",
       "      <td>GFIJNRVAKGFPGQ-LIJARHBVSA-N</td>\n",
       "      <td>PA128</td>\n",
       "      <td>CYP2D6</td>\n",
       "      <td>Gene</td>\n",
       "      <td>PA450203</td>\n",
       "      <td>leuprolide</td>\n",
       "      <td>Chemical</td>\n",
       "      <td>VariantAnnotation</td>\n",
       "      <td>not associated</td>\n",
       "      <td>NaN</td>\n",
       "      <td>PD</td>\n",
       "      <td>NaN</td>\n",
       "    </tr>\n",
       "    <tr>\n",
       "      <th>3</th>\n",
       "      <td>DB00007</td>\n",
       "      <td>3911</td>\n",
       "      <td>GFIJNRVAKGFPGQ-LIJARHBVSA-N</td>\n",
       "      <td>PA165816579</td>\n",
       "      <td>CYP2D6*4</td>\n",
       "      <td>Haplotype</td>\n",
       "      <td>PA450203</td>\n",
       "      <td>leuprolide</td>\n",
       "      <td>Chemical</td>\n",
       "      <td>VariantAnnotation</td>\n",
       "      <td>not associated</td>\n",
       "      <td>NaN</td>\n",
       "      <td>PD</td>\n",
       "      <td>NaN</td>\n",
       "    </tr>\n",
       "    <tr>\n",
       "      <th>4</th>\n",
       "      <td>DB00014</td>\n",
       "      <td>47725</td>\n",
       "      <td>BLCLNMBMMGCOAS-URPVMXJPSA-N</td>\n",
       "      <td>PA27886</td>\n",
       "      <td>ESR2</td>\n",
       "      <td>Gene</td>\n",
       "      <td>PA164747674</td>\n",
       "      <td>goserelin</td>\n",
       "      <td>Chemical</td>\n",
       "      <td>LabelAnnotation</td>\n",
       "      <td>associated</td>\n",
       "      <td>NaN</td>\n",
       "      <td>NaN</td>\n",
       "      <td>NaN</td>\n",
       "    </tr>\n",
       "  </tbody>\n",
       "</table>\n",
       "</div>"
      ],
      "text/plain": [
       "  drugbank_id  pubchem_id                    inchi_key   Entity1_id  \\\n",
       "0     DB00007        3911  GFIJNRVAKGFPGQ-LIJARHBVSA-N  PA165816582   \n",
       "1     DB00007        3911  GFIJNRVAKGFPGQ-LIJARHBVSA-N  PA165816576   \n",
       "2     DB00007        3911  GFIJNRVAKGFPGQ-LIJARHBVSA-N        PA128   \n",
       "3     DB00007        3911  GFIJNRVAKGFPGQ-LIJARHBVSA-N  PA165816579   \n",
       "4     DB00014       47725  BLCLNMBMMGCOAS-URPVMXJPSA-N      PA27886   \n",
       "\n",
       "  Entity1_name Entity1_type   Entity2_id Entity2_name Entity2_type  \\\n",
       "0    CYP2D6*10    Haplotype     PA450203   leuprolide     Chemical   \n",
       "1     CYP2D6*1    Haplotype     PA450203   leuprolide     Chemical   \n",
       "2       CYP2D6         Gene     PA450203   leuprolide     Chemical   \n",
       "3     CYP2D6*4    Haplotype     PA450203   leuprolide     Chemical   \n",
       "4         ESR2         Gene  PA164747674    goserelin     Chemical   \n",
       "\n",
       "            Evidence     Association   PK   PD PMIDs  \n",
       "0  VariantAnnotation  not associated  NaN   PD   NaN  \n",
       "1  VariantAnnotation  not associated  NaN   PD   NaN  \n",
       "2  VariantAnnotation  not associated  NaN   PD   NaN  \n",
       "3  VariantAnnotation  not associated  NaN   PD   NaN  \n",
       "4    LabelAnnotation      associated  NaN  NaN   NaN  "
      ]
     },
     "execution_count": 13,
     "metadata": {},
     "output_type": "execute_result"
    }
   ],
   "source": [
    "df_snps.head()"
   ]
  },
  {
   "cell_type": "markdown",
   "metadata": {},
   "source": [
    "### Creating drug-set library"
   ]
  },
  {
   "cell_type": "code",
   "execution_count": 14,
   "metadata": {},
   "outputs": [],
   "source": [
    "variant = df_snps['Entity1_name'].tolist()\n",
    "chemicals = df_snps['inchi_key'].tolist()"
   ]
  },
  {
   "cell_type": "code",
   "execution_count": 15,
   "metadata": {},
   "outputs": [],
   "source": [
    "variant_dict = tuple(zip(variant, chemicals))\n",
    "\n",
    "drugsetlibrary = defaultdict(list)\n",
    "for k,v in variant_dict:\n",
    "    drugsetlibrary[k].append(v)"
   ]
  },
  {
   "cell_type": "code",
   "execution_count": 16,
   "metadata": {},
   "outputs": [
    {
     "data": {
      "text/plain": [
       "6141"
      ]
     },
     "execution_count": 16,
     "metadata": {},
     "output_type": "execute_result"
    }
   ],
   "source": [
    "len(drugsetlibrary)"
   ]
  },
  {
   "cell_type": "code",
   "execution_count": 17,
   "metadata": {},
   "outputs": [],
   "source": [
    "# Removing all terms paired with less than 5 drugs #\n",
    "drugsetlibrary = {k:list(set(v)) for k,v in drugsetlibrary.items() if len(set(v))>=5}"
   ]
  },
  {
   "cell_type": "markdown",
   "metadata": {},
   "source": [
    "### Library counts"
   ]
  },
  {
   "cell_type": "code",
   "execution_count": 18,
   "metadata": {},
   "outputs": [
    {
     "name": "stdout",
     "output_type": "stream",
     "text": [
      "811 unique drugs\n",
      "1226 unique association terms\n",
      "14965 unique associations\n",
      "12.206362153344209 average drugs per term\n"
     ]
    }
   ],
   "source": [
    "library_counts(drugsetlibrary)"
   ]
  },
  {
   "cell_type": "markdown",
   "metadata": {},
   "source": [
    "### Exporting the drug-set library in GMT format"
   ]
  },
  {
   "cell_type": "code",
   "execution_count": 19,
   "metadata": {},
   "outputs": [],
   "source": [
    "os.chdir('../../data/PharmGKB')"
   ]
  },
  {
   "cell_type": "code",
   "execution_count": 20,
   "metadata": {},
   "outputs": [],
   "source": [
    "gmt_formatter(drugsetlibrary, 'PharmGKB_snp_drugsetlibrary.gmt')"
   ]
  }
 ],
 "metadata": {
  "kernelspec": {
   "display_name": "Python 3",
   "language": "python",
   "name": "python3"
  },
  "language_info": {
   "codemirror_mode": {
    "name": "ipython",
    "version": 3
   },
   "file_extension": ".py",
   "mimetype": "text/x-python",
   "name": "python",
   "nbconvert_exporter": "python",
   "pygments_lexer": "ipython3",
   "version": "3.6.5"
  }
 },
 "nbformat": 4,
 "nbformat_minor": 2
}
