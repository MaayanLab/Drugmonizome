{
 "cells": [
  {
   "cell_type": "markdown",
   "metadata": {},
   "source": [
    "## ATC DRUG-SET LIBRARY\n",
    "### Drug-set labels: ATC Codes\n",
    "#### ALL DATABASES ACCESSED 08/2019\n",
    "##### Author : Eryk Kropiwnicki | eryk.kropiwnicki@icahn.mssm.edu\n",
    "##### Adapted from : https://github.com/dhimmel/drugbank/blob/gh-pages/parse.ipynb"
   ]
  },
  {
   "cell_type": "code",
   "execution_count": 1,
   "metadata": {},
   "outputs": [],
   "source": [
    "import os\n",
    "import csv\n",
    "import collections\n",
    "import re\n",
    "import io\n",
    "import json\n",
    "import xml.etree.ElementTree as ET\n",
    "import pandas as pd"
   ]
  },
  {
   "cell_type": "code",
   "execution_count": 2,
   "metadata": {},
   "outputs": [],
   "source": [
    "os.chdir('../../scripts')\n",
    "from export_script import *\n",
    "os.chdir('../notebooks/ATC')"
   ]
  },
  {
   "cell_type": "markdown",
   "metadata": {},
   "source": [
    "### Matching ATC codes to drug names\n",
    "#### Database for ATC Codes and paired drugs : https://www.drugbank.ca/releases/latest"
   ]
  },
  {
   "cell_type": "code",
   "execution_count": 3,
   "metadata": {},
   "outputs": [],
   "source": [
    "tree = ET.parse('input/full database.xml')\n",
    "root = tree.getroot()"
   ]
  },
  {
   "cell_type": "code",
   "execution_count": 4,
   "metadata": {},
   "outputs": [],
   "source": [
    "ns = '{http://www.drugbank.ca}'\n",
    "\n",
    "rows = list()\n",
    "for i, drug in enumerate(root):\n",
    "    row = collections.OrderedDict()\n",
    "    assert drug.tag == ns + 'drug'\n",
    "    row['type'] = drug.get('type')\n",
    "    row['drugbank_id'] = drug.findtext(ns + \"drugbank-id[@primary='true']\")\n",
    "    row['name'] = drug.findtext(ns + \"name\")\n",
    "    row['groups'] = [group.text for group in\n",
    "        drug.findall(\"{ns}groups/{ns}group\".format(ns = ns))]\n",
    "    row['atc_codes'] = [code.get('code') for code in\n",
    "        drug.findall(\"{ns}atc-codes/{ns}atc-code\".format(ns = ns))]\n",
    "    row['categories'] = [x.findtext(ns + 'category') for x in\n",
    "        drug.findall(\"{ns}categories/{ns}category\".format(ns = ns))]\n",
    "    \n",
    "    # Add drug aliases\n",
    "    aliases = {\n",
    "        elem.text for elem in \n",
    "        drug.findall(\"{ns}international-brands/{ns}international-brand\".format(ns = ns)) +\n",
    "        drug.findall(\"{ns}synonyms/{ns}synonym[@language='English']\".format(ns = ns)) +\n",
    "        drug.findall(\"{ns}international-brands/{ns}international-brand\".format(ns = ns)) +\n",
    "        drug.findall(\"{ns}products/{ns}product/{ns}name\".format(ns = ns))\n",
    "\n",
    "    }\n",
    "    aliases.add(row['name'])\n",
    "    row['aliases'] = sorted(aliases)\n",
    "\n",
    "    rows.append(row)"
   ]
  },
  {
   "cell_type": "code",
   "execution_count": 5,
   "metadata": {},
   "outputs": [],
   "source": [
    "def collapse_list_values(row):\n",
    "    for key, value in row.items():\n",
    "        if isinstance(value, list):\n",
    "            row[key] = '|'.join(value)\n",
    "    return row\n",
    "\n",
    "rows = list(map(collapse_list_values, rows))"
   ]
  },
  {
   "cell_type": "code",
   "execution_count": 6,
   "metadata": {},
   "outputs": [
    {
     "data": {
      "text/html": [
       "<div>\n",
       "<style scoped>\n",
       "    .dataframe tbody tr th:only-of-type {\n",
       "        vertical-align: middle;\n",
       "    }\n",
       "\n",
       "    .dataframe tbody tr th {\n",
       "        vertical-align: top;\n",
       "    }\n",
       "\n",
       "    .dataframe thead th {\n",
       "        text-align: right;\n",
       "    }\n",
       "</style>\n",
       "<table border=\"1\" class=\"dataframe\">\n",
       "  <thead>\n",
       "    <tr style=\"text-align: right;\">\n",
       "      <th></th>\n",
       "      <th>drugbank_id</th>\n",
       "      <th>name</th>\n",
       "      <th>type</th>\n",
       "      <th>groups</th>\n",
       "      <th>atc_codes</th>\n",
       "    </tr>\n",
       "  </thead>\n",
       "  <tbody>\n",
       "    <tr>\n",
       "      <th>0</th>\n",
       "      <td>DB00001</td>\n",
       "      <td>Lepirudin</td>\n",
       "      <td>biotech</td>\n",
       "      <td>approved</td>\n",
       "      <td>B01AE02</td>\n",
       "    </tr>\n",
       "    <tr>\n",
       "      <th>1</th>\n",
       "      <td>DB00002</td>\n",
       "      <td>Cetuximab</td>\n",
       "      <td>biotech</td>\n",
       "      <td>approved</td>\n",
       "      <td>L01XC06</td>\n",
       "    </tr>\n",
       "    <tr>\n",
       "      <th>2</th>\n",
       "      <td>DB00003</td>\n",
       "      <td>Dornase alfa</td>\n",
       "      <td>biotech</td>\n",
       "      <td>approved</td>\n",
       "      <td>R05CB13</td>\n",
       "    </tr>\n",
       "    <tr>\n",
       "      <th>3</th>\n",
       "      <td>DB00004</td>\n",
       "      <td>Denileukin diftitox</td>\n",
       "      <td>biotech</td>\n",
       "      <td>approved|investigational</td>\n",
       "      <td>L01XX29</td>\n",
       "    </tr>\n",
       "    <tr>\n",
       "      <th>4</th>\n",
       "      <td>DB00005</td>\n",
       "      <td>Etanercept</td>\n",
       "      <td>biotech</td>\n",
       "      <td>approved|investigational</td>\n",
       "      <td>L04AB01</td>\n",
       "    </tr>\n",
       "    <tr>\n",
       "      <th>5</th>\n",
       "      <td>DB00006</td>\n",
       "      <td>Bivalirudin</td>\n",
       "      <td>small molecule</td>\n",
       "      <td>approved|investigational</td>\n",
       "      <td>B01AE06</td>\n",
       "    </tr>\n",
       "    <tr>\n",
       "      <th>6</th>\n",
       "      <td>DB00007</td>\n",
       "      <td>Leuprolide</td>\n",
       "      <td>small molecule</td>\n",
       "      <td>approved|investigational</td>\n",
       "      <td>L02AE51|L02AE02</td>\n",
       "    </tr>\n",
       "    <tr>\n",
       "      <th>7</th>\n",
       "      <td>DB00008</td>\n",
       "      <td>Peginterferon alfa-2a</td>\n",
       "      <td>biotech</td>\n",
       "      <td>approved|investigational</td>\n",
       "      <td>L03AB11|L03AB61</td>\n",
       "    </tr>\n",
       "    <tr>\n",
       "      <th>8</th>\n",
       "      <td>DB00009</td>\n",
       "      <td>Alteplase</td>\n",
       "      <td>biotech</td>\n",
       "      <td>approved</td>\n",
       "      <td>B01AD02|S01XA13</td>\n",
       "    </tr>\n",
       "    <tr>\n",
       "      <th>9</th>\n",
       "      <td>DB00010</td>\n",
       "      <td>Sermorelin</td>\n",
       "      <td>biotech</td>\n",
       "      <td>approved|withdrawn</td>\n",
       "      <td>V04CD03|H01AC04</td>\n",
       "    </tr>\n",
       "  </tbody>\n",
       "</table>\n",
       "</div>"
      ],
      "text/plain": [
       "  drugbank_id                   name            type  \\\n",
       "0     DB00001              Lepirudin         biotech   \n",
       "1     DB00002              Cetuximab         biotech   \n",
       "2     DB00003           Dornase alfa         biotech   \n",
       "3     DB00004    Denileukin diftitox         biotech   \n",
       "4     DB00005             Etanercept         biotech   \n",
       "5     DB00006            Bivalirudin  small molecule   \n",
       "6     DB00007             Leuprolide  small molecule   \n",
       "7     DB00008  Peginterferon alfa-2a         biotech   \n",
       "8     DB00009              Alteplase         biotech   \n",
       "9     DB00010             Sermorelin         biotech   \n",
       "\n",
       "                     groups        atc_codes  \n",
       "0                  approved          B01AE02  \n",
       "1                  approved          L01XC06  \n",
       "2                  approved          R05CB13  \n",
       "3  approved|investigational          L01XX29  \n",
       "4  approved|investigational          L04AB01  \n",
       "5  approved|investigational          B01AE06  \n",
       "6  approved|investigational  L02AE51|L02AE02  \n",
       "7  approved|investigational  L03AB11|L03AB61  \n",
       "8                  approved  B01AD02|S01XA13  \n",
       "9        approved|withdrawn  V04CD03|H01AC04  "
      ]
     },
     "execution_count": 6,
     "metadata": {},
     "output_type": "execute_result"
    }
   ],
   "source": [
    "columns = ['drugbank_id', 'name', 'type', 'groups', 'atc_codes']\n",
    "drugbank_df = pd.DataFrame.from_dict(rows)[columns]\n",
    "drugbank_df.head(10)"
   ]
  },
  {
   "cell_type": "code",
   "execution_count": 7,
   "metadata": {},
   "outputs": [],
   "source": [
    "# Retaining only small molecules\n",
    "drugbank_df = drugbank_df[drugbank_df['type'] == 'small molecule']\n",
    "\n",
    "# Splitting rows with multiple ATC Codes into separate rows\n",
    "df_atc = pd.DataFrame(drugbank_df['atc_codes'].str.split('|').tolist(), index=drugbank_df['drugbank_id']).stack()\n",
    "df_atc = df_atc.reset_index()[[0, 'drugbank_id']]\n",
    "df_atc.columns = ['atc_codes', 'DrugBank ID'] \n",
    "\n",
    "# Removing last two characters from ATC Codes to get the fourth level code that drugs can be grouped under\n",
    "df_atc['atc_codes'] = df_atc['atc_codes'].map(lambda x: x[0:5])\n",
    "\n",
    "# Remove empty rows\n",
    "df_atc = df_atc[df_atc['atc_codes'] != '']"
   ]
  },
  {
   "cell_type": "code",
   "execution_count": 8,
   "metadata": {},
   "outputs": [
    {
     "data": {
      "text/html": [
       "<div>\n",
       "<style scoped>\n",
       "    .dataframe tbody tr th:only-of-type {\n",
       "        vertical-align: middle;\n",
       "    }\n",
       "\n",
       "    .dataframe tbody tr th {\n",
       "        vertical-align: top;\n",
       "    }\n",
       "\n",
       "    .dataframe thead th {\n",
       "        text-align: right;\n",
       "    }\n",
       "</style>\n",
       "<table border=\"1\" class=\"dataframe\">\n",
       "  <thead>\n",
       "    <tr style=\"text-align: right;\">\n",
       "      <th></th>\n",
       "      <th>atc_codes</th>\n",
       "      <th>DrugBank ID</th>\n",
       "    </tr>\n",
       "  </thead>\n",
       "  <tbody>\n",
       "    <tr>\n",
       "      <th>0</th>\n",
       "      <td>B01AE</td>\n",
       "      <td>DB00006</td>\n",
       "    </tr>\n",
       "    <tr>\n",
       "      <th>1</th>\n",
       "      <td>L02AE</td>\n",
       "      <td>DB00007</td>\n",
       "    </tr>\n",
       "    <tr>\n",
       "      <th>2</th>\n",
       "      <td>L02AE</td>\n",
       "      <td>DB00007</td>\n",
       "    </tr>\n",
       "    <tr>\n",
       "      <th>3</th>\n",
       "      <td>L02AE</td>\n",
       "      <td>DB00014</td>\n",
       "    </tr>\n",
       "    <tr>\n",
       "      <th>4</th>\n",
       "      <td>R02AB</td>\n",
       "      <td>DB00027</td>\n",
       "    </tr>\n",
       "    <tr>\n",
       "      <th>5</th>\n",
       "      <td>H01BA</td>\n",
       "      <td>DB00035</td>\n",
       "    </tr>\n",
       "    <tr>\n",
       "      <th>6</th>\n",
       "      <td>H01CC</td>\n",
       "      <td>DB00050</td>\n",
       "    </tr>\n",
       "    <tr>\n",
       "      <th>8</th>\n",
       "      <td>J01XX</td>\n",
       "      <td>DB00080</td>\n",
       "    </tr>\n",
       "    <tr>\n",
       "      <th>9</th>\n",
       "      <td>L04AD</td>\n",
       "      <td>DB00091</td>\n",
       "    </tr>\n",
       "    <tr>\n",
       "      <th>10</th>\n",
       "      <td>S01XA</td>\n",
       "      <td>DB00091</td>\n",
       "    </tr>\n",
       "  </tbody>\n",
       "</table>\n",
       "</div>"
      ],
      "text/plain": [
       "   atc_codes DrugBank ID\n",
       "0      B01AE     DB00006\n",
       "1      L02AE     DB00007\n",
       "2      L02AE     DB00007\n",
       "3      L02AE     DB00014\n",
       "4      R02AB     DB00027\n",
       "5      H01BA     DB00035\n",
       "6      H01CC     DB00050\n",
       "8      J01XX     DB00080\n",
       "9      L04AD     DB00091\n",
       "10     S01XA     DB00091"
      ]
     },
     "execution_count": 8,
     "metadata": {},
     "output_type": "execute_result"
    }
   ],
   "source": [
    "df_atc.head(10)"
   ]
  },
  {
   "cell_type": "markdown",
   "metadata": {},
   "source": [
    "### Mapping DrugBank IDs to InChI Key"
   ]
  },
  {
   "cell_type": "code",
   "execution_count": 9,
   "metadata": {},
   "outputs": [],
   "source": [
    "drugbank_mapping = pd.read_csv('../../metadata/drugmonizome_metadata.tsv', sep = '\\t', usecols = ['DrugBank ID',\n",
    "                                                                                                 'Standard InChI Key'])"
   ]
  },
  {
   "cell_type": "code",
   "execution_count": 10,
   "metadata": {},
   "outputs": [
    {
     "data": {
      "text/html": [
       "<div>\n",
       "<style scoped>\n",
       "    .dataframe tbody tr th:only-of-type {\n",
       "        vertical-align: middle;\n",
       "    }\n",
       "\n",
       "    .dataframe tbody tr th {\n",
       "        vertical-align: top;\n",
       "    }\n",
       "\n",
       "    .dataframe thead th {\n",
       "        text-align: right;\n",
       "    }\n",
       "</style>\n",
       "<table border=\"1\" class=\"dataframe\">\n",
       "  <thead>\n",
       "    <tr style=\"text-align: right;\">\n",
       "      <th></th>\n",
       "      <th>DrugBank ID</th>\n",
       "      <th>Standard InChI Key</th>\n",
       "    </tr>\n",
       "  </thead>\n",
       "  <tbody>\n",
       "    <tr>\n",
       "      <th>0</th>\n",
       "      <td>DB00006</td>\n",
       "      <td>OIRCOABEOLEUMC-GEJPAHFPSA-N</td>\n",
       "    </tr>\n",
       "    <tr>\n",
       "      <th>1</th>\n",
       "      <td>DB00007</td>\n",
       "      <td>GFIJNRVAKGFPGQ-LIJARHBVSA-N</td>\n",
       "    </tr>\n",
       "    <tr>\n",
       "      <th>2</th>\n",
       "      <td>DB00014</td>\n",
       "      <td>BLCLNMBMMGCOAS-URPVMXJPSA-N</td>\n",
       "    </tr>\n",
       "    <tr>\n",
       "      <th>3</th>\n",
       "      <td>DB00027</td>\n",
       "      <td>NDAYQJDHGXTBJL-MWWSRJDJSA-N</td>\n",
       "    </tr>\n",
       "    <tr>\n",
       "      <th>4</th>\n",
       "      <td>DB00035</td>\n",
       "      <td>NFLWUMRGJYTJIN-PNIOQBSNSA-N</td>\n",
       "    </tr>\n",
       "  </tbody>\n",
       "</table>\n",
       "</div>"
      ],
      "text/plain": [
       "  DrugBank ID           Standard InChI Key\n",
       "0     DB00006  OIRCOABEOLEUMC-GEJPAHFPSA-N\n",
       "1     DB00007  GFIJNRVAKGFPGQ-LIJARHBVSA-N\n",
       "2     DB00014  BLCLNMBMMGCOAS-URPVMXJPSA-N\n",
       "3     DB00027  NDAYQJDHGXTBJL-MWWSRJDJSA-N\n",
       "4     DB00035  NFLWUMRGJYTJIN-PNIOQBSNSA-N"
      ]
     },
     "execution_count": 10,
     "metadata": {},
     "output_type": "execute_result"
    }
   ],
   "source": [
    "drugbank_mapping.head()"
   ]
  },
  {
   "cell_type": "code",
   "execution_count": 11,
   "metadata": {},
   "outputs": [],
   "source": [
    "df_atc = drugbank_mapping.merge(df_atc)"
   ]
  },
  {
   "cell_type": "code",
   "execution_count": 12,
   "metadata": {},
   "outputs": [
    {
     "data": {
      "text/html": [
       "<div>\n",
       "<style scoped>\n",
       "    .dataframe tbody tr th:only-of-type {\n",
       "        vertical-align: middle;\n",
       "    }\n",
       "\n",
       "    .dataframe tbody tr th {\n",
       "        vertical-align: top;\n",
       "    }\n",
       "\n",
       "    .dataframe thead th {\n",
       "        text-align: right;\n",
       "    }\n",
       "</style>\n",
       "<table border=\"1\" class=\"dataframe\">\n",
       "  <thead>\n",
       "    <tr style=\"text-align: right;\">\n",
       "      <th></th>\n",
       "      <th>DrugBank ID</th>\n",
       "      <th>Standard InChI Key</th>\n",
       "      <th>atc_codes</th>\n",
       "    </tr>\n",
       "  </thead>\n",
       "  <tbody>\n",
       "    <tr>\n",
       "      <th>0</th>\n",
       "      <td>DB00006</td>\n",
       "      <td>OIRCOABEOLEUMC-GEJPAHFPSA-N</td>\n",
       "      <td>B01AE</td>\n",
       "    </tr>\n",
       "    <tr>\n",
       "      <th>1</th>\n",
       "      <td>DB00007</td>\n",
       "      <td>GFIJNRVAKGFPGQ-LIJARHBVSA-N</td>\n",
       "      <td>L02AE</td>\n",
       "    </tr>\n",
       "    <tr>\n",
       "      <th>2</th>\n",
       "      <td>DB00007</td>\n",
       "      <td>GFIJNRVAKGFPGQ-LIJARHBVSA-N</td>\n",
       "      <td>L02AE</td>\n",
       "    </tr>\n",
       "  </tbody>\n",
       "</table>\n",
       "</div>"
      ],
      "text/plain": [
       "  DrugBank ID           Standard InChI Key atc_codes\n",
       "0     DB00006  OIRCOABEOLEUMC-GEJPAHFPSA-N     B01AE\n",
       "1     DB00007  GFIJNRVAKGFPGQ-LIJARHBVSA-N     L02AE\n",
       "2     DB00007  GFIJNRVAKGFPGQ-LIJARHBVSA-N     L02AE"
      ]
     },
     "execution_count": 12,
     "metadata": {},
     "output_type": "execute_result"
    }
   ],
   "source": [
    "df_atc.head(3)"
   ]
  },
  {
   "cell_type": "markdown",
   "metadata": {},
   "source": [
    "### Creating drugsetlibrary and exporting"
   ]
  },
  {
   "cell_type": "code",
   "execution_count": 13,
   "metadata": {},
   "outputs": [],
   "source": [
    "id_list = tuple(zip(df_atc['atc_codes'].tolist(),df_atc['Standard InChI Key'].tolist()))\n",
    "    \n",
    "    \n",
    "drugsetlibrary = defaultdict(list)\n",
    "for k,v in id_list:\n",
    "    drugsetlibrary[k].append(v)\n",
    "\n",
    "# removing duplicates & sets < 5\n",
    "drugsetlibrary = {k:list(set(v)) for k,v in drugsetlibrary.items() if len(set(v)) >= 5} "
   ]
  },
  {
   "cell_type": "code",
   "execution_count": 14,
   "metadata": {},
   "outputs": [
    {
     "data": {
      "text/plain": [
       "308"
      ]
     },
     "execution_count": 14,
     "metadata": {},
     "output_type": "execute_result"
    }
   ],
   "source": [
    "len(drugsetlibrary)"
   ]
  },
  {
   "cell_type": "code",
   "execution_count": 15,
   "metadata": {},
   "outputs": [],
   "source": [
    "os.chdir('../../data/ATC')"
   ]
  },
  {
   "cell_type": "code",
   "execution_count": 16,
   "metadata": {},
   "outputs": [],
   "source": [
    "# Export drugsetlibrary in gmt format\n",
    "gmt_formatter(drugsetlibrary, 'ATC_drugsetlibrary.gmt')"
   ]
  },
  {
   "cell_type": "markdown",
   "metadata": {},
   "source": [
    "### Library counts"
   ]
  },
  {
   "cell_type": "code",
   "execution_count": 17,
   "metadata": {},
   "outputs": [
    {
     "name": "stdout",
     "output_type": "stream",
     "text": [
      "2233 unique drugs\n",
      "308 unique association terms\n",
      "3054 unique associations\n",
      "9.915584415584416 average drugs per term\n"
     ]
    }
   ],
   "source": [
    "library_counts(drugsetlibrary)"
   ]
  }
 ],
 "metadata": {
  "kernelspec": {
   "display_name": "Python 3",
   "language": "python",
   "name": "python3"
  },
  "language_info": {
   "codemirror_mode": {
    "name": "ipython",
    "version": 3
   },
   "file_extension": ".py",
   "mimetype": "text/x-python",
   "name": "python",
   "nbconvert_exporter": "python",
   "pygments_lexer": "ipython3",
   "version": "3.6.5"
  }
 },
 "nbformat": 4,
 "nbformat_minor": 2
}
