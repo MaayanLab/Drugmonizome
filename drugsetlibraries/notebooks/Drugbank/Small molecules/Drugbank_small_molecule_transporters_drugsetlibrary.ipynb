{
 "cells": [
  {
   "cell_type": "markdown",
   "metadata": {},
   "source": [
    "## DrugBank Small Molecule Transporters Drug-Set Library\n",
    "### Drug-set labels: Genes\n",
    "#### ALL DATABASES ACCESSED 01/01/20\n",
    "##### Author : Eryk Kropiwnicki | eryk.kropiwnicki@icahn.mssm.edu"
   ]
  },
  {
   "cell_type": "code",
   "execution_count": 1,
   "metadata": {},
   "outputs": [],
   "source": [
    "import json\n",
    "import pandas as pd\n",
    "from collections import defaultdict\n",
    "import csv\n",
    "import os"
   ]
  },
  {
   "cell_type": "code",
   "execution_count": 2,
   "metadata": {},
   "outputs": [],
   "source": [
    "os.chdir('../../../scripts')\n",
    "from export_script import *\n",
    "from gene_resolver import *\n",
    "os.chdir('../notebooks/Drugbank/Small molecules')"
   ]
  },
  {
   "cell_type": "markdown",
   "metadata": {},
   "source": [
    "### Matching Small Molecule Names to Entrez Gene Symbols\n",
    "#### Input File : drugbank_small_molecule_target_polypeptide_ids.csv (https://www.drugbank.ca/releases/latest#protein-identifiers)\n",
    "#### Downloaded on 0/01/2020"
   ]
  },
  {
   "cell_type": "code",
   "execution_count": 3,
   "metadata": {},
   "outputs": [],
   "source": [
    "# Import all protein names and ids matched to drugbank drugs #\n",
    "df = pd.read_csv('input/drugbank_small_molecule_transporter_polypeptide_ids.csv',\n",
    "                       usecols = ['Gene Name', 'Species', 'Drug IDs'])"
   ]
  },
  {
   "cell_type": "code",
   "execution_count": 4,
   "metadata": {},
   "outputs": [
    {
     "data": {
      "text/html": [
       "<div>\n",
       "<style scoped>\n",
       "    .dataframe tbody tr th:only-of-type {\n",
       "        vertical-align: middle;\n",
       "    }\n",
       "\n",
       "    .dataframe tbody tr th {\n",
       "        vertical-align: top;\n",
       "    }\n",
       "\n",
       "    .dataframe thead th {\n",
       "        text-align: right;\n",
       "    }\n",
       "</style>\n",
       "<table border=\"1\" class=\"dataframe\">\n",
       "  <thead>\n",
       "    <tr style=\"text-align: right;\">\n",
       "      <th></th>\n",
       "      <th>Gene Name</th>\n",
       "      <th>Species</th>\n",
       "      <th>Drug IDs</th>\n",
       "    </tr>\n",
       "  </thead>\n",
       "  <tbody>\n",
       "    <tr>\n",
       "      <th>0</th>\n",
       "      <td>CACNA1I</td>\n",
       "      <td>Humans</td>\n",
       "      <td>DB09498</td>\n",
       "    </tr>\n",
       "    <tr>\n",
       "      <th>1</th>\n",
       "      <td>SCNN1B</td>\n",
       "      <td>Humans</td>\n",
       "      <td>DB14509</td>\n",
       "    </tr>\n",
       "    <tr>\n",
       "      <th>2</th>\n",
       "      <td>SLC7A11</td>\n",
       "      <td>Humans</td>\n",
       "      <td>DB01098; DB04348; DB05540; DB08833; DB08834</td>\n",
       "    </tr>\n",
       "    <tr>\n",
       "      <th>3</th>\n",
       "      <td>SLC12A5</td>\n",
       "      <td>Humans</td>\n",
       "      <td>DB00761</td>\n",
       "    </tr>\n",
       "    <tr>\n",
       "      <th>4</th>\n",
       "      <td>SEC14L4</td>\n",
       "      <td>Humans</td>\n",
       "      <td>DB11251; DB11635; DB14003</td>\n",
       "    </tr>\n",
       "  </tbody>\n",
       "</table>\n",
       "</div>"
      ],
      "text/plain": [
       "  Gene Name Species                                     Drug IDs\n",
       "0   CACNA1I  Humans                                      DB09498\n",
       "1    SCNN1B  Humans                                      DB14509\n",
       "2   SLC7A11  Humans  DB01098; DB04348; DB05540; DB08833; DB08834\n",
       "3   SLC12A5  Humans                                      DB00761\n",
       "4   SEC14L4  Humans                    DB11251; DB11635; DB14003"
      ]
     },
     "execution_count": 4,
     "metadata": {},
     "output_type": "execute_result"
    }
   ],
   "source": [
    "df.head()"
   ]
  },
  {
   "cell_type": "code",
   "execution_count": 5,
   "metadata": {},
   "outputs": [],
   "source": [
    "# Dropping all non-human gene names #\n",
    "df = df[df['Species'].str.contains('Humans', na = False)]"
   ]
  },
  {
   "cell_type": "code",
   "execution_count": 6,
   "metadata": {},
   "outputs": [
    {
     "data": {
      "text/plain": [
       "214"
      ]
     },
     "execution_count": 6,
     "metadata": {},
     "output_type": "execute_result"
    }
   ],
   "source": [
    "len(df)"
   ]
  },
  {
   "cell_type": "markdown",
   "metadata": {},
   "source": [
    "### Validating genes using lookup table\n",
    "#### Lookup table generated from ftp://ftp.ncbi.nih.gov/gene/DATA/GENE_INFO/Mammalia"
   ]
  },
  {
   "cell_type": "code",
   "execution_count": 7,
   "metadata": {},
   "outputs": [],
   "source": [
    "gene_resolver(df, columnName = 'Gene Name')"
   ]
  },
  {
   "cell_type": "code",
   "execution_count": 8,
   "metadata": {},
   "outputs": [
    {
     "data": {
      "text/plain": [
       "214"
      ]
     },
     "execution_count": 8,
     "metadata": {},
     "output_type": "execute_result"
    }
   ],
   "source": [
    "len(df)"
   ]
  },
  {
   "cell_type": "code",
   "execution_count": 9,
   "metadata": {},
   "outputs": [
    {
     "data": {
      "text/html": [
       "<div>\n",
       "<style scoped>\n",
       "    .dataframe tbody tr th:only-of-type {\n",
       "        vertical-align: middle;\n",
       "    }\n",
       "\n",
       "    .dataframe tbody tr th {\n",
       "        vertical-align: top;\n",
       "    }\n",
       "\n",
       "    .dataframe thead th {\n",
       "        text-align: right;\n",
       "    }\n",
       "</style>\n",
       "<table border=\"1\" class=\"dataframe\">\n",
       "  <thead>\n",
       "    <tr style=\"text-align: right;\">\n",
       "      <th></th>\n",
       "      <th>Gene Name</th>\n",
       "      <th>Species</th>\n",
       "      <th>Drug IDs</th>\n",
       "      <th>Approved Symbol</th>\n",
       "    </tr>\n",
       "  </thead>\n",
       "  <tbody>\n",
       "    <tr>\n",
       "      <th>0</th>\n",
       "      <td>CACNA1I</td>\n",
       "      <td>Humans</td>\n",
       "      <td>DB09498</td>\n",
       "      <td>CACNA1I</td>\n",
       "    </tr>\n",
       "    <tr>\n",
       "      <th>1</th>\n",
       "      <td>SCNN1B</td>\n",
       "      <td>Humans</td>\n",
       "      <td>DB14509</td>\n",
       "      <td>SCNN1B</td>\n",
       "    </tr>\n",
       "    <tr>\n",
       "      <th>2</th>\n",
       "      <td>SLC7A11</td>\n",
       "      <td>Humans</td>\n",
       "      <td>DB01098; DB04348; DB05540; DB08833; DB08834</td>\n",
       "      <td>SLC7A11</td>\n",
       "    </tr>\n",
       "    <tr>\n",
       "      <th>3</th>\n",
       "      <td>SLC12A5</td>\n",
       "      <td>Humans</td>\n",
       "      <td>DB00761</td>\n",
       "      <td>SLC12A5</td>\n",
       "    </tr>\n",
       "    <tr>\n",
       "      <th>4</th>\n",
       "      <td>SEC14L4</td>\n",
       "      <td>Humans</td>\n",
       "      <td>DB11251; DB11635; DB14003</td>\n",
       "      <td>SEC14L4</td>\n",
       "    </tr>\n",
       "  </tbody>\n",
       "</table>\n",
       "</div>"
      ],
      "text/plain": [
       "  Gene Name Species                                     Drug IDs  \\\n",
       "0   CACNA1I  Humans                                      DB09498   \n",
       "1    SCNN1B  Humans                                      DB14509   \n",
       "2   SLC7A11  Humans  DB01098; DB04348; DB05540; DB08833; DB08834   \n",
       "3   SLC12A5  Humans                                      DB00761   \n",
       "4   SEC14L4  Humans                    DB11251; DB11635; DB14003   \n",
       "\n",
       "  Approved Symbol  \n",
       "0         CACNA1I  \n",
       "1          SCNN1B  \n",
       "2         SLC7A11  \n",
       "3         SLC12A5  \n",
       "4         SEC14L4  "
      ]
     },
     "execution_count": 9,
     "metadata": {},
     "output_type": "execute_result"
    }
   ],
   "source": [
    "df.head()"
   ]
  },
  {
   "cell_type": "code",
   "execution_count": 10,
   "metadata": {},
   "outputs": [],
   "source": [
    "# Splitting \"; \" separated drug IDs into separate rows #\n",
    "df_transporter = pd.DataFrame(df['Drug IDs'].str.split('; ').tolist(), index = df['Approved Symbol']).stack()\n",
    "df_transporter = df_transporter.reset_index()[[0, 'Approved Symbol']]\n",
    "df_transporter.columns = ['DrugBank ID','Gene']"
   ]
  },
  {
   "cell_type": "code",
   "execution_count": 11,
   "metadata": {},
   "outputs": [
    {
     "data": {
      "text/html": [
       "<div>\n",
       "<style scoped>\n",
       "    .dataframe tbody tr th:only-of-type {\n",
       "        vertical-align: middle;\n",
       "    }\n",
       "\n",
       "    .dataframe tbody tr th {\n",
       "        vertical-align: top;\n",
       "    }\n",
       "\n",
       "    .dataframe thead th {\n",
       "        text-align: right;\n",
       "    }\n",
       "</style>\n",
       "<table border=\"1\" class=\"dataframe\">\n",
       "  <thead>\n",
       "    <tr style=\"text-align: right;\">\n",
       "      <th></th>\n",
       "      <th>DrugBank ID</th>\n",
       "      <th>Gene</th>\n",
       "    </tr>\n",
       "  </thead>\n",
       "  <tbody>\n",
       "    <tr>\n",
       "      <th>0</th>\n",
       "      <td>DB09498</td>\n",
       "      <td>CACNA1I</td>\n",
       "    </tr>\n",
       "    <tr>\n",
       "      <th>1</th>\n",
       "      <td>DB14509</td>\n",
       "      <td>SCNN1B</td>\n",
       "    </tr>\n",
       "    <tr>\n",
       "      <th>2</th>\n",
       "      <td>DB01098</td>\n",
       "      <td>SLC7A11</td>\n",
       "    </tr>\n",
       "    <tr>\n",
       "      <th>3</th>\n",
       "      <td>DB04348</td>\n",
       "      <td>SLC7A11</td>\n",
       "    </tr>\n",
       "    <tr>\n",
       "      <th>4</th>\n",
       "      <td>DB05540</td>\n",
       "      <td>SLC7A11</td>\n",
       "    </tr>\n",
       "  </tbody>\n",
       "</table>\n",
       "</div>"
      ],
      "text/plain": [
       "  DrugBank ID     Gene\n",
       "0     DB09498  CACNA1I\n",
       "1     DB14509   SCNN1B\n",
       "2     DB01098  SLC7A11\n",
       "3     DB04348  SLC7A11\n",
       "4     DB05540  SLC7A11"
      ]
     },
     "execution_count": 11,
     "metadata": {},
     "output_type": "execute_result"
    }
   ],
   "source": [
    "df_transporter.head()"
   ]
  },
  {
   "cell_type": "markdown",
   "metadata": {},
   "source": [
    "### Associate each DrugBank ID with InChI Key"
   ]
  },
  {
   "cell_type": "code",
   "execution_count": 12,
   "metadata": {},
   "outputs": [],
   "source": [
    "# Import Drugbank mapping file\n",
    "drugbank_mapping = pd.read_csv('../../../metadata/drugmonizome_metadata.tsv', sep = '\\t', usecols = ['DrugBank ID',\n",
    "                                                                                                 'Standard InChI Key'])"
   ]
  },
  {
   "cell_type": "code",
   "execution_count": 13,
   "metadata": {},
   "outputs": [
    {
     "data": {
      "text/html": [
       "<div>\n",
       "<style scoped>\n",
       "    .dataframe tbody tr th:only-of-type {\n",
       "        vertical-align: middle;\n",
       "    }\n",
       "\n",
       "    .dataframe tbody tr th {\n",
       "        vertical-align: top;\n",
       "    }\n",
       "\n",
       "    .dataframe thead th {\n",
       "        text-align: right;\n",
       "    }\n",
       "</style>\n",
       "<table border=\"1\" class=\"dataframe\">\n",
       "  <thead>\n",
       "    <tr style=\"text-align: right;\">\n",
       "      <th></th>\n",
       "      <th>DrugBank ID</th>\n",
       "      <th>Standard InChI Key</th>\n",
       "    </tr>\n",
       "  </thead>\n",
       "  <tbody>\n",
       "    <tr>\n",
       "      <th>0</th>\n",
       "      <td>DB00006</td>\n",
       "      <td>OIRCOABEOLEUMC-GEJPAHFPSA-N</td>\n",
       "    </tr>\n",
       "    <tr>\n",
       "      <th>1</th>\n",
       "      <td>DB00007</td>\n",
       "      <td>GFIJNRVAKGFPGQ-LIJARHBVSA-N</td>\n",
       "    </tr>\n",
       "    <tr>\n",
       "      <th>2</th>\n",
       "      <td>DB00014</td>\n",
       "      <td>BLCLNMBMMGCOAS-URPVMXJPSA-N</td>\n",
       "    </tr>\n",
       "    <tr>\n",
       "      <th>3</th>\n",
       "      <td>DB00027</td>\n",
       "      <td>NDAYQJDHGXTBJL-MWWSRJDJSA-N</td>\n",
       "    </tr>\n",
       "    <tr>\n",
       "      <th>4</th>\n",
       "      <td>DB00035</td>\n",
       "      <td>NFLWUMRGJYTJIN-PNIOQBSNSA-N</td>\n",
       "    </tr>\n",
       "  </tbody>\n",
       "</table>\n",
       "</div>"
      ],
      "text/plain": [
       "  DrugBank ID           Standard InChI Key\n",
       "0     DB00006  OIRCOABEOLEUMC-GEJPAHFPSA-N\n",
       "1     DB00007  GFIJNRVAKGFPGQ-LIJARHBVSA-N\n",
       "2     DB00014  BLCLNMBMMGCOAS-URPVMXJPSA-N\n",
       "3     DB00027  NDAYQJDHGXTBJL-MWWSRJDJSA-N\n",
       "4     DB00035  NFLWUMRGJYTJIN-PNIOQBSNSA-N"
      ]
     },
     "execution_count": 13,
     "metadata": {},
     "output_type": "execute_result"
    }
   ],
   "source": [
    "drugbank_mapping.head()"
   ]
  },
  {
   "cell_type": "code",
   "execution_count": 14,
   "metadata": {},
   "outputs": [],
   "source": [
    "df_transporter = df_transporter.merge(drugbank_mapping)"
   ]
  },
  {
   "cell_type": "code",
   "execution_count": 15,
   "metadata": {},
   "outputs": [
    {
     "data": {
      "text/html": [
       "<div>\n",
       "<style scoped>\n",
       "    .dataframe tbody tr th:only-of-type {\n",
       "        vertical-align: middle;\n",
       "    }\n",
       "\n",
       "    .dataframe tbody tr th {\n",
       "        vertical-align: top;\n",
       "    }\n",
       "\n",
       "    .dataframe thead th {\n",
       "        text-align: right;\n",
       "    }\n",
       "</style>\n",
       "<table border=\"1\" class=\"dataframe\">\n",
       "  <thead>\n",
       "    <tr style=\"text-align: right;\">\n",
       "      <th></th>\n",
       "      <th>DrugBank ID</th>\n",
       "      <th>Gene</th>\n",
       "      <th>Standard InChI Key</th>\n",
       "    </tr>\n",
       "  </thead>\n",
       "  <tbody>\n",
       "    <tr>\n",
       "      <th>0</th>\n",
       "      <td>DB09498</td>\n",
       "      <td>CACNA1I</td>\n",
       "      <td>AHBGXTDRMVNFER-FCHARDOESA-L</td>\n",
       "    </tr>\n",
       "    <tr>\n",
       "      <th>1</th>\n",
       "      <td>DB09498</td>\n",
       "      <td>SLC8A1</td>\n",
       "      <td>AHBGXTDRMVNFER-FCHARDOESA-L</td>\n",
       "    </tr>\n",
       "    <tr>\n",
       "      <th>2</th>\n",
       "      <td>DB14509</td>\n",
       "      <td>SCNN1B</td>\n",
       "      <td>XGZVUEUWXADBQD-UHFFFAOYSA-L</td>\n",
       "    </tr>\n",
       "  </tbody>\n",
       "</table>\n",
       "</div>"
      ],
      "text/plain": [
       "  DrugBank ID     Gene           Standard InChI Key\n",
       "0     DB09498  CACNA1I  AHBGXTDRMVNFER-FCHARDOESA-L\n",
       "1     DB09498   SLC8A1  AHBGXTDRMVNFER-FCHARDOESA-L\n",
       "2     DB14509   SCNN1B  XGZVUEUWXADBQD-UHFFFAOYSA-L"
      ]
     },
     "execution_count": 15,
     "metadata": {},
     "output_type": "execute_result"
    }
   ],
   "source": [
    "df_transporter.head(3)"
   ]
  },
  {
   "cell_type": "code",
   "execution_count": 16,
   "metadata": {},
   "outputs": [],
   "source": [
    "# Creating list of gene names and drug IDs #\n",
    "genes = df_transporter['Gene'].tolist()\n",
    "drugs = df_transporter['Standard InChI Key'].tolist()"
   ]
  },
  {
   "cell_type": "markdown",
   "metadata": {},
   "source": [
    "### Creating drugsetlibrary and exporting"
   ]
  },
  {
   "cell_type": "code",
   "execution_count": 17,
   "metadata": {},
   "outputs": [],
   "source": [
    "# The input file contains duplicate protein ids matched to unique Drugbank accession numbers #\n",
    "# Tupelizing protein ids and drugbank accession numbers and grouping all corresponding drugbank accession numbers under one common dictionary key #\n",
    "\n",
    "id_dict = tuple(zip(genes, drugs))\n",
    "\n",
    "drugsetlibrary = defaultdict(list)\n",
    "for k, v in id_dict:\n",
    "    drugsetlibrary[k].append(v)"
   ]
  },
  {
   "cell_type": "code",
   "execution_count": 18,
   "metadata": {},
   "outputs": [],
   "source": [
    "# Removing all terms paired with less than 5 drugs #\n",
    "drugsetlibrary = {k:list(set(v)) for k,v in drugsetlibrary.items() if len(set(v))>=5}"
   ]
  },
  {
   "cell_type": "code",
   "execution_count": 19,
   "metadata": {},
   "outputs": [],
   "source": [
    "os.chdir('../../../data/Drugbank')"
   ]
  },
  {
   "cell_type": "code",
   "execution_count": 20,
   "metadata": {},
   "outputs": [],
   "source": [
    "gmt_formatter(drugsetlibrary, 'Drugbank_smallmolecule_transporter_drugsetlibrary.gmt')"
   ]
  },
  {
   "cell_type": "markdown",
   "metadata": {},
   "source": [
    "### Library counts"
   ]
  },
  {
   "cell_type": "code",
   "execution_count": 21,
   "metadata": {},
   "outputs": [
    {
     "name": "stdout",
     "output_type": "stream",
     "text": [
      "832 unique drugs\n",
      "51 unique association terms\n",
      "2387 unique associations\n",
      "46.80392156862745 average drugs per term\n"
     ]
    }
   ],
   "source": [
    "library_counts(drugsetlibrary)"
   ]
  }
 ],
 "metadata": {
  "kernelspec": {
   "display_name": "Python 3",
   "language": "python",
   "name": "python3"
  },
  "language_info": {
   "codemirror_mode": {
    "name": "ipython",
    "version": 3
   },
   "file_extension": ".py",
   "mimetype": "text/x-python",
   "name": "python",
   "nbconvert_exporter": "python",
   "pygments_lexer": "ipython3",
   "version": "3.6.5"
  }
 },
 "nbformat": 4,
 "nbformat_minor": 2
}
