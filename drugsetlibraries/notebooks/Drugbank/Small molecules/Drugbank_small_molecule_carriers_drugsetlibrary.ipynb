{
 "cells": [
  {
   "cell_type": "markdown",
   "metadata": {},
   "source": [
    "## DrugBank Small Molecule Carriers Drug-Set Library\n",
    "### Drug-set labels: Genes\n",
    "#### ALL DATABASES ACCESSED 01/01/20\n",
    "##### Author : Eryk Kropiwnicki | eryk.kropiwnicki@icahn.mssm.edu"
   ]
  },
  {
   "cell_type": "code",
   "execution_count": 1,
   "metadata": {},
   "outputs": [],
   "source": [
    "import json\n",
    "import pandas as pd\n",
    "from collections import defaultdict\n",
    "import csv\n",
    "import os"
   ]
  },
  {
   "cell_type": "code",
   "execution_count": 2,
   "metadata": {},
   "outputs": [],
   "source": [
    "os.chdir('../../../scripts')\n",
    "from export_script import *\n",
    "from gene_resolver import *\n",
    "os.chdir('../notebooks/Drugbank/Small molecules')"
   ]
  },
  {
   "cell_type": "markdown",
   "metadata": {},
   "source": [
    "### Matching Small Molecule Names to Entrez Gene Symbols\n",
    "#### Input File : drugbank_small_molecule_target_polypeptide_ids.csv (https://www.drugbank.ca/releases/latest#protein-identifiers)\n",
    "#### Downloaded on 0/01/2020"
   ]
  },
  {
   "cell_type": "code",
   "execution_count": 4,
   "metadata": {},
   "outputs": [],
   "source": [
    "# Import all protein names and ids matched to drugbank drugs #\n",
    "df = pd.read_csv('input/drugbank_small_molecule_carrier_polypeptide_ids.csv',\n",
    "                       usecols = ['Gene Name', 'Species', 'Drug IDs'])"
   ]
  },
  {
   "cell_type": "code",
   "execution_count": 5,
   "metadata": {},
   "outputs": [
    {
     "data": {
      "text/html": [
       "<div>\n",
       "<style scoped>\n",
       "    .dataframe tbody tr th:only-of-type {\n",
       "        vertical-align: middle;\n",
       "    }\n",
       "\n",
       "    .dataframe tbody tr th {\n",
       "        vertical-align: top;\n",
       "    }\n",
       "\n",
       "    .dataframe thead th {\n",
       "        text-align: right;\n",
       "    }\n",
       "</style>\n",
       "<table border=\"1\" class=\"dataframe\">\n",
       "  <thead>\n",
       "    <tr style=\"text-align: right;\">\n",
       "      <th></th>\n",
       "      <th>Gene Name</th>\n",
       "      <th>Species</th>\n",
       "      <th>Drug IDs</th>\n",
       "    </tr>\n",
       "  </thead>\n",
       "  <tbody>\n",
       "    <tr>\n",
       "      <th>0</th>\n",
       "      <td>F8</td>\n",
       "      <td>Humans</td>\n",
       "      <td>DB09130</td>\n",
       "    </tr>\n",
       "    <tr>\n",
       "      <th>1</th>\n",
       "      <td>F5</td>\n",
       "      <td>Humans</td>\n",
       "      <td>DB09130</td>\n",
       "    </tr>\n",
       "    <tr>\n",
       "      <th>2</th>\n",
       "      <td>SERPINA6</td>\n",
       "      <td>Humans</td>\n",
       "      <td>DB00180; DB00240; DB00253; DB00324; DB00394; D...</td>\n",
       "    </tr>\n",
       "    <tr>\n",
       "      <th>3</th>\n",
       "      <td>FXYD2</td>\n",
       "      <td>Humans</td>\n",
       "      <td>DB09479</td>\n",
       "    </tr>\n",
       "    <tr>\n",
       "      <th>4</th>\n",
       "      <td>RBP3</td>\n",
       "      <td>Humans</td>\n",
       "      <td>DB06755</td>\n",
       "    </tr>\n",
       "  </tbody>\n",
       "</table>\n",
       "</div>"
      ],
      "text/plain": [
       "  Gene Name Species                                           Drug IDs\n",
       "0        F8  Humans                                            DB09130\n",
       "1        F5  Humans                                            DB09130\n",
       "2  SERPINA6  Humans  DB00180; DB00240; DB00253; DB00324; DB00394; D...\n",
       "3     FXYD2  Humans                                            DB09479\n",
       "4      RBP3  Humans                                            DB06755"
      ]
     },
     "execution_count": 5,
     "metadata": {},
     "output_type": "execute_result"
    }
   ],
   "source": [
    "df.head()"
   ]
  },
  {
   "cell_type": "code",
   "execution_count": 6,
   "metadata": {},
   "outputs": [],
   "source": [
    "# Dropping all non-human gene names #\n",
    "df = df[df['Species'].str.contains('Humans', na = False)]"
   ]
  },
  {
   "cell_type": "code",
   "execution_count": 7,
   "metadata": {},
   "outputs": [
    {
     "data": {
      "text/plain": [
       "92"
      ]
     },
     "execution_count": 7,
     "metadata": {},
     "output_type": "execute_result"
    }
   ],
   "source": [
    "len(df)"
   ]
  },
  {
   "cell_type": "markdown",
   "metadata": {},
   "source": [
    "### Validating genes using lookup table\n",
    "#### Lookup table generated from ftp://ftp.ncbi.nih.gov/gene/DATA/GENE_INFO/Mammalia"
   ]
  },
  {
   "cell_type": "code",
   "execution_count": 8,
   "metadata": {},
   "outputs": [],
   "source": [
    "gene_resolver(df, columnName = 'Gene Name')"
   ]
  },
  {
   "cell_type": "code",
   "execution_count": 9,
   "metadata": {},
   "outputs": [
    {
     "data": {
      "text/plain": [
       "92"
      ]
     },
     "execution_count": 9,
     "metadata": {},
     "output_type": "execute_result"
    }
   ],
   "source": [
    "len(df)"
   ]
  },
  {
   "cell_type": "code",
   "execution_count": 10,
   "metadata": {},
   "outputs": [
    {
     "data": {
      "text/html": [
       "<div>\n",
       "<style scoped>\n",
       "    .dataframe tbody tr th:only-of-type {\n",
       "        vertical-align: middle;\n",
       "    }\n",
       "\n",
       "    .dataframe tbody tr th {\n",
       "        vertical-align: top;\n",
       "    }\n",
       "\n",
       "    .dataframe thead th {\n",
       "        text-align: right;\n",
       "    }\n",
       "</style>\n",
       "<table border=\"1\" class=\"dataframe\">\n",
       "  <thead>\n",
       "    <tr style=\"text-align: right;\">\n",
       "      <th></th>\n",
       "      <th>Gene Name</th>\n",
       "      <th>Species</th>\n",
       "      <th>Drug IDs</th>\n",
       "      <th>Approved Symbol</th>\n",
       "    </tr>\n",
       "  </thead>\n",
       "  <tbody>\n",
       "    <tr>\n",
       "      <th>0</th>\n",
       "      <td>F8</td>\n",
       "      <td>Humans</td>\n",
       "      <td>DB09130</td>\n",
       "      <td>F8</td>\n",
       "    </tr>\n",
       "    <tr>\n",
       "      <th>1</th>\n",
       "      <td>F5</td>\n",
       "      <td>Humans</td>\n",
       "      <td>DB09130</td>\n",
       "      <td>F5</td>\n",
       "    </tr>\n",
       "    <tr>\n",
       "      <th>2</th>\n",
       "      <td>SERPINA6</td>\n",
       "      <td>Humans</td>\n",
       "      <td>DB00180; DB00240; DB00253; DB00324; DB00394; D...</td>\n",
       "      <td>SERPINA6</td>\n",
       "    </tr>\n",
       "    <tr>\n",
       "      <th>3</th>\n",
       "      <td>FXYD2</td>\n",
       "      <td>Humans</td>\n",
       "      <td>DB09479</td>\n",
       "      <td>FXYD2</td>\n",
       "    </tr>\n",
       "    <tr>\n",
       "      <th>4</th>\n",
       "      <td>RBP3</td>\n",
       "      <td>Humans</td>\n",
       "      <td>DB06755</td>\n",
       "      <td>RBP3</td>\n",
       "    </tr>\n",
       "  </tbody>\n",
       "</table>\n",
       "</div>"
      ],
      "text/plain": [
       "  Gene Name Species                                           Drug IDs  \\\n",
       "0        F8  Humans                                            DB09130   \n",
       "1        F5  Humans                                            DB09130   \n",
       "2  SERPINA6  Humans  DB00180; DB00240; DB00253; DB00324; DB00394; D...   \n",
       "3     FXYD2  Humans                                            DB09479   \n",
       "4      RBP3  Humans                                            DB06755   \n",
       "\n",
       "  Approved Symbol  \n",
       "0              F8  \n",
       "1              F5  \n",
       "2        SERPINA6  \n",
       "3           FXYD2  \n",
       "4            RBP3  "
      ]
     },
     "execution_count": 10,
     "metadata": {},
     "output_type": "execute_result"
    }
   ],
   "source": [
    "df.head()"
   ]
  },
  {
   "cell_type": "code",
   "execution_count": 11,
   "metadata": {},
   "outputs": [],
   "source": [
    "# Splitting \"; \" separated drug IDs into separate rows #\n",
    "df_carrier = pd.DataFrame(df['Drug IDs'].str.split('; ').tolist(), index = df['Approved Symbol']).stack()\n",
    "df_carrier = df_carrier.reset_index()[[0, 'Approved Symbol']]\n",
    "df_carrier.columns = ['DrugBank ID','Gene']"
   ]
  },
  {
   "cell_type": "code",
   "execution_count": 12,
   "metadata": {},
   "outputs": [
    {
     "data": {
      "text/html": [
       "<div>\n",
       "<style scoped>\n",
       "    .dataframe tbody tr th:only-of-type {\n",
       "        vertical-align: middle;\n",
       "    }\n",
       "\n",
       "    .dataframe tbody tr th {\n",
       "        vertical-align: top;\n",
       "    }\n",
       "\n",
       "    .dataframe thead th {\n",
       "        text-align: right;\n",
       "    }\n",
       "</style>\n",
       "<table border=\"1\" class=\"dataframe\">\n",
       "  <thead>\n",
       "    <tr style=\"text-align: right;\">\n",
       "      <th></th>\n",
       "      <th>DrugBank ID</th>\n",
       "      <th>Gene</th>\n",
       "    </tr>\n",
       "  </thead>\n",
       "  <tbody>\n",
       "    <tr>\n",
       "      <th>0</th>\n",
       "      <td>DB09130</td>\n",
       "      <td>F8</td>\n",
       "    </tr>\n",
       "    <tr>\n",
       "      <th>1</th>\n",
       "      <td>DB09130</td>\n",
       "      <td>F5</td>\n",
       "    </tr>\n",
       "    <tr>\n",
       "      <th>2</th>\n",
       "      <td>DB00180</td>\n",
       "      <td>SERPINA6</td>\n",
       "    </tr>\n",
       "    <tr>\n",
       "      <th>3</th>\n",
       "      <td>DB00240</td>\n",
       "      <td>SERPINA6</td>\n",
       "    </tr>\n",
       "    <tr>\n",
       "      <th>4</th>\n",
       "      <td>DB00253</td>\n",
       "      <td>SERPINA6</td>\n",
       "    </tr>\n",
       "  </tbody>\n",
       "</table>\n",
       "</div>"
      ],
      "text/plain": [
       "  DrugBank ID      Gene\n",
       "0     DB09130        F8\n",
       "1     DB09130        F5\n",
       "2     DB00180  SERPINA6\n",
       "3     DB00240  SERPINA6\n",
       "4     DB00253  SERPINA6"
      ]
     },
     "execution_count": 12,
     "metadata": {},
     "output_type": "execute_result"
    }
   ],
   "source": [
    "df_carrier.head()"
   ]
  },
  {
   "cell_type": "markdown",
   "metadata": {},
   "source": [
    "### Associate each DrugBank ID with InChI Key"
   ]
  },
  {
   "cell_type": "code",
   "execution_count": 13,
   "metadata": {},
   "outputs": [],
   "source": [
    "# Import Drugbank mapping file\n",
    "drugbank_mapping = pd.read_csv('../../../metadata/drugmonizome_metadata.tsv', sep = '\\t', usecols = ['DrugBank ID',\n",
    "                                                                                                 'Standard InChI Key'])"
   ]
  },
  {
   "cell_type": "code",
   "execution_count": 14,
   "metadata": {},
   "outputs": [
    {
     "data": {
      "text/html": [
       "<div>\n",
       "<style scoped>\n",
       "    .dataframe tbody tr th:only-of-type {\n",
       "        vertical-align: middle;\n",
       "    }\n",
       "\n",
       "    .dataframe tbody tr th {\n",
       "        vertical-align: top;\n",
       "    }\n",
       "\n",
       "    .dataframe thead th {\n",
       "        text-align: right;\n",
       "    }\n",
       "</style>\n",
       "<table border=\"1\" class=\"dataframe\">\n",
       "  <thead>\n",
       "    <tr style=\"text-align: right;\">\n",
       "      <th></th>\n",
       "      <th>DrugBank ID</th>\n",
       "      <th>Standard InChI Key</th>\n",
       "    </tr>\n",
       "  </thead>\n",
       "  <tbody>\n",
       "    <tr>\n",
       "      <th>0</th>\n",
       "      <td>DB00006</td>\n",
       "      <td>OIRCOABEOLEUMC-GEJPAHFPSA-N</td>\n",
       "    </tr>\n",
       "    <tr>\n",
       "      <th>1</th>\n",
       "      <td>DB00007</td>\n",
       "      <td>GFIJNRVAKGFPGQ-LIJARHBVSA-N</td>\n",
       "    </tr>\n",
       "    <tr>\n",
       "      <th>2</th>\n",
       "      <td>DB00014</td>\n",
       "      <td>BLCLNMBMMGCOAS-URPVMXJPSA-N</td>\n",
       "    </tr>\n",
       "    <tr>\n",
       "      <th>3</th>\n",
       "      <td>DB00027</td>\n",
       "      <td>NDAYQJDHGXTBJL-MWWSRJDJSA-N</td>\n",
       "    </tr>\n",
       "    <tr>\n",
       "      <th>4</th>\n",
       "      <td>DB00035</td>\n",
       "      <td>NFLWUMRGJYTJIN-PNIOQBSNSA-N</td>\n",
       "    </tr>\n",
       "  </tbody>\n",
       "</table>\n",
       "</div>"
      ],
      "text/plain": [
       "  DrugBank ID           Standard InChI Key\n",
       "0     DB00006  OIRCOABEOLEUMC-GEJPAHFPSA-N\n",
       "1     DB00007  GFIJNRVAKGFPGQ-LIJARHBVSA-N\n",
       "2     DB00014  BLCLNMBMMGCOAS-URPVMXJPSA-N\n",
       "3     DB00027  NDAYQJDHGXTBJL-MWWSRJDJSA-N\n",
       "4     DB00035  NFLWUMRGJYTJIN-PNIOQBSNSA-N"
      ]
     },
     "execution_count": 14,
     "metadata": {},
     "output_type": "execute_result"
    }
   ],
   "source": [
    "drugbank_mapping.head()"
   ]
  },
  {
   "cell_type": "code",
   "execution_count": 15,
   "metadata": {},
   "outputs": [],
   "source": [
    "df_carrier = df_carrier.merge(drugbank_mapping)"
   ]
  },
  {
   "cell_type": "code",
   "execution_count": 16,
   "metadata": {},
   "outputs": [
    {
     "data": {
      "text/html": [
       "<div>\n",
       "<style scoped>\n",
       "    .dataframe tbody tr th:only-of-type {\n",
       "        vertical-align: middle;\n",
       "    }\n",
       "\n",
       "    .dataframe tbody tr th {\n",
       "        vertical-align: top;\n",
       "    }\n",
       "\n",
       "    .dataframe thead th {\n",
       "        text-align: right;\n",
       "    }\n",
       "</style>\n",
       "<table border=\"1\" class=\"dataframe\">\n",
       "  <thead>\n",
       "    <tr style=\"text-align: right;\">\n",
       "      <th></th>\n",
       "      <th>DrugBank ID</th>\n",
       "      <th>Gene</th>\n",
       "      <th>Standard InChI Key</th>\n",
       "    </tr>\n",
       "  </thead>\n",
       "  <tbody>\n",
       "    <tr>\n",
       "      <th>0</th>\n",
       "      <td>DB09130</td>\n",
       "      <td>F8</td>\n",
       "      <td>RYGMFSIKBFXOCR-UHFFFAOYSA-N</td>\n",
       "    </tr>\n",
       "    <tr>\n",
       "      <th>1</th>\n",
       "      <td>DB09130</td>\n",
       "      <td>F5</td>\n",
       "      <td>RYGMFSIKBFXOCR-UHFFFAOYSA-N</td>\n",
       "    </tr>\n",
       "    <tr>\n",
       "      <th>2</th>\n",
       "      <td>DB09130</td>\n",
       "      <td>ALB</td>\n",
       "      <td>RYGMFSIKBFXOCR-UHFFFAOYSA-N</td>\n",
       "    </tr>\n",
       "  </tbody>\n",
       "</table>\n",
       "</div>"
      ],
      "text/plain": [
       "  DrugBank ID Gene           Standard InChI Key\n",
       "0     DB09130   F8  RYGMFSIKBFXOCR-UHFFFAOYSA-N\n",
       "1     DB09130   F5  RYGMFSIKBFXOCR-UHFFFAOYSA-N\n",
       "2     DB09130  ALB  RYGMFSIKBFXOCR-UHFFFAOYSA-N"
      ]
     },
     "execution_count": 16,
     "metadata": {},
     "output_type": "execute_result"
    }
   ],
   "source": [
    "df_carrier.head(3)"
   ]
  },
  {
   "cell_type": "code",
   "execution_count": 17,
   "metadata": {},
   "outputs": [],
   "source": [
    "# Creating list of gene names and drug IDs #\n",
    "genes = df_carrier['Gene'].tolist()\n",
    "drugs = df_carrier['Standard InChI Key'].tolist()"
   ]
  },
  {
   "cell_type": "markdown",
   "metadata": {},
   "source": [
    "### Creating drugsetlibrary and exporting"
   ]
  },
  {
   "cell_type": "code",
   "execution_count": 18,
   "metadata": {},
   "outputs": [],
   "source": [
    "# The input file contains duplicate protein ids matched to unique Drugbank accession numbers #\n",
    "# Tupelizing protein ids and drugbank accession numbers and grouping all corresponding drugbank accession numbers under one common dictionary key #\n",
    "\n",
    "id_dict = tuple(zip(genes, drugs))\n",
    "\n",
    "drugsetlibrary = defaultdict(list)\n",
    "for k, v in id_dict:\n",
    "    drugsetlibrary[k].append(v)"
   ]
  },
  {
   "cell_type": "code",
   "execution_count": 19,
   "metadata": {},
   "outputs": [],
   "source": [
    "# Removing all terms paired with less than 5 drugs #\n",
    "drugsetlibrary = {k:list(set(v)) for k,v in drugsetlibrary.items() if len(set(v))>=5}"
   ]
  },
  {
   "cell_type": "code",
   "execution_count": 20,
   "metadata": {},
   "outputs": [],
   "source": [
    "os.chdir('../../../data/Drugbank')"
   ]
  },
  {
   "cell_type": "code",
   "execution_count": 21,
   "metadata": {},
   "outputs": [],
   "source": [
    "gmt_formatter(drugsetlibrary, 'Drugbank_smallmolecule_carrier_drugsetlibrary.gmt')"
   ]
  },
  {
   "cell_type": "markdown",
   "metadata": {},
   "source": [
    "### Library counts"
   ]
  },
  {
   "cell_type": "code",
   "execution_count": 22,
   "metadata": {},
   "outputs": [
    {
     "name": "stdout",
     "output_type": "stream",
     "text": [
      "458 unique drugs\n",
      "14 unique association terms\n",
      "627 unique associations\n",
      "44.785714285714285 average drugs per term\n"
     ]
    }
   ],
   "source": [
    "library_counts(drugsetlibrary)"
   ]
  }
 ],
 "metadata": {
  "kernelspec": {
   "display_name": "Python 3",
   "language": "python",
   "name": "python3"
  },
  "language_info": {
   "codemirror_mode": {
    "name": "ipython",
    "version": 3
   },
   "file_extension": ".py",
   "mimetype": "text/x-python",
   "name": "python",
   "nbconvert_exporter": "python",
   "pygments_lexer": "ipython3",
   "version": "3.6.5"
  }
 },
 "nbformat": 4,
 "nbformat_minor": 2
}
