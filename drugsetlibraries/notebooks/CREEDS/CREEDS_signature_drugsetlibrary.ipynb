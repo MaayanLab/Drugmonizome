{
 "cells": [
  {
   "cell_type": "markdown",
   "metadata": {},
   "source": [
    "## CREEDS Signatures Drug-Set Library\n",
    "### Drug-set labels: Genes\n",
    "#### ALL DATABASES ACCESSED 03/01/20\n",
    "##### Author : Eryk Kropiwnicki | eryk.kropiwnicki@icahn.mssm.edu"
   ]
  },
  {
   "cell_type": "code",
   "execution_count": 1,
   "metadata": {},
   "outputs": [],
   "source": [
    "import os\n",
    "import csv\n",
    "import json\n",
    "import pandas as pd\n",
    "from collections import defaultdict"
   ]
  },
  {
   "cell_type": "code",
   "execution_count": 2,
   "metadata": {},
   "outputs": [],
   "source": [
    "os.chdir('../../scripts')\n",
    "from export_script import *\n",
    "from gene_resolver import *\n",
    "os.chdir('../notebooks/CREEDS')"
   ]
  },
  {
   "cell_type": "markdown",
   "metadata": {},
   "source": [
    "### Import CREEDS data in json format\n",
    "#### Source : https://amp.pharm.mssm.edu/CREEDS/#downloads"
   ]
  },
  {
   "cell_type": "code",
   "execution_count": 3,
   "metadata": {},
   "outputs": [],
   "source": [
    "with open('input/single_drug_perturbations-v1.0.json', 'r') as f:\n",
    "    data = json.load(f)"
   ]
  },
  {
   "cell_type": "code",
   "execution_count": 4,
   "metadata": {},
   "outputs": [
    {
     "data": {
      "text/plain": [
       "dict_keys(['smiles', 'cell_type', 'pert_ids', 'platform', 'drugbank_id', 'curator', 'geo_id', 'pubchem_cid', 'drug_name', 'version', 'ctrl_ids', 'down_genes', 'up_genes', 'organism', 'id'])"
      ]
     },
     "execution_count": 4,
     "metadata": {},
     "output_type": "execute_result"
    }
   ],
   "source": [
    "data[0].keys()"
   ]
  },
  {
   "cell_type": "code",
   "execution_count": 5,
   "metadata": {},
   "outputs": [
    {
     "data": {
      "text/plain": [
       "{'smiles': 'C1=C(C(=O)NC(=O)N1)F',\n",
       " 'cell_type': 'Bone marrow Sca+ SP hematopoeitic stem cells (HSC) - 10 Day',\n",
       " 'pert_ids': ['GSM26744', 'GSM26745'],\n",
       " 'platform': 'GPL81',\n",
       " 'drugbank_id': 'DB00544',\n",
       " 'curator': 'cadimo',\n",
       " 'geo_id': 'GSE1559',\n",
       " 'pubchem_cid': 3385,\n",
       " 'drug_name': 'Fluorouracil',\n",
       " 'version': '1.0',\n",
       " 'ctrl_ids': ['GSM26734', 'GSM26735'],\n",
       " 'down_genes': [['Hmgn1', -0.17981423437595367],\n",
       "  ['Gm10260', -0.14166636765003204],\n",
       "  ['Npm1', -0.13669142127037048],\n",
       "  ['Fosb', -0.1250605285167694],\n",
       "  ['Gnb2l1', -0.12024638056755066],\n",
       "  ['Jund', -0.10381214320659637],\n",
       "  ['Ldha', -0.09215717762708664],\n",
       "  ['Eif4a2', -0.09049281477928162],\n",
       "  ['Igkv6-23', -0.08969537913799286],\n",
       "  ['Ccnd2', -0.08510024100542068],\n",
       "  ['Saraf', -0.08052777498960495],\n",
       "  ['Cd164', -0.07728368788957596],\n",
       "  ['AU020206', -0.07690908014774323],\n",
       "  ['Gm6793', -0.0701846107840538],\n",
       "  ['Ptma', -0.06753632426261902],\n",
       "  ['Serpina3g', -0.06303614377975464],\n",
       "  ['Ctnnb1', -0.06275594234466553],\n",
       "  ['Hspa9', -0.062107060104608536],\n",
       "  ['Ncl', -0.060621701180934906],\n",
       "  ['Gabarapl1', -0.05933355540037155],\n",
       "  ['Atp5a1', -0.05774950236082077],\n",
       "  ['Laptm4a', -0.05768873170018196],\n",
       "  ['Eef1a1', -0.05740978941321373],\n",
       "  ['Cd24a', -0.05661831051111221],\n",
       "  ['Rbbp7', -0.05167693272233009],\n",
       "  ['Pgk1', -0.051127053797245026],\n",
       "  ['Rpl6', -0.050143275409936905],\n",
       "  ['Wdr92', -0.049693748354911804],\n",
       "  ['Sptssa', -0.049358390271663666],\n",
       "  ['Hnrnpm', -0.04853145405650139],\n",
       "  ['Pum2', -0.0479293093085289],\n",
       "  ['Ppia', -0.04668370634317398],\n",
       "  ['Cd93', -0.04581252485513687],\n",
       "  ['Cct4', -0.044546984136104584],\n",
       "  ['Park7', -0.043298494070768356],\n",
       "  ['Gnai3', -0.042542047798633575],\n",
       "  ['H2-D1', -0.041550397872924805],\n",
       "  ['Pdha1', -0.04145074635744095],\n",
       "  ['Gtf2b', -0.04139845445752144],\n",
       "  ['Gm7367', -0.041331697255373],\n",
       "  ['Slc39a7', -0.041033245623111725],\n",
       "  ['Dhx9', -0.04079961031675339],\n",
       "  ['Tuba1b', -0.03999818116426468],\n",
       "  ['R3hdm1', -0.038771022111177444],\n",
       "  ['Rgs2', -0.03854523226618767],\n",
       "  ['Rpl8', -0.03717367723584175],\n",
       "  ['Tsc22d1', -0.03709498792886734],\n",
       "  ['Srsf2', -0.036761924624443054],\n",
       "  ['Plp2', -0.03673473373055458],\n",
       "  ['Socs2', -0.036646343767642975],\n",
       "  ['Bmi1', -0.036445051431655884],\n",
       "  ['Glrx3', -0.03629818186163902],\n",
       "  ['H2-K2', -0.035629305988550186],\n",
       "  ['Tbl1xr1', -0.03556510806083679],\n",
       "  ['Hspa5', -0.03555532172322273],\n",
       "  ['Arf1', -0.03532512113451958],\n",
       "  ['Atp5j', -0.035192567855119705],\n",
       "  ['Sumo3', -0.03517566993832588],\n",
       "  ['Zfand5', -0.03502270579338074],\n",
       "  ['Txn1', -0.03326527774333954],\n",
       "  ['Mcl1', -0.033099208027124405],\n",
       "  ['H3f3b', -0.03292763605713844],\n",
       "  ['Eef2', -0.03278762102127075],\n",
       "  ['Smarcc1', -0.0327836349606514],\n",
       "  ['Dusp1', -0.03197033330798149],\n",
       "  ['Sumo1', -0.031839825212955475],\n",
       "  ['Ubp1', -0.03138761967420578],\n",
       "  ['Cbfb', -0.031285449862480164],\n",
       "  ['Rbm8a', -0.031130339950323105],\n",
       "  ['Car2', -0.030882112681865692],\n",
       "  ['Ctdsp2', -0.03038480319082737],\n",
       "  ['Ptprs', -0.030013468116521835],\n",
       "  ['Wsb1', -0.029563892632722855],\n",
       "  ['Rac1', -0.029539447277784348],\n",
       "  ['Rpl28', -0.02941998466849327],\n",
       "  ['1110008F13Rik', -0.029407432302832603],\n",
       "  ['Nhp2', -0.029337916523218155],\n",
       "  ['Ski', -0.029260633513331413],\n",
       "  ['Lats2', -0.028955215588212013],\n",
       "  ['Rbm3', -0.028723634779453278],\n",
       "  ['Lrba', -0.028638655319809914],\n",
       "  ['Kmt2e', -0.028249293565750122],\n",
       "  ['Fam120a', -0.027979841455817223],\n",
       "  ['Polr2m', -0.027961425483226776],\n",
       "  ['Sun2', -0.027878060936927795],\n",
       "  ['Smad1', -0.027094585821032524],\n",
       "  ['Tmem123', -0.027037320658564568],\n",
       "  ['Prkar1a', -0.02697714790701866],\n",
       "  ['Ndfip1', -0.026941722258925438],\n",
       "  ['Dnaja1', -0.02690478041768074],\n",
       "  ['Psat1', -0.026514997705817223],\n",
       "  ['Ewsr1', -0.026310130953788757],\n",
       "  ['Hnrnph1', -0.026305943727493286],\n",
       "  ['Kctd12', -0.02629878744482994],\n",
       "  ['Prpf6', -0.02623290754854679],\n",
       "  ['Ctbp1', -0.026164360344409943],\n",
       "  ['Fth1', -0.026079533621668816],\n",
       "  ['Zfp36l1', -0.025776555761694908],\n",
       "  ['Tuba1c', -0.025710344314575195],\n",
       "  ['Uqcrh', -0.02525312453508377],\n",
       "  ['Hprt', -0.02521546371281147],\n",
       "  ['Actg1', -0.024914320558309555],\n",
       "  ['Cks2', -0.024796079844236374],\n",
       "  ['Dstn', -0.02476910874247551],\n",
       "  ['Gm15421', -0.024720298126339912],\n",
       "  ['B230308N11Rik', -0.024671465158462524],\n",
       "  ['Nek7', -0.024572845548391342],\n",
       "  ['Cdc42', -0.024447374045848846],\n",
       "  ['Snx3', -0.024251488968729973],\n",
       "  ['Rnf141', -0.023721812292933464],\n",
       "  ['Slc12a2', -0.02364823780953884],\n",
       "  ['Scd2', -0.02344747819006443],\n",
       "  ['Inppl1', -0.023269139230251312],\n",
       "  ['Tnpo2', -0.02308746986091137],\n",
       "  ['Numa1', -0.023063266649842262],\n",
       "  ['Arf4', -0.023054948076605797],\n",
       "  ['App', -0.022919312119483948],\n",
       "  ['Spata13', -0.02269512042403221],\n",
       "  ['Ran', -0.022618459537625313],\n",
       "  ['Actr3', -0.022463422268629074],\n",
       "  ['Elovl5', -0.02244507521390915],\n",
       "  ['Slc25a4', -0.022373108193278313],\n",
       "  ['Max', -0.022213133051991463],\n",
       "  ['Dnajc8', -0.022131221368908882],\n",
       "  ['Hmgb3', -0.022099584341049194],\n",
       "  ['Tro', -0.02179868519306183],\n",
       "  ['Fbl', -0.021651260554790497],\n",
       "  ['Aldh2', -0.021636545658111572],\n",
       "  ['Impdh2', -0.021572912111878395],\n",
       "  ['Csnk1a1', -0.02155883051455021],\n",
       "  ['Pcna', -0.021512707695364952],\n",
       "  ['Rasl2-9', -0.021412791684269905],\n",
       "  ['6430706D22Rik', -0.021400166675448418],\n",
       "  ['Gm19558', -0.021365445107221603],\n",
       "  ['Rpia', -0.02135871723294258],\n",
       "  ['Gsk3a', -0.021241456270217896],\n",
       "  ['Psma6', -0.02117007039487362],\n",
       "  ['Ddx5', -0.020930897444486618],\n",
       "  ['Shisa5', -0.020902343094348907],\n",
       "  ['Tpi1', -0.02075999230146408],\n",
       "  ['Lmo2', -0.02058156207203865],\n",
       "  ['Pnp', -0.0205460824072361],\n",
       "  ['Sgk1', -0.020498601719737053],\n",
       "  ['Isoc1', -0.020463868975639343],\n",
       "  ['Rasd1', -0.020366733893752098],\n",
       "  ['Nfkb1', -0.020022379234433174],\n",
       "  ['Lrrc58', -0.019903065636754036],\n",
       "  ['Ddx39b', -0.019892361015081406],\n",
       "  ['Dek', -0.01985931396484375],\n",
       "  ['Anxa5', -0.019763343036174774],\n",
       "  ['Eif1', -0.019758522510528564],\n",
       "  ['Itsn1', -0.019600868225097656],\n",
       "  ['Cd47', -0.019547687843441963],\n",
       "  ['Ptp4a2', -0.019438613206148148],\n",
       "  ['Trnt1', -0.019381623715162277],\n",
       "  ['Nhp2l1', -0.01936161331832409],\n",
       "  ['Pcyox1', -0.019348876550793648],\n",
       "  ['Hnrnpr', -0.019342321902513504],\n",
       "  ['Hnrnph3', -0.019341547042131424],\n",
       "  ['Basp1', -0.019255736842751503],\n",
       "  ['Plscr1', -0.01900416612625122],\n",
       "  ['Add1', -0.018796291202306747],\n",
       "  ['Klf6', -0.018781989812850952],\n",
       "  ['Pdk1', -0.018425988033413887],\n",
       "  ['Smarca2', -0.018268339335918427],\n",
       "  ['Cmpk1', -0.018255582079291344],\n",
       "  ['Crip1', -0.01809314265847206],\n",
       "  ['Prdx1', -0.018033480271697044],\n",
       "  ['Dynll2', -0.017873873934149742],\n",
       "  ['Vbp1', -0.0177613478153944],\n",
       "  ['Pfdn2', -0.01774231716990471],\n",
       "  ['Rtn4', -0.017521793022751808],\n",
       "  ['Plk2', -0.017439644783735275],\n",
       "  ['Nup62', -0.017431611195206642],\n",
       "  ['Gdi1', -0.017334211617708206],\n",
       "  ['Fnta', -0.017196863889694214],\n",
       "  ['Rab24', -0.017186298966407776],\n",
       "  ['Pfdn6', -0.017109889537096024],\n",
       "  ['Zwint', -0.017106836661696434],\n",
       "  ['B2m', -0.016900550574064255],\n",
       "  ['Pdrg1', -0.01681448146700859],\n",
       "  ['Rabggtb', -0.016447894275188446],\n",
       "  ['Capza1', -0.0164303220808506],\n",
       "  ['Ptp4a1', -0.01639620028436184],\n",
       "  ['Ilf3', -0.016391733661293983],\n",
       "  ['Rab5a', -0.016390742734074593],\n",
       "  ['Jun', -0.016342768445611],\n",
       "  ['Tagln2', -0.016341719776391983],\n",
       "  ['Nras', -0.01620922051370144],\n",
       "  ['Bcap31', -0.01597248762845993],\n",
       "  ['Il10rb', -0.015947332605719566],\n",
       "  ['Cdkn1c', -0.015874192118644714],\n",
       "  ['Itm2b', -0.015809444710612297],\n",
       "  ['Prps1', -0.01579209417104721],\n",
       "  ['Cited2', -0.015742549672722816],\n",
       "  ['Zfp598', -0.015668056905269623],\n",
       "  ['Lamp1', -0.015616999939084053],\n",
       "  ['Zfp36', -0.015334302559494972],\n",
       "  ['Hnrnpk', -0.015301219187676907],\n",
       "  ['Jtb', -0.015274891629815102],\n",
       "  ['Ywhah', -0.015126929618418217],\n",
       "  ['Mat2a', -0.01503841858357191],\n",
       "  ['Bpgm', -0.015016469173133373],\n",
       "  ['Ctsl', -0.014940844848752022],\n",
       "  ['Ncor1', -0.014904153533279896],\n",
       "  ['Degs1', -0.014899100176990032],\n",
       "  ['Srsf5', -0.014883620664477348],\n",
       "  ['Slc20a1', -0.014879134483635426],\n",
       "  ['Gga2', -0.014872833155095577],\n",
       "  ['Cript', -0.014737498946487904],\n",
       "  ['Trim28', -0.014720465987920761],\n",
       "  ['Gtf2i', -0.014716386795043945],\n",
       "  ['Pcbp1', -0.014703827910125256],\n",
       "  ['Irgm2', -0.014702878892421722],\n",
       "  ['Zfp871', -0.014678643085062504],\n",
       "  ['Stab1', -0.01455777045339346],\n",
       "  ['Vamp5', -0.014527707360684872],\n",
       "  ['Arfgap2', -0.014466265216469765],\n",
       "  ['Ppp1r15b', -0.01435158308595419],\n",
       "  ['Cbx6', -0.01434045284986496],\n",
       "  ['Mapk6', -0.014330128207802773],\n",
       "  ['Cnot1', -0.014289586804807186],\n",
       "  ['Eif2s3x', -0.014283529482781887],\n",
       "  ['Ndufa9', -0.01427460927516222],\n",
       "  ['Gm16409', -0.01414212491363287],\n",
       "  ['Tuba1a', -0.014104923233389854],\n",
       "  ['Amfr', -0.014103684574365616],\n",
       "  ['Ppp2r5c', -0.01410163938999176],\n",
       "  ['Ctss', -0.01408781111240387],\n",
       "  ['Tra2b', -0.014069239608943462],\n",
       "  ['Fam107b', -0.013996564783155918],\n",
       "  ['Il17ra', -0.013864707201719284],\n",
       "  ['H2-T9', -0.013840649276971817],\n",
       "  ['Sec61a2', -0.013768048956990242],\n",
       "  ['Myef2', -0.013722018338739872],\n",
       "  ['Nucb1', -0.013621208257973194],\n",
       "  ['Polr2g', -0.013583273626863956],\n",
       "  ['Ahnak', -0.013531134463846684],\n",
       "  ['Pgam1', -0.013521771878004074],\n",
       "  ['Fam171a1', -0.013474652543663979],\n",
       "  ['Hspd1', -0.013428247533738613],\n",
       "  ['Srp9', -0.013396411202847958],\n",
       "  ['Crem', -0.013358491472899914],\n",
       "  ['Lsm7', -0.013352405279874802],\n",
       "  ['Pkp4', -0.013239667750895023],\n",
       "  ['Ubap2', -0.01316441036760807],\n",
       "  ['Dennd5a', -0.013154028914868832],\n",
       "  ['H2afz', -0.013056796044111252],\n",
       "  ['Armcx2', -0.013009731657803059],\n",
       "  ['Capn7', -0.01294921524822712],\n",
       "  ['Plekhb2', -0.01288733258843422],\n",
       "  ['Cpt1a', -0.012763962149620056],\n",
       "  ['Ndufs2', -0.012598425149917603],\n",
       "  ['Hmgn5', -0.012544102966785431],\n",
       "  ['Odc1', -0.012499258853495121],\n",
       "  ['Maea', -0.012475277297198772],\n",
       "  ['Esd', -0.012426884844899178],\n",
       "  ['Anxa4', -0.012318816035985947],\n",
       "  ['Arl6ip1', -0.012302873656153679],\n",
       "  ['Qdpr', -0.012238636612892151],\n",
       "  ['Fam98a', -0.012215624563395977],\n",
       "  ['Prdx4', -0.012140483595430851],\n",
       "  ['Isca1', -0.012085497379302979],\n",
       "  ['Chrnb1', -0.012063453905284405],\n",
       "  ['Adh5', -0.012024267576634884],\n",
       "  ['Ppp2cb', -0.011982223950326443],\n",
       "  ['Ppp1cc', -0.011975625529885292],\n",
       "  ['Rdx', -0.011955641210079193],\n",
       "  ['Zfand6', -0.0119400424"
      ]
     },
     "execution_count": 5,
     "metadata": {},
     "output_type": "execute_result"
    },
    {
     "data": {
      "text/html": [
       "<b>limit_output extension: Maximum message size of 10000 exceeded with 21699 characters</b>"
      ]
     },
     "metadata": {},
     "output_type": "display_data"
    }
   ],
   "source": [
    "data[0]"
   ]
  },
  {
   "cell_type": "markdown",
   "metadata": {},
   "source": [
    "### Generate up/down drug-set libraries"
   ]
  },
  {
   "cell_type": "code",
   "execution_count": 12,
   "metadata": {},
   "outputs": [],
   "source": [
    "# Import Drugbank mapping file\n",
    "drugbank_mapping = pd.read_csv('../../metadata/drugmonizome_metadata.tsv', sep = '\\t', usecols = ['DrugBank ID',\n",
    "                                                                                                 'Standard InChI Key'])\n",
    "drugbank_mapping = drugbank_mapping.rename(columns = {'DrugBank ID': 'drugbank_id'})"
   ]
  },
  {
   "cell_type": "code",
   "execution_count": 13,
   "metadata": {},
   "outputs": [
    {
     "data": {
      "text/html": [
       "<div>\n",
       "<style scoped>\n",
       "    .dataframe tbody tr th:only-of-type {\n",
       "        vertical-align: middle;\n",
       "    }\n",
       "\n",
       "    .dataframe tbody tr th {\n",
       "        vertical-align: top;\n",
       "    }\n",
       "\n",
       "    .dataframe thead th {\n",
       "        text-align: right;\n",
       "    }\n",
       "</style>\n",
       "<table border=\"1\" class=\"dataframe\">\n",
       "  <thead>\n",
       "    <tr style=\"text-align: right;\">\n",
       "      <th></th>\n",
       "      <th>drugbank_id</th>\n",
       "      <th>Standard InChI Key</th>\n",
       "    </tr>\n",
       "  </thead>\n",
       "  <tbody>\n",
       "    <tr>\n",
       "      <th>0</th>\n",
       "      <td>DB00006</td>\n",
       "      <td>OIRCOABEOLEUMC-GEJPAHFPSA-N</td>\n",
       "    </tr>\n",
       "    <tr>\n",
       "      <th>1</th>\n",
       "      <td>DB00007</td>\n",
       "      <td>GFIJNRVAKGFPGQ-LIJARHBVSA-N</td>\n",
       "    </tr>\n",
       "    <tr>\n",
       "      <th>2</th>\n",
       "      <td>DB00014</td>\n",
       "      <td>BLCLNMBMMGCOAS-URPVMXJPSA-N</td>\n",
       "    </tr>\n",
       "    <tr>\n",
       "      <th>3</th>\n",
       "      <td>DB00027</td>\n",
       "      <td>NDAYQJDHGXTBJL-MWWSRJDJSA-N</td>\n",
       "    </tr>\n",
       "    <tr>\n",
       "      <th>4</th>\n",
       "      <td>DB00035</td>\n",
       "      <td>NFLWUMRGJYTJIN-PNIOQBSNSA-N</td>\n",
       "    </tr>\n",
       "  </tbody>\n",
       "</table>\n",
       "</div>"
      ],
      "text/plain": [
       "  drugbank_id           Standard InChI Key\n",
       "0     DB00006  OIRCOABEOLEUMC-GEJPAHFPSA-N\n",
       "1     DB00007  GFIJNRVAKGFPGQ-LIJARHBVSA-N\n",
       "2     DB00014  BLCLNMBMMGCOAS-URPVMXJPSA-N\n",
       "3     DB00027  NDAYQJDHGXTBJL-MWWSRJDJSA-N\n",
       "4     DB00035  NFLWUMRGJYTJIN-PNIOQBSNSA-N"
      ]
     },
     "execution_count": 13,
     "metadata": {},
     "output_type": "execute_result"
    }
   ],
   "source": [
    "drugbank_mapping.head()"
   ]
  },
  {
   "cell_type": "code",
   "execution_count": 14,
   "metadata": {},
   "outputs": [],
   "source": [
    "# In this function specify organism and up/down gene list from CREEDS json data dump\n",
    "\n",
    "def libraryGenerator(data, organism = 'human', gene_specification = 'down_genes'):\n",
    "    edgelist = []\n",
    "\n",
    "    for entry in data:\n",
    "        drug = entry['drugbank_id']\n",
    "        if entry['organism'] == organism: # specify organism type\n",
    "            gene_list = []\n",
    "            drugbank_list = []\n",
    "            for gene in entry[gene_specification]: # specify up_genes or down_genes\n",
    "                gene_list.append(gene[0])\n",
    "                drugbank_list.append(drug)\n",
    "            edgelist.extend(zip(drugbank_list,gene_list)) # create edgelist of drug-gene interactions\n",
    "            \n",
    "    df = pd.DataFrame(data = edgelist, columns = ['drugbank_id','gene']) # create df of drug-gene edge list\n",
    "    \n",
    "    gene_resolver(df, columnName = 'gene') # resolve CREEDS gene names to approved symbols\n",
    "    \n",
    "    df = df.merge(drugbank_mapping)\n",
    "    \n",
    "    id_list = tuple(zip(df['Approved Symbol'].tolist(),df['Standard InChI Key'].tolist()))\n",
    "    \n",
    "    drugsetlibrary = defaultdict(list)\n",
    "    for k,v in id_list:\n",
    "        drugsetlibrary[k].append(v)\n",
    "    \n",
    "    drugsetlibrary = {k:list(set(v)) for k,v in drugsetlibrary.items() if len(set(v)) >= 5} # removing sets < 5\n",
    "    \n",
    "    \n",
    "    return drugsetlibrary"
   ]
  },
  {
   "cell_type": "markdown",
   "metadata": {},
   "source": [
    "#### Downregulated genes"
   ]
  },
  {
   "cell_type": "code",
   "execution_count": 15,
   "metadata": {},
   "outputs": [],
   "source": [
    "drugsetlibrary_down = libraryGenerator(data,organism = 'human',gene_specification = 'down_genes')"
   ]
  },
  {
   "cell_type": "code",
   "execution_count": 16,
   "metadata": {},
   "outputs": [
    {
     "name": "stdout",
     "output_type": "stream",
     "text": [
      "72 unique drugs\n",
      "2532 unique association terms\n",
      "29782 unique associations\n",
      "11.762243285939968 average drugs per term\n"
     ]
    }
   ],
   "source": [
    "library_counts(drugsetlibrary_down)"
   ]
  },
  {
   "cell_type": "code",
   "execution_count": 17,
   "metadata": {},
   "outputs": [],
   "source": [
    "gmt_formatter(drugsetlibrary_down, '../../data/CREEDS/CREEDS_human_drugsetlibrary_down.gmt')"
   ]
  },
  {
   "cell_type": "markdown",
   "metadata": {},
   "source": [
    "#### Upregulated genes"
   ]
  },
  {
   "cell_type": "code",
   "execution_count": 18,
   "metadata": {},
   "outputs": [],
   "source": [
    "drugsetlibrary_up = libraryGenerator(data, organism = 'human', gene_specification = 'up_genes')"
   ]
  },
  {
   "cell_type": "code",
   "execution_count": 19,
   "metadata": {},
   "outputs": [
    {
     "name": "stdout",
     "output_type": "stream",
     "text": [
      "71 unique drugs\n",
      "2535 unique association terms\n",
      "29603 unique associations\n",
      "11.677712031558185 average drugs per term\n"
     ]
    }
   ],
   "source": [
    "library_counts(drugsetlibrary_up)"
   ]
  },
  {
   "cell_type": "code",
   "execution_count": 20,
   "metadata": {},
   "outputs": [],
   "source": [
    "gmt_formatter(drugsetlibrary_up, '../../data/CREEDS/CREEDS_human_drugsetlibrary_up.gmt')"
   ]
  }
 ],
 "metadata": {
  "kernelspec": {
   "display_name": "Python 3",
   "language": "python",
   "name": "python3"
  },
  "language_info": {
   "codemirror_mode": {
    "name": "ipython",
    "version": 3
   },
   "file_extension": ".py",
   "mimetype": "text/x-python",
   "name": "python",
   "nbconvert_exporter": "python",
   "pygments_lexer": "ipython3",
   "version": "3.6.5"
  }
 },
 "nbformat": 4,
 "nbformat_minor": 2
}
