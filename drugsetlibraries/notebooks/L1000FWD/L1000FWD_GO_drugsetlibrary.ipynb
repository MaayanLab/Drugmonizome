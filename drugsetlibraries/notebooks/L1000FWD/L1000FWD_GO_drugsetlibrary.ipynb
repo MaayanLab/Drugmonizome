{
 "cells": [
  {
   "cell_type": "markdown",
   "metadata": {},
   "source": [
    "## L1000FWD GO Terms Drug-Set Libraries\n",
    "#### Drug-Set Labels : GO Terms\n",
    "#### ALL DATABASES ACCESSED 11/2019\n",
    "##### Author : Eryk Kropiwnicki | eryk.kropiwnicki@icahn.mssm.edu"
   ]
  },
  {
   "cell_type": "code",
   "execution_count": 1,
   "metadata": {},
   "outputs": [],
   "source": [
    "import json\n",
    "import pandas as pd\n",
    "import requests\n",
    "import time\n",
    "from collections import defaultdict\n",
    "import csv\n",
    "import os"
   ]
  },
  {
   "cell_type": "code",
   "execution_count": 2,
   "metadata": {},
   "outputs": [],
   "source": [
    "os.chdir('../../scripts')\n",
    "from export_script import *\n",
    "os.chdir('../notebooks/L1000FWD')"
   ]
  },
  {
   "cell_type": "markdown",
   "metadata": {},
   "source": [
    "### Importing pert_ids matched to EnrichrIDs, and matching pert_id to InChI Key\n",
    "#### Input Files : EnrichrIDs_downregulated.tsv | EnrichrIDs_upregulated.tsv"
   ]
  },
  {
   "cell_type": "code",
   "execution_count": 3,
   "metadata": {},
   "outputs": [],
   "source": [
    "inchi_lookup = pd.read_csv('input/pert_id_inchi.tsv', sep = '\\t')"
   ]
  },
  {
   "cell_type": "code",
   "execution_count": 4,
   "metadata": {},
   "outputs": [
    {
     "data": {
      "text/html": [
       "<div>\n",
       "<style scoped>\n",
       "    .dataframe tbody tr th:only-of-type {\n",
       "        vertical-align: middle;\n",
       "    }\n",
       "\n",
       "    .dataframe tbody tr th {\n",
       "        vertical-align: top;\n",
       "    }\n",
       "\n",
       "    .dataframe thead th {\n",
       "        text-align: right;\n",
       "    }\n",
       "</style>\n",
       "<table border=\"1\" class=\"dataframe\">\n",
       "  <thead>\n",
       "    <tr style=\"text-align: right;\">\n",
       "      <th></th>\n",
       "      <th>pert_id</th>\n",
       "      <th>inchi_key</th>\n",
       "    </tr>\n",
       "  </thead>\n",
       "  <tbody>\n",
       "    <tr>\n",
       "      <th>0</th>\n",
       "      <td>BRD-A00546892</td>\n",
       "      <td>YSXKPIUOCJLQIE-UHFFFAOYSA-N</td>\n",
       "    </tr>\n",
       "    <tr>\n",
       "      <th>1</th>\n",
       "      <td>BRD-A00993607</td>\n",
       "      <td>PAZJSJFMUHDSTF-UHFFFAOYSA-N</td>\n",
       "    </tr>\n",
       "    <tr>\n",
       "      <th>2</th>\n",
       "      <td>BRD-A01320529</td>\n",
       "      <td>GIIZNNXWQWCKIB-UHFFFAOYSA-N</td>\n",
       "    </tr>\n",
       "    <tr>\n",
       "      <th>3</th>\n",
       "      <td>BRD-A01787639</td>\n",
       "      <td>HRRBJVNMSRJFHQ-UHFFFAOYSA-N</td>\n",
       "    </tr>\n",
       "    <tr>\n",
       "      <th>4</th>\n",
       "      <td>BRD-A01826957</td>\n",
       "      <td>DSFGXPJYDCSWTA-UHFFFAOYSA-N</td>\n",
       "    </tr>\n",
       "  </tbody>\n",
       "</table>\n",
       "</div>"
      ],
      "text/plain": [
       "         pert_id                    inchi_key\n",
       "0  BRD-A00546892  YSXKPIUOCJLQIE-UHFFFAOYSA-N\n",
       "1  BRD-A00993607  PAZJSJFMUHDSTF-UHFFFAOYSA-N\n",
       "2  BRD-A01320529  GIIZNNXWQWCKIB-UHFFFAOYSA-N\n",
       "3  BRD-A01787639  HRRBJVNMSRJFHQ-UHFFFAOYSA-N\n",
       "4  BRD-A01826957  DSFGXPJYDCSWTA-UHFFFAOYSA-N"
      ]
     },
     "execution_count": 4,
     "metadata": {},
     "output_type": "execute_result"
    }
   ],
   "source": [
    "inchi_lookup.head()"
   ]
  },
  {
   "cell_type": "code",
   "execution_count": 5,
   "metadata": {},
   "outputs": [],
   "source": [
    "df_up = pd.read_csv('input/EnrichrIDs_upregulated.tsv', delimiter = '\\t')\n",
    "df_up = inchi_lookup.merge(df_up)\n",
    "id_dict_up = df_up.set_index('enrichr_id').to_dict()['inchi_key']"
   ]
  },
  {
   "cell_type": "code",
   "execution_count": 6,
   "metadata": {},
   "outputs": [],
   "source": [
    "df_down = pd.read_csv('input/EnrichrIDs_downregulated.tsv', delimiter = '\\t')\n",
    "df_down = inchi_lookup.merge(df_down)\n",
    "id_dict_down = df_down.set_index('enrichr_id').to_dict()['inchi_key']"
   ]
  },
  {
   "cell_type": "code",
   "execution_count": 7,
   "metadata": {},
   "outputs": [],
   "source": [
    "def enrichr_library_generator(gene_set_library, dictionary, p_value_cutoff = 0.01):\n",
    "    '''\n",
    "    Queries an EnrichrID and retrieves most enriched terms from specificed geneset library\n",
    "\n",
    "    Parameters:\n",
    "    gene_set_library (str): Specify the Enrichr library to pull enriched terms from\n",
    "    dictionary (dict): Dictionary of terms (e.g. drugs) associated with an EnrichrID (and in effect, a genelist/signature)\n",
    "\n",
    "    Returns:\n",
    "    drugsetlibrary (dict): dictionary of Enrichr terms matched to sets of drugs signficantly associated with the term\n",
    "\n",
    "    '''\n",
    "    \n",
    "    #################################################################\n",
    "    ### Querying up/downregulated drug/gene lists through Enrichr ###\n",
    "    #################################################################\n",
    "    \n",
    "    enrichr_url = 'http://amp.pharm.mssm.edu/Enrichr/enrich'\n",
    "    query_string = '?userListId=%s&backgroundType=%s'\n",
    "\n",
    "    drug_list = []\n",
    "    term_list = []\n",
    "\n",
    "    for user_id, drug in dictionary.items():\n",
    "        response = requests.get(enrichr_url + query_string % (user_id, gene_set_library))\n",
    "        try:\n",
    "            response.json()\n",
    "        except ValueError:\n",
    "            continue\n",
    "        data = response.json()\n",
    "        time.sleep(0.5)\n",
    "        # Replacing JSON key with drug name for easier data manipulation later #\n",
    "        data[drug] = data.pop(gene_set_library)\n",
    "        # Accessing each branch of json tree\n",
    "        for k,v in data.items():\n",
    "            for lists in v:\n",
    "                if (lists[6]) < p_value_cutoff: # using a p value of 0.01 as a strict threshold\n",
    "                    drug_list.append(k)\n",
    "                    term_list.append(lists[1])\n",
    "    \n",
    "\n",
    "    ####################################\n",
    "    ### Creating Drug-set library ###\n",
    "    ####################################\n",
    "\n",
    "    # Creating two tupelized lists in a dictionary format #\n",
    "    drug_dict = tuple(zip(term_list,drug_list))\n",
    "    # Creating a dictionary where a list of values are matched under their corresponding key #\n",
    "    drugsetlibrary = defaultdict(list)\n",
    "    for k,v in drug_dict:\n",
    "        drugsetlibrary[k].append(v)\n",
    "\n",
    "    # Removing all terms paired with less than 5 drugs #\n",
    "    drugsetlibrary = {k : list(set(v)) for k,v in drugsetlibrary.items() if len(set(v))>=5}\n",
    "    return drugsetlibrary"
   ]
  },
  {
   "cell_type": "markdown",
   "metadata": {},
   "source": [
    "#### For all drug-term associations I use a p-value cut-off of 0.01"
   ]
  },
  {
   "cell_type": "markdown",
   "metadata": {},
   "source": [
    "### Biological Processes drug-set libraries"
   ]
  },
  {
   "cell_type": "code",
   "execution_count": 8,
   "metadata": {},
   "outputs": [],
   "source": [
    "os.chdir('../../data/L1000FWD')"
   ]
  },
  {
   "cell_type": "code",
   "execution_count": 9,
   "metadata": {},
   "outputs": [],
   "source": [
    "# Upregulated \n",
    "GO_BP_drugsetlibrary_up = enrichr_library_generator('GO_Biological_Process_2018', id_dict_up)"
   ]
  },
  {
   "cell_type": "code",
   "execution_count": 10,
   "metadata": {},
   "outputs": [],
   "source": [
    "# Downregulated \n",
    "GO_BP_drugsetlibrary_down = enrichr_library_generator('GO_Biological_Process_2018', id_dict_down)"
   ]
  },
  {
   "cell_type": "code",
   "execution_count": 11,
   "metadata": {},
   "outputs": [],
   "source": [
    "# Exporting\n",
    "gmt_formatter(GO_BP_drugsetlibrary_up, 'L1000FWD_GO_Biological_Processes_drugsetlibrary_up.txt')\n",
    "gmt_formatter(GO_BP_drugsetlibrary_down, 'L1000FWD_GO_Biological_Processes_drugsetlibrary_down.txt')"
   ]
  },
  {
   "cell_type": "markdown",
   "metadata": {},
   "source": [
    "### Biological Processes Library Counts"
   ]
  },
  {
   "cell_type": "code",
   "execution_count": 12,
   "metadata": {},
   "outputs": [
    {
     "name": "stdout",
     "output_type": "stream",
     "text": [
      "4195 unique drugs\n",
      "1228 unique association terms\n",
      "71261 unique associations\n",
      "58.03013029315961 average drugs per term\n"
     ]
    }
   ],
   "source": [
    "library_counts(GO_BP_drugsetlibrary_up)"
   ]
  },
  {
   "cell_type": "code",
   "execution_count": 13,
   "metadata": {},
   "outputs": [
    {
     "name": "stdout",
     "output_type": "stream",
     "text": [
      "4013 unique drugs\n",
      "1068 unique association terms\n",
      "54525 unique associations\n",
      "51.05337078651685 average drugs per term\n"
     ]
    }
   ],
   "source": [
    "library_counts(GO_BP_drugsetlibrary_down)"
   ]
  },
  {
   "cell_type": "markdown",
   "metadata": {},
   "source": [
    "### Cellular Component drug-set libraries"
   ]
  },
  {
   "cell_type": "code",
   "execution_count": 14,
   "metadata": {},
   "outputs": [],
   "source": [
    "# Upregulated \n",
    "GO_CC_drugsetlibrary_up = enrichr_library_generator('GO_Cellular_Component_2018', id_dict_up)\n",
    "\n",
    "# Downregulated \n",
    "GO_CC_drugsetlibrary_down = enrichr_library_generator('GO_Cellular_Component_2018', id_dict_down)"
   ]
  },
  {
   "cell_type": "code",
   "execution_count": 15,
   "metadata": {},
   "outputs": [],
   "source": [
    "# Exporting\n",
    "gmt_formatter(GO_CC_drugsetlibrary_up, 'L1000FWD_GO_Cellular_Component_drugsetlibrary_up.txt')\n",
    "gmt_formatter(GO_CC_drugsetlibrary_down, 'L1000FWD_GO_Cellular_Component_drugsetlibrary_down.txt')"
   ]
  },
  {
   "cell_type": "markdown",
   "metadata": {},
   "source": [
    "### Cellular Component Library Counts"
   ]
  },
  {
   "cell_type": "code",
   "execution_count": 16,
   "metadata": {},
   "outputs": [
    {
     "name": "stdout",
     "output_type": "stream",
     "text": [
      "3366 unique drugs\n",
      "153 unique association terms\n",
      "15587 unique associations\n",
      "101.87581699346406 average drugs per term\n"
     ]
    }
   ],
   "source": [
    "library_counts(GO_CC_drugsetlibrary_up)"
   ]
  },
  {
   "cell_type": "code",
   "execution_count": 17,
   "metadata": {},
   "outputs": [
    {
     "name": "stdout",
     "output_type": "stream",
     "text": [
      "3246 unique drugs\n",
      "157 unique association terms\n",
      "15830 unique associations\n",
      "100.828025477707 average drugs per term\n"
     ]
    }
   ],
   "source": [
    "library_counts(GO_CC_drugsetlibrary_down)"
   ]
  },
  {
   "cell_type": "markdown",
   "metadata": {},
   "source": [
    "### Molecular Function drug-set libraries"
   ]
  },
  {
   "cell_type": "code",
   "execution_count": 19,
   "metadata": {},
   "outputs": [],
   "source": [
    "# Upregulated \n",
    "GO_MF_drugsetlibrary_up = enrichr_library_generator('GO_Molecular_Function_2018', id_dict_up)\n",
    "\n",
    "# Downregulated \n",
    "GO_MF_drugsetlibrary_down = enrichr_library_generator('GO_Molecular_Function_2018', id_dict_down)"
   ]
  },
  {
   "cell_type": "code",
   "execution_count": 20,
   "metadata": {},
   "outputs": [],
   "source": [
    "# Exporting\n",
    "gmt_formatter(GO_MF_drugsetlibrary_up, 'L1000FWD_GO_Molecular_Function_drugsetlibrary_up.txt')\n",
    "gmt_formatter(GO_MF_drugsetlibrary_down, 'L1000FWD_GO_Molecular_Function_drugsetlibrary_down.txt')"
   ]
  },
  {
   "cell_type": "markdown",
   "metadata": {},
   "source": [
    "### Molecular Function Library Counts"
   ]
  },
  {
   "cell_type": "code",
   "execution_count": 21,
   "metadata": {},
   "outputs": [
    {
     "name": "stdout",
     "output_type": "stream",
     "text": [
      "2427 unique drugs\n",
      "183 unique association terms\n",
      "10389 unique associations\n",
      "56.77049180327869 average drugs per term\n"
     ]
    }
   ],
   "source": [
    "library_counts(GO_MF_drugsetlibrary_up)"
   ]
  },
  {
   "cell_type": "code",
   "execution_count": 22,
   "metadata": {},
   "outputs": [
    {
     "name": "stdout",
     "output_type": "stream",
     "text": [
      "2158 unique drugs\n",
      "158 unique association terms\n",
      "7674 unique associations\n",
      "48.56962025316456 average drugs per term\n"
     ]
    }
   ],
   "source": [
    "library_counts(GO_MF_drugsetlibrary_down)"
   ]
  }
 ],
 "metadata": {
  "kernelspec": {
   "display_name": "Python 3",
   "language": "python",
   "name": "python3"
  },
  "language_info": {
   "codemirror_mode": {
    "name": "ipython",
    "version": 3
   },
   "file_extension": ".py",
   "mimetype": "text/x-python",
   "name": "python",
   "nbconvert_exporter": "python",
   "pygments_lexer": "ipython3",
   "version": "3.6.5"
  }
 },
 "nbformat": 4,
 "nbformat_minor": 2
}
