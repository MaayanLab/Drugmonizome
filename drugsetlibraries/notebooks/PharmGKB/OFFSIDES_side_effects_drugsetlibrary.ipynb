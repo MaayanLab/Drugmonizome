{
 "cells": [
  {
   "cell_type": "markdown",
   "metadata": {},
   "source": [
    "## OFFSIDES Side Effect Drug-Set Library\n",
    "### Drug-set labels: Side Effects\n",
    "#### ALL DATABASES ACCESSED 11/2019\n",
    "##### Author : Eryk Kropiwnicki | eryk.kropiwnicki@icahn.mssm.edu"
   ]
  },
  {
   "cell_type": "code",
   "execution_count": 1,
   "metadata": {},
   "outputs": [],
   "source": [
    "import os \n",
    "import pandas as pd\n",
    "from collections import defaultdict"
   ]
  },
  {
   "cell_type": "code",
   "execution_count": 2,
   "metadata": {},
   "outputs": [],
   "source": [
    "os.chdir('../../scripts')\n",
    "from export_script import *\n",
    "os.chdir('../notebooks/PharmGKB')"
   ]
  },
  {
   "cell_type": "code",
   "execution_count": 3,
   "metadata": {},
   "outputs": [],
   "source": [
    "df_data = pd.read_csv('input/offsides.tsv', sep = '\\t')\n",
    "df_data['event'] = df_data['event'].str.lower()"
   ]
  },
  {
   "cell_type": "code",
   "execution_count": 4,
   "metadata": {},
   "outputs": [],
   "source": [
    "df_data['pubchem_id'] = df_data['stitch_id'].apply(lambda x : int(x[4:]))"
   ]
  },
  {
   "cell_type": "code",
   "execution_count": 5,
   "metadata": {},
   "outputs": [
    {
     "data": {
      "text/html": [
       "<div>\n",
       "<style scoped>\n",
       "    .dataframe tbody tr th:only-of-type {\n",
       "        vertical-align: middle;\n",
       "    }\n",
       "\n",
       "    .dataframe tbody tr th {\n",
       "        vertical-align: top;\n",
       "    }\n",
       "\n",
       "    .dataframe thead th {\n",
       "        text-align: right;\n",
       "    }\n",
       "</style>\n",
       "<table border=\"1\" class=\"dataframe\">\n",
       "  <thead>\n",
       "    <tr style=\"text-align: right;\">\n",
       "      <th></th>\n",
       "      <th>stitch_id</th>\n",
       "      <th>drug</th>\n",
       "      <th>umls_id</th>\n",
       "      <th>event</th>\n",
       "      <th>rr</th>\n",
       "      <th>log2rr</th>\n",
       "      <th>t_statistic</th>\n",
       "      <th>pvalue</th>\n",
       "      <th>observed</th>\n",
       "      <th>expected</th>\n",
       "      <th>bg_correction</th>\n",
       "      <th>sider</th>\n",
       "      <th>future_aers</th>\n",
       "      <th>medeffect</th>\n",
       "      <th>pubchem_id</th>\n",
       "    </tr>\n",
       "  </thead>\n",
       "  <tbody>\n",
       "    <tr>\n",
       "      <th>0</th>\n",
       "      <td>CID000000076</td>\n",
       "      <td>dehydroepiandrosterone</td>\n",
       "      <td>C0000737</td>\n",
       "      <td>abdominal pain</td>\n",
       "      <td>2.250000</td>\n",
       "      <td>1.169925</td>\n",
       "      <td>6.537095</td>\n",
       "      <td>6.156712e-07</td>\n",
       "      <td>9</td>\n",
       "      <td>4.000000</td>\n",
       "      <td>0.002849</td>\n",
       "      <td>0</td>\n",
       "      <td>0</td>\n",
       "      <td>0</td>\n",
       "      <td>76</td>\n",
       "    </tr>\n",
       "    <tr>\n",
       "      <th>1</th>\n",
       "      <td>CID000000076</td>\n",
       "      <td>dehydroepiandrosterone</td>\n",
       "      <td>C0001622</td>\n",
       "      <td>hyperadrenalism</td>\n",
       "      <td>11.000000</td>\n",
       "      <td>3.459432</td>\n",
       "      <td>4.782699</td>\n",
       "      <td>1.644408e-03</td>\n",
       "      <td>2</td>\n",
       "      <td>0.181818</td>\n",
       "      <td>0.000041</td>\n",
       "      <td>0</td>\n",
       "      <td>0</td>\n",
       "      <td>0</td>\n",
       "      <td>76</td>\n",
       "    </tr>\n",
       "    <tr>\n",
       "      <th>2</th>\n",
       "      <td>CID000000076</td>\n",
       "      <td>dehydroepiandrosterone</td>\n",
       "      <td>C0001623</td>\n",
       "      <td>adrenal insufficiency</td>\n",
       "      <td>2.200000</td>\n",
       "      <td>1.137504</td>\n",
       "      <td>4.315199</td>\n",
       "      <td>9.884952e-03</td>\n",
       "      <td>2</td>\n",
       "      <td>0.909091</td>\n",
       "      <td>0.002491</td>\n",
       "      <td>0</td>\n",
       "      <td>0</td>\n",
       "      <td>0</td>\n",
       "      <td>76</td>\n",
       "    </tr>\n",
       "    <tr>\n",
       "      <th>3</th>\n",
       "      <td>CID000000076</td>\n",
       "      <td>dehydroepiandrosterone</td>\n",
       "      <td>C0002792</td>\n",
       "      <td>anaphylactic reaction</td>\n",
       "      <td>2.588235</td>\n",
       "      <td>1.371969</td>\n",
       "      <td>4.590918</td>\n",
       "      <td>3.355380e-03</td>\n",
       "      <td>4</td>\n",
       "      <td>1.545455</td>\n",
       "      <td>0.000503</td>\n",
       "      <td>0</td>\n",
       "      <td>0</td>\n",
       "      <td>0</td>\n",
       "      <td>76</td>\n",
       "    </tr>\n",
       "    <tr>\n",
       "      <th>4</th>\n",
       "      <td>CID000000076</td>\n",
       "      <td>dehydroepiandrosterone</td>\n",
       "      <td>C0002940</td>\n",
       "      <td>aneurysm</td>\n",
       "      <td>7.333333</td>\n",
       "      <td>2.874469</td>\n",
       "      <td>4.598374</td>\n",
       "      <td>3.399457e-03</td>\n",
       "      <td>2</td>\n",
       "      <td>0.272727</td>\n",
       "      <td>0.000135</td>\n",
       "      <td>0</td>\n",
       "      <td>0</td>\n",
       "      <td>0</td>\n",
       "      <td>76</td>\n",
       "    </tr>\n",
       "  </tbody>\n",
       "</table>\n",
       "</div>"
      ],
      "text/plain": [
       "      stitch_id                    drug   umls_id                  event  \\\n",
       "0  CID000000076  dehydroepiandrosterone  C0000737         abdominal pain   \n",
       "1  CID000000076  dehydroepiandrosterone  C0001622        hyperadrenalism   \n",
       "2  CID000000076  dehydroepiandrosterone  C0001623  adrenal insufficiency   \n",
       "3  CID000000076  dehydroepiandrosterone  C0002792  anaphylactic reaction   \n",
       "4  CID000000076  dehydroepiandrosterone  C0002940               aneurysm   \n",
       "\n",
       "          rr    log2rr  t_statistic        pvalue  observed  expected  \\\n",
       "0   2.250000  1.169925     6.537095  6.156712e-07         9  4.000000   \n",
       "1  11.000000  3.459432     4.782699  1.644408e-03         2  0.181818   \n",
       "2   2.200000  1.137504     4.315199  9.884952e-03         2  0.909091   \n",
       "3   2.588235  1.371969     4.590918  3.355380e-03         4  1.545455   \n",
       "4   7.333333  2.874469     4.598374  3.399457e-03         2  0.272727   \n",
       "\n",
       "   bg_correction  sider  future_aers  medeffect  pubchem_id  \n",
       "0       0.002849      0            0          0          76  \n",
       "1       0.000041      0            0          0          76  \n",
       "2       0.002491      0            0          0          76  \n",
       "3       0.000503      0            0          0          76  \n",
       "4       0.000135      0            0          0          76  "
      ]
     },
     "execution_count": 5,
     "metadata": {},
     "output_type": "execute_result"
    }
   ],
   "source": [
    "df_data.head()"
   ]
  },
  {
   "cell_type": "markdown",
   "metadata": {},
   "source": [
    "### Mapping STITCH IDs to Drugbank IDs"
   ]
  },
  {
   "cell_type": "code",
   "execution_count": 6,
   "metadata": {},
   "outputs": [
    {
     "data": {
      "text/html": [
       "<div>\n",
       "<style scoped>\n",
       "    .dataframe tbody tr th:only-of-type {\n",
       "        vertical-align: middle;\n",
       "    }\n",
       "\n",
       "    .dataframe tbody tr th {\n",
       "        vertical-align: top;\n",
       "    }\n",
       "\n",
       "    .dataframe thead th {\n",
       "        text-align: right;\n",
       "    }\n",
       "</style>\n",
       "<table border=\"1\" class=\"dataframe\">\n",
       "  <thead>\n",
       "    <tr style=\"text-align: right;\">\n",
       "      <th></th>\n",
       "      <th>drugbank_id</th>\n",
       "      <th>pubchem_id</th>\n",
       "      <th>inchi_key</th>\n",
       "    </tr>\n",
       "  </thead>\n",
       "  <tbody>\n",
       "    <tr>\n",
       "      <th>0</th>\n",
       "      <td>DB00006</td>\n",
       "      <td>101041682</td>\n",
       "      <td>OIRCOABEOLEUMC-GEJPAHFPSA-N</td>\n",
       "    </tr>\n",
       "    <tr>\n",
       "      <th>1</th>\n",
       "      <td>DB00006</td>\n",
       "      <td>126480209</td>\n",
       "      <td>OIRCOABEOLEUMC-GEJPAHFPSA-N</td>\n",
       "    </tr>\n",
       "    <tr>\n",
       "      <th>2</th>\n",
       "      <td>DB00006</td>\n",
       "      <td>132229728</td>\n",
       "      <td>OIRCOABEOLEUMC-GEJPAHFPSA-N</td>\n",
       "    </tr>\n",
       "    <tr>\n",
       "      <th>3</th>\n",
       "      <td>DB00006</td>\n",
       "      <td>134827539</td>\n",
       "      <td>OIRCOABEOLEUMC-GEJPAHFPSA-N</td>\n",
       "    </tr>\n",
       "    <tr>\n",
       "      <th>4</th>\n",
       "      <td>DB00006</td>\n",
       "      <td>137167482</td>\n",
       "      <td>OIRCOABEOLEUMC-GEJPAHFPSA-N</td>\n",
       "    </tr>\n",
       "  </tbody>\n",
       "</table>\n",
       "</div>"
      ],
      "text/plain": [
       "  drugbank_id  pubchem_id                    inchi_key\n",
       "0     DB00006   101041682  OIRCOABEOLEUMC-GEJPAHFPSA-N\n",
       "1     DB00006   126480209  OIRCOABEOLEUMC-GEJPAHFPSA-N\n",
       "2     DB00006   132229728  OIRCOABEOLEUMC-GEJPAHFPSA-N\n",
       "3     DB00006   134827539  OIRCOABEOLEUMC-GEJPAHFPSA-N\n",
       "4     DB00006   137167482  OIRCOABEOLEUMC-GEJPAHFPSA-N"
      ]
     },
     "execution_count": 6,
     "metadata": {},
     "output_type": "execute_result"
    }
   ],
   "source": [
    "drugbank_mapping = pd.read_csv('../../metadata/mapping_files/pubchem.tsv', sep = '\\t')\n",
    "drugbank_mapping.head()"
   ]
  },
  {
   "cell_type": "code",
   "execution_count": 7,
   "metadata": {},
   "outputs": [],
   "source": [
    "# Merge the two dataframes so that a DrugBank ID is matched to each STITCH ID\n",
    "df_data = drugbank_mapping.merge(df_data)"
   ]
  },
  {
   "cell_type": "code",
   "execution_count": 8,
   "metadata": {},
   "outputs": [
    {
     "data": {
      "text/html": [
       "<div>\n",
       "<style scoped>\n",
       "    .dataframe tbody tr th:only-of-type {\n",
       "        vertical-align: middle;\n",
       "    }\n",
       "\n",
       "    .dataframe tbody tr th {\n",
       "        vertical-align: top;\n",
       "    }\n",
       "\n",
       "    .dataframe thead th {\n",
       "        text-align: right;\n",
       "    }\n",
       "</style>\n",
       "<table border=\"1\" class=\"dataframe\">\n",
       "  <thead>\n",
       "    <tr style=\"text-align: right;\">\n",
       "      <th></th>\n",
       "      <th>drugbank_id</th>\n",
       "      <th>pubchem_id</th>\n",
       "      <th>inchi_key</th>\n",
       "      <th>stitch_id</th>\n",
       "      <th>drug</th>\n",
       "      <th>umls_id</th>\n",
       "      <th>event</th>\n",
       "      <th>rr</th>\n",
       "      <th>log2rr</th>\n",
       "      <th>t_statistic</th>\n",
       "      <th>pvalue</th>\n",
       "      <th>observed</th>\n",
       "      <th>expected</th>\n",
       "      <th>bg_correction</th>\n",
       "      <th>sider</th>\n",
       "      <th>future_aers</th>\n",
       "      <th>medeffect</th>\n",
       "    </tr>\n",
       "  </thead>\n",
       "  <tbody>\n",
       "    <tr>\n",
       "      <th>0</th>\n",
       "      <td>DB00007</td>\n",
       "      <td>3911</td>\n",
       "      <td>GFIJNRVAKGFPGQ-LIJARHBVSA-N</td>\n",
       "      <td>CID000003911</td>\n",
       "      <td>leuprolide acetate</td>\n",
       "      <td>C0000833</td>\n",
       "      <td>abscess</td>\n",
       "      <td>4.400000</td>\n",
       "      <td>2.137504</td>\n",
       "      <td>10.792700</td>\n",
       "      <td>7.989576e-16</td>\n",
       "      <td>16</td>\n",
       "      <td>3.636364</td>\n",
       "      <td>0.000139</td>\n",
       "      <td>1</td>\n",
       "      <td>1</td>\n",
       "      <td>1</td>\n",
       "    </tr>\n",
       "    <tr>\n",
       "      <th>1</th>\n",
       "      <td>DB00007</td>\n",
       "      <td>3911</td>\n",
       "      <td>GFIJNRVAKGFPGQ-LIJARHBVSA-N</td>\n",
       "      <td>CID000003911</td>\n",
       "      <td>leuprolide acetate</td>\n",
       "      <td>C0002453</td>\n",
       "      <td>amenorrhea</td>\n",
       "      <td>4.230769</td>\n",
       "      <td>2.080920</td>\n",
       "      <td>6.062973</td>\n",
       "      <td>1.284617e-05</td>\n",
       "      <td>5</td>\n",
       "      <td>1.181818</td>\n",
       "      <td>0.000952</td>\n",
       "      <td>0</td>\n",
       "      <td>1</td>\n",
       "      <td>0</td>\n",
       "    </tr>\n",
       "    <tr>\n",
       "      <th>2</th>\n",
       "      <td>DB00007</td>\n",
       "      <td>3911</td>\n",
       "      <td>GFIJNRVAKGFPGQ-LIJARHBVSA-N</td>\n",
       "      <td>CID000003911</td>\n",
       "      <td>leuprolide acetate</td>\n",
       "      <td>C0002622</td>\n",
       "      <td>amnesia</td>\n",
       "      <td>1.417969</td>\n",
       "      <td>0.503826</td>\n",
       "      <td>5.676289</td>\n",
       "      <td>6.318169e-05</td>\n",
       "      <td>33</td>\n",
       "      <td>23.272727</td>\n",
       "      <td>0.006520</td>\n",
       "      <td>1</td>\n",
       "      <td>1</td>\n",
       "      <td>1</td>\n",
       "    </tr>\n",
       "    <tr>\n",
       "      <th>3</th>\n",
       "      <td>DB00007</td>\n",
       "      <td>3911</td>\n",
       "      <td>GFIJNRVAKGFPGQ-LIJARHBVSA-N</td>\n",
       "      <td>CID000003911</td>\n",
       "      <td>leuprolide acetate</td>\n",
       "      <td>C0002871</td>\n",
       "      <td>anaemia</td>\n",
       "      <td>1.282332</td>\n",
       "      <td>0.358769</td>\n",
       "      <td>7.352617</td>\n",
       "      <td>1.763838e-08</td>\n",
       "      <td>64</td>\n",
       "      <td>49.909091</td>\n",
       "      <td>0.010270</td>\n",
       "      <td>0</td>\n",
       "      <td>1</td>\n",
       "      <td>1</td>\n",
       "    </tr>\n",
       "    <tr>\n",
       "      <th>4</th>\n",
       "      <td>DB00007</td>\n",
       "      <td>3911</td>\n",
       "      <td>GFIJNRVAKGFPGQ-LIJARHBVSA-N</td>\n",
       "      <td>CID000003911</td>\n",
       "      <td>leuprolide acetate</td>\n",
       "      <td>C0002873</td>\n",
       "      <td>anaemia of chronic disease</td>\n",
       "      <td>7.857143</td>\n",
       "      <td>2.974005</td>\n",
       "      <td>6.317293</td>\n",
       "      <td>4.089257e-06</td>\n",
       "      <td>5</td>\n",
       "      <td>0.636364</td>\n",
       "      <td>0.000068</td>\n",
       "      <td>0</td>\n",
       "      <td>0</td>\n",
       "      <td>0</td>\n",
       "    </tr>\n",
       "  </tbody>\n",
       "</table>\n",
       "</div>"
      ],
      "text/plain": [
       "  drugbank_id  pubchem_id                    inchi_key     stitch_id  \\\n",
       "0     DB00007        3911  GFIJNRVAKGFPGQ-LIJARHBVSA-N  CID000003911   \n",
       "1     DB00007        3911  GFIJNRVAKGFPGQ-LIJARHBVSA-N  CID000003911   \n",
       "2     DB00007        3911  GFIJNRVAKGFPGQ-LIJARHBVSA-N  CID000003911   \n",
       "3     DB00007        3911  GFIJNRVAKGFPGQ-LIJARHBVSA-N  CID000003911   \n",
       "4     DB00007        3911  GFIJNRVAKGFPGQ-LIJARHBVSA-N  CID000003911   \n",
       "\n",
       "                 drug   umls_id                       event        rr  \\\n",
       "0  leuprolide acetate  C0000833                     abscess  4.400000   \n",
       "1  leuprolide acetate  C0002453                  amenorrhea  4.230769   \n",
       "2  leuprolide acetate  C0002622                     amnesia  1.417969   \n",
       "3  leuprolide acetate  C0002871                     anaemia  1.282332   \n",
       "4  leuprolide acetate  C0002873  anaemia of chronic disease  7.857143   \n",
       "\n",
       "     log2rr  t_statistic        pvalue  observed   expected  bg_correction  \\\n",
       "0  2.137504    10.792700  7.989576e-16        16   3.636364       0.000139   \n",
       "1  2.080920     6.062973  1.284617e-05         5   1.181818       0.000952   \n",
       "2  0.503826     5.676289  6.318169e-05        33  23.272727       0.006520   \n",
       "3  0.358769     7.352617  1.763838e-08        64  49.909091       0.010270   \n",
       "4  2.974005     6.317293  4.089257e-06         5   0.636364       0.000068   \n",
       "\n",
       "   sider  future_aers  medeffect  \n",
       "0      1            1          1  \n",
       "1      0            1          0  \n",
       "2      1            1          1  \n",
       "3      0            1          1  \n",
       "4      0            0          0  "
      ]
     },
     "execution_count": 8,
     "metadata": {},
     "output_type": "execute_result"
    }
   ],
   "source": [
    "df_data.head()"
   ]
  },
  {
   "cell_type": "markdown",
   "metadata": {},
   "source": [
    "### Matching Side Effects with Verified Drug Names"
   ]
  },
  {
   "cell_type": "code",
   "execution_count": 9,
   "metadata": {},
   "outputs": [],
   "source": [
    "# Tupelizing the lists so that duplicate side effects paired to each compound id remain unique \n",
    "id_dict = tuple(zip(df_data['event'].tolist(),df_data['inchi_key'].tolist()))"
   ]
  },
  {
   "cell_type": "code",
   "execution_count": 10,
   "metadata": {},
   "outputs": [],
   "source": [
    "drugsetlibrary = defaultdict(list)\n",
    "for k,v in id_dict:\n",
    "    drugsetlibrary[k].append(v)"
   ]
  },
  {
   "cell_type": "code",
   "execution_count": 11,
   "metadata": {},
   "outputs": [],
   "source": [
    "# Removing any terms not paired with at least 5 drugs #\n",
    "drugsetlibrary = {k:list(set(v)) for k,v in drugsetlibrary.items() if len(set(v))>=5}"
   ]
  },
  {
   "cell_type": "code",
   "execution_count": 12,
   "metadata": {},
   "outputs": [
    {
     "data": {
      "text/plain": [
       "<Figure size 640x480 with 1 Axes>"
      ]
     },
     "metadata": {},
     "output_type": "display_data"
    }
   ],
   "source": [
    "import matplotlib.pyplot as plt\n",
    "import numpy as np\n",
    "from pylab import figure, text, scatter, show\n",
    "\n",
    "df_setsize = pd.DataFrame(columns = ['Side_effect','Drugset_size'])\n",
    "se = []\n",
    "drugset = []\n",
    "for k,v in drugsetlibrary.items():\n",
    "    se.append(k)\n",
    "    drugset.append(len(set(v)))\n",
    "df_setsize['Side_effect'] = se\n",
    "df_setsize['Drugset_size'] = drugset\n",
    "\n",
    "plt.figure()\n",
    "plt.hist(df_setsize['Drugset_size'].values, bins=100)\n",
    "plt.xlabel('Drugset size')\n",
    "plt.ylabel('Counts')\n",
    "plt.title('Histogram of drugset size per term')\n",
    "plt.yscale('log')\n",
    "plt.axvline(np.mean(df_setsize['Drugset_size']), color='red', label='mean')\n",
    "plt.axvline(np.median(df_setsize['Drugset_size']), color='black', label='median')\n",
    "plt.legend()\n",
    "plt.show()"
   ]
  },
  {
   "cell_type": "markdown",
   "metadata": {},
   "source": [
    "### Library counts"
   ]
  },
  {
   "cell_type": "code",
   "execution_count": 13,
   "metadata": {},
   "outputs": [
    {
     "name": "stdout",
     "output_type": "stream",
     "text": [
      "1435 unique drugs\n",
      "7137 unique association terms\n",
      "504739 unique associations\n",
      "70.72145159030406 average drugs per term\n"
     ]
    }
   ],
   "source": [
    "library_counts(drugsetlibrary)"
   ]
  },
  {
   "cell_type": "markdown",
   "metadata": {},
   "source": [
    "### Exporting the drug-set library in  GMT formats"
   ]
  },
  {
   "cell_type": "code",
   "execution_count": 14,
   "metadata": {},
   "outputs": [],
   "source": [
    "os.chdir('../../data/PharmGKB')"
   ]
  },
  {
   "cell_type": "code",
   "execution_count": 15,
   "metadata": {},
   "outputs": [],
   "source": [
    "# Export drugsetlibrary in gmt format\n",
    "gmt_formatter(drugsetlibrary, 'PharmGKB_OFFSIDES_side_effects_drugsetlibrary.gmt')"
   ]
  }
 ],
 "metadata": {
  "kernelspec": {
   "display_name": "Python 3",
   "language": "python",
   "name": "python3"
  },
  "language_info": {
   "codemirror_mode": {
    "name": "ipython",
    "version": 3
   },
   "file_extension": ".py",
   "mimetype": "text/x-python",
   "name": "python",
   "nbconvert_exporter": "python",
   "pygments_lexer": "ipython3",
   "version": "3.6.5"
  }
 },
 "nbformat": 4,
 "nbformat_minor": 2
}
