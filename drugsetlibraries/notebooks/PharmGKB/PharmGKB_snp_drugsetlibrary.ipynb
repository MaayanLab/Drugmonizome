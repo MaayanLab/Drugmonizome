{
 "cells": [
  {
   "cell_type": "markdown",
   "metadata": {},
   "source": [
    "## PharmGKB SNP Drug-Set Library\n",
    "### Drug-set labels: Single-Nucleotide Polymorphisms\n",
    "#### ALL DATABASES ACCESSED 10/2019\n",
    "##### Author : Eryk Kropiwnicki | eryk.kropiwnicki@icahn.mssm.edu"
   ]
  },
  {
   "cell_type": "code",
   "execution_count": 1,
   "metadata": {},
   "outputs": [],
   "source": [
    "import pandas as pd\n",
    "from collections import defaultdict\n",
    "import csv\n",
    "import numpy as np\n",
    "import os"
   ]
  },
  {
   "cell_type": "code",
   "execution_count": 2,
   "metadata": {},
   "outputs": [],
   "source": [
    "os.chdir('../../scripts')\n",
    "from export_script import *\n",
    "os.chdir('../notebooks/PharmGKB')"
   ]
  },
  {
   "cell_type": "markdown",
   "metadata": {},
   "source": [
    "### Importing metadata of all drugs from PharmGKB to ensure each chemical has a unique PubChem ID \n",
    "#### INPUT FILES : chemicals.tsv (https://www.pharmgkb.org/downloads)"
   ]
  },
  {
   "cell_type": "code",
   "execution_count": 3,
   "metadata": {},
   "outputs": [],
   "source": [
    "df_chemicals = pd.read_csv('input/chemicals.tsv', delimiter = '\\t', usecols = ['PharmGKB Accession Id',\n",
    "                                                                              'PubChem Compound Identifiers',\n",
    "                                                                              'SMILES'])\n",
    "df_chemicals = df_chemicals.rename(columns = {'PharmGKB Accession Id':'Entity2_id',\n",
    "                                             'PubChem Compound Identifiers':'pubchem_id'})"
   ]
  },
  {
   "cell_type": "code",
   "execution_count": 4,
   "metadata": {
    "scrolled": true
   },
   "outputs": [
    {
     "data": {
      "text/html": [
       "<div>\n",
       "<style scoped>\n",
       "    .dataframe tbody tr th:only-of-type {\n",
       "        vertical-align: middle;\n",
       "    }\n",
       "\n",
       "    .dataframe tbody tr th {\n",
       "        vertical-align: top;\n",
       "    }\n",
       "\n",
       "    .dataframe thead th {\n",
       "        text-align: right;\n",
       "    }\n",
       "</style>\n",
       "<table border=\"1\" class=\"dataframe\">\n",
       "  <thead>\n",
       "    <tr style=\"text-align: right;\">\n",
       "      <th></th>\n",
       "      <th>Entity2_id</th>\n",
       "      <th>SMILES</th>\n",
       "      <th>pubchem_id</th>\n",
       "    </tr>\n",
       "  </thead>\n",
       "  <tbody>\n",
       "    <tr>\n",
       "      <th>0</th>\n",
       "      <td>PA166131343</td>\n",
       "      <td>C1[C@@H](C=C[C@@H]1N2C=NC3=C2NC(=NC3=O)N)COP(=...</td>\n",
       "      <td>135564825</td>\n",
       "    </tr>\n",
       "    <tr>\n",
       "      <th>1</th>\n",
       "      <td>PA166178312</td>\n",
       "      <td>NaN</td>\n",
       "      <td>22267</td>\n",
       "    </tr>\n",
       "    <tr>\n",
       "      <th>2</th>\n",
       "      <td>PA166177606</td>\n",
       "      <td>NaN</td>\n",
       "      <td>71316608</td>\n",
       "    </tr>\n",
       "    <tr>\n",
       "      <th>3</th>\n",
       "      <td>PA166178554</td>\n",
       "      <td>NaN</td>\n",
       "      <td>643985</td>\n",
       "    </tr>\n",
       "    <tr>\n",
       "      <th>4</th>\n",
       "      <td>PA166165069</td>\n",
       "      <td>CC(C)[C@](CCCNCCC1=CC(=C(C=C1)OC)OC)(C#N)C2=CC...</td>\n",
       "      <td>15593908</td>\n",
       "    </tr>\n",
       "  </tbody>\n",
       "</table>\n",
       "</div>"
      ],
      "text/plain": [
       "    Entity2_id                                             SMILES pubchem_id\n",
       "0  PA166131343  C1[C@@H](C=C[C@@H]1N2C=NC3=C2NC(=NC3=O)N)COP(=...  135564825\n",
       "1  PA166178312                                                NaN      22267\n",
       "2  PA166177606                                                NaN   71316608\n",
       "3  PA166178554                                                NaN     643985\n",
       "4  PA166165069  CC(C)[C@](CCCNCCC1=CC(=C(C=C1)OC)OC)(C#N)C2=CC...   15593908"
      ]
     },
     "execution_count": 4,
     "metadata": {},
     "output_type": "execute_result"
    }
   ],
   "source": [
    "df_chemicals.head()"
   ]
  },
  {
   "cell_type": "code",
   "execution_count": 5,
   "metadata": {},
   "outputs": [],
   "source": [
    "# Removing any rows with a null value in the PubChem Compound Identifier column #\n",
    "df_chemicals = df_chemicals[pd.notnull(df_chemicals['pubchem_id'])]\n",
    "df_chemicals = df_chemicals[~df_chemicals['pubchem_id'].str.contains(',')]\n",
    "df_chemicals['pubchem_id'] = df_chemicals['pubchem_id'].astype(int)"
   ]
  },
  {
   "cell_type": "markdown",
   "metadata": {},
   "source": [
    "### Importing tsv file of variant - chemical relationships\n",
    "#### Input file : relationships.tsv (https://www.pharmgkb.org/downloads)"
   ]
  },
  {
   "cell_type": "code",
   "execution_count": 6,
   "metadata": {},
   "outputs": [],
   "source": [
    "df = pd.read_csv('input/relationships.tsv', delimiter = '\\t')"
   ]
  },
  {
   "cell_type": "code",
   "execution_count": 7,
   "metadata": {},
   "outputs": [
    {
     "data": {
      "text/html": [
       "<div>\n",
       "<style scoped>\n",
       "    .dataframe tbody tr th:only-of-type {\n",
       "        vertical-align: middle;\n",
       "    }\n",
       "\n",
       "    .dataframe tbody tr th {\n",
       "        vertical-align: top;\n",
       "    }\n",
       "\n",
       "    .dataframe thead th {\n",
       "        text-align: right;\n",
       "    }\n",
       "</style>\n",
       "<table border=\"1\" class=\"dataframe\">\n",
       "  <thead>\n",
       "    <tr style=\"text-align: right;\">\n",
       "      <th></th>\n",
       "      <th>Entity1_id</th>\n",
       "      <th>Entity1_name</th>\n",
       "      <th>Entity1_type</th>\n",
       "      <th>Entity2_id</th>\n",
       "      <th>Entity2_name</th>\n",
       "      <th>Entity2_type</th>\n",
       "      <th>Evidence</th>\n",
       "      <th>Association</th>\n",
       "      <th>PK</th>\n",
       "      <th>PD</th>\n",
       "      <th>PMIDs</th>\n",
       "    </tr>\n",
       "  </thead>\n",
       "  <tbody>\n",
       "    <tr>\n",
       "      <th>0</th>\n",
       "      <td>PA166181185</td>\n",
       "      <td>CYP2D6*14</td>\n",
       "      <td>Haplotype</td>\n",
       "      <td>PA131301952</td>\n",
       "      <td>gefitinib</td>\n",
       "      <td>Chemical</td>\n",
       "      <td>VariantAnnotation</td>\n",
       "      <td>associated</td>\n",
       "      <td>NaN</td>\n",
       "      <td>PD</td>\n",
       "      <td>26323212</td>\n",
       "    </tr>\n",
       "    <tr>\n",
       "      <th>1</th>\n",
       "      <td>PA166181185</td>\n",
       "      <td>CYP2D6*14</td>\n",
       "      <td>Haplotype</td>\n",
       "      <td>PA134688071</td>\n",
       "      <td>atomoxetine</td>\n",
       "      <td>Chemical</td>\n",
       "      <td>GuidelineAnnotation</td>\n",
       "      <td>associated</td>\n",
       "      <td>NaN</td>\n",
       "      <td>NaN</td>\n",
       "      <td>30801677</td>\n",
       "    </tr>\n",
       "    <tr>\n",
       "      <th>2</th>\n",
       "      <td>PA166181185</td>\n",
       "      <td>CYP2D6*14</td>\n",
       "      <td>Haplotype</td>\n",
       "      <td>PA161925594</td>\n",
       "      <td>tropisetron</td>\n",
       "      <td>Chemical</td>\n",
       "      <td>GuidelineAnnotation</td>\n",
       "      <td>associated</td>\n",
       "      <td>NaN</td>\n",
       "      <td>NaN</td>\n",
       "      <td>28002639</td>\n",
       "    </tr>\n",
       "    <tr>\n",
       "      <th>3</th>\n",
       "      <td>PA166181185</td>\n",
       "      <td>CYP2D6*14</td>\n",
       "      <td>Haplotype</td>\n",
       "      <td>PA164925725</td>\n",
       "      <td>Toxic liver disease</td>\n",
       "      <td>Disease</td>\n",
       "      <td>VariantAnnotation</td>\n",
       "      <td>associated</td>\n",
       "      <td>NaN</td>\n",
       "      <td>PD</td>\n",
       "      <td>26323212</td>\n",
       "    </tr>\n",
       "    <tr>\n",
       "      <th>4</th>\n",
       "      <td>PA166181185</td>\n",
       "      <td>CYP2D6*14</td>\n",
       "      <td>Haplotype</td>\n",
       "      <td>PA166110256</td>\n",
       "      <td>bufuralol</td>\n",
       "      <td>Chemical</td>\n",
       "      <td>ClinicalAnnotation,VariantAnnotation</td>\n",
       "      <td>associated</td>\n",
       "      <td>PK</td>\n",
       "      <td>NaN</td>\n",
       "      <td>11470994;11950793;12152006;17470523;18784265;1...</td>\n",
       "    </tr>\n",
       "  </tbody>\n",
       "</table>\n",
       "</div>"
      ],
      "text/plain": [
       "    Entity1_id Entity1_name Entity1_type   Entity2_id         Entity2_name  \\\n",
       "0  PA166181185    CYP2D6*14    Haplotype  PA131301952            gefitinib   \n",
       "1  PA166181185    CYP2D6*14    Haplotype  PA134688071          atomoxetine   \n",
       "2  PA166181185    CYP2D6*14    Haplotype  PA161925594          tropisetron   \n",
       "3  PA166181185    CYP2D6*14    Haplotype  PA164925725  Toxic liver disease   \n",
       "4  PA166181185    CYP2D6*14    Haplotype  PA166110256            bufuralol   \n",
       "\n",
       "  Entity2_type                              Evidence Association   PK   PD  \\\n",
       "0     Chemical                     VariantAnnotation  associated  NaN   PD   \n",
       "1     Chemical                   GuidelineAnnotation  associated  NaN  NaN   \n",
       "2     Chemical                   GuidelineAnnotation  associated  NaN  NaN   \n",
       "3      Disease                     VariantAnnotation  associated  NaN   PD   \n",
       "4     Chemical  ClinicalAnnotation,VariantAnnotation  associated   PK  NaN   \n",
       "\n",
       "                                               PMIDs  \n",
       "0                                           26323212  \n",
       "1                                           30801677  \n",
       "2                                           28002639  \n",
       "3                                           26323212  \n",
       "4  11470994;11950793;12152006;17470523;18784265;1...  "
      ]
     },
     "execution_count": 7,
     "metadata": {},
     "output_type": "execute_result"
    }
   ],
   "source": [
    "df.head()"
   ]
  },
  {
   "cell_type": "code",
   "execution_count": 8,
   "metadata": {},
   "outputs": [],
   "source": [
    "# Retaining relevant associations\n",
    "df_snps = df[(df['Entity1_type'] == 'Haplotype') | (df['Entity1_type'] == 'Variant')]\n",
    "df_snps = df_snps[df_snps['Entity2_type'] == 'Chemical']\n",
    "df_snps = df_snps[df_snps['Association'] == 'associated']"
   ]
  },
  {
   "cell_type": "code",
   "execution_count": 9,
   "metadata": {},
   "outputs": [],
   "source": [
    "# Appending pubchem IDs\n",
    "df_snps = df_snps.merge(df_chemicals)"
   ]
  },
  {
   "cell_type": "markdown",
   "metadata": {},
   "source": [
    "### Importing Drugbank mapping file"
   ]
  },
  {
   "cell_type": "code",
   "execution_count": 11,
   "metadata": {},
   "outputs": [],
   "source": [
    "drugbank_mapping = pd.read_csv('../../metadata/mapping_files/pharmgkb.tsv', sep = '\\t')\n",
    "drugbank_mapping = drugbank_mapping.rename(columns = {'pharmgkb_id':'Entity2_id'})"
   ]
  },
  {
   "cell_type": "code",
   "execution_count": 12,
   "metadata": {},
   "outputs": [
    {
     "data": {
      "text/html": [
       "<div>\n",
       "<style scoped>\n",
       "    .dataframe tbody tr th:only-of-type {\n",
       "        vertical-align: middle;\n",
       "    }\n",
       "\n",
       "    .dataframe tbody tr th {\n",
       "        vertical-align: top;\n",
       "    }\n",
       "\n",
       "    .dataframe thead th {\n",
       "        text-align: right;\n",
       "    }\n",
       "</style>\n",
       "<table border=\"1\" class=\"dataframe\">\n",
       "  <thead>\n",
       "    <tr style=\"text-align: right;\">\n",
       "      <th></th>\n",
       "      <th>drugbank_id</th>\n",
       "      <th>Entity2_id</th>\n",
       "      <th>inchi_key</th>\n",
       "    </tr>\n",
       "  </thead>\n",
       "  <tbody>\n",
       "    <tr>\n",
       "      <th>0</th>\n",
       "      <td>DB00006</td>\n",
       "      <td>PA10032</td>\n",
       "      <td>OIRCOABEOLEUMC-GEJPAHFPSA-N</td>\n",
       "    </tr>\n",
       "    <tr>\n",
       "      <th>1</th>\n",
       "      <td>DB00007</td>\n",
       "      <td>PA450203</td>\n",
       "      <td>GFIJNRVAKGFPGQ-LIJARHBVSA-N</td>\n",
       "    </tr>\n",
       "    <tr>\n",
       "      <th>2</th>\n",
       "      <td>DB00014</td>\n",
       "      <td>PA164747674</td>\n",
       "      <td>BLCLNMBMMGCOAS-URPVMXJPSA-N</td>\n",
       "    </tr>\n",
       "    <tr>\n",
       "      <th>3</th>\n",
       "      <td>DB00035</td>\n",
       "      <td>PA449237</td>\n",
       "      <td>NFLWUMRGJYTJIN-PNIOQBSNSA-N</td>\n",
       "    </tr>\n",
       "    <tr>\n",
       "      <th>4</th>\n",
       "      <td>DB00050</td>\n",
       "      <td>PA164764506</td>\n",
       "      <td>SBNPWPIBESPSIF-MHWMIDJBSA-N</td>\n",
       "    </tr>\n",
       "  </tbody>\n",
       "</table>\n",
       "</div>"
      ],
      "text/plain": [
       "  drugbank_id   Entity2_id                    inchi_key\n",
       "0     DB00006      PA10032  OIRCOABEOLEUMC-GEJPAHFPSA-N\n",
       "1     DB00007     PA450203  GFIJNRVAKGFPGQ-LIJARHBVSA-N\n",
       "2     DB00014  PA164747674  BLCLNMBMMGCOAS-URPVMXJPSA-N\n",
       "3     DB00035     PA449237  NFLWUMRGJYTJIN-PNIOQBSNSA-N\n",
       "4     DB00050  PA164764506  SBNPWPIBESPSIF-MHWMIDJBSA-N"
      ]
     },
     "execution_count": 12,
     "metadata": {},
     "output_type": "execute_result"
    }
   ],
   "source": [
    "drugbank_mapping.head()"
   ]
  },
  {
   "cell_type": "code",
   "execution_count": 13,
   "metadata": {},
   "outputs": [],
   "source": [
    "# Matching drugbank IDs based on pubchem IDs\n",
    "df_snps = drugbank_mapping.merge(df_snps)"
   ]
  },
  {
   "cell_type": "code",
   "execution_count": 14,
   "metadata": {},
   "outputs": [
    {
     "data": {
      "text/html": [
       "<div>\n",
       "<style scoped>\n",
       "    .dataframe tbody tr th:only-of-type {\n",
       "        vertical-align: middle;\n",
       "    }\n",
       "\n",
       "    .dataframe tbody tr th {\n",
       "        vertical-align: top;\n",
       "    }\n",
       "\n",
       "    .dataframe thead th {\n",
       "        text-align: right;\n",
       "    }\n",
       "</style>\n",
       "<table border=\"1\" class=\"dataframe\">\n",
       "  <thead>\n",
       "    <tr style=\"text-align: right;\">\n",
       "      <th></th>\n",
       "      <th>drugbank_id</th>\n",
       "      <th>Entity2_id</th>\n",
       "      <th>inchi_key</th>\n",
       "      <th>Entity1_id</th>\n",
       "      <th>Entity1_name</th>\n",
       "      <th>Entity1_type</th>\n",
       "      <th>Entity2_name</th>\n",
       "      <th>Entity2_type</th>\n",
       "      <th>Evidence</th>\n",
       "      <th>Association</th>\n",
       "      <th>PK</th>\n",
       "      <th>PD</th>\n",
       "      <th>PMIDs</th>\n",
       "      <th>SMILES</th>\n",
       "      <th>pubchem_id</th>\n",
       "    </tr>\n",
       "  </thead>\n",
       "  <tbody>\n",
       "    <tr>\n",
       "      <th>0</th>\n",
       "      <td>DB00014</td>\n",
       "      <td>PA164747674</td>\n",
       "      <td>BLCLNMBMMGCOAS-URPVMXJPSA-N</td>\n",
       "      <td>PA166154579</td>\n",
       "      <td>rs4149056</td>\n",
       "      <td>Variant</td>\n",
       "      <td>goserelin</td>\n",
       "      <td>Chemical</td>\n",
       "      <td>VariantAnnotation</td>\n",
       "      <td>associated</td>\n",
       "      <td>NaN</td>\n",
       "      <td>PD</td>\n",
       "      <td>NaN</td>\n",
       "      <td>CC(C)CC(C(=O)NC(CCCN=C(N)N)C(=O)N1CCCC1C(=O)NN...</td>\n",
       "      <td>47725</td>\n",
       "    </tr>\n",
       "    <tr>\n",
       "      <th>1</th>\n",
       "      <td>DB00080</td>\n",
       "      <td>PA164768820</td>\n",
       "      <td>DOAKLVKFURWEDJ-RWDRXURGSA-N</td>\n",
       "      <td>PA166157284</td>\n",
       "      <td>rs1045642</td>\n",
       "      <td>Variant</td>\n",
       "      <td>daptomycin</td>\n",
       "      <td>Chemical</td>\n",
       "      <td>ClinicalAnnotation,VariantAnnotation</td>\n",
       "      <td>associated</td>\n",
       "      <td>PK</td>\n",
       "      <td>NaN</td>\n",
       "      <td>25239468</td>\n",
       "      <td>CCCCCCCCCC(=O)N[C@@H](CC1=CNC2=CC=CC=C21)C(=O)...</td>\n",
       "      <td>16129629</td>\n",
       "    </tr>\n",
       "    <tr>\n",
       "      <th>2</th>\n",
       "      <td>DB00091</td>\n",
       "      <td>PA449167</td>\n",
       "      <td>PMATZTZNYRCHOR-CGLBZJNRSA-N</td>\n",
       "      <td>PA166157030</td>\n",
       "      <td>rs2275913</td>\n",
       "      <td>Variant</td>\n",
       "      <td>cyclosporine</td>\n",
       "      <td>Chemical</td>\n",
       "      <td>VariantAnnotation</td>\n",
       "      <td>associated</td>\n",
       "      <td>NaN</td>\n",
       "      <td>PD</td>\n",
       "      <td>30799725</td>\n",
       "      <td>CCC1C(=O)N(CC(=O)N(C(C(=O)NC(C(=O)N(C(C(=O)NC(...</td>\n",
       "      <td>6435893</td>\n",
       "    </tr>\n",
       "    <tr>\n",
       "      <th>3</th>\n",
       "      <td>DB00091</td>\n",
       "      <td>PA449167</td>\n",
       "      <td>PMATZTZNYRCHOR-CGLBZJNRSA-N</td>\n",
       "      <td>PA166155843</td>\n",
       "      <td>rs17514110</td>\n",
       "      <td>Variant</td>\n",
       "      <td>cyclosporine</td>\n",
       "      <td>Chemical</td>\n",
       "      <td>VariantAnnotation</td>\n",
       "      <td>associated</td>\n",
       "      <td>NaN</td>\n",
       "      <td>PD</td>\n",
       "      <td>NaN</td>\n",
       "      <td>CCC1C(=O)N(CC(=O)N(C(C(=O)NC(C(=O)N(C(C(=O)NC(...</td>\n",
       "      <td>6435893</td>\n",
       "    </tr>\n",
       "    <tr>\n",
       "      <th>4</th>\n",
       "      <td>DB00091</td>\n",
       "      <td>PA449167</td>\n",
       "      <td>PMATZTZNYRCHOR-CGLBZJNRSA-N</td>\n",
       "      <td>PA166155117</td>\n",
       "      <td>rs17264736</td>\n",
       "      <td>Variant</td>\n",
       "      <td>cyclosporine</td>\n",
       "      <td>Chemical</td>\n",
       "      <td>VariantAnnotation</td>\n",
       "      <td>associated</td>\n",
       "      <td>NaN</td>\n",
       "      <td>PD</td>\n",
       "      <td>NaN</td>\n",
       "      <td>CCC1C(=O)N(CC(=O)N(C(C(=O)NC(C(=O)N(C(C(=O)NC(...</td>\n",
       "      <td>6435893</td>\n",
       "    </tr>\n",
       "  </tbody>\n",
       "</table>\n",
       "</div>"
      ],
      "text/plain": [
       "  drugbank_id   Entity2_id                    inchi_key   Entity1_id  \\\n",
       "0     DB00014  PA164747674  BLCLNMBMMGCOAS-URPVMXJPSA-N  PA166154579   \n",
       "1     DB00080  PA164768820  DOAKLVKFURWEDJ-RWDRXURGSA-N  PA166157284   \n",
       "2     DB00091     PA449167  PMATZTZNYRCHOR-CGLBZJNRSA-N  PA166157030   \n",
       "3     DB00091     PA449167  PMATZTZNYRCHOR-CGLBZJNRSA-N  PA166155843   \n",
       "4     DB00091     PA449167  PMATZTZNYRCHOR-CGLBZJNRSA-N  PA166155117   \n",
       "\n",
       "  Entity1_name Entity1_type  Entity2_name Entity2_type  \\\n",
       "0    rs4149056      Variant     goserelin     Chemical   \n",
       "1    rs1045642      Variant    daptomycin     Chemical   \n",
       "2    rs2275913      Variant  cyclosporine     Chemical   \n",
       "3   rs17514110      Variant  cyclosporine     Chemical   \n",
       "4   rs17264736      Variant  cyclosporine     Chemical   \n",
       "\n",
       "                               Evidence Association   PK   PD     PMIDs  \\\n",
       "0                     VariantAnnotation  associated  NaN   PD       NaN   \n",
       "1  ClinicalAnnotation,VariantAnnotation  associated   PK  NaN  25239468   \n",
       "2                     VariantAnnotation  associated  NaN   PD  30799725   \n",
       "3                     VariantAnnotation  associated  NaN   PD       NaN   \n",
       "4                     VariantAnnotation  associated  NaN   PD       NaN   \n",
       "\n",
       "                                              SMILES  pubchem_id  \n",
       "0  CC(C)CC(C(=O)NC(CCCN=C(N)N)C(=O)N1CCCC1C(=O)NN...       47725  \n",
       "1  CCCCCCCCCC(=O)N[C@@H](CC1=CNC2=CC=CC=C21)C(=O)...    16129629  \n",
       "2  CCC1C(=O)N(CC(=O)N(C(C(=O)NC(C(=O)N(C(C(=O)NC(...     6435893  \n",
       "3  CCC1C(=O)N(CC(=O)N(C(C(=O)NC(C(=O)N(C(C(=O)NC(...     6435893  \n",
       "4  CCC1C(=O)N(CC(=O)N(C(C(=O)NC(C(=O)N(C(C(=O)NC(...     6435893  "
      ]
     },
     "execution_count": 14,
     "metadata": {},
     "output_type": "execute_result"
    }
   ],
   "source": [
    "df_snps.head()"
   ]
  },
  {
   "cell_type": "markdown",
   "metadata": {},
   "source": [
    "### Creating drug-set library"
   ]
  },
  {
   "cell_type": "code",
   "execution_count": 15,
   "metadata": {},
   "outputs": [],
   "source": [
    "variant = df_snps['Entity1_name'].tolist()\n",
    "chemicals = df_snps['inchi_key'].tolist()"
   ]
  },
  {
   "cell_type": "code",
   "execution_count": 16,
   "metadata": {},
   "outputs": [],
   "source": [
    "variant_dict = tuple(zip(variant, chemicals))\n",
    "\n",
    "drugsetlibrary = defaultdict(list)\n",
    "for k,v in variant_dict:\n",
    "    drugsetlibrary[k].append(v)"
   ]
  },
  {
   "cell_type": "code",
   "execution_count": 18,
   "metadata": {},
   "outputs": [],
   "source": [
    "# Removing all terms paired with less than 5 drugs #\n",
    "drugsetlibrary = {k:list(set(v)) for k,v in drugsetlibrary.items() if len(set(v))>=5}"
   ]
  },
  {
   "cell_type": "markdown",
   "metadata": {},
   "source": [
    "### Library counts"
   ]
  },
  {
   "cell_type": "code",
   "execution_count": 19,
   "metadata": {},
   "outputs": [
    {
     "name": "stdout",
     "output_type": "stream",
     "text": [
      "483 unique drugs\n",
      "554 unique association terms\n",
      "5555 unique associations\n",
      "10.027075812274369 average drugs per term\n"
     ]
    }
   ],
   "source": [
    "library_counts(drugsetlibrary)"
   ]
  },
  {
   "cell_type": "markdown",
   "metadata": {},
   "source": [
    "### Exporting the drug-set library in GMT format"
   ]
  },
  {
   "cell_type": "code",
   "execution_count": 20,
   "metadata": {},
   "outputs": [],
   "source": [
    "os.chdir('../../data/PharmGKB')"
   ]
  },
  {
   "cell_type": "code",
   "execution_count": 21,
   "metadata": {},
   "outputs": [],
   "source": [
    "gmt_formatter(drugsetlibrary, 'PharmGKB_snp_drugsetlibrary.gmt')"
   ]
  }
 ],
 "metadata": {
  "kernelspec": {
   "display_name": "Python 3",
   "language": "python",
   "name": "python3"
  },
  "language_info": {
   "codemirror_mode": {
    "name": "ipython",
    "version": 3
   },
   "file_extension": ".py",
   "mimetype": "text/x-python",
   "name": "python",
   "nbconvert_exporter": "python",
   "pygments_lexer": "ipython3",
   "version": "3.6.5"
  }
 },
 "nbformat": 4,
 "nbformat_minor": 2
}
