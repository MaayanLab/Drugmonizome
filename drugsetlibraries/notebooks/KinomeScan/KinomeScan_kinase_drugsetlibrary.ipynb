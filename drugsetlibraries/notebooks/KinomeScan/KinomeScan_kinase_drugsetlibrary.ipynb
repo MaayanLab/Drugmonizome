{
 "cells": [
  {
   "cell_type": "markdown",
   "metadata": {},
   "source": [
    "## Kinome Scan Drug-Set Library\n",
    "### Drug-Set Labels : Kinases\n",
    "#### Author : Daniel Clarke (daniel.clarke@mssm.edu) & Eryk Kropiwnicki (eryk.kropiwnicki@icahn.mssm.edu)\n",
    "#### Kinome Scan data was processed and transformed into GMT file by Daniel Clarke"
   ]
  },
  {
   "cell_type": "code",
   "execution_count": 1,
   "metadata": {},
   "outputs": [],
   "source": [
    "import csv\n",
    "import os\n",
    "import pandas as pd\n",
    "import time \n",
    "import requests\n",
    "import json\n",
    "import numpy as np"
   ]
  },
  {
   "cell_type": "code",
   "execution_count": 2,
   "metadata": {},
   "outputs": [],
   "source": [
    "os.chdir('../../scripts')\n",
    "from export_script import *\n",
    "from gene_resolver import *\n",
    "os.chdir('../notebooks/KinomeScan')"
   ]
  },
  {
   "cell_type": "markdown",
   "metadata": {},
   "source": [
    "### Harmonizing PubChemIDs with DrugBank IDs"
   ]
  },
  {
   "cell_type": "code",
   "execution_count": 3,
   "metadata": {},
   "outputs": [],
   "source": [
    "# creates a matrix of drug associations\n",
    "df = pd.DataFrame()\n",
    "attributes = []\n",
    "drugs = []\n",
    "\n",
    "with open('input/kinomescan.T.pubchemid.gmt', 'r') as f:\n",
    "    reader = csv.reader(f, delimiter = '\\t')\n",
    "    for line in reader:\n",
    "        for g in line[2:]:\n",
    "            attributes.append(line[0])\n",
    "            drugs.append(int(g))\n",
    "\n",
    "df['attributes'] = attributes\n",
    "df['pubchem_id'] = drugs"
   ]
  },
  {
   "cell_type": "code",
   "execution_count": 4,
   "metadata": {},
   "outputs": [
    {
     "data": {
      "text/html": [
       "<div>\n",
       "<style scoped>\n",
       "    .dataframe tbody tr th:only-of-type {\n",
       "        vertical-align: middle;\n",
       "    }\n",
       "\n",
       "    .dataframe tbody tr th {\n",
       "        vertical-align: top;\n",
       "    }\n",
       "\n",
       "    .dataframe thead th {\n",
       "        text-align: right;\n",
       "    }\n",
       "</style>\n",
       "<table border=\"1\" class=\"dataframe\">\n",
       "  <thead>\n",
       "    <tr style=\"text-align: right;\">\n",
       "      <th></th>\n",
       "      <th>attributes</th>\n",
       "      <th>pubchem_id</th>\n",
       "    </tr>\n",
       "  </thead>\n",
       "  <tbody>\n",
       "    <tr>\n",
       "      <th>0</th>\n",
       "      <td>PCTK3</td>\n",
       "      <td>16747683</td>\n",
       "    </tr>\n",
       "    <tr>\n",
       "      <th>1</th>\n",
       "      <td>PCTK3</td>\n",
       "      <td>44139710</td>\n",
       "    </tr>\n",
       "    <tr>\n",
       "      <th>2</th>\n",
       "      <td>PCTK3</td>\n",
       "      <td>25222038</td>\n",
       "    </tr>\n",
       "    <tr>\n",
       "      <th>3</th>\n",
       "      <td>PCTK3</td>\n",
       "      <td>71576671</td>\n",
       "    </tr>\n",
       "    <tr>\n",
       "      <th>4</th>\n",
       "      <td>PCTK3</td>\n",
       "      <td>46191454</td>\n",
       "    </tr>\n",
       "  </tbody>\n",
       "</table>\n",
       "</div>"
      ],
      "text/plain": [
       "  attributes  pubchem_id\n",
       "0      PCTK3    16747683\n",
       "1      PCTK3    44139710\n",
       "2      PCTK3    25222038\n",
       "3      PCTK3    71576671\n",
       "4      PCTK3    46191454"
      ]
     },
     "execution_count": 4,
     "metadata": {},
     "output_type": "execute_result"
    }
   ],
   "source": [
    "df.head()"
   ]
  },
  {
   "cell_type": "code",
   "execution_count": 5,
   "metadata": {},
   "outputs": [],
   "source": [
    "drugbank_mapping = pd.read_csv('../../metadata/mapping_files/pubchem.tsv', sep = '\\t')"
   ]
  },
  {
   "cell_type": "code",
   "execution_count": 6,
   "metadata": {},
   "outputs": [
    {
     "data": {
      "text/html": [
       "<div>\n",
       "<style scoped>\n",
       "    .dataframe tbody tr th:only-of-type {\n",
       "        vertical-align: middle;\n",
       "    }\n",
       "\n",
       "    .dataframe tbody tr th {\n",
       "        vertical-align: top;\n",
       "    }\n",
       "\n",
       "    .dataframe thead th {\n",
       "        text-align: right;\n",
       "    }\n",
       "</style>\n",
       "<table border=\"1\" class=\"dataframe\">\n",
       "  <thead>\n",
       "    <tr style=\"text-align: right;\">\n",
       "      <th></th>\n",
       "      <th>drugbank_id</th>\n",
       "      <th>pubchem_id</th>\n",
       "      <th>inchi_key</th>\n",
       "    </tr>\n",
       "  </thead>\n",
       "  <tbody>\n",
       "    <tr>\n",
       "      <th>0</th>\n",
       "      <td>DB00006</td>\n",
       "      <td>101041682</td>\n",
       "      <td>OIRCOABEOLEUMC-GEJPAHFPSA-N</td>\n",
       "    </tr>\n",
       "    <tr>\n",
       "      <th>1</th>\n",
       "      <td>DB00006</td>\n",
       "      <td>126480209</td>\n",
       "      <td>OIRCOABEOLEUMC-GEJPAHFPSA-N</td>\n",
       "    </tr>\n",
       "    <tr>\n",
       "      <th>2</th>\n",
       "      <td>DB00006</td>\n",
       "      <td>132229728</td>\n",
       "      <td>OIRCOABEOLEUMC-GEJPAHFPSA-N</td>\n",
       "    </tr>\n",
       "    <tr>\n",
       "      <th>3</th>\n",
       "      <td>DB00006</td>\n",
       "      <td>134827539</td>\n",
       "      <td>OIRCOABEOLEUMC-GEJPAHFPSA-N</td>\n",
       "    </tr>\n",
       "    <tr>\n",
       "      <th>4</th>\n",
       "      <td>DB00006</td>\n",
       "      <td>137167482</td>\n",
       "      <td>OIRCOABEOLEUMC-GEJPAHFPSA-N</td>\n",
       "    </tr>\n",
       "  </tbody>\n",
       "</table>\n",
       "</div>"
      ],
      "text/plain": [
       "  drugbank_id  pubchem_id                    inchi_key\n",
       "0     DB00006   101041682  OIRCOABEOLEUMC-GEJPAHFPSA-N\n",
       "1     DB00006   126480209  OIRCOABEOLEUMC-GEJPAHFPSA-N\n",
       "2     DB00006   132229728  OIRCOABEOLEUMC-GEJPAHFPSA-N\n",
       "3     DB00006   134827539  OIRCOABEOLEUMC-GEJPAHFPSA-N\n",
       "4     DB00006   137167482  OIRCOABEOLEUMC-GEJPAHFPSA-N"
      ]
     },
     "execution_count": 6,
     "metadata": {},
     "output_type": "execute_result"
    }
   ],
   "source": [
    "drugbank_mapping.head()"
   ]
  },
  {
   "cell_type": "code",
   "execution_count": 7,
   "metadata": {},
   "outputs": [],
   "source": [
    "# Mapping pubchem IDs to DrugBank IDs\n",
    "df = df.merge(drugbank_mapping)"
   ]
  },
  {
   "cell_type": "code",
   "execution_count": 8,
   "metadata": {},
   "outputs": [
    {
     "data": {
      "text/html": [
       "<div>\n",
       "<style scoped>\n",
       "    .dataframe tbody tr th:only-of-type {\n",
       "        vertical-align: middle;\n",
       "    }\n",
       "\n",
       "    .dataframe tbody tr th {\n",
       "        vertical-align: top;\n",
       "    }\n",
       "\n",
       "    .dataframe thead th {\n",
       "        text-align: right;\n",
       "    }\n",
       "</style>\n",
       "<table border=\"1\" class=\"dataframe\">\n",
       "  <thead>\n",
       "    <tr style=\"text-align: right;\">\n",
       "      <th></th>\n",
       "      <th>attributes</th>\n",
       "      <th>pubchem_id</th>\n",
       "      <th>drugbank_id</th>\n",
       "      <th>inchi_key</th>\n",
       "    </tr>\n",
       "  </thead>\n",
       "  <tbody>\n",
       "    <tr>\n",
       "      <th>0</th>\n",
       "      <td>PCTK3</td>\n",
       "      <td>46191454</td>\n",
       "      <td>DB12686</td>\n",
       "      <td>HUXYBQXJVXOMKX-UHFFFAOYSA-N</td>\n",
       "    </tr>\n",
       "    <tr>\n",
       "      <th>1</th>\n",
       "      <td>YANK1</td>\n",
       "      <td>46191454</td>\n",
       "      <td>DB12686</td>\n",
       "      <td>HUXYBQXJVXOMKX-UHFFFAOYSA-N</td>\n",
       "    </tr>\n",
       "    <tr>\n",
       "      <th>2</th>\n",
       "      <td>RSK4</td>\n",
       "      <td>46191454</td>\n",
       "      <td>DB12686</td>\n",
       "      <td>HUXYBQXJVXOMKX-UHFFFAOYSA-N</td>\n",
       "    </tr>\n",
       "    <tr>\n",
       "      <th>3</th>\n",
       "      <td>MARK2</td>\n",
       "      <td>46191454</td>\n",
       "      <td>DB12686</td>\n",
       "      <td>HUXYBQXJVXOMKX-UHFFFAOYSA-N</td>\n",
       "    </tr>\n",
       "    <tr>\n",
       "      <th>4</th>\n",
       "      <td>ICK</td>\n",
       "      <td>46191454</td>\n",
       "      <td>DB12686</td>\n",
       "      <td>HUXYBQXJVXOMKX-UHFFFAOYSA-N</td>\n",
       "    </tr>\n",
       "  </tbody>\n",
       "</table>\n",
       "</div>"
      ],
      "text/plain": [
       "  attributes  pubchem_id drugbank_id                    inchi_key\n",
       "0      PCTK3    46191454     DB12686  HUXYBQXJVXOMKX-UHFFFAOYSA-N\n",
       "1      YANK1    46191454     DB12686  HUXYBQXJVXOMKX-UHFFFAOYSA-N\n",
       "2       RSK4    46191454     DB12686  HUXYBQXJVXOMKX-UHFFFAOYSA-N\n",
       "3      MARK2    46191454     DB12686  HUXYBQXJVXOMKX-UHFFFAOYSA-N\n",
       "4        ICK    46191454     DB12686  HUXYBQXJVXOMKX-UHFFFAOYSA-N"
      ]
     },
     "execution_count": 8,
     "metadata": {},
     "output_type": "execute_result"
    }
   ],
   "source": [
    "df.head()"
   ]
  },
  {
   "cell_type": "markdown",
   "metadata": {},
   "source": [
    "### Validating all gene names"
   ]
  },
  {
   "cell_type": "code",
   "execution_count": 9,
   "metadata": {},
   "outputs": [],
   "source": [
    "gene_resolver(df,columnName = 'attributes')"
   ]
  },
  {
   "cell_type": "code",
   "execution_count": 10,
   "metadata": {},
   "outputs": [
    {
     "data": {
      "text/html": [
       "<div>\n",
       "<style scoped>\n",
       "    .dataframe tbody tr th:only-of-type {\n",
       "        vertical-align: middle;\n",
       "    }\n",
       "\n",
       "    .dataframe tbody tr th {\n",
       "        vertical-align: top;\n",
       "    }\n",
       "\n",
       "    .dataframe thead th {\n",
       "        text-align: right;\n",
       "    }\n",
       "</style>\n",
       "<table border=\"1\" class=\"dataframe\">\n",
       "  <thead>\n",
       "    <tr style=\"text-align: right;\">\n",
       "      <th></th>\n",
       "      <th>attributes</th>\n",
       "      <th>pubchem_id</th>\n",
       "      <th>drugbank_id</th>\n",
       "      <th>inchi_key</th>\n",
       "      <th>Approved Symbol</th>\n",
       "    </tr>\n",
       "  </thead>\n",
       "  <tbody>\n",
       "    <tr>\n",
       "      <th>0</th>\n",
       "      <td>PCTK3</td>\n",
       "      <td>46191454</td>\n",
       "      <td>DB12686</td>\n",
       "      <td>HUXYBQXJVXOMKX-UHFFFAOYSA-N</td>\n",
       "      <td>CDK18</td>\n",
       "    </tr>\n",
       "    <tr>\n",
       "      <th>1</th>\n",
       "      <td>YANK1</td>\n",
       "      <td>46191454</td>\n",
       "      <td>DB12686</td>\n",
       "      <td>HUXYBQXJVXOMKX-UHFFFAOYSA-N</td>\n",
       "      <td>STK32A</td>\n",
       "    </tr>\n",
       "    <tr>\n",
       "      <th>2</th>\n",
       "      <td>RSK4</td>\n",
       "      <td>46191454</td>\n",
       "      <td>DB12686</td>\n",
       "      <td>HUXYBQXJVXOMKX-UHFFFAOYSA-N</td>\n",
       "      <td>RPS6KA6</td>\n",
       "    </tr>\n",
       "    <tr>\n",
       "      <th>3</th>\n",
       "      <td>MARK2</td>\n",
       "      <td>46191454</td>\n",
       "      <td>DB12686</td>\n",
       "      <td>HUXYBQXJVXOMKX-UHFFFAOYSA-N</td>\n",
       "      <td>MARK2</td>\n",
       "    </tr>\n",
       "    <tr>\n",
       "      <th>4</th>\n",
       "      <td>ICK</td>\n",
       "      <td>46191454</td>\n",
       "      <td>DB12686</td>\n",
       "      <td>HUXYBQXJVXOMKX-UHFFFAOYSA-N</td>\n",
       "      <td>CILK1</td>\n",
       "    </tr>\n",
       "  </tbody>\n",
       "</table>\n",
       "</div>"
      ],
      "text/plain": [
       "  attributes  pubchem_id drugbank_id                    inchi_key  \\\n",
       "0      PCTK3    46191454     DB12686  HUXYBQXJVXOMKX-UHFFFAOYSA-N   \n",
       "1      YANK1    46191454     DB12686  HUXYBQXJVXOMKX-UHFFFAOYSA-N   \n",
       "2       RSK4    46191454     DB12686  HUXYBQXJVXOMKX-UHFFFAOYSA-N   \n",
       "3      MARK2    46191454     DB12686  HUXYBQXJVXOMKX-UHFFFAOYSA-N   \n",
       "4        ICK    46191454     DB12686  HUXYBQXJVXOMKX-UHFFFAOYSA-N   \n",
       "\n",
       "  Approved Symbol  \n",
       "0           CDK18  \n",
       "1          STK32A  \n",
       "2         RPS6KA6  \n",
       "3           MARK2  \n",
       "4           CILK1  "
      ]
     },
     "execution_count": 10,
     "metadata": {},
     "output_type": "execute_result"
    }
   ],
   "source": [
    "df.head()"
   ]
  },
  {
   "cell_type": "code",
   "execution_count": 11,
   "metadata": {},
   "outputs": [
    {
     "data": {
      "text/plain": [
       "3567"
      ]
     },
     "execution_count": 11,
     "metadata": {},
     "output_type": "execute_result"
    }
   ],
   "source": [
    "len(df)"
   ]
  },
  {
   "cell_type": "markdown",
   "metadata": {},
   "source": [
    "### Creating drugsetlibrary and exporting"
   ]
  },
  {
   "cell_type": "code",
   "execution_count": 12,
   "metadata": {},
   "outputs": [],
   "source": [
    "# Creating list of gene names and drug IDs #\n",
    "genes = df['Approved Symbol'].tolist()\n",
    "drugs = df['inchi_key'].tolist()"
   ]
  },
  {
   "cell_type": "code",
   "execution_count": 13,
   "metadata": {},
   "outputs": [],
   "source": [
    "# The input file contains duplicate protein ids matched to unique Drugbank accession numbers #\n",
    "# Tupelizing protein ids and drugbank accession numbers and grouping all corresponding drugbank accession numbers\n",
    "# under one common dictionary key \n",
    "\n",
    "id_dict = tuple(zip(genes, drugs))\n",
    "\n",
    "drugsetlibrary = defaultdict(list)\n",
    "for k, v in id_dict:\n",
    "    drugsetlibrary[k].append(v)"
   ]
  },
  {
   "cell_type": "code",
   "execution_count": 14,
   "metadata": {},
   "outputs": [],
   "source": [
    "# Employing a looser threshold of set-size of at least 3 because of the small library size\n",
    "drugsetlibrary = {k:list(set(v)) for k,v in drugsetlibrary.items() if len(v) > 3} "
   ]
  },
  {
   "cell_type": "code",
   "execution_count": 15,
   "metadata": {},
   "outputs": [],
   "source": [
    "os.chdir('../../data/KinomeScan')"
   ]
  },
  {
   "cell_type": "code",
   "execution_count": 16,
   "metadata": {},
   "outputs": [],
   "source": [
    "# Export drugsetlibrary in gmt format\n",
    "gmt_formatter(drugsetlibrary, 'KinomeScan_kinase_drugsetlibrary.gmt')"
   ]
  },
  {
   "cell_type": "markdown",
   "metadata": {},
   "source": [
    "### Library Counts"
   ]
  },
  {
   "cell_type": "code",
   "execution_count": 17,
   "metadata": {},
   "outputs": [
    {
     "name": "stdout",
     "output_type": "stream",
     "text": [
      "54 unique drugs\n",
      "301 unique association terms\n",
      "2810 unique associations\n",
      "9.335548172757475 average drugs per term\n"
     ]
    }
   ],
   "source": [
    "library_counts(drugsetlibrary)"
   ]
  }
 ],
 "metadata": {
  "kernelspec": {
   "display_name": "Python 3",
   "language": "python",
   "name": "python3"
  },
  "language_info": {
   "codemirror_mode": {
    "name": "ipython",
    "version": 3
   },
   "file_extension": ".py",
   "mimetype": "text/x-python",
   "name": "python",
   "nbconvert_exporter": "python",
   "pygments_lexer": "ipython3",
   "version": "3.6.5"
  }
 },
 "nbformat": 4,
 "nbformat_minor": 2
}
