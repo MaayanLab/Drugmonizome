{
 "cells": [
  {
   "cell_type": "markdown",
   "metadata": {},
   "source": [
    "## STITCH Targets Drugsetlibrary\n",
    "### Each chemical-protein interaction from STITCH is scored on a scale from 150 to 1000 based on the confidence of the interaction. Drug-protein interaction coverage across various cut-offs will be assessed.\n",
    "\n",
    "#### ALL DATABASES ACCESSED 10/2019\n",
    "##### Author : Eryk Kropiwnicki | eryk.kropiwnicki@icahn.mssm.edu"
   ]
  },
  {
   "cell_type": "code",
   "execution_count": 1,
   "metadata": {},
   "outputs": [],
   "source": [
    "import pandas as pd\n",
    "import requests\n",
    "import time\n",
    "import numpy as np\n",
    "import os\n",
    "from collections import defaultdict"
   ]
  },
  {
   "cell_type": "code",
   "execution_count": 2,
   "metadata": {},
   "outputs": [],
   "source": [
    "os.chdir('../../scripts')\n",
    "from export_script import *\n",
    "os.chdir('../notebooks/STITCH')"
   ]
  },
  {
   "cell_type": "markdown",
   "metadata": {},
   "source": [
    "### Importing lookup table for converting STITCH chemical ids to DrugBank IDs"
   ]
  },
  {
   "cell_type": "code",
   "execution_count": 3,
   "metadata": {},
   "outputs": [],
   "source": [
    "interactions = pd.read_csv('input/9606.protein_chemical.links.v5.0.tsv', sep='\\t')"
   ]
  },
  {
   "cell_type": "code",
   "execution_count": 4,
   "metadata": {},
   "outputs": [
    {
     "data": {
      "text/html": [
       "<div>\n",
       "<style scoped>\n",
       "    .dataframe tbody tr th:only-of-type {\n",
       "        vertical-align: middle;\n",
       "    }\n",
       "\n",
       "    .dataframe tbody tr th {\n",
       "        vertical-align: top;\n",
       "    }\n",
       "\n",
       "    .dataframe thead th {\n",
       "        text-align: right;\n",
       "    }\n",
       "</style>\n",
       "<table border=\"1\" class=\"dataframe\">\n",
       "  <thead>\n",
       "    <tr style=\"text-align: right;\">\n",
       "      <th></th>\n",
       "      <th>chemical</th>\n",
       "      <th>protein</th>\n",
       "      <th>combined_score</th>\n",
       "    </tr>\n",
       "  </thead>\n",
       "  <tbody>\n",
       "    <tr>\n",
       "      <th>0</th>\n",
       "      <td>CIDm91758680</td>\n",
       "      <td>9606.ENSP00000257254</td>\n",
       "      <td>279</td>\n",
       "    </tr>\n",
       "    <tr>\n",
       "      <th>1</th>\n",
       "      <td>CIDm91758680</td>\n",
       "      <td>9606.ENSP00000302120</td>\n",
       "      <td>154</td>\n",
       "    </tr>\n",
       "    <tr>\n",
       "      <th>2</th>\n",
       "      <td>CIDm91758408</td>\n",
       "      <td>9606.ENSP00000006777</td>\n",
       "      <td>225</td>\n",
       "    </tr>\n",
       "  </tbody>\n",
       "</table>\n",
       "</div>"
      ],
      "text/plain": [
       "       chemical               protein  combined_score\n",
       "0  CIDm91758680  9606.ENSP00000257254             279\n",
       "1  CIDm91758680  9606.ENSP00000302120             154\n",
       "2  CIDm91758408  9606.ENSP00000006777             225"
      ]
     },
     "execution_count": 4,
     "metadata": {},
     "output_type": "execute_result"
    }
   ],
   "source": [
    "interactions.head(3)"
   ]
  },
  {
   "cell_type": "code",
   "execution_count": 5,
   "metadata": {},
   "outputs": [],
   "source": [
    "# Converting STITCH compound identifier to PubChem ID\n",
    "interactions['pubchem_id'] = interactions['chemical'].apply(lambda x: int(x[4:]))"
   ]
  },
  {
   "cell_type": "code",
   "execution_count": 6,
   "metadata": {},
   "outputs": [
    {
     "data": {
      "text/html": [
       "<div>\n",
       "<style scoped>\n",
       "    .dataframe tbody tr th:only-of-type {\n",
       "        vertical-align: middle;\n",
       "    }\n",
       "\n",
       "    .dataframe tbody tr th {\n",
       "        vertical-align: top;\n",
       "    }\n",
       "\n",
       "    .dataframe thead th {\n",
       "        text-align: right;\n",
       "    }\n",
       "</style>\n",
       "<table border=\"1\" class=\"dataframe\">\n",
       "  <thead>\n",
       "    <tr style=\"text-align: right;\">\n",
       "      <th></th>\n",
       "      <th>chemical</th>\n",
       "      <th>protein</th>\n",
       "      <th>combined_score</th>\n",
       "      <th>pubchem_id</th>\n",
       "    </tr>\n",
       "  </thead>\n",
       "  <tbody>\n",
       "    <tr>\n",
       "      <th>0</th>\n",
       "      <td>CIDm91758680</td>\n",
       "      <td>9606.ENSP00000257254</td>\n",
       "      <td>279</td>\n",
       "      <td>91758680</td>\n",
       "    </tr>\n",
       "    <tr>\n",
       "      <th>1</th>\n",
       "      <td>CIDm91758680</td>\n",
       "      <td>9606.ENSP00000302120</td>\n",
       "      <td>154</td>\n",
       "      <td>91758680</td>\n",
       "    </tr>\n",
       "    <tr>\n",
       "      <th>2</th>\n",
       "      <td>CIDm91758408</td>\n",
       "      <td>9606.ENSP00000006777</td>\n",
       "      <td>225</td>\n",
       "      <td>91758408</td>\n",
       "    </tr>\n",
       "  </tbody>\n",
       "</table>\n",
       "</div>"
      ],
      "text/plain": [
       "       chemical               protein  combined_score  pubchem_id\n",
       "0  CIDm91758680  9606.ENSP00000257254             279    91758680\n",
       "1  CIDm91758680  9606.ENSP00000302120             154    91758680\n",
       "2  CIDm91758408  9606.ENSP00000006777             225    91758408"
      ]
     },
     "execution_count": 6,
     "metadata": {},
     "output_type": "execute_result"
    }
   ],
   "source": [
    "interactions.head(3)"
   ]
  },
  {
   "cell_type": "code",
   "execution_count": 7,
   "metadata": {},
   "outputs": [],
   "source": [
    "# Import DrugBank mapping file\n",
    "drugbank_mapping = pd.read_csv('../../metadata/mapping_files/pubchem.tsv', sep = '\\t')"
   ]
  },
  {
   "cell_type": "code",
   "execution_count": 8,
   "metadata": {},
   "outputs": [
    {
     "data": {
      "text/html": [
       "<div>\n",
       "<style scoped>\n",
       "    .dataframe tbody tr th:only-of-type {\n",
       "        vertical-align: middle;\n",
       "    }\n",
       "\n",
       "    .dataframe tbody tr th {\n",
       "        vertical-align: top;\n",
       "    }\n",
       "\n",
       "    .dataframe thead th {\n",
       "        text-align: right;\n",
       "    }\n",
       "</style>\n",
       "<table border=\"1\" class=\"dataframe\">\n",
       "  <thead>\n",
       "    <tr style=\"text-align: right;\">\n",
       "      <th></th>\n",
       "      <th>drugbank_id</th>\n",
       "      <th>pubchem_id</th>\n",
       "      <th>inchi_key</th>\n",
       "    </tr>\n",
       "  </thead>\n",
       "  <tbody>\n",
       "    <tr>\n",
       "      <th>0</th>\n",
       "      <td>DB00006</td>\n",
       "      <td>101041682</td>\n",
       "      <td>OIRCOABEOLEUMC-GEJPAHFPSA-N</td>\n",
       "    </tr>\n",
       "    <tr>\n",
       "      <th>1</th>\n",
       "      <td>DB00006</td>\n",
       "      <td>126480209</td>\n",
       "      <td>OIRCOABEOLEUMC-GEJPAHFPSA-N</td>\n",
       "    </tr>\n",
       "    <tr>\n",
       "      <th>2</th>\n",
       "      <td>DB00006</td>\n",
       "      <td>132229728</td>\n",
       "      <td>OIRCOABEOLEUMC-GEJPAHFPSA-N</td>\n",
       "    </tr>\n",
       "  </tbody>\n",
       "</table>\n",
       "</div>"
      ],
      "text/plain": [
       "  drugbank_id  pubchem_id                    inchi_key\n",
       "0     DB00006   101041682  OIRCOABEOLEUMC-GEJPAHFPSA-N\n",
       "1     DB00006   126480209  OIRCOABEOLEUMC-GEJPAHFPSA-N\n",
       "2     DB00006   132229728  OIRCOABEOLEUMC-GEJPAHFPSA-N"
      ]
     },
     "execution_count": 8,
     "metadata": {},
     "output_type": "execute_result"
    }
   ],
   "source": [
    "drugbank_mapping.head(3)"
   ]
  },
  {
   "cell_type": "code",
   "execution_count": 9,
   "metadata": {},
   "outputs": [],
   "source": [
    "interactions_drugbank = interactions.merge(drugbank_mapping)"
   ]
  },
  {
   "cell_type": "code",
   "execution_count": 10,
   "metadata": {},
   "outputs": [
    {
     "data": {
      "text/html": [
       "<div>\n",
       "<style scoped>\n",
       "    .dataframe tbody tr th:only-of-type {\n",
       "        vertical-align: middle;\n",
       "    }\n",
       "\n",
       "    .dataframe tbody tr th {\n",
       "        vertical-align: top;\n",
       "    }\n",
       "\n",
       "    .dataframe thead th {\n",
       "        text-align: right;\n",
       "    }\n",
       "</style>\n",
       "<table border=\"1\" class=\"dataframe\">\n",
       "  <thead>\n",
       "    <tr style=\"text-align: right;\">\n",
       "      <th></th>\n",
       "      <th>chemical</th>\n",
       "      <th>protein</th>\n",
       "      <th>combined_score</th>\n",
       "      <th>pubchem_id</th>\n",
       "      <th>drugbank_id</th>\n",
       "      <th>inchi_key</th>\n",
       "    </tr>\n",
       "  </thead>\n",
       "  <tbody>\n",
       "    <tr>\n",
       "      <th>0</th>\n",
       "      <td>CIDm91758271</td>\n",
       "      <td>9606.ENSP00000012134</td>\n",
       "      <td>194</td>\n",
       "      <td>91758271</td>\n",
       "      <td>DB00683</td>\n",
       "      <td>DDLIGBOFAVUZHB-UHFFFAOYSA-N</td>\n",
       "    </tr>\n",
       "    <tr>\n",
       "      <th>1</th>\n",
       "      <td>CIDm91758271</td>\n",
       "      <td>9606.ENSP00000012134</td>\n",
       "      <td>194</td>\n",
       "      <td>91758271</td>\n",
       "      <td>DB00813</td>\n",
       "      <td>PJMPHNIQZUBGLI-UHFFFAOYSA-N</td>\n",
       "    </tr>\n",
       "    <tr>\n",
       "      <th>2</th>\n",
       "      <td>CIDm91758271</td>\n",
       "      <td>9606.ENSP00000181383</td>\n",
       "      <td>162</td>\n",
       "      <td>91758271</td>\n",
       "      <td>DB00683</td>\n",
       "      <td>DDLIGBOFAVUZHB-UHFFFAOYSA-N</td>\n",
       "    </tr>\n",
       "    <tr>\n",
       "      <th>3</th>\n",
       "      <td>CIDm91758271</td>\n",
       "      <td>9606.ENSP00000181383</td>\n",
       "      <td>162</td>\n",
       "      <td>91758271</td>\n",
       "      <td>DB00813</td>\n",
       "      <td>PJMPHNIQZUBGLI-UHFFFAOYSA-N</td>\n",
       "    </tr>\n",
       "    <tr>\n",
       "      <th>4</th>\n",
       "      <td>CIDm91758271</td>\n",
       "      <td>9606.ENSP00000200652</td>\n",
       "      <td>168</td>\n",
       "      <td>91758271</td>\n",
       "      <td>DB00683</td>\n",
       "      <td>DDLIGBOFAVUZHB-UHFFFAOYSA-N</td>\n",
       "    </tr>\n",
       "  </tbody>\n",
       "</table>\n",
       "</div>"
      ],
      "text/plain": [
       "       chemical               protein  combined_score  pubchem_id drugbank_id  \\\n",
       "0  CIDm91758271  9606.ENSP00000012134             194    91758271     DB00683   \n",
       "1  CIDm91758271  9606.ENSP00000012134             194    91758271     DB00813   \n",
       "2  CIDm91758271  9606.ENSP00000181383             162    91758271     DB00683   \n",
       "3  CIDm91758271  9606.ENSP00000181383             162    91758271     DB00813   \n",
       "4  CIDm91758271  9606.ENSP00000200652             168    91758271     DB00683   \n",
       "\n",
       "                     inchi_key  \n",
       "0  DDLIGBOFAVUZHB-UHFFFAOYSA-N  \n",
       "1  PJMPHNIQZUBGLI-UHFFFAOYSA-N  \n",
       "2  DDLIGBOFAVUZHB-UHFFFAOYSA-N  \n",
       "3  PJMPHNIQZUBGLI-UHFFFAOYSA-N  \n",
       "4  DDLIGBOFAVUZHB-UHFFFAOYSA-N  "
      ]
     },
     "execution_count": 10,
     "metadata": {},
     "output_type": "execute_result"
    }
   ],
   "source": [
    "interactions_drugbank.head()"
   ]
  },
  {
   "cell_type": "markdown",
   "metadata": {},
   "source": [
    "### Importing protein ID to entrez gene symbol mapping lookup table"
   ]
  },
  {
   "cell_type": "code",
   "execution_count": 11,
   "metadata": {},
   "outputs": [],
   "source": [
    "entrez_lookup = pd.read_csv('input/STRING_to_entrez.csv')"
   ]
  },
  {
   "cell_type": "markdown",
   "metadata": {},
   "source": [
    "### Importing library specific functions for parsing data"
   ]
  },
  {
   "cell_type": "code",
   "execution_count": 12,
   "metadata": {},
   "outputs": [],
   "source": [
    "def get_interactionlist(score_cutoff, interactions, entrez_lookup):\n",
    "    '''\n",
    "    Returns an 'interaction list' representation of a dataframe\n",
    "    This is an nx2 pandas.DataFrame where each row gives a gene and corresponding drug, e.g.\n",
    "        gene    drug\n",
    "        MSRA    CHEMBL406270\n",
    "        TIP1    CHEMBL406270\n",
    "        EPN1    CHEMBL279107\n",
    "        TIP1    CHEMBL47181\n",
    "        ...     ...\n",
    "\n",
    "    Parameters:\n",
    "    score_cutoff (int): Specifies cut-off value for interaction_scores between chemicals and proteins\n",
    "    interactions (dataframe) : input DataFrame of chemical-protein interactions\n",
    "    '''\n",
    "\n",
    "    print('removing low-confidence interactions')\n",
    "    interactions = interactions.loc[interactions['combined_score']>= score_cutoff]\n",
    "\n",
    "    print('converting STRING protein ids to gene symbols')\n",
    "    # Use protein lookup table to convert STRING protein ids to Entrez Gene Symbols\n",
    "    # The .merge pandas function will only combine based on common STITCH protein identifiers between the interactions dataframe and protein lookup table, thus removing\n",
    "    # STRING protein ids paired to unapproved symbols\n",
    "    interactions = entrez_lookup.merge(interactions)\n",
    "\n",
    "    print('returning output')\n",
    "    #Keeping the combined_score column\n",
    "    interactions = interactions.loc[~interactions['protein'].isnull().values,]\n",
    "    interactions = interactions.loc[~interactions['drugbank_id'].isnull().values,]\n",
    "    interactions = interactions.drop_duplicates(subset=['protein','drugbank_id'])\n",
    "\n",
    "    # Calculating average number of protein interactions for each chemical\n",
    "    count = interactions[['drugbank_id','gene symbol']].describe()\n",
    "    print('')\n",
    "    print(count)\n",
    "    print('')\n",
    "    interact_number= str((count.iloc[0]['drugbank_id'])/(count.iloc[1]['drugbank_id']))\n",
    "    print('Average chemical-protein interactions: ' + interact_number)\n",
    "\n",
    "    return interactions\n",
    "\n",
    "def drugsetlibrary_converter(interactions, cutoff = 5):\n",
    "    # Tupelizing the lists of gene symbols and chemical names so that duplicate protein ids paired to each compound id remain unique \n",
    "    id_dict = tuple(zip(interactions['approved symbol'].tolist(), interactions['inchi_key'].tolist()))\n",
    "\n",
    "    # Creating a drug-set library where gene symbols are matched to all chemicals with which they are associated \n",
    "    drugsetlibrary = defaultdict(list)\n",
    "    for k, v in id_dict:\n",
    "        drugsetlibrary[k].append(v)\n",
    "\n",
    "    # Retaining drug-sets with only specified cutoff number of drugs per set\n",
    "    drugsetlibrary = {k:list(set(v)) for k,v in drugsetlibrary.items() if len(set(v))>=cutoff} # Cutoff can be user-specified (default = 5)\n",
    "\n",
    "    return drugsetlibrary"
   ]
  },
  {
   "cell_type": "markdown",
   "metadata": {},
   "source": [
    "### Each chemical-protein interaction is scored on a scale from 150 to 1000 based on the confidence of the interaction\n",
    "### Filtering the interaction list by combined_score cutoff ranging from 500-900\n",
    "#### Input Files: STRING_to_Entrez.tsv (generated from STRING_to_Entrez.ipynb) | 9606.protein_chemical.links (http://stitch.embl.de/cgi/download.pl?UserId=RZH952LT3dmF&sessionId=8ndHqEEYWEuz&species_text=Homo+sapiens)"
   ]
  },
  {
   "cell_type": "markdown",
   "metadata": {},
   "source": [
    "## 500"
   ]
  },
  {
   "cell_type": "code",
   "execution_count": 13,
   "metadata": {
    "scrolled": false
   },
   "outputs": [
    {
     "name": "stdout",
     "output_type": "stream",
     "text": [
      "removing low-confidence interactions\n",
      "converting STRING protein ids to gene symbols\n",
      "returning output\n",
      "\n",
      "       drugbank_id gene symbol\n",
      "count       813345      813345\n",
      "unique        7357       11467\n",
      "top        DB14497        NOS3\n",
      "freq          5825         609\n",
      "\n",
      "Average chemical-protein interactions: 110.55389425037379\n"
     ]
    }
   ],
   "source": [
    "interactions_500 = get_interactionlist(500, interactions_drugbank, entrez_lookup)"
   ]
  },
  {
   "cell_type": "code",
   "execution_count": 14,
   "metadata": {},
   "outputs": [
    {
     "data": {
      "text/html": [
       "<div>\n",
       "<style scoped>\n",
       "    .dataframe tbody tr th:only-of-type {\n",
       "        vertical-align: middle;\n",
       "    }\n",
       "\n",
       "    .dataframe tbody tr th {\n",
       "        vertical-align: top;\n",
       "    }\n",
       "\n",
       "    .dataframe thead th {\n",
       "        text-align: right;\n",
       "    }\n",
       "</style>\n",
       "<table border=\"1\" class=\"dataframe\">\n",
       "  <thead>\n",
       "    <tr style=\"text-align: right;\">\n",
       "      <th></th>\n",
       "      <th>protein</th>\n",
       "      <th>gene symbol</th>\n",
       "      <th>approved symbol</th>\n",
       "      <th>chemical</th>\n",
       "      <th>combined_score</th>\n",
       "      <th>pubchem_id</th>\n",
       "      <th>drugbank_id</th>\n",
       "      <th>inchi_key</th>\n",
       "    </tr>\n",
       "  </thead>\n",
       "  <tbody>\n",
       "    <tr>\n",
       "      <th>0</th>\n",
       "      <td>9606.ENSP00000376139</td>\n",
       "      <td>WDR45L</td>\n",
       "      <td>WDR45B</td>\n",
       "      <td>CIDm00001117</td>\n",
       "      <td>704</td>\n",
       "      <td>1117</td>\n",
       "      <td>DB00653</td>\n",
       "      <td>CSNNHWWHGAXBCP-UHFFFAOYSA-L</td>\n",
       "    </tr>\n",
       "    <tr>\n",
       "      <th>1</th>\n",
       "      <td>9606.ENSP00000376139</td>\n",
       "      <td>WDR45L</td>\n",
       "      <td>WDR45B</td>\n",
       "      <td>CIDm00001117</td>\n",
       "      <td>704</td>\n",
       "      <td>1117</td>\n",
       "      <td>DB06778</td>\n",
       "      <td>ARUVKPQLZAKDPS-UHFFFAOYSA-L</td>\n",
       "    </tr>\n",
       "    <tr>\n",
       "      <th>2</th>\n",
       "      <td>9606.ENSP00000376139</td>\n",
       "      <td>WDR45L</td>\n",
       "      <td>WDR45B</td>\n",
       "      <td>CIDm00001117</td>\n",
       "      <td>704</td>\n",
       "      <td>1117</td>\n",
       "      <td>DB08938</td>\n",
       "      <td>SPPNVMTVMQOKSC-UHFFFAOYSA-A</td>\n",
       "    </tr>\n",
       "    <tr>\n",
       "      <th>3</th>\n",
       "      <td>9606.ENSP00000376139</td>\n",
       "      <td>WDR45L</td>\n",
       "      <td>WDR45B</td>\n",
       "      <td>CIDm00001117</td>\n",
       "      <td>704</td>\n",
       "      <td>1117</td>\n",
       "      <td>DB09087</td>\n",
       "      <td>GRLPQNLYRHEGIJ-UHFFFAOYSA-J</td>\n",
       "    </tr>\n",
       "    <tr>\n",
       "      <th>4</th>\n",
       "      <td>9606.ENSP00000376139</td>\n",
       "      <td>WDR45L</td>\n",
       "      <td>WDR45B</td>\n",
       "      <td>CIDm00001117</td>\n",
       "      <td>704</td>\n",
       "      <td>1117</td>\n",
       "      <td>DB09322</td>\n",
       "      <td>NWONKYPBYAMBJT-UHFFFAOYSA-L</td>\n",
       "    </tr>\n",
       "  </tbody>\n",
       "</table>\n",
       "</div>"
      ],
      "text/plain": [
       "                protein gene symbol approved symbol      chemical  \\\n",
       "0  9606.ENSP00000376139      WDR45L          WDR45B  CIDm00001117   \n",
       "1  9606.ENSP00000376139      WDR45L          WDR45B  CIDm00001117   \n",
       "2  9606.ENSP00000376139      WDR45L          WDR45B  CIDm00001117   \n",
       "3  9606.ENSP00000376139      WDR45L          WDR45B  CIDm00001117   \n",
       "4  9606.ENSP00000376139      WDR45L          WDR45B  CIDm00001117   \n",
       "\n",
       "   combined_score  pubchem_id drugbank_id                    inchi_key  \n",
       "0             704        1117     DB00653  CSNNHWWHGAXBCP-UHFFFAOYSA-L  \n",
       "1             704        1117     DB06778  ARUVKPQLZAKDPS-UHFFFAOYSA-L  \n",
       "2             704        1117     DB08938  SPPNVMTVMQOKSC-UHFFFAOYSA-A  \n",
       "3             704        1117     DB09087  GRLPQNLYRHEGIJ-UHFFFAOYSA-J  \n",
       "4             704        1117     DB09322  NWONKYPBYAMBJT-UHFFFAOYSA-L  "
      ]
     },
     "execution_count": 14,
     "metadata": {},
     "output_type": "execute_result"
    }
   ],
   "source": [
    "interactions_500.head()"
   ]
  },
  {
   "cell_type": "code",
   "execution_count": 15,
   "metadata": {},
   "outputs": [],
   "source": [
    "drugsetlibrary_500 = drugsetlibrary_converter(interactions_500)"
   ]
  },
  {
   "cell_type": "code",
   "execution_count": 16,
   "metadata": {},
   "outputs": [
    {
     "name": "stdout",
     "output_type": "stream",
     "text": [
      "7303 unique drugs\n",
      "9063 unique association terms\n",
      "807127 unique associations\n",
      "89.05737614476443 average drugs per term\n"
     ]
    }
   ],
   "source": [
    "library_counts(drugsetlibrary_500)"
   ]
  },
  {
   "cell_type": "code",
   "execution_count": 17,
   "metadata": {},
   "outputs": [],
   "source": [
    "gmt_formatter(drugsetlibrary_500, '../../data/STITCH/STITCH_target_drugsetlibrary.gmt')"
   ]
  },
  {
   "cell_type": "markdown",
   "metadata": {},
   "source": [
    "## 600"
   ]
  },
  {
   "cell_type": "code",
   "execution_count": 18,
   "metadata": {},
   "outputs": [
    {
     "name": "stdout",
     "output_type": "stream",
     "text": [
      "removing low-confidence interactions\n",
      "converting STRING protein ids to gene symbols\n",
      "returning output\n",
      "\n",
      "       drugbank_id gene symbol\n",
      "count       663620      663620\n",
      "unique        7059       10453\n",
      "top        DB14497        NOS3\n",
      "freq          5213         570\n",
      "\n",
      "Average chemical-protein interactions: 94.01048307125656\n"
     ]
    }
   ],
   "source": [
    "interactions_600 = get_interactionlist(600, interactions_drugbank, entrez_lookup)"
   ]
  },
  {
   "cell_type": "code",
   "execution_count": 19,
   "metadata": {},
   "outputs": [
    {
     "data": {
      "text/html": [
       "<div>\n",
       "<style scoped>\n",
       "    .dataframe tbody tr th:only-of-type {\n",
       "        vertical-align: middle;\n",
       "    }\n",
       "\n",
       "    .dataframe tbody tr th {\n",
       "        vertical-align: top;\n",
       "    }\n",
       "\n",
       "    .dataframe thead th {\n",
       "        text-align: right;\n",
       "    }\n",
       "</style>\n",
       "<table border=\"1\" class=\"dataframe\">\n",
       "  <thead>\n",
       "    <tr style=\"text-align: right;\">\n",
       "      <th></th>\n",
       "      <th>protein</th>\n",
       "      <th>gene symbol</th>\n",
       "      <th>approved symbol</th>\n",
       "      <th>chemical</th>\n",
       "      <th>combined_score</th>\n",
       "      <th>pubchem_id</th>\n",
       "      <th>drugbank_id</th>\n",
       "      <th>inchi_key</th>\n",
       "    </tr>\n",
       "  </thead>\n",
       "  <tbody>\n",
       "    <tr>\n",
       "      <th>0</th>\n",
       "      <td>9606.ENSP00000376139</td>\n",
       "      <td>WDR45L</td>\n",
       "      <td>WDR45B</td>\n",
       "      <td>CIDm00001117</td>\n",
       "      <td>704</td>\n",
       "      <td>1117</td>\n",
       "      <td>DB00653</td>\n",
       "      <td>CSNNHWWHGAXBCP-UHFFFAOYSA-L</td>\n",
       "    </tr>\n",
       "    <tr>\n",
       "      <th>1</th>\n",
       "      <td>9606.ENSP00000376139</td>\n",
       "      <td>WDR45L</td>\n",
       "      <td>WDR45B</td>\n",
       "      <td>CIDm00001117</td>\n",
       "      <td>704</td>\n",
       "      <td>1117</td>\n",
       "      <td>DB06778</td>\n",
       "      <td>ARUVKPQLZAKDPS-UHFFFAOYSA-L</td>\n",
       "    </tr>\n",
       "    <tr>\n",
       "      <th>2</th>\n",
       "      <td>9606.ENSP00000376139</td>\n",
       "      <td>WDR45L</td>\n",
       "      <td>WDR45B</td>\n",
       "      <td>CIDm00001117</td>\n",
       "      <td>704</td>\n",
       "      <td>1117</td>\n",
       "      <td>DB08938</td>\n",
       "      <td>SPPNVMTVMQOKSC-UHFFFAOYSA-A</td>\n",
       "    </tr>\n",
       "    <tr>\n",
       "      <th>3</th>\n",
       "      <td>9606.ENSP00000376139</td>\n",
       "      <td>WDR45L</td>\n",
       "      <td>WDR45B</td>\n",
       "      <td>CIDm00001117</td>\n",
       "      <td>704</td>\n",
       "      <td>1117</td>\n",
       "      <td>DB09087</td>\n",
       "      <td>GRLPQNLYRHEGIJ-UHFFFAOYSA-J</td>\n",
       "    </tr>\n",
       "    <tr>\n",
       "      <th>4</th>\n",
       "      <td>9606.ENSP00000376139</td>\n",
       "      <td>WDR45L</td>\n",
       "      <td>WDR45B</td>\n",
       "      <td>CIDm00001117</td>\n",
       "      <td>704</td>\n",
       "      <td>1117</td>\n",
       "      <td>DB09322</td>\n",
       "      <td>NWONKYPBYAMBJT-UHFFFAOYSA-L</td>\n",
       "    </tr>\n",
       "  </tbody>\n",
       "</table>\n",
       "</div>"
      ],
      "text/plain": [
       "                protein gene symbol approved symbol      chemical  \\\n",
       "0  9606.ENSP00000376139      WDR45L          WDR45B  CIDm00001117   \n",
       "1  9606.ENSP00000376139      WDR45L          WDR45B  CIDm00001117   \n",
       "2  9606.ENSP00000376139      WDR45L          WDR45B  CIDm00001117   \n",
       "3  9606.ENSP00000376139      WDR45L          WDR45B  CIDm00001117   \n",
       "4  9606.ENSP00000376139      WDR45L          WDR45B  CIDm00001117   \n",
       "\n",
       "   combined_score  pubchem_id drugbank_id                    inchi_key  \n",
       "0             704        1117     DB00653  CSNNHWWHGAXBCP-UHFFFAOYSA-L  \n",
       "1             704        1117     DB06778  ARUVKPQLZAKDPS-UHFFFAOYSA-L  \n",
       "2             704        1117     DB08938  SPPNVMTVMQOKSC-UHFFFAOYSA-A  \n",
       "3             704        1117     DB09087  GRLPQNLYRHEGIJ-UHFFFAOYSA-J  \n",
       "4             704        1117     DB09322  NWONKYPBYAMBJT-UHFFFAOYSA-L  "
      ]
     },
     "execution_count": 19,
     "metadata": {},
     "output_type": "execute_result"
    }
   ],
   "source": [
    "interactions_600.head()"
   ]
  },
  {
   "cell_type": "markdown",
   "metadata": {},
   "source": [
    "## 700"
   ]
  },
  {
   "cell_type": "code",
   "execution_count": 20,
   "metadata": {},
   "outputs": [
    {
     "name": "stdout",
     "output_type": "stream",
     "text": [
      "removing low-confidence interactions\n",
      "converting STRING protein ids to gene symbols\n",
      "returning output\n",
      "\n",
      "       drugbank_id gene symbol\n",
      "count       524417      524417\n",
      "unique        6708        9418\n",
      "top        DB14497       CASP3\n",
      "freq          4453         525\n",
      "\n",
      "Average chemical-protein interactions: 78.177847346452\n"
     ]
    }
   ],
   "source": [
    "interactions_700 = get_interactionlist(700, interactions_drugbank, entrez_lookup)"
   ]
  },
  {
   "cell_type": "code",
   "execution_count": 21,
   "metadata": {},
   "outputs": [
    {
     "data": {
      "text/html": [
       "<div>\n",
       "<style scoped>\n",
       "    .dataframe tbody tr th:only-of-type {\n",
       "        vertical-align: middle;\n",
       "    }\n",
       "\n",
       "    .dataframe tbody tr th {\n",
       "        vertical-align: top;\n",
       "    }\n",
       "\n",
       "    .dataframe thead th {\n",
       "        text-align: right;\n",
       "    }\n",
       "</style>\n",
       "<table border=\"1\" class=\"dataframe\">\n",
       "  <thead>\n",
       "    <tr style=\"text-align: right;\">\n",
       "      <th></th>\n",
       "      <th>protein</th>\n",
       "      <th>gene symbol</th>\n",
       "      <th>approved symbol</th>\n",
       "      <th>chemical</th>\n",
       "      <th>combined_score</th>\n",
       "      <th>pubchem_id</th>\n",
       "      <th>drugbank_id</th>\n",
       "      <th>inchi_key</th>\n",
       "    </tr>\n",
       "  </thead>\n",
       "  <tbody>\n",
       "    <tr>\n",
       "      <th>0</th>\n",
       "      <td>9606.ENSP00000376139</td>\n",
       "      <td>WDR45L</td>\n",
       "      <td>WDR45B</td>\n",
       "      <td>CIDm00001117</td>\n",
       "      <td>704</td>\n",
       "      <td>1117</td>\n",
       "      <td>DB00653</td>\n",
       "      <td>CSNNHWWHGAXBCP-UHFFFAOYSA-L</td>\n",
       "    </tr>\n",
       "    <tr>\n",
       "      <th>1</th>\n",
       "      <td>9606.ENSP00000376139</td>\n",
       "      <td>WDR45L</td>\n",
       "      <td>WDR45B</td>\n",
       "      <td>CIDm00001117</td>\n",
       "      <td>704</td>\n",
       "      <td>1117</td>\n",
       "      <td>DB06778</td>\n",
       "      <td>ARUVKPQLZAKDPS-UHFFFAOYSA-L</td>\n",
       "    </tr>\n",
       "    <tr>\n",
       "      <th>2</th>\n",
       "      <td>9606.ENSP00000376139</td>\n",
       "      <td>WDR45L</td>\n",
       "      <td>WDR45B</td>\n",
       "      <td>CIDm00001117</td>\n",
       "      <td>704</td>\n",
       "      <td>1117</td>\n",
       "      <td>DB08938</td>\n",
       "      <td>SPPNVMTVMQOKSC-UHFFFAOYSA-A</td>\n",
       "    </tr>\n",
       "    <tr>\n",
       "      <th>3</th>\n",
       "      <td>9606.ENSP00000376139</td>\n",
       "      <td>WDR45L</td>\n",
       "      <td>WDR45B</td>\n",
       "      <td>CIDm00001117</td>\n",
       "      <td>704</td>\n",
       "      <td>1117</td>\n",
       "      <td>DB09087</td>\n",
       "      <td>GRLPQNLYRHEGIJ-UHFFFAOYSA-J</td>\n",
       "    </tr>\n",
       "    <tr>\n",
       "      <th>4</th>\n",
       "      <td>9606.ENSP00000376139</td>\n",
       "      <td>WDR45L</td>\n",
       "      <td>WDR45B</td>\n",
       "      <td>CIDm00001117</td>\n",
       "      <td>704</td>\n",
       "      <td>1117</td>\n",
       "      <td>DB09322</td>\n",
       "      <td>NWONKYPBYAMBJT-UHFFFAOYSA-L</td>\n",
       "    </tr>\n",
       "  </tbody>\n",
       "</table>\n",
       "</div>"
      ],
      "text/plain": [
       "                protein gene symbol approved symbol      chemical  \\\n",
       "0  9606.ENSP00000376139      WDR45L          WDR45B  CIDm00001117   \n",
       "1  9606.ENSP00000376139      WDR45L          WDR45B  CIDm00001117   \n",
       "2  9606.ENSP00000376139      WDR45L          WDR45B  CIDm00001117   \n",
       "3  9606.ENSP00000376139      WDR45L          WDR45B  CIDm00001117   \n",
       "4  9606.ENSP00000376139      WDR45L          WDR45B  CIDm00001117   \n",
       "\n",
       "   combined_score  pubchem_id drugbank_id                    inchi_key  \n",
       "0             704        1117     DB00653  CSNNHWWHGAXBCP-UHFFFAOYSA-L  \n",
       "1             704        1117     DB06778  ARUVKPQLZAKDPS-UHFFFAOYSA-L  \n",
       "2             704        1117     DB08938  SPPNVMTVMQOKSC-UHFFFAOYSA-A  \n",
       "3             704        1117     DB09087  GRLPQNLYRHEGIJ-UHFFFAOYSA-J  \n",
       "4             704        1117     DB09322  NWONKYPBYAMBJT-UHFFFAOYSA-L  "
      ]
     },
     "execution_count": 21,
     "metadata": {},
     "output_type": "execute_result"
    }
   ],
   "source": [
    "interactions_700.head()"
   ]
  },
  {
   "cell_type": "markdown",
   "metadata": {},
   "source": [
    "## 800"
   ]
  },
  {
   "cell_type": "code",
   "execution_count": 22,
   "metadata": {},
   "outputs": [
    {
     "name": "stdout",
     "output_type": "stream",
     "text": [
      "removing low-confidence interactions\n",
      "converting STRING protein ids to gene symbols\n",
      "returning output\n",
      "\n",
      "       drugbank_id gene symbol\n",
      "count       430182      430182\n",
      "unique        6306        8382\n",
      "top        DB14497        NOS3\n",
      "freq          3837         440\n",
      "\n",
      "Average chemical-protein interactions: 68.21788772597526\n"
     ]
    }
   ],
   "source": [
    "interactions_800 = get_interactionlist(800, interactions_drugbank, entrez_lookup)"
   ]
  },
  {
   "cell_type": "code",
   "execution_count": 23,
   "metadata": {},
   "outputs": [
    {
     "data": {
      "text/html": [
       "<div>\n",
       "<style scoped>\n",
       "    .dataframe tbody tr th:only-of-type {\n",
       "        vertical-align: middle;\n",
       "    }\n",
       "\n",
       "    .dataframe tbody tr th {\n",
       "        vertical-align: top;\n",
       "    }\n",
       "\n",
       "    .dataframe thead th {\n",
       "        text-align: right;\n",
       "    }\n",
       "</style>\n",
       "<table border=\"1\" class=\"dataframe\">\n",
       "  <thead>\n",
       "    <tr style=\"text-align: right;\">\n",
       "      <th></th>\n",
       "      <th>protein</th>\n",
       "      <th>gene symbol</th>\n",
       "      <th>approved symbol</th>\n",
       "      <th>chemical</th>\n",
       "      <th>combined_score</th>\n",
       "      <th>pubchem_id</th>\n",
       "      <th>drugbank_id</th>\n",
       "      <th>inchi_key</th>\n",
       "    </tr>\n",
       "  </thead>\n",
       "  <tbody>\n",
       "    <tr>\n",
       "      <th>0</th>\n",
       "      <td>9606.ENSP00000264935</td>\n",
       "      <td>CEP72</td>\n",
       "      <td>CEP72</td>\n",
       "      <td>CIDm00000238</td>\n",
       "      <td>900</td>\n",
       "      <td>238</td>\n",
       "      <td>DB00171</td>\n",
       "      <td>ZKHQWZAMYRWXGA-KQYNXXCUSA-N</td>\n",
       "    </tr>\n",
       "    <tr>\n",
       "      <th>2</th>\n",
       "      <td>9606.ENSP00000218316</td>\n",
       "      <td>GPR50</td>\n",
       "      <td>GPR50</td>\n",
       "      <td>CIDm00082148</td>\n",
       "      <td>828</td>\n",
       "      <td>82148</td>\n",
       "      <td>DB06594</td>\n",
       "      <td>YJYPHIXNFHFHND-UHFFFAOYSA-N</td>\n",
       "    </tr>\n",
       "    <tr>\n",
       "      <th>4</th>\n",
       "      <td>9606.ENSP00000218316</td>\n",
       "      <td>GPR50</td>\n",
       "      <td>GPR50</td>\n",
       "      <td>CIDm00000896</td>\n",
       "      <td>992</td>\n",
       "      <td>896</td>\n",
       "      <td>DB01065</td>\n",
       "      <td>DRLFMBDRBRZALE-UHFFFAOYSA-N</td>\n",
       "    </tr>\n",
       "    <tr>\n",
       "      <th>6</th>\n",
       "      <td>9606.ENSP00000420270</td>\n",
       "      <td>UHMK1</td>\n",
       "      <td>UHMK1</td>\n",
       "      <td>CIDm00000238</td>\n",
       "      <td>819</td>\n",
       "      <td>238</td>\n",
       "      <td>DB00171</td>\n",
       "      <td>ZKHQWZAMYRWXGA-KQYNXXCUSA-N</td>\n",
       "    </tr>\n",
       "    <tr>\n",
       "      <th>8</th>\n",
       "      <td>9606.ENSP00000342952</td>\n",
       "      <td>ADCY2</td>\n",
       "      <td>ADCY2</td>\n",
       "      <td>CIDm03052762</td>\n",
       "      <td>800</td>\n",
       "      <td>3052762</td>\n",
       "      <td>DB06480</td>\n",
       "      <td>ZPMNHBXQOOVQJL-UHFFFAOYSA-N</td>\n",
       "    </tr>\n",
       "  </tbody>\n",
       "</table>\n",
       "</div>"
      ],
      "text/plain": [
       "                protein gene symbol approved symbol      chemical  \\\n",
       "0  9606.ENSP00000264935       CEP72           CEP72  CIDm00000238   \n",
       "2  9606.ENSP00000218316       GPR50           GPR50  CIDm00082148   \n",
       "4  9606.ENSP00000218316       GPR50           GPR50  CIDm00000896   \n",
       "6  9606.ENSP00000420270       UHMK1           UHMK1  CIDm00000238   \n",
       "8  9606.ENSP00000342952       ADCY2           ADCY2  CIDm03052762   \n",
       "\n",
       "   combined_score  pubchem_id drugbank_id                    inchi_key  \n",
       "0             900         238     DB00171  ZKHQWZAMYRWXGA-KQYNXXCUSA-N  \n",
       "2             828       82148     DB06594  YJYPHIXNFHFHND-UHFFFAOYSA-N  \n",
       "4             992         896     DB01065  DRLFMBDRBRZALE-UHFFFAOYSA-N  \n",
       "6             819         238     DB00171  ZKHQWZAMYRWXGA-KQYNXXCUSA-N  \n",
       "8             800     3052762     DB06480  ZPMNHBXQOOVQJL-UHFFFAOYSA-N  "
      ]
     },
     "execution_count": 23,
     "metadata": {},
     "output_type": "execute_result"
    }
   ],
   "source": [
    "interactions_800.head()"
   ]
  },
  {
   "cell_type": "markdown",
   "metadata": {},
   "source": [
    "## 900"
   ]
  },
  {
   "cell_type": "code",
   "execution_count": 24,
   "metadata": {},
   "outputs": [
    {
     "name": "stdout",
     "output_type": "stream",
     "text": [
      "removing low-confidence interactions\n",
      "converting STRING protein ids to gene symbols\n",
      "returning output\n",
      "\n",
      "       drugbank_id gene symbol\n",
      "count       259756      259756\n",
      "unique        4736        5955\n",
      "top        DB14481        NOS3\n",
      "freq          2888         336\n",
      "\n",
      "Average chemical-protein interactions: 54.84712837837838\n"
     ]
    }
   ],
   "source": [
    "interactions_900 = get_interactionlist(900, interactions_drugbank, entrez_lookup)"
   ]
  },
  {
   "cell_type": "code",
   "execution_count": 25,
   "metadata": {},
   "outputs": [
    {
     "data": {
      "text/html": [
       "<div>\n",
       "<style scoped>\n",
       "    .dataframe tbody tr th:only-of-type {\n",
       "        vertical-align: middle;\n",
       "    }\n",
       "\n",
       "    .dataframe tbody tr th {\n",
       "        vertical-align: top;\n",
       "    }\n",
       "\n",
       "    .dataframe thead th {\n",
       "        text-align: right;\n",
       "    }\n",
       "</style>\n",
       "<table border=\"1\" class=\"dataframe\">\n",
       "  <thead>\n",
       "    <tr style=\"text-align: right;\">\n",
       "      <th></th>\n",
       "      <th>protein</th>\n",
       "      <th>gene symbol</th>\n",
       "      <th>approved symbol</th>\n",
       "      <th>chemical</th>\n",
       "      <th>combined_score</th>\n",
       "      <th>pubchem_id</th>\n",
       "      <th>drugbank_id</th>\n",
       "      <th>inchi_key</th>\n",
       "    </tr>\n",
       "  </thead>\n",
       "  <tbody>\n",
       "    <tr>\n",
       "      <th>0</th>\n",
       "      <td>9606.ENSP00000264935</td>\n",
       "      <td>CEP72</td>\n",
       "      <td>CEP72</td>\n",
       "      <td>CIDm00000238</td>\n",
       "      <td>900</td>\n",
       "      <td>238</td>\n",
       "      <td>DB00171</td>\n",
       "      <td>ZKHQWZAMYRWXGA-KQYNXXCUSA-N</td>\n",
       "    </tr>\n",
       "    <tr>\n",
       "      <th>2</th>\n",
       "      <td>9606.ENSP00000218316</td>\n",
       "      <td>GPR50</td>\n",
       "      <td>GPR50</td>\n",
       "      <td>CIDm00000896</td>\n",
       "      <td>992</td>\n",
       "      <td>896</td>\n",
       "      <td>DB01065</td>\n",
       "      <td>DRLFMBDRBRZALE-UHFFFAOYSA-N</td>\n",
       "    </tr>\n",
       "    <tr>\n",
       "      <th>4</th>\n",
       "      <td>9606.ENSP00000342952</td>\n",
       "      <td>ADCY2</td>\n",
       "      <td>ADCY2</td>\n",
       "      <td>CIDm00065153</td>\n",
       "      <td>900</td>\n",
       "      <td>65153</td>\n",
       "      <td>DB05767</td>\n",
       "      <td>BOJKULTULYSRAS-OTESTREVSA-N</td>\n",
       "    </tr>\n",
       "    <tr>\n",
       "      <th>5</th>\n",
       "      <td>9606.ENSP00000342952</td>\n",
       "      <td>ADCY2</td>\n",
       "      <td>ADCY2</td>\n",
       "      <td>CIDm00016741</td>\n",
       "      <td>900</td>\n",
       "      <td>16741</td>\n",
       "      <td>DB12695</td>\n",
       "      <td>IZJDOKYDEWTZSO-UHFFFAOYSA-N</td>\n",
       "    </tr>\n",
       "    <tr>\n",
       "      <th>7</th>\n",
       "      <td>9606.ENSP00000342952</td>\n",
       "      <td>ADCY2</td>\n",
       "      <td>ADCY2</td>\n",
       "      <td>CIDm00014989</td>\n",
       "      <td>900</td>\n",
       "      <td>14989</td>\n",
       "      <td>DB15477</td>\n",
       "      <td>AFHJQYHRLPMKHU-CGISPIQUSA-N</td>\n",
       "    </tr>\n",
       "  </tbody>\n",
       "</table>\n",
       "</div>"
      ],
      "text/plain": [
       "                protein gene symbol approved symbol      chemical  \\\n",
       "0  9606.ENSP00000264935       CEP72           CEP72  CIDm00000238   \n",
       "2  9606.ENSP00000218316       GPR50           GPR50  CIDm00000896   \n",
       "4  9606.ENSP00000342952       ADCY2           ADCY2  CIDm00065153   \n",
       "5  9606.ENSP00000342952       ADCY2           ADCY2  CIDm00016741   \n",
       "7  9606.ENSP00000342952       ADCY2           ADCY2  CIDm00014989   \n",
       "\n",
       "   combined_score  pubchem_id drugbank_id                    inchi_key  \n",
       "0             900         238     DB00171  ZKHQWZAMYRWXGA-KQYNXXCUSA-N  \n",
       "2             992         896     DB01065  DRLFMBDRBRZALE-UHFFFAOYSA-N  \n",
       "4             900       65153     DB05767  BOJKULTULYSRAS-OTESTREVSA-N  \n",
       "5             900       16741     DB12695  IZJDOKYDEWTZSO-UHFFFAOYSA-N  \n",
       "7             900       14989     DB15477  AFHJQYHRLPMKHU-CGISPIQUSA-N  "
      ]
     },
     "execution_count": 25,
     "metadata": {},
     "output_type": "execute_result"
    }
   ],
   "source": [
    "interactions_900.head()"
   ]
  }
 ],
 "metadata": {
  "kernelspec": {
   "display_name": "Python 3",
   "language": "python",
   "name": "python3"
  },
  "language_info": {
   "codemirror_mode": {
    "name": "ipython",
    "version": 3
   },
   "file_extension": ".py",
   "mimetype": "text/x-python",
   "name": "python",
   "nbconvert_exporter": "python",
   "pygments_lexer": "ipython3",
   "version": "3.6.5"
  }
 },
 "nbformat": 4,
 "nbformat_minor": 2
}
