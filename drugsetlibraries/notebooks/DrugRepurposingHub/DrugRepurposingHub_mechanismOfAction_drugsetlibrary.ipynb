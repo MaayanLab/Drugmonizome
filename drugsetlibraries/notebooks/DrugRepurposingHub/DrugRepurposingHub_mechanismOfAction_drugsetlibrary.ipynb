{
 "cells": [
  {
   "cell_type": "markdown",
   "metadata": {},
   "source": [
    "## DrugRepurposingHub Mechanism of Action Drug-Set Library\n",
    "### Drug-set labels: Mechanism of Action\n",
    "#### ALL DATABASES ACCESSED 08/01/19\n",
    "##### Author : Eryk Kropiwnicki | eryk.kropiwnicki@icahn.mssm.edu"
   ]
  },
  {
   "cell_type": "code",
   "execution_count": 1,
   "metadata": {},
   "outputs": [],
   "source": [
    "import pandas as pd\n",
    "import numpy as np\n",
    "import csv\n",
    "from collections import defaultdict\n",
    "import os"
   ]
  },
  {
   "cell_type": "code",
   "execution_count": 2,
   "metadata": {},
   "outputs": [],
   "source": [
    "os.chdir('../../scripts')\n",
    "from export_script import *\n",
    "os.chdir('../notebooks/DrugRepurposingHub')"
   ]
  },
  {
   "cell_type": "markdown",
   "metadata": {},
   "source": [
    "### Import dataframe of mechanisms matched to drugs & drug metadata\n",
    "#### Database: https://clue.io/data/REP#REP\n",
    "#### Input Files : repurposing_drugs_201809807.txt | repurposing_samples_20180907"
   ]
  },
  {
   "cell_type": "markdown",
   "metadata": {},
   "source": [
    "#### Importing mechanisms of action dataframe"
   ]
  },
  {
   "cell_type": "code",
   "execution_count": 3,
   "metadata": {},
   "outputs": [
    {
     "data": {
      "text/html": [
       "<div>\n",
       "<style scoped>\n",
       "    .dataframe tbody tr th:only-of-type {\n",
       "        vertical-align: middle;\n",
       "    }\n",
       "\n",
       "    .dataframe tbody tr th {\n",
       "        vertical-align: top;\n",
       "    }\n",
       "\n",
       "    .dataframe thead th {\n",
       "        text-align: right;\n",
       "    }\n",
       "</style>\n",
       "<table border=\"1\" class=\"dataframe\">\n",
       "  <thead>\n",
       "    <tr style=\"text-align: right;\">\n",
       "      <th></th>\n",
       "      <th>pert_iname</th>\n",
       "      <th>clinical_phase</th>\n",
       "      <th>moa</th>\n",
       "      <th>target</th>\n",
       "      <th>disease_area</th>\n",
       "      <th>indication</th>\n",
       "    </tr>\n",
       "  </thead>\n",
       "  <tbody>\n",
       "    <tr>\n",
       "      <th>0</th>\n",
       "      <td>[sar9,met(o2)11]-substance-p</td>\n",
       "      <td>Preclinical</td>\n",
       "      <td>tachykinin antagonist</td>\n",
       "      <td>TACR1</td>\n",
       "      <td>NaN</td>\n",
       "      <td>NaN</td>\n",
       "    </tr>\n",
       "    <tr>\n",
       "      <th>1</th>\n",
       "      <td>A-1070722</td>\n",
       "      <td>Preclinical</td>\n",
       "      <td>glycogen synthase kinase inhibitor</td>\n",
       "      <td>GSK3A|GSK3B</td>\n",
       "      <td>NaN</td>\n",
       "      <td>NaN</td>\n",
       "    </tr>\n",
       "    <tr>\n",
       "      <th>2</th>\n",
       "      <td>A-1120</td>\n",
       "      <td>Preclinical</td>\n",
       "      <td>retinoid receptor ligand</td>\n",
       "      <td>RBP4</td>\n",
       "      <td>NaN</td>\n",
       "      <td>NaN</td>\n",
       "    </tr>\n",
       "    <tr>\n",
       "      <th>3</th>\n",
       "      <td>A-317491</td>\n",
       "      <td>Preclinical</td>\n",
       "      <td>purinergic receptor antagonist</td>\n",
       "      <td>P2RX3</td>\n",
       "      <td>NaN</td>\n",
       "      <td>NaN</td>\n",
       "    </tr>\n",
       "    <tr>\n",
       "      <th>4</th>\n",
       "      <td>A-33903</td>\n",
       "      <td>Phase 2</td>\n",
       "      <td>NaN</td>\n",
       "      <td>NaN</td>\n",
       "      <td>NaN</td>\n",
       "      <td>NaN</td>\n",
       "    </tr>\n",
       "  </tbody>\n",
       "</table>\n",
       "</div>"
      ],
      "text/plain": [
       "                     pert_iname clinical_phase  \\\n",
       "0  [sar9,met(o2)11]-substance-p    Preclinical   \n",
       "1                     A-1070722    Preclinical   \n",
       "2                        A-1120    Preclinical   \n",
       "3                      A-317491    Preclinical   \n",
       "4                       A-33903        Phase 2   \n",
       "\n",
       "                                  moa       target disease_area indication  \n",
       "0               tachykinin antagonist        TACR1          NaN        NaN  \n",
       "1  glycogen synthase kinase inhibitor  GSK3A|GSK3B          NaN        NaN  \n",
       "2            retinoid receptor ligand         RBP4          NaN        NaN  \n",
       "3      purinergic receptor antagonist        P2RX3          NaN        NaN  \n",
       "4                                 NaN          NaN          NaN        NaN  "
      ]
     },
     "execution_count": 3,
     "metadata": {},
     "output_type": "execute_result"
    }
   ],
   "source": [
    "df = pd.read_table('input/repurposing_drugs_20180907.txt', delimiter = '\\t', encoding='latin-1')\n",
    "df.head()"
   ]
  },
  {
   "cell_type": "code",
   "execution_count": 4,
   "metadata": {},
   "outputs": [],
   "source": [
    "df = df.dropna(subset=['moa'])"
   ]
  },
  {
   "cell_type": "code",
   "execution_count": 5,
   "metadata": {},
   "outputs": [
    {
     "data": {
      "text/plain": [
       "5564"
      ]
     },
     "execution_count": 5,
     "metadata": {},
     "output_type": "execute_result"
    }
   ],
   "source": [
    "len(df)"
   ]
  },
  {
   "cell_type": "code",
   "execution_count": 6,
   "metadata": {},
   "outputs": [],
   "source": [
    "# Retaining only pert_iname and moa columns #\n",
    "df = df.drop(['clinical_phase','target','disease_area','indication'], axis=1)"
   ]
  },
  {
   "cell_type": "markdown",
   "metadata": {},
   "source": [
    "#### Importing metadata"
   ]
  },
  {
   "cell_type": "code",
   "execution_count": 7,
   "metadata": {},
   "outputs": [],
   "source": [
    "df_metadata = pd.read_csv('input/repurposing_samples_20180907.txt', delimiter = '\\t', encoding='latin-1',\n",
    "                         usecols = ['pert_iname','InChIKey','pubchem_cid'])"
   ]
  },
  {
   "cell_type": "code",
   "execution_count": 8,
   "metadata": {},
   "outputs": [
    {
     "data": {
      "text/html": [
       "<div>\n",
       "<style scoped>\n",
       "    .dataframe tbody tr th:only-of-type {\n",
       "        vertical-align: middle;\n",
       "    }\n",
       "\n",
       "    .dataframe tbody tr th {\n",
       "        vertical-align: top;\n",
       "    }\n",
       "\n",
       "    .dataframe thead th {\n",
       "        text-align: right;\n",
       "    }\n",
       "</style>\n",
       "<table border=\"1\" class=\"dataframe\">\n",
       "  <thead>\n",
       "    <tr style=\"text-align: right;\">\n",
       "      <th></th>\n",
       "      <th>pert_iname</th>\n",
       "      <th>InChIKey</th>\n",
       "      <th>pubchem_cid</th>\n",
       "    </tr>\n",
       "  </thead>\n",
       "  <tbody>\n",
       "    <tr>\n",
       "      <th>0</th>\n",
       "      <td>[sar9,met(o2)11]-substance-p</td>\n",
       "      <td>OUPXSLGGCPUZJJ-SARDKLJWSA-N</td>\n",
       "      <td>163829.0</td>\n",
       "    </tr>\n",
       "    <tr>\n",
       "      <th>1</th>\n",
       "      <td>1-((Z)-3-Chloroallyl)-1,3,5,7-tetraazaadamanta...</td>\n",
       "      <td>LDLCEGCJYSDJLX-UPHRSURJSA-N</td>\n",
       "      <td>5846454.0</td>\n",
       "    </tr>\n",
       "    <tr>\n",
       "      <th>2</th>\n",
       "      <td>1-(1,2-Diphenylethyl)piperidine-(+/-)</td>\n",
       "      <td>JQWJJJYHVHNXJH-UHFFFAOYSA-N</td>\n",
       "      <td>206666.0</td>\n",
       "    </tr>\n",
       "  </tbody>\n",
       "</table>\n",
       "</div>"
      ],
      "text/plain": [
       "                                          pert_iname  \\\n",
       "0                       [sar9,met(o2)11]-substance-p   \n",
       "1  1-((Z)-3-Chloroallyl)-1,3,5,7-tetraazaadamanta...   \n",
       "2              1-(1,2-Diphenylethyl)piperidine-(+/-)   \n",
       "\n",
       "                      InChIKey  pubchem_cid  \n",
       "0  OUPXSLGGCPUZJJ-SARDKLJWSA-N     163829.0  \n",
       "1  LDLCEGCJYSDJLX-UPHRSURJSA-N    5846454.0  \n",
       "2  JQWJJJYHVHNXJH-UHFFFAOYSA-N     206666.0  "
      ]
     },
     "execution_count": 8,
     "metadata": {},
     "output_type": "execute_result"
    }
   ],
   "source": [
    "df_metadata.head(3)"
   ]
  },
  {
   "cell_type": "code",
   "execution_count": 9,
   "metadata": {},
   "outputs": [],
   "source": [
    "# merging on pert_iname\n",
    "df = df.merge(df_metadata)"
   ]
  },
  {
   "cell_type": "code",
   "execution_count": 10,
   "metadata": {},
   "outputs": [
    {
     "data": {
      "text/html": [
       "<div>\n",
       "<style scoped>\n",
       "    .dataframe tbody tr th:only-of-type {\n",
       "        vertical-align: middle;\n",
       "    }\n",
       "\n",
       "    .dataframe tbody tr th {\n",
       "        vertical-align: top;\n",
       "    }\n",
       "\n",
       "    .dataframe thead th {\n",
       "        text-align: right;\n",
       "    }\n",
       "</style>\n",
       "<table border=\"1\" class=\"dataframe\">\n",
       "  <thead>\n",
       "    <tr style=\"text-align: right;\">\n",
       "      <th></th>\n",
       "      <th>pert_iname</th>\n",
       "      <th>moa</th>\n",
       "      <th>InChIKey</th>\n",
       "      <th>pubchem_cid</th>\n",
       "    </tr>\n",
       "  </thead>\n",
       "  <tbody>\n",
       "    <tr>\n",
       "      <th>0</th>\n",
       "      <td>[sar9,met(o2)11]-substance-p</td>\n",
       "      <td>tachykinin antagonist</td>\n",
       "      <td>OUPXSLGGCPUZJJ-SARDKLJWSA-N</td>\n",
       "      <td>163829.0</td>\n",
       "    </tr>\n",
       "    <tr>\n",
       "      <th>1</th>\n",
       "      <td>A-1070722</td>\n",
       "      <td>glycogen synthase kinase inhibitor</td>\n",
       "      <td>VQPBIJGXSXEOCU-UHFFFAOYSA-N</td>\n",
       "      <td>49830684.0</td>\n",
       "    </tr>\n",
       "    <tr>\n",
       "      <th>2</th>\n",
       "      <td>A-1120</td>\n",
       "      <td>retinoid receptor ligand</td>\n",
       "      <td>MEAQCLPMSVEOQF-UHFFFAOYSA-N</td>\n",
       "      <td>25138295.0</td>\n",
       "    </tr>\n",
       "  </tbody>\n",
       "</table>\n",
       "</div>"
      ],
      "text/plain": [
       "                     pert_iname                                 moa  \\\n",
       "0  [sar9,met(o2)11]-substance-p               tachykinin antagonist   \n",
       "1                     A-1070722  glycogen synthase kinase inhibitor   \n",
       "2                        A-1120            retinoid receptor ligand   \n",
       "\n",
       "                      InChIKey  pubchem_cid  \n",
       "0  OUPXSLGGCPUZJJ-SARDKLJWSA-N     163829.0  \n",
       "1  VQPBIJGXSXEOCU-UHFFFAOYSA-N   49830684.0  \n",
       "2  MEAQCLPMSVEOQF-UHFFFAOYSA-N   25138295.0  "
      ]
     },
     "execution_count": 10,
     "metadata": {},
     "output_type": "execute_result"
    }
   ],
   "source": [
    "df.head(3)"
   ]
  },
  {
   "cell_type": "markdown",
   "metadata": {},
   "source": [
    "#### Importing Drugbank mapping file"
   ]
  },
  {
   "cell_type": "code",
   "execution_count": 12,
   "metadata": {},
   "outputs": [],
   "source": [
    "drugbank_mapping = pd.read_csv('../../metadata/mapping_files/pubchem.tsv', sep = '\\t')\n",
    "drugbank_mapping = drugbank_mapping.rename(columns = {'pubchem_id':'pubchem_cid','inchi_key':'InChIKey'})"
   ]
  },
  {
   "cell_type": "code",
   "execution_count": 13,
   "metadata": {},
   "outputs": [
    {
     "data": {
      "text/html": [
       "<div>\n",
       "<style scoped>\n",
       "    .dataframe tbody tr th:only-of-type {\n",
       "        vertical-align: middle;\n",
       "    }\n",
       "\n",
       "    .dataframe tbody tr th {\n",
       "        vertical-align: top;\n",
       "    }\n",
       "\n",
       "    .dataframe thead th {\n",
       "        text-align: right;\n",
       "    }\n",
       "</style>\n",
       "<table border=\"1\" class=\"dataframe\">\n",
       "  <thead>\n",
       "    <tr style=\"text-align: right;\">\n",
       "      <th></th>\n",
       "      <th>drugbank_id</th>\n",
       "      <th>pubchem_cid</th>\n",
       "      <th>InChIKey</th>\n",
       "    </tr>\n",
       "  </thead>\n",
       "  <tbody>\n",
       "    <tr>\n",
       "      <th>0</th>\n",
       "      <td>DB00006</td>\n",
       "      <td>101041682</td>\n",
       "      <td>OIRCOABEOLEUMC-GEJPAHFPSA-N</td>\n",
       "    </tr>\n",
       "    <tr>\n",
       "      <th>1</th>\n",
       "      <td>DB00006</td>\n",
       "      <td>126480209</td>\n",
       "      <td>OIRCOABEOLEUMC-GEJPAHFPSA-N</td>\n",
       "    </tr>\n",
       "    <tr>\n",
       "      <th>2</th>\n",
       "      <td>DB00006</td>\n",
       "      <td>132229728</td>\n",
       "      <td>OIRCOABEOLEUMC-GEJPAHFPSA-N</td>\n",
       "    </tr>\n",
       "  </tbody>\n",
       "</table>\n",
       "</div>"
      ],
      "text/plain": [
       "  drugbank_id  pubchem_cid                     InChIKey\n",
       "0     DB00006    101041682  OIRCOABEOLEUMC-GEJPAHFPSA-N\n",
       "1     DB00006    126480209  OIRCOABEOLEUMC-GEJPAHFPSA-N\n",
       "2     DB00006    132229728  OIRCOABEOLEUMC-GEJPAHFPSA-N"
      ]
     },
     "execution_count": 13,
     "metadata": {},
     "output_type": "execute_result"
    }
   ],
   "source": [
    "drugbank_mapping.head(3)"
   ]
  },
  {
   "cell_type": "code",
   "execution_count": 14,
   "metadata": {},
   "outputs": [],
   "source": [
    "# merging on pubchem_cid\n",
    "df_moa = df.merge(drugbank_mapping, how = 'inner', on = ['pubchem_cid','InChIKey'])"
   ]
  },
  {
   "cell_type": "code",
   "execution_count": 15,
   "metadata": {},
   "outputs": [
    {
     "data": {
      "text/html": [
       "<div>\n",
       "<style scoped>\n",
       "    .dataframe tbody tr th:only-of-type {\n",
       "        vertical-align: middle;\n",
       "    }\n",
       "\n",
       "    .dataframe tbody tr th {\n",
       "        vertical-align: top;\n",
       "    }\n",
       "\n",
       "    .dataframe thead th {\n",
       "        text-align: right;\n",
       "    }\n",
       "</style>\n",
       "<table border=\"1\" class=\"dataframe\">\n",
       "  <thead>\n",
       "    <tr style=\"text-align: right;\">\n",
       "      <th></th>\n",
       "      <th>pert_iname</th>\n",
       "      <th>moa</th>\n",
       "      <th>InChIKey</th>\n",
       "      <th>pubchem_cid</th>\n",
       "      <th>drugbank_id</th>\n",
       "    </tr>\n",
       "  </thead>\n",
       "  <tbody>\n",
       "    <tr>\n",
       "      <th>0</th>\n",
       "      <td>[sar9,met(o2)11]-substance-p</td>\n",
       "      <td>tachykinin antagonist</td>\n",
       "      <td>OUPXSLGGCPUZJJ-SARDKLJWSA-N</td>\n",
       "      <td>163829.0</td>\n",
       "      <td>DB05875</td>\n",
       "    </tr>\n",
       "    <tr>\n",
       "      <th>1</th>\n",
       "      <td>A-1120</td>\n",
       "      <td>retinoid receptor ligand</td>\n",
       "      <td>MEAQCLPMSVEOQF-UHFFFAOYSA-N</td>\n",
       "      <td>25138295.0</td>\n",
       "      <td>DB06985</td>\n",
       "    </tr>\n",
       "    <tr>\n",
       "      <th>2</th>\n",
       "      <td>A-674563</td>\n",
       "      <td>AKT inhibitor</td>\n",
       "      <td>BPNUQXPIQBZCMR-IBGZPJMESA-N</td>\n",
       "      <td>11314340.0</td>\n",
       "      <td>DB08568</td>\n",
       "    </tr>\n",
       "  </tbody>\n",
       "</table>\n",
       "</div>"
      ],
      "text/plain": [
       "                     pert_iname                       moa  \\\n",
       "0  [sar9,met(o2)11]-substance-p     tachykinin antagonist   \n",
       "1                        A-1120  retinoid receptor ligand   \n",
       "2                      A-674563             AKT inhibitor   \n",
       "\n",
       "                      InChIKey  pubchem_cid drugbank_id  \n",
       "0  OUPXSLGGCPUZJJ-SARDKLJWSA-N     163829.0     DB05875  \n",
       "1  MEAQCLPMSVEOQF-UHFFFAOYSA-N   25138295.0     DB06985  \n",
       "2  BPNUQXPIQBZCMR-IBGZPJMESA-N   11314340.0     DB08568  "
      ]
     },
     "execution_count": 15,
     "metadata": {},
     "output_type": "execute_result"
    }
   ],
   "source": [
    "df_moa.head(3)"
   ]
  },
  {
   "cell_type": "code",
   "execution_count": 16,
   "metadata": {},
   "outputs": [],
   "source": [
    "# Splitting \"|\" separated moa rows into separate rows #\n",
    "df_moa = pd.DataFrame(df_moa['moa'].str.split('|').tolist(), index = df_moa['InChIKey']).stack()\n",
    "df_moa = df_moa.reset_index()[[0, 'InChIKey']]\n",
    "df_moa.columns = ['moa','inchi_key']"
   ]
  },
  {
   "cell_type": "code",
   "execution_count": 17,
   "metadata": {},
   "outputs": [
    {
     "data": {
      "text/html": [
       "<div>\n",
       "<style scoped>\n",
       "    .dataframe tbody tr th:only-of-type {\n",
       "        vertical-align: middle;\n",
       "    }\n",
       "\n",
       "    .dataframe tbody tr th {\n",
       "        vertical-align: top;\n",
       "    }\n",
       "\n",
       "    .dataframe thead th {\n",
       "        text-align: right;\n",
       "    }\n",
       "</style>\n",
       "<table border=\"1\" class=\"dataframe\">\n",
       "  <thead>\n",
       "    <tr style=\"text-align: right;\">\n",
       "      <th></th>\n",
       "      <th>moa</th>\n",
       "      <th>inchi_key</th>\n",
       "    </tr>\n",
       "  </thead>\n",
       "  <tbody>\n",
       "    <tr>\n",
       "      <th>0</th>\n",
       "      <td>tachykinin antagonist</td>\n",
       "      <td>OUPXSLGGCPUZJJ-SARDKLJWSA-N</td>\n",
       "    </tr>\n",
       "    <tr>\n",
       "      <th>1</th>\n",
       "      <td>retinoid receptor ligand</td>\n",
       "      <td>MEAQCLPMSVEOQF-UHFFFAOYSA-N</td>\n",
       "    </tr>\n",
       "    <tr>\n",
       "      <th>2</th>\n",
       "      <td>AKT inhibitor</td>\n",
       "      <td>BPNUQXPIQBZCMR-IBGZPJMESA-N</td>\n",
       "    </tr>\n",
       "    <tr>\n",
       "      <th>3</th>\n",
       "      <td>nucleoside reverse transcriptase inhibitor</td>\n",
       "      <td>MCGSCOLBFJQGHM-SCZZXKLOSA-N</td>\n",
       "    </tr>\n",
       "    <tr>\n",
       "      <th>4</th>\n",
       "      <td>nucleoside reverse transcriptase inhibitor</td>\n",
       "      <td>MCGSCOLBFJQGHM-SCZZXKLOSA-N</td>\n",
       "    </tr>\n",
       "  </tbody>\n",
       "</table>\n",
       "</div>"
      ],
      "text/plain": [
       "                                          moa                    inchi_key\n",
       "0                       tachykinin antagonist  OUPXSLGGCPUZJJ-SARDKLJWSA-N\n",
       "1                    retinoid receptor ligand  MEAQCLPMSVEOQF-UHFFFAOYSA-N\n",
       "2                               AKT inhibitor  BPNUQXPIQBZCMR-IBGZPJMESA-N\n",
       "3  nucleoside reverse transcriptase inhibitor  MCGSCOLBFJQGHM-SCZZXKLOSA-N\n",
       "4  nucleoside reverse transcriptase inhibitor  MCGSCOLBFJQGHM-SCZZXKLOSA-N"
      ]
     },
     "execution_count": 17,
     "metadata": {},
     "output_type": "execute_result"
    }
   ],
   "source": [
    "df_moa.head()"
   ]
  },
  {
   "cell_type": "code",
   "execution_count": 18,
   "metadata": {},
   "outputs": [],
   "source": [
    "id_dict = tuple(zip(df_moa['moa'].tolist(), df_moa['inchi_key']))\n",
    "\n",
    "drugsetlibrary = defaultdict(list)\n",
    "for k,v in id_dict:\n",
    "    drugsetlibrary[k].append(v)\n",
    "    \n",
    "# Dropping duplicates and sets <5\n",
    "drugsetlibrary = {k:list(set(v)) for k,v in drugsetlibrary.items() if len(set(v))>= 5}"
   ]
  },
  {
   "cell_type": "markdown",
   "metadata": {},
   "source": [
    "### Library counts"
   ]
  },
  {
   "cell_type": "code",
   "execution_count": 19,
   "metadata": {},
   "outputs": [
    {
     "name": "stdout",
     "output_type": "stream",
     "text": [
      "1854 unique drugs\n",
      "154 unique association terms\n",
      "2060 unique associations\n",
      "13.376623376623376 average drugs per term\n"
     ]
    }
   ],
   "source": [
    "library_counts(drugsetlibrary)"
   ]
  },
  {
   "cell_type": "markdown",
   "metadata": {},
   "source": [
    "### Exporting drugsetlibrary in GMT format"
   ]
  },
  {
   "cell_type": "code",
   "execution_count": 20,
   "metadata": {},
   "outputs": [],
   "source": [
    "os.chdir('../../data/DrugRepurposingHub')"
   ]
  },
  {
   "cell_type": "code",
   "execution_count": 21,
   "metadata": {},
   "outputs": [],
   "source": [
    "gmt_formatter(drugsetlibrary, 'DrugRepurposingHub_moa_drugsetlibrary.gmt')"
   ]
  }
 ],
 "metadata": {
  "kernelspec": {
   "display_name": "Python 3",
   "language": "python",
   "name": "python3"
  },
  "language_info": {
   "codemirror_mode": {
    "name": "ipython",
    "version": 3
   },
   "file_extension": ".py",
   "mimetype": "text/x-python",
   "name": "python",
   "nbconvert_exporter": "python",
   "pygments_lexer": "ipython3",
   "version": "3.6.5"
  }
 },
 "nbformat": 4,
 "nbformat_minor": 2
}
